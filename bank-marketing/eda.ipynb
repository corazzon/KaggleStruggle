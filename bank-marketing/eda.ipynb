{
 "cells": [
  {
   "cell_type": "markdown",
   "metadata": {},
   "source": [
    "[UCI Machine Learning Repository: Bank Marketing Data Set](https://archive.ics.uci.edu/ml/datasets/Bank+Marketing)\n",
    "\n",
    "* 2008~2013년에 수집한 데이터를 통해 포루투갈 은행의 텔레마케팅 데이터를 150개 피처의 데이터를 수집\n",
    "* 2012년 7월 이전까지의 데이터로 22개의 피처로 데이터 모델링을 진행\n",
    "\n",
    "관련 논문 : [A Data-Driven Approach to Predict the\n",
    "Success of Bank Telemarketing](https://core.ac.uk/download/pdf/55631291.pdf)\n",
    "\n",
    "[Moro et al., 2014] S. Moro, P. Cortez and P. Rita. A Data-Driven Approach to Predict the Success of Bank Telemarketing. Decision Support Systems, Elsevier, 62:22-31, June 2014\n",
    "\n",
    "\n",
    "\n",
    "\n",
    "### bank client data:\n",
    "\n",
    "1. age (numeric)\n",
    "2. job : type of job (categorical: 'admin.','blue-collar','entrepreneur','housemaid','management','retired','self-employed','services','student','technician','unemployed','unknown')\n",
    "3. marital : marital status (categorical: 'divorced','married','single','unknown'; note: 'divorced' means divorced or widowed)\n",
    "4. education (categorical: 'basic.4y','basic.6y','basic.9y','high.school','illiterate','professional.course','university.degree','unknown')\n",
    "5. default: has credit in default? (categorical: 'no','yes','unknown')\n",
    "6. housing: has housing loan? (categorical: 'no','yes','unknown')\n",
    "7. loan: has personal loan? (categorical: 'no','yes','unknown')\n",
    "\n",
    "```\n",
    "1. 연령 (숫자)\n",
    "2. 직업 : 직업 유형 (카테고리 : 'admin', '생산직', '사업가', '가정부', '관리자(management)', '퇴직' , '자영업', '서비스', '학생', '기술자', '실업', '미상')\n",
    "3. 결혼 여부 : 결혼 여부 (범주 : '이혼', '기혼', '미혼', '알 수 없음)'; 참고 :'이혼 '은 이혼 또는 사별을 의미합니다.\n",
    "4. 교육 (카테고리 :'basic.4y ','basic.6y ','basic.9y ','high.school','문해 자','professional.course ','university.degree ','unknown ')\n",
    "5. 신용불량 : 신용불량입니까? (카테고리 : '아니오', 'yes ','unknown ') \n",
    "6. 주택 : 주택 대출이 있습니까? (카테고리 : '아니오', '예', '알 수 없음')\n",
    "7. 대출 : 개인 대출이 있습니까? (카테고리 : '아니오', '예', '알 수 없음')\n",
    "```\n",
    "\n",
    "### related with the last contact of the current campaign:\n",
    "\n",
    "8. contact: contact communication type (categorical: 'cellular','telephone')\n",
    "9. month: last contact month of year (categorical: 'jan', 'feb', 'mar', ..., 'nov', 'dec')\n",
    "10. day_of_week: last contact day of the week (categorical: 'mon','tue','wed','thu','fri')\n",
    "11. duration: last contact duration, in seconds (numeric). Important note: this attribute highly affects the output target (e.g., if duration=0 then y='no'). Yet, the duration is not known before a call is performed. Also, after the end of the call y is obviously known. Thus, this input should only be included for benchmark purposes and should be discarded if the intention is to have a realistic predictive model.\n",
    "\n",
    "```\n",
    "8. 접촉 : 접촉 통신 유형 (범주 : '셀룰러', '전화')\n",
    "9. 월 : 연중 마지막 접촉 월 (범주 : 'jan', 'feb', ' mar ', ...,'nov ','dec ')\n",
    "10. day_of_week : 마지막 연락 요일 (범주 :'mon ','tue ','wed ','thu ','fri ')\n",
    "11. 기간 : 마지막 접촉 기간 (초) (숫자). 중요 참고 :이 속성은 출력 대상에 큰 영향을 미칩니다 (예 : duration = 0이면 y = 'no'). 그러나 통화가 수행되기 전에 기간은 알 수 없습니다. 또한 통화 종료 후 y는 분명히 알려져 있습니다. 그러므로, 이 입력은 벤치 마크 목적으로 만 포함되어야하며 실제 예측 모델을 사용하려는 경우에는 버려야합니다.\n",
    "```\n",
    "\n",
    "### other attributes:\n",
    "\n",
    "12. campaign: number of contacts performed during this campaign and for this client (numeric, includes last contact)\n",
    "13. pdays: number of days that passed by after the client was last contacted from a previous campaign (numeric; 999 means client was not previously contacted)\n",
    "14. previous: number of contacts performed before this campaign and for this client (numeric)\n",
    "15. poutcome: outcome of the previous marketing campaign (categorical: 'failure','nonexistent','success')\n",
    "\n",
    "```\n",
    "12. 캠페인 :이 캠페인 중 및이 고객에 대해 수행 된 연락 수 (숫자, 마지막 연락 포함)\n",
    "13. pdays : 이전 캠페인에서 고객이 마지막으로 연락 한 후 경과 한 일 수 (숫자, 999는 고객이 이전에 연락 함)\n",
    "14. 이전 :이 캠페인 이전 고객에 대해 수행 된 연락 수 (숫자)\n",
    "15. poutcome : 이전 마케팅 캠페인의 결과 (범주 : '실패', '존재하지 않음', '성공')\n",
    "```\n",
    "\n",
    "### social and economic context attributes\n",
    "\n",
    "16. emp.var.rate: employment variation rate. quarterly indicator (numeric)\n",
    "17. cons.price.idx: consumer price index. monthly indicator (numeric)\n",
    "18. cons.conf.idx: consumer confidence index. monthly indicator (numeric)\n",
    "19. euribor3m: euribor 3 month rate. daily indicator (numeric)\n",
    "20. nr.employed: number of employees. quarterly indicator (numeric)\n",
    "\n",
    "Output variable (desired target):\n",
    "21. y. has the client subscribed a term deposit? (binary: 'yes','no')\n",
    "\n",
    "```\n",
    "16. emp.var.rate : 고용 변동률-분기 별 지표 (숫자)\n",
    "17. cons. price.idx : 소비자 물가 지수-월별 지표 (숫자)\n",
    "18. cons.conf.idx : 소비자 신뢰 지수-월간 지표 (숫자)\n",
    "19. euribor3m : euribor 3 개월 금리-일일 지표 (숫자)\n",
    "20. 고용인 수 : 직원 수-분기 별 지표 (숫자)\n",
    "\n",
    "출력 변수 (원하는 target) :\n",
    "21. y.고객이 정기 예금을 신청 했습니까? (이진법 : '예', '아니오')\n",
    "```"
   ]
  },
  {
   "cell_type": "code",
   "execution_count": null,
   "metadata": {},
   "outputs": [],
   "source": [
    "import numpy as np\n",
    "import pandas as pd\n",
    "import matplotlib.pyplot as plt\n",
    "import seaborn as sns\n",
    "sns.set()\n",
    "\n",
    "import plotly.graph_objs as go"
   ]
  },
  {
   "cell_type": "code",
   "execution_count": null,
   "metadata": {},
   "outputs": [],
   "source": [
    "df = pd.read_csv(\"data/bank.csv\")\n",
    "df.shape"
   ]
  },
  {
   "cell_type": "code",
   "execution_count": null,
   "metadata": {},
   "outputs": [],
   "source": [
    "df.head()"
   ]
  },
  {
   "cell_type": "code",
   "execution_count": null,
   "metadata": {},
   "outputs": [],
   "source": [
    "df.tail()"
   ]
  },
  {
   "cell_type": "code",
   "execution_count": null,
   "metadata": {},
   "outputs": [],
   "source": [
    "df.info()"
   ]
  },
  {
   "cell_type": "code",
   "execution_count": null,
   "metadata": {},
   "outputs": [],
   "source": [
    "df.describe()"
   ]
  },
  {
   "cell_type": "code",
   "execution_count": null,
   "metadata": {},
   "outputs": [],
   "source": [
    "h = df.hist(figsize=(15, 8), bins=20)"
   ]
  },
  {
   "cell_type": "code",
   "execution_count": null,
   "metadata": {},
   "outputs": [],
   "source": [
    "num_cols = df.select_dtypes(include=np.number).columns.tolist()\n",
    "num_cols"
   ]
  },
  {
   "cell_type": "code",
   "execution_count": null,
   "metadata": {},
   "outputs": [],
   "source": [
    "fig, ax = plt.subplots(3, 2, figsize=(20, 15))\n",
    "h = df.loc[df[\"deposit\"] == \"yes\", num_cols[:6]].hist(alpha=0.5, bins=50, ax=ax)\n",
    "h = df.loc[df[\"deposit\"] == \"no\", num_cols[:6]].hist(alpha=0.5, bins=50, ax=ax)\n",
    "plt.legend(['yes', 'no'], shadow=True)"
   ]
  },
  {
   "cell_type": "code",
   "execution_count": null,
   "metadata": {},
   "outputs": [],
   "source": [
    "sns.countplot(data=df, x=\"deposit\")"
   ]
  },
  {
   "cell_type": "code",
   "execution_count": null,
   "metadata": {},
   "outputs": [],
   "source": [
    "sns.barplot(data=df, x=\"education\", y=\"balance\", hue=\"deposit\")"
   ]
  },
  {
   "cell_type": "code",
   "execution_count": null,
   "metadata": {},
   "outputs": [],
   "source": [
    "object_desc = df.describe(include=\"object\")\n",
    "object_desc"
   ]
  },
  {
   "cell_type": "code",
   "execution_count": null,
   "metadata": {},
   "outputs": [],
   "source": [
    "col_object = object_desc.columns\n",
    "col_object"
   ]
  },
  {
   "cell_type": "code",
   "execution_count": null,
   "metadata": {},
   "outputs": [],
   "source": [
    "fig, axes = plt.subplots(5, 2, figsize=(15, 15))\n",
    "for i, column in enumerate(col_object):\n",
    "    row = i // 2\n",
    "    col = i % 2\n",
    "    sns.countplot(data=df, y=column, hue=\"deposit\", ax = axes[row, col])"
   ]
  },
  {
   "cell_type": "code",
   "execution_count": null,
   "metadata": {},
   "outputs": [],
   "source": [
    "col_object"
   ]
  },
  {
   "cell_type": "code",
   "execution_count": null,
   "metadata": {},
   "outputs": [],
   "source": [
    "object_unique_count = object_desc.loc[\"unique\"]\n",
    "object_unique_count = object_unique_count.sort_values()\n",
    "object_unique_count"
   ]
  },
  {
   "cell_type": "markdown",
   "metadata": {},
   "source": [
    "## balance"
   ]
  },
  {
   "cell_type": "code",
   "execution_count": null,
   "metadata": {},
   "outputs": [],
   "source": [
    "plt.figure(figsize=(20, 5))\n",
    "sns.kdeplot(data=df, x=\"balance\", hue=\"deposit\")"
   ]
  },
  {
   "cell_type": "code",
   "execution_count": null,
   "metadata": {},
   "outputs": [],
   "source": [
    "g = sns.PairGrid(data=df, x_vars=object_unique_count.index[:4], y_vars=\"balance\")\n",
    "g.map(sns.violinplot)"
   ]
  },
  {
   "cell_type": "code",
   "execution_count": null,
   "metadata": {},
   "outputs": [],
   "source": [
    "g = sns.PairGrid(data=df, x_vars=object_unique_count.index[:4], y_vars=\"balance\", hue=\"deposit\", aspect=2, height=5)\n",
    "g.map(sns.stripplot)"
   ]
  },
  {
   "cell_type": "code",
   "execution_count": null,
   "metadata": {},
   "outputs": [],
   "source": [
    "g = sns.PairGrid(data=df, \n",
    "                 x_vars=object_unique_count.index[:4], \n",
    "                 y_vars=\"balance\", \n",
    "                 hue=\"deposit\", aspect=2)\n",
    "g.map(sns.pointplot)"
   ]
  },
  {
   "cell_type": "code",
   "execution_count": null,
   "metadata": {},
   "outputs": [],
   "source": [
    "sns.catplot(data=df, x=\"job\", y=\"balance\", hue=\"deposit\", col=\"education\", \n",
    "            kind=\"bar\", col_wrap=1, aspect=4, sharex=False)"
   ]
  },
  {
   "cell_type": "code",
   "execution_count": null,
   "metadata": {},
   "outputs": [],
   "source": [
    "sns.catplot(data=df, x=\"job\", y=\"balance\", hue=\"deposit\", col=\"education\", \n",
    "            kind=\"violin\", split=True, col_wrap=1, aspect=4, sharex=False)"
   ]
  },
  {
   "cell_type": "markdown",
   "metadata": {},
   "source": [
    "## 상관계수"
   ]
  },
  {
   "cell_type": "code",
   "execution_count": null,
   "metadata": {},
   "outputs": [],
   "source": [
    "corr = df.select_dtypes(include=\"number\").corr()\n",
    "corr"
   ]
  },
  {
   "cell_type": "code",
   "execution_count": null,
   "metadata": {},
   "outputs": [],
   "source": [
    "mask = np.triu(np.ones_like(corr))"
   ]
  },
  {
   "cell_type": "code",
   "execution_count": null,
   "metadata": {},
   "outputs": [],
   "source": [
    "plt.figure(figsize=(15, 4))\n",
    "sns.heatmap(corr, annot=True, fmt=\".3f\", cmap=\"coolwarm\", vmin=-.7, vmax=.7, mask=mask)"
   ]
  },
  {
   "cell_type": "code",
   "execution_count": null,
   "metadata": {},
   "outputs": [],
   "source": [
    "sns.pairplot(df, corner=True)"
   ]
  },
  {
   "cell_type": "code",
   "execution_count": null,
   "metadata": {},
   "outputs": [],
   "source": [
    "sns.pairplot(data=df, \n",
    "             x_vars=[\"age\", \"campaign\", \"day\", \"duration\"], \n",
    "             y_vars=[\"balance\", \"duration\"], \n",
    "             hue=\"deposit\", \n",
    "             diag_kind=None)"
   ]
  },
  {
   "cell_type": "markdown",
   "metadata": {},
   "source": [
    "## 나이에 따른 정기예금 신청 여부 빈도수 "
   ]
  },
  {
   "cell_type": "code",
   "execution_count": null,
   "metadata": {},
   "outputs": [],
   "source": [
    "# 범주형 개별 값에 대한 빈도수 \n",
    "plt.figure(figsize=(20, 5))\n",
    "sns.countplot(data=df, x=\"age\", hue=\"deposit\")"
   ]
  },
  {
   "cell_type": "code",
   "execution_count": null,
   "metadata": {},
   "outputs": [],
   "source": [
    "# 히스토그램의 bins에 따른 빈도수 \n",
    "sns.displot(data=df, x=\"age\", hue=\"deposit\", aspect=5)"
   ]
  },
  {
   "cell_type": "code",
   "execution_count": null,
   "metadata": {},
   "outputs": [],
   "source": [
    "# 히스토그램의 빈도수를 밀도를 추정해서 그림\n",
    "sns.displot(data=df, x=\"age\", hue=\"deposit\", aspect=5, kind=\"kde\", rug=True)"
   ]
  },
  {
   "cell_type": "markdown",
   "metadata": {},
   "source": [
    "## month"
   ]
  },
  {
   "cell_type": "code",
   "execution_count": null,
   "metadata": {},
   "outputs": [],
   "source": [
    "df[\"month_bins\"]=pd.cut(df.day, bins=4, labels=[\"q1\",\"q2\",\"q3\",\"q4\"])\n",
    "plt.figure(figsize=(10,5))\n",
    "sns.countplot(data=df, x=\"month_bins\", hue=\"deposit\")"
   ]
  },
  {
   "cell_type": "code",
   "execution_count": null,
   "metadata": {},
   "outputs": [],
   "source": [
    "plt.figure(figsize=(10,5))\n",
    "sns.countplot(data=df, x=\"day\",hue=\"deposit\")"
   ]
  },
  {
   "cell_type": "code",
   "execution_count": null,
   "metadata": {},
   "outputs": [],
   "source": [
    "sns.displot(data=df, x=\"day\", hue=\"deposit\", aspect=4, kind=\"kde\", rug=True)"
   ]
  },
  {
   "cell_type": "code",
   "execution_count": null,
   "metadata": {},
   "outputs": [],
   "source": [
    "plt.figure(figsize=(15, 8))\n",
    "sns.stripplot(data=df, x=\"month\",y=\"day\", hue=\"deposit\",\n",
    "              order=(\"jan\",\"feb\",\"mar\",\"apr\",\"may\",\"jun\",\"jul\",\"aug\",\"sep\",\"oct\",\"nov\",\"dec\"))"
   ]
  },
  {
   "cell_type": "code",
   "execution_count": null,
   "metadata": {},
   "outputs": [],
   "source": [
    "df.head()"
   ]
  },
  {
   "cell_type": "code",
   "execution_count": null,
   "metadata": {},
   "outputs": [],
   "source": [
    "pd.crosstab(df[\"job\"], df[\"marital\"]).style.background_gradient(axis=None)"
   ]
  },
  {
   "cell_type": "code",
   "execution_count": null,
   "metadata": {},
   "outputs": [],
   "source": [
    "sns.countplot(data=df, y=\"job\", hue=\"marital\")"
   ]
  },
  {
   "cell_type": "code",
   "execution_count": null,
   "metadata": {},
   "outputs": [],
   "source": []
  }
 ],
 "metadata": {
  "kernelspec": {
   "display_name": "Python 3 (ipykernel)",
   "language": "python",
   "name": "python3"
  },
  "language_info": {
   "codemirror_mode": {
    "name": "ipython",
    "version": 3
   },
   "file_extension": ".py",
   "mimetype": "text/x-python",
   "name": "python",
   "nbconvert_exporter": "python",
   "pygments_lexer": "ipython3",
   "version": "3.11.4"
  },
  "toc": {
   "base_numbering": 1,
   "nav_menu": {},
   "number_sections": true,
   "sideBar": true,
   "skip_h1_title": false,
   "title_cell": "Table of Contents",
   "title_sidebar": "Contents",
   "toc_cell": false,
   "toc_position": {},
   "toc_section_display": true,
   "toc_window_display": false
  },
  "varInspector": {
   "cols": {
    "lenName": 16,
    "lenType": 16,
    "lenVar": 40
   },
   "kernels_config": {
    "python": {
     "delete_cmd_postfix": "",
     "delete_cmd_prefix": "del ",
     "library": "var_list.py",
     "varRefreshCmd": "print(var_dic_list())"
    },
    "r": {
     "delete_cmd_postfix": ") ",
     "delete_cmd_prefix": "rm(",
     "library": "var_list.r",
     "varRefreshCmd": "cat(var_dic_list()) "
    }
   },
   "types_to_exclude": [
    "module",
    "function",
    "builtin_function_or_method",
    "instance",
    "_Feature"
   ],
   "window_display": false
  }
 },
 "nbformat": 4,
 "nbformat_minor": 4
}
