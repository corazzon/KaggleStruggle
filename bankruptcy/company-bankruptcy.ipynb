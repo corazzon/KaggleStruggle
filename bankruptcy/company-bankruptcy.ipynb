{
 "cells": [
  {
   "cell_type": "markdown",
   "id": "8a5fcd22",
   "metadata": {},
   "source": [
    "https://www.kaggle.com/datasets/fedesoriano/company-bankruptcy-prediction\n",
    "\n",
    "\n",
    "\n",
    "Taiwanese Bankruptcy Prediction\n",
    "Donated on 6/27/2020\n",
    "The data were collected from the Taiwan Economic Journal for the years 1999 to 2009. Company bankruptcy was defined based on the business regulations of the Taiwan Stock Exchange.\n",
    "\n",
    "\n",
    "\n",
    "Source\n",
    "Deron Liang and Chih-Fong Tsai, deronliang '@' gmail.com; cftsai '@' mgt.ncu.edu.tw, National Central University, Taiwan\n",
    "The data was obtained from UCI Machine Learning Repository: https://archive.ics.uci.edu/ml/datasets/Taiwanese+Bankruptcy+Prediction\n",
    "\n",
    "Relevant Papers\n",
    "Liang, D., Lu, C.-C., Tsai, C.-F., and Shih, G.-A. (2016) Financial Ratios and Corporate Governance Indicators in Bankruptcy Prediction: A Comprehensive Study. European Journal of Operational Research, vol. 252, no. 2, pp. 561-572.\n",
    "https://www.sciencedirect.com/science/article/pii/S0377221716000412"
   ]
  },
  {
   "cell_type": "code",
   "execution_count": null,
   "id": "5e0671d1",
   "metadata": {},
   "outputs": [],
   "source": [
    "import pandas as pd\n",
    "import matplotlib.pyplot as plt\n",
    "import seaborn as sns"
   ]
  },
  {
   "cell_type": "code",
   "execution_count": null,
   "id": "7999de30",
   "metadata": {},
   "outputs": [],
   "source": [
    "df = pd.read_csv(\"data.zip\")\n",
    "df.shape"
   ]
  },
  {
   "cell_type": "code",
   "execution_count": null,
   "id": "b89db2e3",
   "metadata": {},
   "outputs": [],
   "source": [
    "df.head()"
   ]
  },
  {
   "cell_type": "code",
   "execution_count": null,
   "id": "e3540093",
   "metadata": {},
   "outputs": [],
   "source": [
    "df.info()"
   ]
  },
  {
   "cell_type": "code",
   "execution_count": null,
   "id": "4951675c",
   "metadata": {},
   "outputs": [],
   "source": [
    "df[\"Bankrupt?\"].value_counts()"
   ]
  },
  {
   "cell_type": "code",
   "execution_count": null,
   "id": "907bbbf5",
   "metadata": {},
   "outputs": [],
   "source": [
    "fig, axes = plt.subplots(5, 6, figsize=(12, 12))\n",
    "df[df[\"Bankrupt?\"] == 1].iloc[:, :30].hist(bins=50, alpha=.5, ax=axes);\n",
    "df[df[\"Bankrupt?\"] == 0].iloc[:, :30].hist(bins=50, alpha=.5, ax=axes);"
   ]
  },
  {
   "cell_type": "code",
   "execution_count": null,
   "id": "f0afc6a2",
   "metadata": {},
   "outputs": [],
   "source": [
    "fig, axes = plt.subplots(5, 6, figsize=(12, 12))\n",
    "df[df[\"Bankrupt?\"] == 1].iloc[:, 30:60].hist(bins=50, alpha=.5, ax=axes);\n",
    "df[df[\"Bankrupt?\"] == 0].iloc[:, 30:60].hist(bins=50, alpha=.5, ax=axes);"
   ]
  },
  {
   "cell_type": "code",
   "execution_count": null,
   "id": "1efaa633",
   "metadata": {},
   "outputs": [],
   "source": [
    "df.dtypes.value_counts()"
   ]
  },
  {
   "cell_type": "code",
   "execution_count": null,
   "id": "da76d963",
   "metadata": {},
   "outputs": [],
   "source": [
    "df.dtypes.describe()"
   ]
  },
  {
   "cell_type": "code",
   "execution_count": null,
   "id": "9b12299a",
   "metadata": {},
   "outputs": [],
   "source": [
    "df.describe()"
   ]
  },
  {
   "cell_type": "code",
   "execution_count": null,
   "id": "6409f5da",
   "metadata": {},
   "outputs": [],
   "source": [
    "df.describe().T.describe().round(2)"
   ]
  },
  {
   "cell_type": "code",
   "execution_count": null,
   "id": "e083dd47",
   "metadata": {},
   "outputs": [],
   "source": [
    "df.skew().describe()"
   ]
  },
  {
   "cell_type": "code",
   "execution_count": null,
   "id": "4e40733d",
   "metadata": {},
   "outputs": [],
   "source": [
    "df.kurt().describe()"
   ]
  },
  {
   "cell_type": "code",
   "execution_count": null,
   "id": "f0eed9f2",
   "metadata": {},
   "outputs": [],
   "source": [
    "corr = df.corr()"
   ]
  },
  {
   "cell_type": "code",
   "execution_count": null,
   "id": "204ceaba",
   "metadata": {},
   "outputs": [],
   "source": [
    "sns.heatmap(corr)"
   ]
  },
  {
   "cell_type": "code",
   "execution_count": null,
   "id": "e1430c38",
   "metadata": {},
   "outputs": [],
   "source": [
    "corr.describe().T.describe()"
   ]
  },
  {
   "cell_type": "code",
   "execution_count": null,
   "id": "17d9b9f7",
   "metadata": {},
   "outputs": [],
   "source": [
    "sns.violinplot(df)"
   ]
  },
  {
   "cell_type": "code",
   "execution_count": null,
   "id": "b2b9840d",
   "metadata": {},
   "outputs": [],
   "source": [
    "df_scaling = (df - df.mean()) / df.std()\n",
    "df_scaling.describe().round(2)"
   ]
  },
  {
   "cell_type": "code",
   "execution_count": null,
   "id": "358b0e75",
   "metadata": {},
   "outputs": [],
   "source": [
    "df_scaling.describe().T.describe().round(4)"
   ]
  },
  {
   "cell_type": "code",
   "execution_count": null,
   "id": "3777bfd5",
   "metadata": {},
   "outputs": [],
   "source": [
    "sns.violinplot(df_scaling)"
   ]
  },
  {
   "cell_type": "code",
   "execution_count": null,
   "id": "d8dc4937",
   "metadata": {},
   "outputs": [],
   "source": [
    "lable_name = \"Bankrupt?\"\n",
    "\n",
    "X_raw = df.drop(columns=lable_name)\n",
    "y_raw = df[lable_name]\n",
    "\n",
    "X_raw.shape, y_raw.shape"
   ]
  },
  {
   "cell_type": "code",
   "execution_count": null,
   "id": "8ad60cfc",
   "metadata": {},
   "outputs": [],
   "source": [
    "from imblearn.over_sampling import SMOTE\n",
    "\n",
    "sm = SMOTE(random_state=42)\n",
    "X, y = sm.fit_resample(X_raw, y_raw)\n",
    "X.shape, y.shape"
   ]
  },
  {
   "cell_type": "code",
   "execution_count": null,
   "id": "7a6214ac",
   "metadata": {},
   "outputs": [],
   "source": [
    "X"
   ]
  },
  {
   "cell_type": "code",
   "execution_count": null,
   "id": "b86341c9",
   "metadata": {},
   "outputs": [],
   "source": [
    "from sklearn.model_selection import train_test_split\n",
    "\n",
    "X_train, X_test, y_train, y_test = train_test_split(\n",
    "    X, y, test_size=0.33, stratify=y, random_state=42)"
   ]
  },
  {
   "cell_type": "code",
   "execution_count": null,
   "id": "80e6a97d",
   "metadata": {},
   "outputs": [],
   "source": [
    "from sklearn.ensemble import HistGradientBoostingClassifier\n",
    "\n",
    "model = HistGradientBoostingClassifier()\n",
    "model"
   ]
  }
 ],
 "metadata": {
  "kernelspec": {
   "display_name": "Python 3 (ipykernel)",
   "language": "python",
   "name": "python3"
  },
  "language_info": {
   "codemirror_mode": {
    "name": "ipython",
    "version": 3
   },
   "file_extension": ".py",
   "mimetype": "text/x-python",
   "name": "python",
   "nbconvert_exporter": "python",
   "pygments_lexer": "ipython3",
   "version": "3.11.4"
  },
  "toc": {
   "base_numbering": 1,
   "nav_menu": {},
   "number_sections": true,
   "sideBar": true,
   "skip_h1_title": false,
   "title_cell": "Table of Contents",
   "title_sidebar": "Contents",
   "toc_cell": false,
   "toc_position": {},
   "toc_section_display": true,
   "toc_window_display": false
  },
  "varInspector": {
   "cols": {
    "lenName": 16,
    "lenType": 16,
    "lenVar": 40
   },
   "kernels_config": {
    "python": {
     "delete_cmd_postfix": "",
     "delete_cmd_prefix": "del ",
     "library": "var_list.py",
     "varRefreshCmd": "print(var_dic_list())"
    },
    "r": {
     "delete_cmd_postfix": ") ",
     "delete_cmd_prefix": "rm(",
     "library": "var_list.r",
     "varRefreshCmd": "cat(var_dic_list()) "
    }
   },
   "types_to_exclude": [
    "module",
    "function",
    "builtin_function_or_method",
    "instance",
    "_Feature"
   ],
   "window_display": false
  }
 },
 "nbformat": 4,
 "nbformat_minor": 5
}
