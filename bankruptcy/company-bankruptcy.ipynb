{
 "cells": [
  {
   "cell_type": "markdown",
   "id": "4f549a1b",
   "metadata": {},
   "source": [
    "https://www.kaggle.com/datasets/fedesoriano/company-bankruptcy-prediction\n",
    "\n",
    "\n",
    "\n",
    "Taiwanese Bankruptcy Prediction\n",
    "Donated on 6/27/2020\n",
    "The data were collected from the Taiwan Economic Journal for the years 1999 to 2009. Company bankruptcy was defined based on the business regulations of the Taiwan Stock Exchange.\n",
    "\n",
    "\n",
    "\n",
    "Source\n",
    "Deron Liang and Chih-Fong Tsai, deronliang '@' gmail.com; cftsai '@' mgt.ncu.edu.tw, National Central University, Taiwan\n",
    "The data was obtained from UCI Machine Learning Repository: https://archive.ics.uci.edu/ml/datasets/Taiwanese+Bankruptcy+Prediction\n",
    "\n",
    "Relevant Papers\n",
    "Liang, D., Lu, C.-C., Tsai, C.-F., and Shih, G.-A. (2016) Financial Ratios and Corporate Governance Indicators in Bankruptcy Prediction: A Comprehensive Study. European Journal of Operational Research, vol. 252, no. 2, pp. 561-572.\n",
    "https://www.sciencedirect.com/science/article/pii/S0377221716000412"
   ]
  },
  {
   "cell_type": "code",
   "execution_count": null,
   "id": "44014b00",
   "metadata": {},
   "outputs": [],
   "source": [
    "import pandas as pd\n",
    "import matplotlib.pyplot as plt\n",
    "import seaborn as sns"
   ]
  },
  {
   "cell_type": "code",
   "execution_count": null,
   "id": "19727ba1",
   "metadata": {},
   "outputs": [],
   "source": [
    "df = pd.read_csv(\"data.zip\")\n",
    "df.shape"
   ]
  },
  {
   "cell_type": "code",
   "execution_count": null,
   "id": "a910dfef",
   "metadata": {},
   "outputs": [],
   "source": [
    "df.head()"
   ]
  },
  {
   "cell_type": "code",
   "execution_count": null,
   "id": "ffd64926",
   "metadata": {},
   "outputs": [],
   "source": [
    "df.info()"
   ]
  },
  {
   "cell_type": "code",
   "execution_count": null,
   "id": "4a015044",
   "metadata": {},
   "outputs": [],
   "source": [
    "df[\"Bankrupt?\"].value_counts()"
   ]
  },
  {
   "cell_type": "code",
   "execution_count": null,
   "id": "cb5a5675",
   "metadata": {},
   "outputs": [],
   "source": [
    "fig, axes = plt.subplots(5, 6, figsize=(12, 12))\n",
    "df[df[\"Bankrupt?\"] == 1].iloc[:, :30].hist(bins=50, alpha=.5, ax=axes);\n",
    "df[df[\"Bankrupt?\"] == 0].iloc[:, :30].hist(bins=50, alpha=.5, ax=axes);"
   ]
  },
  {
   "cell_type": "code",
   "execution_count": null,
   "id": "b8dd27d6",
   "metadata": {},
   "outputs": [],
   "source": [
    "df.dtypes.value_counts()"
   ]
  },
  {
   "cell_type": "code",
   "execution_count": null,
   "id": "33e0ffb4",
   "metadata": {},
   "outputs": [],
   "source": [
    "df.dtypes.describe()"
   ]
  },
  {
   "cell_type": "code",
   "execution_count": null,
   "id": "9156656d",
   "metadata": {},
   "outputs": [],
   "source": [
    "df.describe()"
   ]
  },
  {
   "cell_type": "code",
   "execution_count": null,
   "id": "dcabb569",
   "metadata": {},
   "outputs": [],
   "source": [
    "df.describe().T.describe().round(2)"
   ]
  },
  {
   "cell_type": "code",
   "execution_count": null,
   "id": "fbf9d71b",
   "metadata": {},
   "outputs": [],
   "source": [
    "df.skew().describe()"
   ]
  },
  {
   "cell_type": "code",
   "execution_count": null,
   "id": "8d5b5f22",
   "metadata": {},
   "outputs": [],
   "source": [
    "df.kurt().describe()"
   ]
  },
  {
   "cell_type": "code",
   "execution_count": null,
   "id": "4cbfdce4",
   "metadata": {},
   "outputs": [],
   "source": [
    "corr = df.corr()"
   ]
  },
  {
   "cell_type": "code",
   "execution_count": null,
   "id": "82bff796",
   "metadata": {},
   "outputs": [],
   "source": [
    "sns.heatmap(corr)"
   ]
  },
  {
   "cell_type": "code",
   "execution_count": null,
   "id": "e044425f",
   "metadata": {},
   "outputs": [],
   "source": [
    "corr.describe().T.describe()"
   ]
  },
  {
   "cell_type": "code",
   "execution_count": null,
   "id": "47991470",
   "metadata": {},
   "outputs": [],
   "source": [
    "sns.violinplot(df)"
   ]
  },
  {
   "cell_type": "code",
   "execution_count": null,
   "id": "2d7cc923",
   "metadata": {},
   "outputs": [],
   "source": [
    "df_scaling = (df - df.mean()) / df.std()\n",
    "df_scaling.describe().round(2)"
   ]
  },
  {
   "cell_type": "code",
   "execution_count": null,
   "id": "07085655",
   "metadata": {},
   "outputs": [],
   "source": [
    "sns.violinplot(df_scaling)"
   ]
  },
  {
   "cell_type": "code",
   "execution_count": null,
   "id": "27b1c529",
   "metadata": {},
   "outputs": [],
   "source": [
    "lable_name = \"Bankrupt?\"\n",
    "\n",
    "X_raw = df.drop(columns=lable_name)\n",
    "y_raw = df[lable_name]\n",
    "\n",
    "X_raw.shape, y_raw.shape"
   ]
  },
  {
   "cell_type": "code",
   "execution_count": null,
   "id": "c01d5e14",
   "metadata": {},
   "outputs": [],
   "source": [
    "from imblearn.over_sampling import SMOTE\n",
    "\n",
    "sm = SMOTE(random_state=42)\n",
    "X, y = sm.fit_resample(X_raw, y_raw)\n",
    "X.shape, y.shape"
   ]
  },
  {
   "cell_type": "code",
   "execution_count": null,
   "id": "adc9f55e",
   "metadata": {},
   "outputs": [],
   "source": [
    "X"
   ]
  },
  {
   "cell_type": "code",
   "execution_count": null,
   "id": "99c30272",
   "metadata": {},
   "outputs": [],
   "source": []
  }
 ],
 "metadata": {
  "kernelspec": {
   "display_name": "Python 3 (ipykernel)",
   "language": "python",
   "name": "python3"
  },
  "language_info": {
   "codemirror_mode": {
    "name": "ipython",
    "version": 3
   },
   "file_extension": ".py",
   "mimetype": "text/x-python",
   "name": "python",
   "nbconvert_exporter": "python",
   "pygments_lexer": "ipython3",
   "version": "3.11.4"
  },
  "toc": {
   "base_numbering": 1,
   "nav_menu": {},
   "number_sections": true,
   "sideBar": true,
   "skip_h1_title": false,
   "title_cell": "Table of Contents",
   "title_sidebar": "Contents",
   "toc_cell": false,
   "toc_position": {},
   "toc_section_display": true,
   "toc_window_display": false
  },
  "varInspector": {
   "cols": {
    "lenName": 16,
    "lenType": 16,
    "lenVar": 40
   },
   "kernels_config": {
    "python": {
     "delete_cmd_postfix": "",
     "delete_cmd_prefix": "del ",
     "library": "var_list.py",
     "varRefreshCmd": "print(var_dic_list())"
    },
    "r": {
     "delete_cmd_postfix": ") ",
     "delete_cmd_prefix": "rm(",
     "library": "var_list.r",
     "varRefreshCmd": "cat(var_dic_list()) "
    }
   },
   "types_to_exclude": [
    "module",
    "function",
    "builtin_function_or_method",
    "instance",
    "_Feature"
   ],
   "window_display": false
  }
 },
 "nbformat": 4,
 "nbformat_minor": 5
}
