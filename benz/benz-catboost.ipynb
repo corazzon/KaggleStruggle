{
 "cells": [
  {
   "cell_type": "code",
   "execution_count": 1,
   "id": "ded29969",
   "metadata": {},
   "outputs": [],
   "source": [
    "import numpy as np\n",
    "import pandas as pd\n",
    "import matplotlib.pyplot as plt\n",
    "import seaborn as sns\n",
    "import os"
   ]
  },
  {
   "cell_type": "code",
   "execution_count": 2,
   "id": "bed5f780",
   "metadata": {},
   "outputs": [],
   "source": [
    "base_path = \"data\"\n",
    "train = pd.read_csv(f'{base_path}/train.csv.zip', index_col=\"ID\")\n",
    "test = pd.read_csv(f'{base_path}/test.csv.zip', index_col=\"ID\")\n",
    "submission = pd.read_csv(f'{base_path}/sample_submission.csv.zip', index_col=\"ID\")"
   ]
  },
  {
   "cell_type": "code",
   "execution_count": 3,
   "id": "9577d2bf",
   "metadata": {},
   "outputs": [],
   "source": [
    "cat_col = train.select_dtypes(include=\"object\").columns\n",
    "train[cat_col] = train[cat_col].astype(\"category\")\n",
    "test[cat_col] = test[cat_col].astype(\"category\")"
   ]
  },
  {
   "cell_type": "code",
   "execution_count": 4,
   "id": "aa363bdb",
   "metadata": {},
   "outputs": [
    {
     "name": "stdout",
     "output_type": "stream",
     "text": [
      "<class 'pandas.core.frame.DataFrame'>\n",
      "Int64Index: 4209 entries, 0 to 8417\n",
      "Columns: 377 entries, y to X385\n",
      "dtypes: category(8), float64(1), int64(368)\n",
      "memory usage: 11.9 MB\n"
     ]
    }
   ],
   "source": [
    "train.info()"
   ]
  },
  {
   "cell_type": "code",
   "execution_count": 5,
   "id": "886450a2",
   "metadata": {},
   "outputs": [
    {
     "name": "stdout",
     "output_type": "stream",
     "text": [
      "<class 'pandas.core.frame.DataFrame'>\n",
      "Int64Index: 4209 entries, 1 to 8416\n",
      "Columns: 376 entries, X0 to X385\n",
      "dtypes: category(8), int64(368)\n",
      "memory usage: 11.9 MB\n"
     ]
    }
   ],
   "source": [
    "test.info()"
   ]
  },
  {
   "cell_type": "markdown",
   "id": "0c61f151",
   "metadata": {},
   "source": [
    "\n",
    "### CatBoost 주요 파라미터\n",
    "* cat_features : 범주형 변수 인덱스 값\n",
    "* loss_function : 손실 함수\n",
    "* eval_metric : 평가 메트릭\n",
    "* iterations : 머신러닝 중 만들어질 수 있는 트리의 최대 개수 (alias : num_boost_round, n_estimators, num_trees)\n",
    "* learning_rate : 학습률을 지정\n",
    "* subsample : 배깅을 위한 서브샘플 비율을 지정\n",
    "* max_leaves : 최종 트리의 최대 리프 개수\n",
    "* https://catboost.ai/en/docs/references/training-parameters/common"
   ]
  },
  {
   "cell_type": "code",
   "execution_count": 6,
   "id": "ce847097",
   "metadata": {},
   "outputs": [],
   "source": [
    "# !pip install catboost"
   ]
  },
  {
   "cell_type": "code",
   "execution_count": 7,
   "id": "b2027187",
   "metadata": {},
   "outputs": [
    {
     "data": {
      "text/plain": [
       "<catboost.core.CatBoostRegressor at 0x1260fe4d0>"
      ]
     },
     "execution_count": 7,
     "metadata": {},
     "output_type": "execute_result"
    }
   ],
   "source": [
    "# catboost 의 회귀 알고리즘의 기본 metric 은 RMSE 입니다.\n",
    "import catboost\n",
    "\n",
    "model_cat = catboost.CatBoostRegressor(eval_metric='R2',\n",
    "                                       cat_features=cat_col.tolist(), \n",
    "                                       logging_level=\"Silent\")\n",
    "\n",
    "model_cat"
   ]
  },
  {
   "cell_type": "markdown",
   "id": "0f030c09",
   "metadata": {},
   "source": [
    "https://catboost.ai/en/docs/references/training-parameters/common#grow_policy"
   ]
  },
  {
   "cell_type": "code",
   "execution_count": 8,
   "id": "fe2b96df",
   "metadata": {},
   "outputs": [
    {
     "data": {
      "text/plain": [
       "{'n_estimators': <scipy.stats._distn_infrastructure.rv_discrete_frozen at 0x1260fe440>,\n",
       " 'depth': <scipy.stats._distn_infrastructure.rv_discrete_frozen at 0x126f2b8b0>,\n",
       " 'learning_rate': <scipy.stats._distn_infrastructure.rv_continuous_frozen at 0x126f48580>,\n",
       " 'min_child_samples': <scipy.stats._distn_infrastructure.rv_discrete_frozen at 0x126f492d0>,\n",
       " 'grow_policy': ['SymmetricTree', 'Lossguide', 'Depthwise']}"
      ]
     },
     "execution_count": 8,
     "metadata": {},
     "output_type": "execute_result"
    }
   ],
   "source": [
    "# SymmetricTree - 대칭트리\n",
    "# Lossguide - 리프별 \n",
    "# Depthwise - 깊이별\n",
    "from scipy.stats import randint\n",
    "from sklearn.utils.fixes import loguniform\n",
    "\n",
    "param_grid = {\n",
    "    'n_estimators': randint(100, 300),\n",
    "    'depth': randint(1, 5),\n",
    "    'learning_rate': loguniform(1e-3, 0.1),\n",
    "    'min_child_samples': randint(10, 40),\n",
    "    'grow_policy': ['SymmetricTree', 'Lossguide', 'Depthwise']\n",
    "}\n",
    "\n",
    "param_grid"
   ]
  },
  {
   "cell_type": "code",
   "execution_count": 9,
   "id": "459caad8",
   "metadata": {},
   "outputs": [],
   "source": [
    "# randomized_search\n",
    "result = model_cat.randomized_search(param_grid, \n",
    "                                     train.drop(columns=\"y\"), train[\"y\"], cv=3, n_iter=10, \n",
    "                                     verbose=False)"
   ]
  },
  {
   "cell_type": "code",
   "execution_count": 10,
   "id": "dff7716c",
   "metadata": {},
   "outputs": [
    {
     "data": {
      "text/html": [
       "<div>\n",
       "<style scoped>\n",
       "    .dataframe tbody tr th:only-of-type {\n",
       "        vertical-align: middle;\n",
       "    }\n",
       "\n",
       "    .dataframe tbody tr th {\n",
       "        vertical-align: top;\n",
       "    }\n",
       "\n",
       "    .dataframe thead th {\n",
       "        text-align: right;\n",
       "    }\n",
       "</style>\n",
       "<table border=\"1\" class=\"dataframe\">\n",
       "  <thead>\n",
       "    <tr style=\"text-align: right;\">\n",
       "      <th></th>\n",
       "      <th>params</th>\n",
       "      <th>cv_results</th>\n",
       "    </tr>\n",
       "  </thead>\n",
       "  <tbody>\n",
       "    <tr>\n",
       "      <th>train-R2-mean</th>\n",
       "      <td>NaN</td>\n",
       "      <td>[-54.6176944240954, -47.27053960629854, -40.90...</td>\n",
       "    </tr>\n",
       "    <tr>\n",
       "      <th>test-R2-mean</th>\n",
       "      <td>NaN</td>\n",
       "      <td>[-54.768422101525935, -47.40785812263277, -41....</td>\n",
       "    </tr>\n",
       "  </tbody>\n",
       "</table>\n",
       "</div>"
      ],
      "text/plain": [
       "              params                                         cv_results\n",
       "train-R2-mean    NaN  [-54.6176944240954, -47.27053960629854, -40.90...\n",
       "test-R2-mean     NaN  [-54.768422101525935, -47.40785812263277, -41...."
      ]
     },
     "execution_count": 10,
     "metadata": {},
     "output_type": "execute_result"
    }
   ],
   "source": [
    "# R2-mean\n",
    "df_result = pd.DataFrame(result)\n",
    "df_result.loc[[\"train-R2-mean\", \"test-R2-mean\"]]"
   ]
  },
  {
   "cell_type": "code",
   "execution_count": 11,
   "id": "b97a724b",
   "metadata": {},
   "outputs": [
    {
     "data": {
      "text/plain": [
       "<Axes: >"
      ]
     },
     "execution_count": 11,
     "metadata": {},
     "output_type": "execute_result"
    },
    {
     "data": {
      "image/png": "[encoded data removed]",
      "text/plain": [
       "<Figure size 640x480 with 1 Axes>"
      ]
     },
     "metadata": {},
     "output_type": "display_data"
    }
   ],
   "source": [
    "pd.DataFrame({\"train-R2-mean\": df_result.loc[\"train-R2-mean\", \"cv_results\"],\n",
    "              \"test-R2-mean\": df_result.loc[\"test-R2-mean\", \"cv_results\"]\n",
    "              })[50:].plot()"
   ]
  },
  {
   "cell_type": "code",
   "execution_count": 12,
   "id": "cc2ea064",
   "metadata": {},
   "outputs": [
    {
     "data": {
      "text/plain": [
       "<catboost.core.CatBoostRegressor at 0x1260fe4d0>"
      ]
     },
     "execution_count": 12,
     "metadata": {},
     "output_type": "execute_result"
    }
   ],
   "source": [
    "# fit\n",
    "model_cat.fit(train.drop(columns=\"y\"), train[\"y\"])"
   ]
  },
  {
   "cell_type": "code",
   "execution_count": 13,
   "id": "da320ac1",
   "metadata": {},
   "outputs": [
    {
     "data": {
      "text/plain": [
       "array([ 90.9845905 , 107.54915399,  91.86066384,  77.35622564,\n",
       "       111.1031797 ])"
      ]
     },
     "execution_count": 13,
     "metadata": {},
     "output_type": "execute_result"
    }
   ],
   "source": [
    "y_pred_cat = model_cat.predict(test)\n",
    "y_pred_cat[:5]"
   ]
  },
  {
   "cell_type": "code",
   "execution_count": 14,
   "id": "8e693fb3",
   "metadata": {},
   "outputs": [
    {
     "data": {
      "text/plain": [
       "{'nan_mode': 'Min',\n",
       " 'eval_metric': 'R2',\n",
       " 'combinations_ctr': ['Borders:CtrBorderCount=15:CtrBorderType=Uniform:TargetBorderCount=1:TargetBorderType=MinEntropy:Prior=0/1:Prior=0.5/1:Prior=1/1',\n",
       "  'Counter:CtrBorderCount=15:CtrBorderType=Uniform:Prior=0/1'],\n",
       " 'iterations': 237,\n",
       " 'sampling_frequency': 'PerTree',\n",
       " 'fold_permutation_block': 0,\n",
       " 'leaf_estimation_method': 'Newton',\n",
       " 'counter_calc_method': 'SkipTest',\n",
       " 'grow_policy': 'SymmetricTree',\n",
       " 'penalties_coefficient': 1,\n",
       " 'boosting_type': 'Plain',\n",
       " 'model_shrink_mode': 'Constant',\n",
       " 'feature_border_type': 'GreedyLogSum',\n",
       " 'ctr_leaf_count_limit': 18446744073709551615,\n",
       " 'bayesian_matrix_reg': 0.10000000149011612,\n",
       " 'one_hot_max_size': 2,\n",
       " 'eval_fraction': 0,\n",
       " 'force_unit_auto_pair_weights': False,\n",
       " 'l2_leaf_reg': 3,\n",
       " 'random_strength': 1,\n",
       " 'rsm': 1,\n",
       " 'boost_from_average': True,\n",
       " 'max_ctr_complexity': 4,\n",
       " 'model_size_reg': 0.5,\n",
       " 'simple_ctr': ['Borders:CtrBorderCount=15:CtrBorderType=Uniform:TargetBorderCount=1:TargetBorderType=MinEntropy:Prior=0/1:Prior=0.5/1:Prior=1/1',\n",
       "  'Counter:CtrBorderCount=15:CtrBorderType=Uniform:Prior=0/1'],\n",
       " 'pool_metainfo_options': {'tags': {}},\n",
       " 'subsample': 0.800000011920929,\n",
       " 'use_best_model': False,\n",
       " 'random_seed': 0,\n",
       " 'depth': 3,\n",
       " 'ctr_target_border_count': 1,\n",
       " 'posterior_sampling': False,\n",
       " 'has_time': False,\n",
       " 'store_all_simple_ctr': False,\n",
       " 'border_count': 254,\n",
       " 'classes_count': 0,\n",
       " 'auto_class_weights': 'None',\n",
       " 'sparse_features_conflict_fraction': 0,\n",
       " 'leaf_estimation_backtracking': 'AnyImprovement',\n",
       " 'best_model_min_trees': 1,\n",
       " 'model_shrink_rate': 0,\n",
       " 'min_data_in_leaf': 32,\n",
       " 'loss_function': 'RMSE',\n",
       " 'learning_rate': 0.06993124634027481,\n",
       " 'score_function': 'Cosine',\n",
       " 'task_type': 'CPU',\n",
       " 'leaf_estimation_iterations': 1,\n",
       " 'bootstrap_type': 'MVS',\n",
       " 'max_leaves': 8,\n",
       " 'permutation_count': 4}"
      ]
     },
     "execution_count": 14,
     "metadata": {},
     "output_type": "execute_result"
    }
   ],
   "source": [
    "model_cat.get_all_params()"
   ]
  },
  {
   "cell_type": "code",
   "execution_count": 15,
   "id": "bb8d8411",
   "metadata": {},
   "outputs": [
    {
     "data": {
      "text/plain": [
       "0.5964161236670449"
      ]
     },
     "execution_count": 15,
     "metadata": {},
     "output_type": "execute_result"
    }
   ],
   "source": [
    "score_cat = model_cat.best_score_[\"learn\"][\"R2\"]\n",
    "score_cat"
   ]
  },
  {
   "cell_type": "code",
   "execution_count": 16,
   "id": "d02b8da0",
   "metadata": {},
   "outputs": [],
   "source": [
    "submission[\"y\"] = y_pred_cat"
   ]
  },
  {
   "cell_type": "markdown",
   "id": "9188d015",
   "metadata": {},
   "source": [
    "https://www.kaggle.com/competitions/mercedes-benz-greener-manufacturing/submissions"
   ]
  },
  {
   "cell_type": "code",
   "execution_count": 17,
   "id": "ee8226f6",
   "metadata": {},
   "outputs": [
    {
     "data": {
      "text/plain": [
       "'data/sub_cat_0.59642.csv'"
      ]
     },
     "execution_count": 17,
     "metadata": {},
     "output_type": "execute_result"
    }
   ],
   "source": [
    "file_name = f'{base_path}/sub_cat_{score_cat:.5f}.csv'\n",
    "file_name"
   ]
  },
  {
   "cell_type": "code",
   "execution_count": 18,
   "id": "1b6eaefb",
   "metadata": {},
   "outputs": [
    {
     "data": {
      "text/html": [
       "<div>\n",
       "<style scoped>\n",
       "    .dataframe tbody tr th:only-of-type {\n",
       "        vertical-align: middle;\n",
       "    }\n",
       "\n",
       "    .dataframe tbody tr th {\n",
       "        vertical-align: top;\n",
       "    }\n",
       "\n",
       "    .dataframe thead th {\n",
       "        text-align: right;\n",
       "    }\n",
       "</style>\n",
       "<table border=\"1\" class=\"dataframe\">\n",
       "  <thead>\n",
       "    <tr style=\"text-align: right;\">\n",
       "      <th></th>\n",
       "      <th>ID</th>\n",
       "      <th>y</th>\n",
       "    </tr>\n",
       "  </thead>\n",
       "  <tbody>\n",
       "    <tr>\n",
       "      <th>0</th>\n",
       "      <td>1</td>\n",
       "      <td>90.984591</td>\n",
       "    </tr>\n",
       "    <tr>\n",
       "      <th>1</th>\n",
       "      <td>2</td>\n",
       "      <td>107.549154</td>\n",
       "    </tr>\n",
       "  </tbody>\n",
       "</table>\n",
       "</div>"
      ],
      "text/plain": [
       "   ID           y\n",
       "0   1   90.984591\n",
       "1   2  107.549154"
      ]
     },
     "execution_count": 18,
     "metadata": {},
     "output_type": "execute_result"
    }
   ],
   "source": [
    "submission.to_csv(file_name)\n",
    "pd.read_csv(file_name).head(2)"
   ]
  },
  {
   "cell_type": "code",
   "execution_count": null,
   "id": "da352439",
   "metadata": {},
   "outputs": [],
   "source": []
  },
  {
   "cell_type": "code",
   "execution_count": null,
   "id": "6d4e8201",
   "metadata": {},
   "outputs": [],
   "source": []
  }
 ],
 "metadata": {
  "kernelspec": {
   "display_name": "Python 3 (ipykernel)",
   "language": "python",
   "name": "python3"
  },
  "language_info": {
   "codemirror_mode": {
    "name": "ipython",
    "version": 3
   },
   "file_extension": ".py",
   "mimetype": "text/x-python",
   "name": "python",
   "nbconvert_exporter": "python",
   "pygments_lexer": "ipython3",
   "version": "3.10.7"
  },
  "toc": {
   "base_numbering": 1,
   "nav_menu": {},
   "number_sections": true,
   "sideBar": true,
   "skip_h1_title": false,
   "title_cell": "Table of Contents",
   "title_sidebar": "Contents",
   "toc_cell": false,
   "toc_position": {},
   "toc_section_display": true,
   "toc_window_display": false
  },
  "varInspector": {
   "cols": {
    "lenName": 16,
    "lenType": 16,
    "lenVar": 40
   },
   "kernels_config": {
    "python": {
     "delete_cmd_postfix": "",
     "delete_cmd_prefix": "del ",
     "library": "var_list.py",
     "varRefreshCmd": "print(var_dic_list())"
    },
    "r": {
     "delete_cmd_postfix": ") ",
     "delete_cmd_prefix": "rm(",
     "library": "var_list.r",
     "varRefreshCmd": "cat(var_dic_list()) "
    }
   },
   "types_to_exclude": [
    "module",
    "function",
    "builtin_function_or_method",
    "instance",
    "_Feature"
   ],
   "window_display": false
  }
 },
 "nbformat": 4,
 "nbformat_minor": 5
}
