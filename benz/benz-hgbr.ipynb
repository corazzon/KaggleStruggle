{
 "cells": [
  {
   "cell_type": "markdown",
   "id": "d977997f",
   "metadata": {},
   "source": [
    "https://www.kaggle.com/competitions/mercedes-benz-greener-manufacturing/overview"
   ]
  },
  {
   "cell_type": "code",
   "execution_count": null,
   "id": "32f0b8f9",
   "metadata": {},
   "outputs": [],
   "source": [
    "import numpy as np\n",
    "import pandas as pd\n",
    "import matplotlib.pyplot as plt\n",
    "import seaborn as sns\n",
    "import os"
   ]
  },
  {
   "cell_type": "code",
   "execution_count": null,
   "id": "118e7f44",
   "metadata": {},
   "outputs": [],
   "source": [
    "# !unzip mercedes-benz-greener-manufacturing.zip -d data"
   ]
  },
  {
   "cell_type": "code",
   "execution_count": null,
   "id": "dea3017e",
   "metadata": {},
   "outputs": [],
   "source": [
    "base_path = \"data\"\n",
    "train = pd.read_csv(f'{base_path}/train.csv.zip', index_col=\"ID\")\n",
    "test = pd.read_csv(f'{base_path}/test.csv.zip', index_col=\"ID\")\n",
    "submission = pd.read_csv(f'{base_path}/sample_submission.csv.zip', index_col=\"ID\")"
   ]
  },
  {
   "cell_type": "code",
   "execution_count": null,
   "id": "37d288f8",
   "metadata": {},
   "outputs": [],
   "source": [
    "cat_col = train.select_dtypes(include=\"object\").columns\n",
    "train[cat_col] = train[cat_col].astype(\"category\")\n",
    "test[cat_col] = test[cat_col].astype(\"category\")"
   ]
  },
  {
   "cell_type": "code",
   "execution_count": null,
   "id": "06882e2e",
   "metadata": {},
   "outputs": [],
   "source": [
    "train.info()"
   ]
  },
  {
   "cell_type": "code",
   "execution_count": null,
   "id": "ec33866a",
   "metadata": {
    "scrolled": true
   },
   "outputs": [],
   "source": [
    "test.info()"
   ]
  },
  {
   "cell_type": "code",
   "execution_count": null,
   "id": "f55fe040",
   "metadata": {},
   "outputs": [],
   "source": [
    "train[\"y\"].describe()"
   ]
  },
  {
   "cell_type": "code",
   "execution_count": null,
   "id": "7657df87",
   "metadata": {},
   "outputs": [],
   "source": [
    "train[\"y\"].hist()"
   ]
  },
  {
   "cell_type": "code",
   "execution_count": null,
   "id": "430a91f9",
   "metadata": {},
   "outputs": [],
   "source": [
    "# 이상치 제거\n",
    "train = train[train[\"y\"] < 250]\n",
    "train.shape"
   ]
  },
  {
   "cell_type": "code",
   "execution_count": null,
   "id": "f5095f0c",
   "metadata": {},
   "outputs": [],
   "source": [
    "X, y = train.drop(columns=\"y\"), train[\"y\"]\n",
    "X.shape, y.shape"
   ]
  },
  {
   "cell_type": "code",
   "execution_count": null,
   "id": "bd4328c9",
   "metadata": {},
   "outputs": [],
   "source": [
    "from sklearn.model_selection import train_test_split\n",
    "\n",
    "X_train, X_valid, y_train, y_valid = train_test_split(\n",
    "    X, y, test_size=0.1, random_state=42)"
   ]
  },
  {
   "cell_type": "markdown",
   "id": "6a2858b0",
   "metadata": {},
   "source": [
    "## HistGradientBoosting\n",
    "* https://scikit-learn.org/stable/modules/generated/sklearn.ensemble.HistGradientBoostingRegressor.html\n",
    "* https://scikit-learn.org/stable/modules/ensemble.html#histogram-based-gradient-boosting\n",
    "* https://scikit-learn.org/stable/auto_examples/ensemble/plot_gradient_boosting_categorical.html"
   ]
  },
  {
   "cell_type": "code",
   "execution_count": null,
   "id": "1c16939a",
   "metadata": {},
   "outputs": [],
   "source": [
    "from sklearn.preprocessing import StandardScaler, OneHotEncoder\n",
    "from sklearn.compose import make_column_transformer\n",
    "from sklearn.compose import make_column_selector\n",
    "\n",
    "ct = make_column_transformer(\n",
    "      (StandardScaler(),\n",
    "       make_column_selector(dtype_include=np.number)),\n",
    "      (OneHotEncoder(handle_unknown=\"ignore\"),\n",
    "       make_column_selector(dtype_include=\"category\")))"
   ]
  },
  {
   "cell_type": "code",
   "execution_count": null,
   "id": "a21c50ef",
   "metadata": {},
   "outputs": [],
   "source": [
    "from sklearn.ensemble import HistGradientBoostingRegressor\n",
    "from sklearn.pipeline import make_pipeline\n",
    "\n",
    "hist_pipe = make_pipeline(ct, HistGradientBoostingRegressor(random_state=42))\n",
    "hist_pipe"
   ]
  },
  {
   "cell_type": "code",
   "execution_count": null,
   "id": "861a7b49",
   "metadata": {},
   "outputs": [],
   "source": [
    "from sklearn.model_selection import cross_validate\n",
    "\n",
    "scoring = \"neg_mean_absolute_percentage_error\"\n",
    "n_cv_folds = 3\n",
    "\n",
    "cv_result = cross_validate(hist_pipe, X_valid, y_valid, cv=n_cv_folds, scoring=scoring)\n",
    "cv_result"
   ]
  },
  {
   "cell_type": "code",
   "execution_count": null,
   "id": "8fdf9bb0",
   "metadata": {},
   "outputs": [],
   "source": [
    "# fit & predict\n",
    "hist_pipe.fit(X_train, y_train)"
   ]
  },
  {
   "cell_type": "code",
   "execution_count": null,
   "id": "889d6571",
   "metadata": {},
   "outputs": [],
   "source": [
    "# ct.get_feature_names_out()"
   ]
  },
  {
   "cell_type": "markdown",
   "id": "0c22bc99",
   "metadata": {},
   "source": [
    "https://scikit-learn.org/stable/modules/permutation_importance.html#permutation-importance"
   ]
  },
  {
   "cell_type": "code",
   "execution_count": null,
   "id": "d5d34f14",
   "metadata": {},
   "outputs": [],
   "source": [
    "from sklearn.inspection import permutation_importance\n",
    "\n",
    "model = hist_pipe\n",
    "result = permutation_importance(model, X_train, y_train,\n",
    "                                n_repeats=3, random_state=0)"
   ]
  },
  {
   "cell_type": "code",
   "execution_count": null,
   "id": "65423422",
   "metadata": {},
   "outputs": [],
   "source": [
    "feature_names = ct.get_feature_names_out()"
   ]
  },
  {
   "cell_type": "code",
   "execution_count": null,
   "id": "21fc1311",
   "metadata": {},
   "outputs": [],
   "source": [
    "# for i in result.importances_mean.argsort()[::-1]:\n",
    "#     if result.importances_mean[i] - 2 * result.importances_std[i] > 0:\n",
    "#         print(f\"{feature_names[i]:<8}\"\n",
    "#               f\"{result.importances_mean[i]:.3f}\"\n",
    "#               f\" +/- {result.importances_std[i]:.3f}\")"
   ]
  },
  {
   "cell_type": "code",
   "execution_count": null,
   "id": "a27d249a",
   "metadata": {},
   "outputs": [],
   "source": [
    "hgbr_score = hist_pipe.score(X_valid, y_valid)\n",
    "hgbr_score"
   ]
  },
  {
   "cell_type": "code",
   "execution_count": null,
   "id": "250c4493",
   "metadata": {},
   "outputs": [],
   "source": [
    "y_pred_hgbr = hist_pipe.predict(test)\n",
    "y_pred_hgbr[:5]"
   ]
  },
  {
   "cell_type": "code",
   "execution_count": null,
   "id": "5e2934ef",
   "metadata": {},
   "outputs": [],
   "source": [
    "submission[\"y\"] = y_pred_hgbr"
   ]
  },
  {
   "cell_type": "markdown",
   "id": "93c9622d",
   "metadata": {},
   "source": [
    "## submit\n",
    "* https://www.kaggle.com/competitions/mercedes-benz-greener-manufacturing/submissions\n",
    "\n",
    "* 대회 측정 지표 : 결정계수(R-squared 또는 R^2)는 회귀분석에서 사용되는 통계적 척도로, 종속 변수의 총 변동 중에서 독립 변수에 의해 설명되는 변동의 비율을 나타냅니다. 즉, 회귀모델이 얼마나 데이터를 잘 설명하고 있는지를 나타내는 지표입니다.\n",
    "    * R^2 = 1 - (SSR/SST)\n",
    "    * SSR(Residual Sum of Squares): 잔차 제곱합입니다. 이는 실제 값과 예측 값의 차이를 제곱하여 합산한 값입니다. 즉, 모델이 예측한 값이 실제 값과 얼마나 차이나는지를 나타내는 지표입니다. 이 값이 작을수록 모델의 예측이 실제 값과 가깝다는 것을 의미합니다.\n",
    "    * SST(Total Sum of Squares): 총 제곱합입니다. 이는 실제 값과 실제 값의 평균의 차이를 제곱하여 합산한 값입니다. 즉, 실제 값이 얼마나 분산되어 있는지를 나타내는 지표입니다."
   ]
  },
  {
   "cell_type": "code",
   "execution_count": null,
   "id": "79822552",
   "metadata": {
    "scrolled": true
   },
   "outputs": [],
   "source": [
    "file_name = f\"submit_hgbr_category_{hgbr_score:.5f}.csv\"\n",
    "file_name"
   ]
  },
  {
   "cell_type": "code",
   "execution_count": null,
   "id": "dbd1510a",
   "metadata": {},
   "outputs": [],
   "source": [
    "submission.to_csv(file_name)\n",
    "pd.read_csv(file_name).head(2)"
   ]
  },
  {
   "cell_type": "code",
   "execution_count": null,
   "id": "a4b857c1",
   "metadata": {},
   "outputs": [],
   "source": []
  },
  {
   "cell_type": "code",
   "execution_count": null,
   "id": "bd0aca17",
   "metadata": {},
   "outputs": [],
   "source": []
  }
 ],
 "metadata": {
  "kernelspec": {
   "display_name": "Python 3 (ipykernel)",
   "language": "python",
   "name": "python3"
  },
  "language_info": {
   "codemirror_mode": {
    "name": "ipython",
    "version": 3
   },
   "file_extension": ".py",
   "mimetype": "text/x-python",
   "name": "python",
   "nbconvert_exporter": "python",
   "pygments_lexer": "ipython3",
   "version": "3.11.4"
  },
  "toc": {
   "base_numbering": 1,
   "nav_menu": {},
   "number_sections": true,
   "sideBar": true,
   "skip_h1_title": false,
   "title_cell": "Table of Contents",
   "title_sidebar": "Contents",
   "toc_cell": false,
   "toc_position": {},
   "toc_section_display": true,
   "toc_window_display": false
  },
  "varInspector": {
   "cols": {
    "lenName": 16,
    "lenType": 16,
    "lenVar": 40
   },
   "kernels_config": {
    "python": {
     "delete_cmd_postfix": "",
     "delete_cmd_prefix": "del ",
     "library": "var_list.py",
     "varRefreshCmd": "print(var_dic_list())"
    },
    "r": {
     "delete_cmd_postfix": ") ",
     "delete_cmd_prefix": "rm(",
     "library": "var_list.r",
     "varRefreshCmd": "cat(var_dic_list()) "
    }
   },
   "types_to_exclude": [
    "module",
    "function",
    "builtin_function_or_method",
    "instance",
    "_Feature"
   ],
   "window_display": false
  }
 },
 "nbformat": 4,
 "nbformat_minor": 5
}
