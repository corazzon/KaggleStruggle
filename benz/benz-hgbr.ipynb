{
 "cells": [
  {
   "cell_type": "code",
   "execution_count": 1,
   "id": "32f0b8f9",
   "metadata": {},
   "outputs": [],
   "source": [
    "import numpy as np\n",
    "import pandas as pd\n",
    "import matplotlib.pyplot as plt\n",
    "import seaborn as sns\n",
    "import os"
   ]
  },
  {
   "cell_type": "code",
   "execution_count": 2,
   "id": "dea3017e",
   "metadata": {},
   "outputs": [],
   "source": [
    "base_path = \"data\"\n",
    "train = pd.read_csv(f'{base_path}/train.csv.zip', index_col=\"ID\")\n",
    "test = pd.read_csv(f'{base_path}/test.csv.zip', index_col=\"ID\")\n",
    "submission = pd.read_csv(f'{base_path}/sample_submission.csv.zip', index_col=\"ID\")"
   ]
  },
  {
   "cell_type": "code",
   "execution_count": 3,
   "id": "37d288f8",
   "metadata": {},
   "outputs": [],
   "source": [
    "cat_col = train.select_dtypes(include=\"object\").columns\n",
    "train[cat_col] = train[cat_col].astype(\"category\")\n",
    "test[cat_col] = test[cat_col].astype(\"category\")"
   ]
  },
  {
   "cell_type": "code",
   "execution_count": 4,
   "id": "06882e2e",
   "metadata": {},
   "outputs": [
    {
     "name": "stdout",
     "output_type": "stream",
     "text": [
      "<class 'pandas.core.frame.DataFrame'>\n",
      "Int64Index: 4209 entries, 0 to 8417\n",
      "Columns: 377 entries, y to X385\n",
      "dtypes: category(8), float64(1), int64(368)\n",
      "memory usage: 11.9 MB\n"
     ]
    }
   ],
   "source": [
    "train.info()"
   ]
  },
  {
   "cell_type": "code",
   "execution_count": 5,
   "id": "ec33866a",
   "metadata": {
    "scrolled": true
   },
   "outputs": [
    {
     "name": "stdout",
     "output_type": "stream",
     "text": [
      "<class 'pandas.core.frame.DataFrame'>\n",
      "Int64Index: 4209 entries, 1 to 8416\n",
      "Columns: 376 entries, X0 to X385\n",
      "dtypes: category(8), int64(368)\n",
      "memory usage: 11.9 MB\n"
     ]
    }
   ],
   "source": [
    "test.info()"
   ]
  },
  {
   "cell_type": "code",
   "execution_count": 6,
   "id": "f5095f0c",
   "metadata": {},
   "outputs": [
    {
     "data": {
      "text/plain": [
       "((4209, 376), (4209,))"
      ]
     },
     "execution_count": 6,
     "metadata": {},
     "output_type": "execute_result"
    }
   ],
   "source": [
    "X, y = train.drop(columns=\"y\"), train[\"y\"]\n",
    "X.shape, y.shape"
   ]
  },
  {
   "cell_type": "code",
   "execution_count": 7,
   "id": "bd4328c9",
   "metadata": {},
   "outputs": [],
   "source": [
    "from sklearn.model_selection import train_test_split\n",
    "\n",
    "X_train, X_valid, y_train, y_valid = train_test_split(\n",
    "    X, y, test_size=0.1, random_state=42)"
   ]
  },
  {
   "cell_type": "markdown",
   "id": "6a2858b0",
   "metadata": {},
   "source": [
    "* https://scikit-learn.org/stable/modules/generated/sklearn.ensemble.HistGradientBoostingRegressor.html\n",
    "* https://scikit-learn.org/stable/modules/ensemble.html#histogram-based-gradient-boosting\n",
    "* https://scikit-learn.org/stable/auto_examples/ensemble/plot_gradient_boosting_categorical.html"
   ]
  },
  {
   "cell_type": "code",
   "execution_count": 8,
   "id": "57ff6a86",
   "metadata": {},
   "outputs": [
    {
     "data": {
      "text/html": [
       "<style>#sk-container-id-1 {color: black;background-color: white;}#sk-container-id-1 pre{padding: 0;}#sk-container-id-1 div.sk-toggleable {background-color: white;}#sk-container-id-1 label.sk-toggleable__label {cursor: pointer;display: block;width: 100%;margin-bottom: 0;padding: 0.3em;box-sizing: border-box;text-align: center;}#sk-container-id-1 label.sk-toggleable__label-arrow:before {content: \"▸\";float: left;margin-right: 0.25em;color: #696969;}#sk-container-id-1 label.sk-toggleable__label-arrow:hover:before {color: black;}#sk-container-id-1 div.sk-estimator:hover label.sk-toggleable__label-arrow:before {color: black;}#sk-container-id-1 div.sk-toggleable__content {max-height: 0;max-width: 0;overflow: hidden;text-align: left;background-color: #f0f8ff;}#sk-container-id-1 div.sk-toggleable__content pre {margin: 0.2em;color: black;border-radius: 0.25em;background-color: #f0f8ff;}#sk-container-id-1 input.sk-toggleable__control:checked~div.sk-toggleable__content {max-height: 200px;max-width: 100%;overflow: auto;}#sk-container-id-1 input.sk-toggleable__control:checked~label.sk-toggleable__label-arrow:before {content: \"▾\";}#sk-container-id-1 div.sk-estimator input.sk-toggleable__control:checked~label.sk-toggleable__label {background-color: #d4ebff;}#sk-container-id-1 div.sk-label input.sk-toggleable__control:checked~label.sk-toggleable__label {background-color: #d4ebff;}#sk-container-id-1 input.sk-hidden--visually {border: 0;clip: rect(1px 1px 1px 1px);clip: rect(1px, 1px, 1px, 1px);height: 1px;margin: -1px;overflow: hidden;padding: 0;position: absolute;width: 1px;}#sk-container-id-1 div.sk-estimator {font-family: monospace;background-color: #f0f8ff;border: 1px dotted black;border-radius: 0.25em;box-sizing: border-box;margin-bottom: 0.5em;}#sk-container-id-1 div.sk-estimator:hover {background-color: #d4ebff;}#sk-container-id-1 div.sk-parallel-item::after {content: \"\";width: 100%;border-bottom: 1px solid gray;flex-grow: 1;}#sk-container-id-1 div.sk-label:hover label.sk-toggleable__label {background-color: #d4ebff;}#sk-container-id-1 div.sk-serial::before {content: \"\";position: absolute;border-left: 1px solid gray;box-sizing: border-box;top: 0;bottom: 0;left: 50%;z-index: 0;}#sk-container-id-1 div.sk-serial {display: flex;flex-direction: column;align-items: center;background-color: white;padding-right: 0.2em;padding-left: 0.2em;position: relative;}#sk-container-id-1 div.sk-item {position: relative;z-index: 1;}#sk-container-id-1 div.sk-parallel {display: flex;align-items: stretch;justify-content: center;background-color: white;position: relative;}#sk-container-id-1 div.sk-item::before, #sk-container-id-1 div.sk-parallel-item::before {content: \"\";position: absolute;border-left: 1px solid gray;box-sizing: border-box;top: 0;bottom: 0;left: 50%;z-index: -1;}#sk-container-id-1 div.sk-parallel-item {display: flex;flex-direction: column;z-index: 1;position: relative;background-color: white;}#sk-container-id-1 div.sk-parallel-item:first-child::after {align-self: flex-end;width: 50%;}#sk-container-id-1 div.sk-parallel-item:last-child::after {align-self: flex-start;width: 50%;}#sk-container-id-1 div.sk-parallel-item:only-child::after {width: 0;}#sk-container-id-1 div.sk-dashed-wrapped {border: 1px dashed gray;margin: 0 0.4em 0.5em 0.4em;box-sizing: border-box;padding-bottom: 0.4em;background-color: white;}#sk-container-id-1 div.sk-label label {font-family: monospace;font-weight: bold;display: inline-block;line-height: 1.2em;}#sk-container-id-1 div.sk-label-container {text-align: center;}#sk-container-id-1 div.sk-container {/* jupyter's `normalize.less` sets `[hidden] { display: none; }` but bootstrap.min.css set `[hidden] { display: none !important; }` so we also need the `!important` here to be able to override the default hidden behavior on the sphinx rendered scikit-learn.org. See: https://github.com/scikit-learn/scikit-learn/issues/21755 */display: inline-block !important;position: relative;}#sk-container-id-1 div.sk-text-repr-fallback {display: none;}</style><div id=\"sk-container-id-1\" class=\"sk-top-container\"><div class=\"sk-text-repr-fallback\"><pre>Pipeline(steps=[(&#x27;columntransformer&#x27;,\n",
       "                 ColumnTransformer(remainder=&#x27;passthrough&#x27;,\n",
       "                                   transformers=[(&#x27;drop&#x27;, &#x27;drop&#x27;,\n",
       "                                                  &lt;sklearn.compose._column_transformer.make_column_selector object at 0x132833610&gt;)])),\n",
       "                (&#x27;histgradientboostingregressor&#x27;,\n",
       "                 HistGradientBoostingRegressor(random_state=42))])</pre><b>In a Jupyter environment, please rerun this cell to show the HTML representation or trust the notebook. <br />On GitHub, the HTML representation is unable to render, please try loading this page with nbviewer.org.</b></div><div class=\"sk-container\" hidden><div class=\"sk-item sk-dashed-wrapped\"><div class=\"sk-label-container\"><div class=\"sk-label sk-toggleable\"><input class=\"sk-toggleable__control sk-hidden--visually\" id=\"sk-estimator-id-1\" type=\"checkbox\" ><label for=\"sk-estimator-id-1\" class=\"sk-toggleable__label sk-toggleable__label-arrow\">Pipeline</label><div class=\"sk-toggleable__content\"><pre>Pipeline(steps=[(&#x27;columntransformer&#x27;,\n",
       "                 ColumnTransformer(remainder=&#x27;passthrough&#x27;,\n",
       "                                   transformers=[(&#x27;drop&#x27;, &#x27;drop&#x27;,\n",
       "                                                  &lt;sklearn.compose._column_transformer.make_column_selector object at 0x132833610&gt;)])),\n",
       "                (&#x27;histgradientboostingregressor&#x27;,\n",
       "                 HistGradientBoostingRegressor(random_state=42))])</pre></div></div></div><div class=\"sk-serial\"><div class=\"sk-item sk-dashed-wrapped\"><div class=\"sk-label-container\"><div class=\"sk-label sk-toggleable\"><input class=\"sk-toggleable__control sk-hidden--visually\" id=\"sk-estimator-id-2\" type=\"checkbox\" ><label for=\"sk-estimator-id-2\" class=\"sk-toggleable__label sk-toggleable__label-arrow\">columntransformer: ColumnTransformer</label><div class=\"sk-toggleable__content\"><pre>ColumnTransformer(remainder=&#x27;passthrough&#x27;,\n",
       "                  transformers=[(&#x27;drop&#x27;, &#x27;drop&#x27;,\n",
       "                                 &lt;sklearn.compose._column_transformer.make_column_selector object at 0x132833610&gt;)])</pre></div></div></div><div class=\"sk-parallel\"><div class=\"sk-parallel-item\"><div class=\"sk-item\"><div class=\"sk-label-container\"><div class=\"sk-label sk-toggleable\"><input class=\"sk-toggleable__control sk-hidden--visually\" id=\"sk-estimator-id-3\" type=\"checkbox\" ><label for=\"sk-estimator-id-3\" class=\"sk-toggleable__label sk-toggleable__label-arrow\">drop</label><div class=\"sk-toggleable__content\"><pre>&lt;sklearn.compose._column_transformer.make_column_selector object at 0x132833610&gt;</pre></div></div></div><div class=\"sk-serial\"><div class=\"sk-item\"><div class=\"sk-estimator sk-toggleable\"><input class=\"sk-toggleable__control sk-hidden--visually\" id=\"sk-estimator-id-4\" type=\"checkbox\" ><label for=\"sk-estimator-id-4\" class=\"sk-toggleable__label sk-toggleable__label-arrow\">drop</label><div class=\"sk-toggleable__content\"><pre>drop</pre></div></div></div></div></div></div><div class=\"sk-parallel-item\"><div class=\"sk-item\"><div class=\"sk-label-container\"><div class=\"sk-label sk-toggleable\"><input class=\"sk-toggleable__control sk-hidden--visually\" id=\"sk-estimator-id-5\" type=\"checkbox\" ><label for=\"sk-estimator-id-5\" class=\"sk-toggleable__label sk-toggleable__label-arrow\">remainder</label><div class=\"sk-toggleable__content\"><pre></pre></div></div></div><div class=\"sk-serial\"><div class=\"sk-item\"><div class=\"sk-estimator sk-toggleable\"><input class=\"sk-toggleable__control sk-hidden--visually\" id=\"sk-estimator-id-6\" type=\"checkbox\" ><label for=\"sk-estimator-id-6\" class=\"sk-toggleable__label sk-toggleable__label-arrow\">passthrough</label><div class=\"sk-toggleable__content\"><pre>passthrough</pre></div></div></div></div></div></div></div></div><div class=\"sk-item\"><div class=\"sk-estimator sk-toggleable\"><input class=\"sk-toggleable__control sk-hidden--visually\" id=\"sk-estimator-id-7\" type=\"checkbox\" ><label for=\"sk-estimator-id-7\" class=\"sk-toggleable__label sk-toggleable__label-arrow\">HistGradientBoostingRegressor</label><div class=\"sk-toggleable__content\"><pre>HistGradientBoostingRegressor(random_state=42)</pre></div></div></div></div></div></div></div>"
      ],
      "text/plain": [
       "Pipeline(steps=[('columntransformer',\n",
       "                 ColumnTransformer(remainder='passthrough',\n",
       "                                   transformers=[('drop', 'drop',\n",
       "                                                  <sklearn.compose._column_transformer.make_column_selector object at 0x132833610>)])),\n",
       "                ('histgradientboostingregressor',\n",
       "                 HistGradientBoostingRegressor(random_state=42))])"
      ]
     },
     "execution_count": 8,
     "metadata": {},
     "output_type": "execute_result"
    }
   ],
   "source": [
    "from sklearn.ensemble import HistGradientBoostingRegressor\n",
    "from sklearn.pipeline import make_pipeline\n",
    "from sklearn.compose import make_column_transformer\n",
    "from sklearn.compose import make_column_selector\n",
    "\n",
    "dropper = make_column_transformer(\n",
    "    (\"drop\", make_column_selector(dtype_include=\"category\")), remainder=\"passthrough\"\n",
    ")\n",
    "hist_dropped = make_pipeline(dropper, HistGradientBoostingRegressor(random_state=42))\n",
    "hist_dropped"
   ]
  },
  {
   "cell_type": "code",
   "execution_count": 9,
   "id": "861a7b49",
   "metadata": {},
   "outputs": [
    {
     "data": {
      "text/plain": [
       "{'fit_time': array([2.24631691, 2.31711411, 2.12450528]),\n",
       " 'score_time': array([0.01309085, 0.01051807, 0.00829077]),\n",
       " 'test_score': array([-0.05001658, -0.05351378, -0.05726412])}"
      ]
     },
     "execution_count": 9,
     "metadata": {},
     "output_type": "execute_result"
    }
   ],
   "source": [
    "from sklearn.model_selection import cross_validate\n",
    "\n",
    "scoring = \"neg_mean_absolute_percentage_error\"\n",
    "n_cv_folds = 3\n",
    "\n",
    "dropped_result = cross_validate(hist_dropped, X, y, cv=n_cv_folds, scoring=scoring)\n",
    "dropped_result"
   ]
  },
  {
   "cell_type": "code",
   "execution_count": 10,
   "id": "8fdf9bb0",
   "metadata": {},
   "outputs": [
    {
     "data": {
      "text/html": [
       "<style>#sk-container-id-2 {color: black;background-color: white;}#sk-container-id-2 pre{padding: 0;}#sk-container-id-2 div.sk-toggleable {background-color: white;}#sk-container-id-2 label.sk-toggleable__label {cursor: pointer;display: block;width: 100%;margin-bottom: 0;padding: 0.3em;box-sizing: border-box;text-align: center;}#sk-container-id-2 label.sk-toggleable__label-arrow:before {content: \"▸\";float: left;margin-right: 0.25em;color: #696969;}#sk-container-id-2 label.sk-toggleable__label-arrow:hover:before {color: black;}#sk-container-id-2 div.sk-estimator:hover label.sk-toggleable__label-arrow:before {color: black;}#sk-container-id-2 div.sk-toggleable__content {max-height: 0;max-width: 0;overflow: hidden;text-align: left;background-color: #f0f8ff;}#sk-container-id-2 div.sk-toggleable__content pre {margin: 0.2em;color: black;border-radius: 0.25em;background-color: #f0f8ff;}#sk-container-id-2 input.sk-toggleable__control:checked~div.sk-toggleable__content {max-height: 200px;max-width: 100%;overflow: auto;}#sk-container-id-2 input.sk-toggleable__control:checked~label.sk-toggleable__label-arrow:before {content: \"▾\";}#sk-container-id-2 div.sk-estimator input.sk-toggleable__control:checked~label.sk-toggleable__label {background-color: #d4ebff;}#sk-container-id-2 div.sk-label input.sk-toggleable__control:checked~label.sk-toggleable__label {background-color: #d4ebff;}#sk-container-id-2 input.sk-hidden--visually {border: 0;clip: rect(1px 1px 1px 1px);clip: rect(1px, 1px, 1px, 1px);height: 1px;margin: -1px;overflow: hidden;padding: 0;position: absolute;width: 1px;}#sk-container-id-2 div.sk-estimator {font-family: monospace;background-color: #f0f8ff;border: 1px dotted black;border-radius: 0.25em;box-sizing: border-box;margin-bottom: 0.5em;}#sk-container-id-2 div.sk-estimator:hover {background-color: #d4ebff;}#sk-container-id-2 div.sk-parallel-item::after {content: \"\";width: 100%;border-bottom: 1px solid gray;flex-grow: 1;}#sk-container-id-2 div.sk-label:hover label.sk-toggleable__label {background-color: #d4ebff;}#sk-container-id-2 div.sk-serial::before {content: \"\";position: absolute;border-left: 1px solid gray;box-sizing: border-box;top: 0;bottom: 0;left: 50%;z-index: 0;}#sk-container-id-2 div.sk-serial {display: flex;flex-direction: column;align-items: center;background-color: white;padding-right: 0.2em;padding-left: 0.2em;position: relative;}#sk-container-id-2 div.sk-item {position: relative;z-index: 1;}#sk-container-id-2 div.sk-parallel {display: flex;align-items: stretch;justify-content: center;background-color: white;position: relative;}#sk-container-id-2 div.sk-item::before, #sk-container-id-2 div.sk-parallel-item::before {content: \"\";position: absolute;border-left: 1px solid gray;box-sizing: border-box;top: 0;bottom: 0;left: 50%;z-index: -1;}#sk-container-id-2 div.sk-parallel-item {display: flex;flex-direction: column;z-index: 1;position: relative;background-color: white;}#sk-container-id-2 div.sk-parallel-item:first-child::after {align-self: flex-end;width: 50%;}#sk-container-id-2 div.sk-parallel-item:last-child::after {align-self: flex-start;width: 50%;}#sk-container-id-2 div.sk-parallel-item:only-child::after {width: 0;}#sk-container-id-2 div.sk-dashed-wrapped {border: 1px dashed gray;margin: 0 0.4em 0.5em 0.4em;box-sizing: border-box;padding-bottom: 0.4em;background-color: white;}#sk-container-id-2 div.sk-label label {font-family: monospace;font-weight: bold;display: inline-block;line-height: 1.2em;}#sk-container-id-2 div.sk-label-container {text-align: center;}#sk-container-id-2 div.sk-container {/* jupyter's `normalize.less` sets `[hidden] { display: none; }` but bootstrap.min.css set `[hidden] { display: none !important; }` so we also need the `!important` here to be able to override the default hidden behavior on the sphinx rendered scikit-learn.org. See: https://github.com/scikit-learn/scikit-learn/issues/21755 */display: inline-block !important;position: relative;}#sk-container-id-2 div.sk-text-repr-fallback {display: none;}</style><div id=\"sk-container-id-2\" class=\"sk-top-container\"><div class=\"sk-text-repr-fallback\"><pre>Pipeline(steps=[(&#x27;columntransformer&#x27;,\n",
       "                 ColumnTransformer(remainder=&#x27;passthrough&#x27;,\n",
       "                                   transformers=[(&#x27;drop&#x27;, &#x27;drop&#x27;,\n",
       "                                                  &lt;sklearn.compose._column_transformer.make_column_selector object at 0x132833610&gt;)])),\n",
       "                (&#x27;histgradientboostingregressor&#x27;,\n",
       "                 HistGradientBoostingRegressor(random_state=42))])</pre><b>In a Jupyter environment, please rerun this cell to show the HTML representation or trust the notebook. <br />On GitHub, the HTML representation is unable to render, please try loading this page with nbviewer.org.</b></div><div class=\"sk-container\" hidden><div class=\"sk-item sk-dashed-wrapped\"><div class=\"sk-label-container\"><div class=\"sk-label sk-toggleable\"><input class=\"sk-toggleable__control sk-hidden--visually\" id=\"sk-estimator-id-8\" type=\"checkbox\" ><label for=\"sk-estimator-id-8\" class=\"sk-toggleable__label sk-toggleable__label-arrow\">Pipeline</label><div class=\"sk-toggleable__content\"><pre>Pipeline(steps=[(&#x27;columntransformer&#x27;,\n",
       "                 ColumnTransformer(remainder=&#x27;passthrough&#x27;,\n",
       "                                   transformers=[(&#x27;drop&#x27;, &#x27;drop&#x27;,\n",
       "                                                  &lt;sklearn.compose._column_transformer.make_column_selector object at 0x132833610&gt;)])),\n",
       "                (&#x27;histgradientboostingregressor&#x27;,\n",
       "                 HistGradientBoostingRegressor(random_state=42))])</pre></div></div></div><div class=\"sk-serial\"><div class=\"sk-item sk-dashed-wrapped\"><div class=\"sk-label-container\"><div class=\"sk-label sk-toggleable\"><input class=\"sk-toggleable__control sk-hidden--visually\" id=\"sk-estimator-id-9\" type=\"checkbox\" ><label for=\"sk-estimator-id-9\" class=\"sk-toggleable__label sk-toggleable__label-arrow\">columntransformer: ColumnTransformer</label><div class=\"sk-toggleable__content\"><pre>ColumnTransformer(remainder=&#x27;passthrough&#x27;,\n",
       "                  transformers=[(&#x27;drop&#x27;, &#x27;drop&#x27;,\n",
       "                                 &lt;sklearn.compose._column_transformer.make_column_selector object at 0x132833610&gt;)])</pre></div></div></div><div class=\"sk-parallel\"><div class=\"sk-parallel-item\"><div class=\"sk-item\"><div class=\"sk-label-container\"><div class=\"sk-label sk-toggleable\"><input class=\"sk-toggleable__control sk-hidden--visually\" id=\"sk-estimator-id-10\" type=\"checkbox\" ><label for=\"sk-estimator-id-10\" class=\"sk-toggleable__label sk-toggleable__label-arrow\">drop</label><div class=\"sk-toggleable__content\"><pre>&lt;sklearn.compose._column_transformer.make_column_selector object at 0x132833610&gt;</pre></div></div></div><div class=\"sk-serial\"><div class=\"sk-item\"><div class=\"sk-estimator sk-toggleable\"><input class=\"sk-toggleable__control sk-hidden--visually\" id=\"sk-estimator-id-11\" type=\"checkbox\" ><label for=\"sk-estimator-id-11\" class=\"sk-toggleable__label sk-toggleable__label-arrow\">drop</label><div class=\"sk-toggleable__content\"><pre>drop</pre></div></div></div></div></div></div><div class=\"sk-parallel-item\"><div class=\"sk-item\"><div class=\"sk-label-container\"><div class=\"sk-label sk-toggleable\"><input class=\"sk-toggleable__control sk-hidden--visually\" id=\"sk-estimator-id-12\" type=\"checkbox\" ><label for=\"sk-estimator-id-12\" class=\"sk-toggleable__label sk-toggleable__label-arrow\">remainder</label><div class=\"sk-toggleable__content\"><pre>[&#x27;X10&#x27;, &#x27;X11&#x27;, &#x27;X12&#x27;, &#x27;X13&#x27;, &#x27;X14&#x27;, &#x27;X15&#x27;, &#x27;X16&#x27;, &#x27;X17&#x27;, &#x27;X18&#x27;, &#x27;X19&#x27;, &#x27;X20&#x27;, &#x27;X21&#x27;, &#x27;X22&#x27;, &#x27;X23&#x27;, &#x27;X24&#x27;, &#x27;X26&#x27;, &#x27;X27&#x27;, &#x27;X28&#x27;, &#x27;X29&#x27;, &#x27;X30&#x27;, &#x27;X31&#x27;, &#x27;X32&#x27;, &#x27;X33&#x27;, &#x27;X34&#x27;, &#x27;X35&#x27;, &#x27;X36&#x27;, &#x27;X37&#x27;, &#x27;X38&#x27;, &#x27;X39&#x27;, &#x27;X40&#x27;, &#x27;X41&#x27;, &#x27;X42&#x27;, &#x27;X43&#x27;, &#x27;X44&#x27;, &#x27;X45&#x27;, &#x27;X46&#x27;, &#x27;X47&#x27;, &#x27;X48&#x27;, &#x27;X49&#x27;, &#x27;X50&#x27;, &#x27;X51&#x27;, &#x27;X52&#x27;, &#x27;X53&#x27;, &#x27;X54&#x27;, &#x27;X55&#x27;, &#x27;X56&#x27;, &#x27;X57&#x27;, &#x27;X58&#x27;, &#x27;X59&#x27;, &#x27;X60&#x27;, &#x27;X61&#x27;, &#x27;X62&#x27;, &#x27;X63&#x27;, &#x27;X64&#x27;, &#x27;X65&#x27;, &#x27;X66&#x27;, &#x27;X67&#x27;, &#x27;X68&#x27;, &#x27;X69&#x27;, &#x27;X70&#x27;, &#x27;X71&#x27;, &#x27;X73&#x27;, &#x27;X74&#x27;, &#x27;X75&#x27;, &#x27;X76&#x27;, &#x27;X77&#x27;, &#x27;X78&#x27;, &#x27;X79&#x27;, &#x27;X80&#x27;, &#x27;X81&#x27;, &#x27;X82&#x27;, &#x27;X83&#x27;, &#x27;X84&#x27;, &#x27;X85&#x27;, &#x27;X86&#x27;, &#x27;X87&#x27;, &#x27;X88&#x27;, &#x27;X89&#x27;, &#x27;X90&#x27;, &#x27;X91&#x27;, &#x27;X92&#x27;, &#x27;X93&#x27;, &#x27;X94&#x27;, &#x27;X95&#x27;, &#x27;X96&#x27;, &#x27;X97&#x27;, &#x27;X98&#x27;, &#x27;X99&#x27;, &#x27;X100&#x27;, &#x27;X101&#x27;, &#x27;X102&#x27;, &#x27;X103&#x27;, &#x27;X104&#x27;, &#x27;X105&#x27;, &#x27;X106&#x27;, &#x27;X107&#x27;, &#x27;X108&#x27;, &#x27;X109&#x27;, &#x27;X110&#x27;, &#x27;X111&#x27;, &#x27;X112&#x27;, &#x27;X113&#x27;, &#x27;X114&#x27;, &#x27;X115&#x27;, &#x27;X116&#x27;, &#x27;X117&#x27;, &#x27;X118&#x27;, &#x27;X119&#x27;, &#x27;X120&#x27;, &#x27;X122&#x27;, &#x27;X123&#x27;, &#x27;X124&#x27;, &#x27;X125&#x27;, &#x27;X126&#x27;, &#x27;X127&#x27;, &#x27;X128&#x27;, &#x27;X129&#x27;, &#x27;X130&#x27;, &#x27;X131&#x27;, &#x27;X132&#x27;, &#x27;X133&#x27;, &#x27;X134&#x27;, &#x27;X135&#x27;, &#x27;X136&#x27;, &#x27;X137&#x27;, &#x27;X138&#x27;, &#x27;X139&#x27;, &#x27;X140&#x27;, &#x27;X141&#x27;, &#x27;X142&#x27;, &#x27;X143&#x27;, &#x27;X144&#x27;, &#x27;X145&#x27;, &#x27;X146&#x27;, &#x27;X147&#x27;, &#x27;X148&#x27;, &#x27;X150&#x27;, &#x27;X151&#x27;, &#x27;X152&#x27;, &#x27;X153&#x27;, &#x27;X154&#x27;, &#x27;X155&#x27;, &#x27;X156&#x27;, &#x27;X157&#x27;, &#x27;X158&#x27;, &#x27;X159&#x27;, &#x27;X160&#x27;, &#x27;X161&#x27;, &#x27;X162&#x27;, &#x27;X163&#x27;, &#x27;X164&#x27;, &#x27;X165&#x27;, &#x27;X166&#x27;, &#x27;X167&#x27;, &#x27;X168&#x27;, &#x27;X169&#x27;, &#x27;X170&#x27;, &#x27;X171&#x27;, &#x27;X172&#x27;, &#x27;X173&#x27;, &#x27;X174&#x27;, &#x27;X175&#x27;, &#x27;X176&#x27;, &#x27;X177&#x27;, &#x27;X178&#x27;, &#x27;X179&#x27;, &#x27;X180&#x27;, &#x27;X181&#x27;, &#x27;X182&#x27;, &#x27;X183&#x27;, &#x27;X184&#x27;, &#x27;X185&#x27;, &#x27;X186&#x27;, &#x27;X187&#x27;, &#x27;X189&#x27;, &#x27;X190&#x27;, &#x27;X191&#x27;, &#x27;X192&#x27;, &#x27;X194&#x27;, &#x27;X195&#x27;, &#x27;X196&#x27;, &#x27;X197&#x27;, &#x27;X198&#x27;, &#x27;X199&#x27;, &#x27;X200&#x27;, &#x27;X201&#x27;, &#x27;X202&#x27;, &#x27;X203&#x27;, &#x27;X204&#x27;, &#x27;X205&#x27;, &#x27;X206&#x27;, &#x27;X207&#x27;, &#x27;X208&#x27;, &#x27;X209&#x27;, &#x27;X210&#x27;, &#x27;X211&#x27;, &#x27;X212&#x27;, &#x27;X213&#x27;, &#x27;X214&#x27;, &#x27;X215&#x27;, &#x27;X216&#x27;, &#x27;X217&#x27;, &#x27;X218&#x27;, &#x27;X219&#x27;, &#x27;X220&#x27;, &#x27;X221&#x27;, &#x27;X222&#x27;, &#x27;X223&#x27;, &#x27;X224&#x27;, &#x27;X225&#x27;, &#x27;X226&#x27;, &#x27;X227&#x27;, &#x27;X228&#x27;, &#x27;X229&#x27;, &#x27;X230&#x27;, &#x27;X231&#x27;, &#x27;X232&#x27;, &#x27;X233&#x27;, &#x27;X234&#x27;, &#x27;X235&#x27;, &#x27;X236&#x27;, &#x27;X237&#x27;, &#x27;X238&#x27;, &#x27;X239&#x27;, &#x27;X240&#x27;, &#x27;X241&#x27;, &#x27;X242&#x27;, &#x27;X243&#x27;, &#x27;X244&#x27;, &#x27;X245&#x27;, &#x27;X246&#x27;, &#x27;X247&#x27;, &#x27;X248&#x27;, &#x27;X249&#x27;, &#x27;X250&#x27;, &#x27;X251&#x27;, &#x27;X252&#x27;, &#x27;X253&#x27;, &#x27;X254&#x27;, &#x27;X255&#x27;, &#x27;X256&#x27;, &#x27;X257&#x27;, &#x27;X258&#x27;, &#x27;X259&#x27;, &#x27;X260&#x27;, &#x27;X261&#x27;, &#x27;X262&#x27;, &#x27;X263&#x27;, &#x27;X264&#x27;, &#x27;X265&#x27;, &#x27;X266&#x27;, &#x27;X267&#x27;, &#x27;X268&#x27;, &#x27;X269&#x27;, &#x27;X270&#x27;, &#x27;X271&#x27;, &#x27;X272&#x27;, &#x27;X273&#x27;, &#x27;X274&#x27;, &#x27;X275&#x27;, &#x27;X276&#x27;, &#x27;X277&#x27;, &#x27;X278&#x27;, &#x27;X279&#x27;, &#x27;X280&#x27;, &#x27;X281&#x27;, &#x27;X282&#x27;, &#x27;X283&#x27;, &#x27;X284&#x27;, &#x27;X285&#x27;, &#x27;X286&#x27;, &#x27;X287&#x27;, &#x27;X288&#x27;, &#x27;X289&#x27;, &#x27;X290&#x27;, &#x27;X291&#x27;, &#x27;X292&#x27;, &#x27;X293&#x27;, &#x27;X294&#x27;, &#x27;X295&#x27;, &#x27;X296&#x27;, &#x27;X297&#x27;, &#x27;X298&#x27;, &#x27;X299&#x27;, &#x27;X300&#x27;, &#x27;X301&#x27;, &#x27;X302&#x27;, &#x27;X304&#x27;, &#x27;X305&#x27;, &#x27;X306&#x27;, &#x27;X307&#x27;, &#x27;X308&#x27;, &#x27;X309&#x27;, &#x27;X310&#x27;, &#x27;X311&#x27;, &#x27;X312&#x27;, &#x27;X313&#x27;, &#x27;X314&#x27;, &#x27;X315&#x27;, &#x27;X316&#x27;, &#x27;X317&#x27;, &#x27;X318&#x27;, &#x27;X319&#x27;, &#x27;X320&#x27;, &#x27;X321&#x27;, &#x27;X322&#x27;, &#x27;X323&#x27;, &#x27;X324&#x27;, &#x27;X325&#x27;, &#x27;X326&#x27;, &#x27;X327&#x27;, &#x27;X328&#x27;, &#x27;X329&#x27;, &#x27;X330&#x27;, &#x27;X331&#x27;, &#x27;X332&#x27;, &#x27;X333&#x27;, &#x27;X334&#x27;, &#x27;X335&#x27;, &#x27;X336&#x27;, &#x27;X337&#x27;, &#x27;X338&#x27;, &#x27;X339&#x27;, &#x27;X340&#x27;, &#x27;X341&#x27;, &#x27;X342&#x27;, &#x27;X343&#x27;, &#x27;X344&#x27;, &#x27;X345&#x27;, &#x27;X346&#x27;, &#x27;X347&#x27;, &#x27;X348&#x27;, &#x27;X349&#x27;, &#x27;X350&#x27;, &#x27;X351&#x27;, &#x27;X352&#x27;, &#x27;X353&#x27;, &#x27;X354&#x27;, &#x27;X355&#x27;, &#x27;X356&#x27;, &#x27;X357&#x27;, &#x27;X358&#x27;, &#x27;X359&#x27;, &#x27;X360&#x27;, &#x27;X361&#x27;, &#x27;X362&#x27;, &#x27;X363&#x27;, &#x27;X364&#x27;, &#x27;X365&#x27;, &#x27;X366&#x27;, &#x27;X367&#x27;, &#x27;X368&#x27;, &#x27;X369&#x27;, &#x27;X370&#x27;, &#x27;X371&#x27;, &#x27;X372&#x27;, &#x27;X373&#x27;, &#x27;X374&#x27;, &#x27;X375&#x27;, &#x27;X376&#x27;, &#x27;X377&#x27;, &#x27;X378&#x27;, &#x27;X379&#x27;, &#x27;X380&#x27;, &#x27;X382&#x27;, &#x27;X383&#x27;, &#x27;X384&#x27;, &#x27;X385&#x27;]</pre></div></div></div><div class=\"sk-serial\"><div class=\"sk-item\"><div class=\"sk-estimator sk-toggleable\"><input class=\"sk-toggleable__control sk-hidden--visually\" id=\"sk-estimator-id-13\" type=\"checkbox\" ><label for=\"sk-estimator-id-13\" class=\"sk-toggleable__label sk-toggleable__label-arrow\">passthrough</label><div class=\"sk-toggleable__content\"><pre>passthrough</pre></div></div></div></div></div></div></div></div><div class=\"sk-item\"><div class=\"sk-estimator sk-toggleable\"><input class=\"sk-toggleable__control sk-hidden--visually\" id=\"sk-estimator-id-14\" type=\"checkbox\" ><label for=\"sk-estimator-id-14\" class=\"sk-toggleable__label sk-toggleable__label-arrow\">HistGradientBoostingRegressor</label><div class=\"sk-toggleable__content\"><pre>HistGradientBoostingRegressor(random_state=42)</pre></div></div></div></div></div></div></div>"
      ],
      "text/plain": [
       "Pipeline(steps=[('columntransformer',\n",
       "                 ColumnTransformer(remainder='passthrough',\n",
       "                                   transformers=[('drop', 'drop',\n",
       "                                                  <sklearn.compose._column_transformer.make_column_selector object at 0x132833610>)])),\n",
       "                ('histgradientboostingregressor',\n",
       "                 HistGradientBoostingRegressor(random_state=42))])"
      ]
     },
     "execution_count": 10,
     "metadata": {},
     "output_type": "execute_result"
    }
   ],
   "source": [
    "# fit & predict\n",
    "hist_dropped.fit(X_train, y_train)"
   ]
  },
  {
   "cell_type": "code",
   "execution_count": 11,
   "id": "889d6571",
   "metadata": {},
   "outputs": [
    {
     "data": {
      "text/plain": [
       "array(['remainder__X10', 'remainder__X11', 'remainder__X12',\n",
       "       'remainder__X13', 'remainder__X14', 'remainder__X15',\n",
       "       'remainder__X16', 'remainder__X17', 'remainder__X18',\n",
       "       'remainder__X19', 'remainder__X20', 'remainder__X21',\n",
       "       'remainder__X22', 'remainder__X23', 'remainder__X24',\n",
       "       'remainder__X26', 'remainder__X27', 'remainder__X28',\n",
       "       'remainder__X29', 'remainder__X30', 'remainder__X31',\n",
       "       'remainder__X32', 'remainder__X33', 'remainder__X34',\n",
       "       'remainder__X35', 'remainder__X36', 'remainder__X37',\n",
       "       'remainder__X38', 'remainder__X39', 'remainder__X40',\n",
       "       'remainder__X41', 'remainder__X42', 'remainder__X43',\n",
       "       'remainder__X44', 'remainder__X45', 'remainder__X46',\n",
       "       'remainder__X47', 'remainder__X48', 'remainder__X49',\n",
       "       'remainder__X50', 'remainder__X51', 'remainder__X52',\n",
       "       'remainder__X53', 'remainder__X54', 'remainder__X55',\n",
       "       'remainder__X56', 'remainder__X57', 'remainder__X58',\n",
       "       'remainder__X59', 'remainder__X60', 'remainder__X61',\n",
       "       'remainder__X62', 'remainder__X63', 'remainder__X64',\n",
       "       'remainder__X65', 'remainder__X66', 'remainder__X67',\n",
       "       'remainder__X68', 'remainder__X69', 'remainder__X70',\n",
       "       'remainder__X71', 'remainder__X73', 'remainder__X74',\n",
       "       'remainder__X75', 'remainder__X76', 'remainder__X77',\n",
       "       'remainder__X78', 'remainder__X79', 'remainder__X80',\n",
       "       'remainder__X81', 'remainder__X82', 'remainder__X83',\n",
       "       'remainder__X84', 'remainder__X85', 'remainder__X86',\n",
       "       'remainder__X87', 'remainder__X88', 'remainder__X89',\n",
       "       'remainder__X90', 'remainder__X91', 'remainder__X92',\n",
       "       'remainder__X93', 'remainder__X94', 'remainder__X95',\n",
       "       'remainder__X96', 'remainder__X97', 'remainder__X98',\n",
       "       'remainder__X99', 'remainder__X100', 'remainder__X101',\n",
       "       'remainder__X102', 'remainder__X103', 'remainder__X104',\n",
       "       'remainder__X105', 'remainder__X106', 'remainder__X107',\n",
       "       'remainder__X108', 'remainder__X109', 'remainder__X110',\n",
       "       'remainder__X111', 'remainder__X112', 'remainder__X113',\n",
       "       'remainder__X114', 'remainder__X115', 'remainder__X116',\n",
       "       'remainder__X117', 'remainder__X118', 'remainder__X119',\n",
       "       'remainder__X120', 'remainder__X122', 'remainder__X123',\n",
       "       'remainder__X124', 'remainder__X125', 'remainder__X126',\n",
       "       'remainder__X127', 'remainder__X128', 'remainder__X129',\n",
       "       'remainder__X130', 'remainder__X131', 'remainder__X132',\n",
       "       'remainder__X133', 'remainder__X134', 'remainder__X135',\n",
       "       'remainder__X136', 'remainder__X137', 'remainder__X138',\n",
       "       'remainder__X139', 'remainder__X140', 'remainder__X141',\n",
       "       'remainder__X142', 'remainder__X143', 'remainder__X144',\n",
       "       'remainder__X145', 'remainder__X146', 'remainder__X147',\n",
       "       'remainder__X148', 'remainder__X150', 'remainder__X151',\n",
       "       'remainder__X152', 'remainder__X153', 'remainder__X154',\n",
       "       'remainder__X155', 'remainder__X156', 'remainder__X157',\n",
       "       'remainder__X158', 'remainder__X159', 'remainder__X160',\n",
       "       'remainder__X161', 'remainder__X162', 'remainder__X163',\n",
       "       'remainder__X164', 'remainder__X165', 'remainder__X166',\n",
       "       'remainder__X167', 'remainder__X168', 'remainder__X169',\n",
       "       'remainder__X170', 'remainder__X171', 'remainder__X172',\n",
       "       'remainder__X173', 'remainder__X174', 'remainder__X175',\n",
       "       'remainder__X176', 'remainder__X177', 'remainder__X178',\n",
       "       'remainder__X179', 'remainder__X180', 'remainder__X181',\n",
       "       'remainder__X182', 'remainder__X183', 'remainder__X184',\n",
       "       'remainder__X185', 'remainder__X186', 'remainder__X187',\n",
       "       'remainder__X189', 'remainder__X190', 'remainder__X191',\n",
       "       'remainder__X192', 'remainder__X194', 'remainder__X195',\n",
       "       'remainder__X196', 'remainder__X197', 'remainder__X198',\n",
       "       'remainder__X199', 'remainder__X200', 'remainder__X201',\n",
       "       'remainder__X202', 'remainder__X203', 'remainder__X204',\n",
       "       'remainder__X205', 'remainder__X206', 'remainder__X207',\n",
       "       'remainder__X208', 'remainder__X209', 'remainder__X210',\n",
       "       'remainder__X211', 'remainder__X212', 'remainder__X213',\n",
       "       'remainder__X214', 'remainder__X215', 'remainder__X216',\n",
       "       'remainder__X217', 'remainder__X218', 'remainder__X219',\n",
       "       'remainder__X220', 'remainder__X221', 'remainder__X222',\n",
       "       'remainder__X223', 'remainder__X224', 'remainder__X225',\n",
       "       'remainder__X226', 'remainder__X227', 'remainder__X228',\n",
       "       'remainder__X229', 'remainder__X230', 'remainder__X231',\n",
       "       'remainder__X232', 'remainder__X233', 'remainder__X234',\n",
       "       'remainder__X235', 'remainder__X236', 'remainder__X237',\n",
       "       'remainder__X238', 'remainder__X239', 'remainder__X240',\n",
       "       'remainder__X241', 'remainder__X242', 'remainder__X243',\n",
       "       'remainder__X244', 'remainder__X245', 'remainder__X246',\n",
       "       'remainder__X247', 'remainder__X248', 'remainder__X249',\n",
       "       'remainder__X250', 'remainder__X251', 'remainder__X252',\n",
       "       'remainder__X253', 'remainder__X254', 'remainder__X255',\n",
       "       'remainder__X256', 'remainder__X257', 'remainder__X258',\n",
       "       'remainder__X259', 'remainder__X260', 'remainder__X261',\n",
       "       'remainder__X262', 'remainder__X263', 'remainder__X264',\n",
       "       'remainder__X265', 'remainder__X266', 'remainder__X267',\n",
       "       'remainder__X268', 'remainder__X269', 'remainder__X270',\n",
       "       'remainder__X271', 'remainder__X272', 'remainder__X273',\n",
       "       'remainder__X274', 'remainder__X275', 'remainder__X276',\n",
       "       'remainder__X277', 'remainder__X278', 'remainder__X279',\n",
       "       'remainder__X280', 'remainder__X281', 'remainder__X282',\n",
       "       'remainder__X283', 'remainder__X284', 'remainder__X285',\n",
       "       'remainder__X286', 'remainder__X287', 'remainder__X288',\n",
       "       'remainder__X289', 'remainder__X290', 'remainder__X291',\n",
       "       'remainder__X292', 'remainder__X293', 'remainder__X294',\n",
       "       'remainder__X295', 'remainder__X296', 'remainder__X297',\n",
       "       'remainder__X298', 'remainder__X299', 'remainder__X300',\n",
       "       'remainder__X301', 'remainder__X302', 'remainder__X304',\n",
       "       'remainder__X305', 'remainder__X306', 'remainder__X307',\n",
       "       'remainder__X308', 'remainder__X309', 'remainder__X310',\n",
       "       'remainder__X311', 'remainder__X312', 'remainder__X313',\n",
       "       'remainder__X314', 'remainder__X315', 'remainder__X316',\n",
       "       'remainder__X317', 'remainder__X318', 'remainder__X319',\n",
       "       'remainder__X320', 'remainder__X321', 'remainder__X322',\n",
       "       'remainder__X323', 'remainder__X324', 'remainder__X325',\n",
       "       'remainder__X326', 'remainder__X327', 'remainder__X328',\n",
       "       'remainder__X329', 'remainder__X330', 'remainder__X331',\n",
       "       'remainder__X332', 'remainder__X333', 'remainder__X334',\n",
       "       'remainder__X335', 'remainder__X336', 'remainder__X337',\n",
       "       'remainder__X338', 'remainder__X339', 'remainder__X340',\n",
       "       'remainder__X341', 'remainder__X342', 'remainder__X343',\n",
       "       'remainder__X344', 'remainder__X345', 'remainder__X346',\n",
       "       'remainder__X347', 'remainder__X348', 'remainder__X349',\n",
       "       'remainder__X350', 'remainder__X351', 'remainder__X352',\n",
       "       'remainder__X353', 'remainder__X354', 'remainder__X355',\n",
       "       'remainder__X356', 'remainder__X357', 'remainder__X358',\n",
       "       'remainder__X359', 'remainder__X360', 'remainder__X361',\n",
       "       'remainder__X362', 'remainder__X363', 'remainder__X364',\n",
       "       'remainder__X365', 'remainder__X366', 'remainder__X367',\n",
       "       'remainder__X368', 'remainder__X369', 'remainder__X370',\n",
       "       'remainder__X371', 'remainder__X372', 'remainder__X373',\n",
       "       'remainder__X374', 'remainder__X375', 'remainder__X376',\n",
       "       'remainder__X377', 'remainder__X378', 'remainder__X379',\n",
       "       'remainder__X380', 'remainder__X382', 'remainder__X383',\n",
       "       'remainder__X384', 'remainder__X385'], dtype=object)"
      ]
     },
     "execution_count": 11,
     "metadata": {},
     "output_type": "execute_result"
    }
   ],
   "source": [
    "dropper.get_feature_names_out()"
   ]
  },
  {
   "cell_type": "markdown",
   "id": "0c22bc99",
   "metadata": {},
   "source": [
    "https://scikit-learn.org/stable/modules/permutation_importance.html#permutation-importance"
   ]
  },
  {
   "cell_type": "code",
   "execution_count": 12,
   "id": "d5d34f14",
   "metadata": {},
   "outputs": [],
   "source": [
    "from sklearn.inspection import permutation_importance\n",
    "\n",
    "model = hist_dropped\n",
    "result = permutation_importance(model, X_train, y_train,\n",
    "                                n_repeats=3, random_state=0)"
   ]
  },
  {
   "cell_type": "code",
   "execution_count": 13,
   "id": "65423422",
   "metadata": {},
   "outputs": [],
   "source": [
    "feature_names = dropper.get_feature_names_out()"
   ]
  },
  {
   "cell_type": "code",
   "execution_count": 14,
   "id": "21fc1311",
   "metadata": {},
   "outputs": [],
   "source": [
    "# for i in result.importances_mean.argsort()[::-1]:\n",
    "#     if result.importances_mean[i] - 2 * result.importances_std[i] > 0:\n",
    "#         print(f\"{feature_names[i]:<8}\"\n",
    "#               f\"{result.importances_mean[i]:.3f}\"\n",
    "#               f\" +/- {result.importances_std[i]:.3f}\")"
   ]
  },
  {
   "cell_type": "code",
   "execution_count": 15,
   "id": "a27d249a",
   "metadata": {},
   "outputs": [
    {
     "data": {
      "text/plain": [
       "0.574719060141833"
      ]
     },
     "execution_count": 15,
     "metadata": {},
     "output_type": "execute_result"
    }
   ],
   "source": [
    "hgbr_score = hist_dropped.score(X_valid, y_valid)\n",
    "hgbr_score"
   ]
  },
  {
   "cell_type": "code",
   "execution_count": 16,
   "id": "250c4493",
   "metadata": {},
   "outputs": [
    {
     "data": {
      "text/plain": [
       "array([ 77.95152062,  92.91676481,  77.2406661 ,  75.75973602,\n",
       "       112.03576608])"
      ]
     },
     "execution_count": 16,
     "metadata": {},
     "output_type": "execute_result"
    }
   ],
   "source": [
    "y_pred_hgbr = hist_dropped.predict(test)\n",
    "y_pred_hgbr[:5]"
   ]
  },
  {
   "cell_type": "code",
   "execution_count": 17,
   "id": "5e2934ef",
   "metadata": {},
   "outputs": [],
   "source": [
    "submission[\"y\"] = y_pred_hgbr"
   ]
  },
  {
   "cell_type": "markdown",
   "id": "93c9622d",
   "metadata": {},
   "source": [
    "https://www.kaggle.com/competitions/mercedes-benz-greener-manufacturing/submissions"
   ]
  },
  {
   "cell_type": "code",
   "execution_count": 18,
   "id": "79822552",
   "metadata": {
    "scrolled": true
   },
   "outputs": [
    {
     "data": {
      "text/plain": [
       "'submit_hgbr_category_0.57472.csv'"
      ]
     },
     "execution_count": 18,
     "metadata": {},
     "output_type": "execute_result"
    }
   ],
   "source": [
    "file_name = f\"submit_hgbr_category_{hgbr_score:.5f}.csv\"\n",
    "file_name"
   ]
  },
  {
   "cell_type": "code",
   "execution_count": 19,
   "id": "dbd1510a",
   "metadata": {},
   "outputs": [
    {
     "data": {
      "text/html": [
       "<div>\n",
       "<style scoped>\n",
       "    .dataframe tbody tr th:only-of-type {\n",
       "        vertical-align: middle;\n",
       "    }\n",
       "\n",
       "    .dataframe tbody tr th {\n",
       "        vertical-align: top;\n",
       "    }\n",
       "\n",
       "    .dataframe thead th {\n",
       "        text-align: right;\n",
       "    }\n",
       "</style>\n",
       "<table border=\"1\" class=\"dataframe\">\n",
       "  <thead>\n",
       "    <tr style=\"text-align: right;\">\n",
       "      <th></th>\n",
       "      <th>ID</th>\n",
       "      <th>y</th>\n",
       "    </tr>\n",
       "  </thead>\n",
       "  <tbody>\n",
       "    <tr>\n",
       "      <th>0</th>\n",
       "      <td>1</td>\n",
       "      <td>77.951521</td>\n",
       "    </tr>\n",
       "    <tr>\n",
       "      <th>1</th>\n",
       "      <td>2</td>\n",
       "      <td>92.916765</td>\n",
       "    </tr>\n",
       "  </tbody>\n",
       "</table>\n",
       "</div>"
      ],
      "text/plain": [
       "   ID          y\n",
       "0   1  77.951521\n",
       "1   2  92.916765"
      ]
     },
     "execution_count": 19,
     "metadata": {},
     "output_type": "execute_result"
    }
   ],
   "source": [
    "submission.to_csv(file_name)\n",
    "pd.read_csv(file_name).head(2)"
   ]
  },
  {
   "cell_type": "code",
   "execution_count": null,
   "id": "a4b857c1",
   "metadata": {},
   "outputs": [],
   "source": []
  },
  {
   "cell_type": "code",
   "execution_count": null,
   "id": "bd0aca17",
   "metadata": {},
   "outputs": [],
   "source": []
  }
 ],
 "metadata": {
  "kernelspec": {
   "display_name": "Python 3 (ipykernel)",
   "language": "python",
   "name": "python3"
  },
  "language_info": {
   "codemirror_mode": {
    "name": "ipython",
    "version": 3
   },
   "file_extension": ".py",
   "mimetype": "text/x-python",
   "name": "python",
   "nbconvert_exporter": "python",
   "pygments_lexer": "ipython3",
   "version": "3.10.7"
  },
  "toc": {
   "base_numbering": 1,
   "nav_menu": {},
   "number_sections": true,
   "sideBar": true,
   "skip_h1_title": false,
   "title_cell": "Table of Contents",
   "title_sidebar": "Contents",
   "toc_cell": false,
   "toc_position": {},
   "toc_section_display": true,
   "toc_window_display": false
  },
  "varInspector": {
   "cols": {
    "lenName": 16,
    "lenType": 16,
    "lenVar": 40
   },
   "kernels_config": {
    "python": {
     "delete_cmd_postfix": "",
     "delete_cmd_prefix": "del ",
     "library": "var_list.py",
     "varRefreshCmd": "print(var_dic_list())"
    },
    "r": {
     "delete_cmd_postfix": ") ",
     "delete_cmd_prefix": "rm(",
     "library": "var_list.r",
     "varRefreshCmd": "cat(var_dic_list()) "
    }
   },
   "types_to_exclude": [
    "module",
    "function",
    "builtin_function_or_method",
    "instance",
    "_Feature"
   ],
   "window_display": false
  }
 },
 "nbformat": 4,
 "nbformat_minor": 5
}
