{
 "cells": [
  {
   "cell_type": "code",
   "execution_count": 1,
   "id": "32f0b8f9",
   "metadata": {},
   "outputs": [],
   "source": [
    "import numpy as np\n",
    "import pandas as pd\n",
    "import matplotlib.pyplot as plt\n",
    "import seaborn as sns\n",
    "import os"
   ]
  },
  {
   "cell_type": "code",
   "execution_count": 2,
   "id": "dea3017e",
   "metadata": {},
   "outputs": [],
   "source": [
    "base_path = \"data\"\n",
    "train = pd.read_csv(f'{base_path}/train.csv.zip', index_col=\"ID\")\n",
    "test = pd.read_csv(f'{base_path}/test.csv.zip', index_col=\"ID\")\n",
    "submission = pd.read_csv(f'{base_path}/sample_submission.csv.zip', index_col=\"ID\")"
   ]
  },
  {
   "cell_type": "code",
   "execution_count": 3,
   "id": "37d288f8",
   "metadata": {},
   "outputs": [],
   "source": [
    "cat_col = train.select_dtypes(include=\"object\").columns\n",
    "train[cat_col] = train[cat_col].astype(\"category\")\n",
    "test[cat_col] = test[cat_col].astype(\"category\")"
   ]
  },
  {
   "cell_type": "code",
   "execution_count": 4,
   "id": "06882e2e",
   "metadata": {},
   "outputs": [
    {
     "name": "stdout",
     "output_type": "stream",
     "text": [
      "<class 'pandas.core.frame.DataFrame'>\n",
      "Int64Index: 4209 entries, 0 to 8417\n",
      "Columns: 377 entries, y to X385\n",
      "dtypes: category(8), float64(1), int64(368)\n",
      "memory usage: 11.9 MB\n"
     ]
    }
   ],
   "source": [
    "train.info()"
   ]
  },
  {
   "cell_type": "code",
   "execution_count": 5,
   "id": "ec33866a",
   "metadata": {},
   "outputs": [
    {
     "name": "stdout",
     "output_type": "stream",
     "text": [
      "<class 'pandas.core.frame.DataFrame'>\n",
      "Int64Index: 4209 entries, 1 to 8416\n",
      "Columns: 376 entries, X0 to X385\n",
      "dtypes: category(8), int64(368)\n",
      "memory usage: 11.9 MB\n"
     ]
    }
   ],
   "source": [
    "test.info()"
   ]
  },
  {
   "cell_type": "code",
   "execution_count": 6,
   "id": "f5095f0c",
   "metadata": {},
   "outputs": [
    {
     "data": {
      "text/plain": [
       "((4209, 376), (4209,))"
      ]
     },
     "execution_count": 6,
     "metadata": {},
     "output_type": "execute_result"
    }
   ],
   "source": [
    "X, y = train.drop(columns=\"y\"), train[\"y\"]\n",
    "X.shape, y.shape"
   ]
  },
  {
   "cell_type": "code",
   "execution_count": 7,
   "id": "bd4328c9",
   "metadata": {},
   "outputs": [],
   "source": [
    "from sklearn.model_selection import train_test_split\n",
    "\n",
    "X_train, X_valid, y_train, y_valid = train_test_split(\n",
    "    X, y, test_size=0.1, random_state=42)"
   ]
  },
  {
   "cell_type": "markdown",
   "id": "6a2858b0",
   "metadata": {},
   "source": [
    "* https://scikit-learn.org/stable/modules/generated/sklearn.ensemble.HistGradientBoostingRegressor.html\n",
    "* https://scikit-learn.org/stable/modules/ensemble.html#histogram-based-gradient-boosting\n",
    "* https://scikit-learn.org/stable/auto_examples/ensemble/plot_gradient_boosting_categorical.html"
   ]
  },
  {
   "cell_type": "code",
   "execution_count": 8,
   "id": "57ff6a86",
   "metadata": {},
   "outputs": [
    {
     "data": {
      "text/html": [
       "<style>#sk-container-id-1 {color: black;background-color: white;}#sk-container-id-1 pre{padding: 0;}#sk-container-id-1 div.sk-toggleable {background-color: white;}#sk-container-id-1 label.sk-toggleable__label {cursor: pointer;display: block;width: 100%;margin-bottom: 0;padding: 0.3em;box-sizing: border-box;text-align: center;}#sk-container-id-1 label.sk-toggleable__label-arrow:before {content: \"▸\";float: left;margin-right: 0.25em;color: #696969;}#sk-container-id-1 label.sk-toggleable__label-arrow:hover:before {color: black;}#sk-container-id-1 div.sk-estimator:hover label.sk-toggleable__label-arrow:before {color: black;}#sk-container-id-1 div.sk-toggleable__content {max-height: 0;max-width: 0;overflow: hidden;text-align: left;background-color: #f0f8ff;}#sk-container-id-1 div.sk-toggleable__content pre {margin: 0.2em;color: black;border-radius: 0.25em;background-color: #f0f8ff;}#sk-container-id-1 input.sk-toggleable__control:checked~div.sk-toggleable__content {max-height: 200px;max-width: 100%;overflow: auto;}#sk-container-id-1 input.sk-toggleable__control:checked~label.sk-toggleable__label-arrow:before {content: \"▾\";}#sk-container-id-1 div.sk-estimator input.sk-toggleable__control:checked~label.sk-toggleable__label {background-color: #d4ebff;}#sk-container-id-1 div.sk-label input.sk-toggleable__control:checked~label.sk-toggleable__label {background-color: #d4ebff;}#sk-container-id-1 input.sk-hidden--visually {border: 0;clip: rect(1px 1px 1px 1px);clip: rect(1px, 1px, 1px, 1px);height: 1px;margin: -1px;overflow: hidden;padding: 0;position: absolute;width: 1px;}#sk-container-id-1 div.sk-estimator {font-family: monospace;background-color: #f0f8ff;border: 1px dotted black;border-radius: 0.25em;box-sizing: border-box;margin-bottom: 0.5em;}#sk-container-id-1 div.sk-estimator:hover {background-color: #d4ebff;}#sk-container-id-1 div.sk-parallel-item::after {content: \"\";width: 100%;border-bottom: 1px solid gray;flex-grow: 1;}#sk-container-id-1 div.sk-label:hover label.sk-toggleable__label {background-color: #d4ebff;}#sk-container-id-1 div.sk-serial::before {content: \"\";position: absolute;border-left: 1px solid gray;box-sizing: border-box;top: 0;bottom: 0;left: 50%;z-index: 0;}#sk-container-id-1 div.sk-serial {display: flex;flex-direction: column;align-items: center;background-color: white;padding-right: 0.2em;padding-left: 0.2em;position: relative;}#sk-container-id-1 div.sk-item {position: relative;z-index: 1;}#sk-container-id-1 div.sk-parallel {display: flex;align-items: stretch;justify-content: center;background-color: white;position: relative;}#sk-container-id-1 div.sk-item::before, #sk-container-id-1 div.sk-parallel-item::before {content: \"\";position: absolute;border-left: 1px solid gray;box-sizing: border-box;top: 0;bottom: 0;left: 50%;z-index: -1;}#sk-container-id-1 div.sk-parallel-item {display: flex;flex-direction: column;z-index: 1;position: relative;background-color: white;}#sk-container-id-1 div.sk-parallel-item:first-child::after {align-self: flex-end;width: 50%;}#sk-container-id-1 div.sk-parallel-item:last-child::after {align-self: flex-start;width: 50%;}#sk-container-id-1 div.sk-parallel-item:only-child::after {width: 0;}#sk-container-id-1 div.sk-dashed-wrapped {border: 1px dashed gray;margin: 0 0.4em 0.5em 0.4em;box-sizing: border-box;padding-bottom: 0.4em;background-color: white;}#sk-container-id-1 div.sk-label label {font-family: monospace;font-weight: bold;display: inline-block;line-height: 1.2em;}#sk-container-id-1 div.sk-label-container {text-align: center;}#sk-container-id-1 div.sk-container {/* jupyter's `normalize.less` sets `[hidden] { display: none; }` but bootstrap.min.css set `[hidden] { display: none !important; }` so we also need the `!important` here to be able to override the default hidden behavior on the sphinx rendered scikit-learn.org. See: https://github.com/scikit-learn/scikit-learn/issues/21755 */display: inline-block !important;position: relative;}#sk-container-id-1 div.sk-text-repr-fallback {display: none;}</style><div id=\"sk-container-id-1\" class=\"sk-top-container\"><div class=\"sk-text-repr-fallback\"><pre>Pipeline(steps=[(&#x27;columntransformer&#x27;,\n",
       "                 ColumnTransformer(remainder=&#x27;passthrough&#x27;,\n",
       "                                   transformers=[(&#x27;drop&#x27;, &#x27;drop&#x27;,\n",
       "                                                  &lt;sklearn.compose._column_transformer.make_column_selector object at 0x127292050&gt;)])),\n",
       "                (&#x27;histgradientboostingregressor&#x27;,\n",
       "                 HistGradientBoostingRegressor(random_state=42))])</pre><b>In a Jupyter environment, please rerun this cell to show the HTML representation or trust the notebook. <br />On GitHub, the HTML representation is unable to render, please try loading this page with nbviewer.org.</b></div><div class=\"sk-container\" hidden><div class=\"sk-item sk-dashed-wrapped\"><div class=\"sk-label-container\"><div class=\"sk-label sk-toggleable\"><input class=\"sk-toggleable__control sk-hidden--visually\" id=\"sk-estimator-id-1\" type=\"checkbox\" ><label for=\"sk-estimator-id-1\" class=\"sk-toggleable__label sk-toggleable__label-arrow\">Pipeline</label><div class=\"sk-toggleable__content\"><pre>Pipeline(steps=[(&#x27;columntransformer&#x27;,\n",
       "                 ColumnTransformer(remainder=&#x27;passthrough&#x27;,\n",
       "                                   transformers=[(&#x27;drop&#x27;, &#x27;drop&#x27;,\n",
       "                                                  &lt;sklearn.compose._column_transformer.make_column_selector object at 0x127292050&gt;)])),\n",
       "                (&#x27;histgradientboostingregressor&#x27;,\n",
       "                 HistGradientBoostingRegressor(random_state=42))])</pre></div></div></div><div class=\"sk-serial\"><div class=\"sk-item sk-dashed-wrapped\"><div class=\"sk-label-container\"><div class=\"sk-label sk-toggleable\"><input class=\"sk-toggleable__control sk-hidden--visually\" id=\"sk-estimator-id-2\" type=\"checkbox\" ><label for=\"sk-estimator-id-2\" class=\"sk-toggleable__label sk-toggleable__label-arrow\">columntransformer: ColumnTransformer</label><div class=\"sk-toggleable__content\"><pre>ColumnTransformer(remainder=&#x27;passthrough&#x27;,\n",
       "                  transformers=[(&#x27;drop&#x27;, &#x27;drop&#x27;,\n",
       "                                 &lt;sklearn.compose._column_transformer.make_column_selector object at 0x127292050&gt;)])</pre></div></div></div><div class=\"sk-parallel\"><div class=\"sk-parallel-item\"><div class=\"sk-item\"><div class=\"sk-label-container\"><div class=\"sk-label sk-toggleable\"><input class=\"sk-toggleable__control sk-hidden--visually\" id=\"sk-estimator-id-3\" type=\"checkbox\" ><label for=\"sk-estimator-id-3\" class=\"sk-toggleable__label sk-toggleable__label-arrow\">drop</label><div class=\"sk-toggleable__content\"><pre>&lt;sklearn.compose._column_transformer.make_column_selector object at 0x127292050&gt;</pre></div></div></div><div class=\"sk-serial\"><div class=\"sk-item\"><div class=\"sk-estimator sk-toggleable\"><input class=\"sk-toggleable__control sk-hidden--visually\" id=\"sk-estimator-id-4\" type=\"checkbox\" ><label for=\"sk-estimator-id-4\" class=\"sk-toggleable__label sk-toggleable__label-arrow\">drop</label><div class=\"sk-toggleable__content\"><pre>drop</pre></div></div></div></div></div></div><div class=\"sk-parallel-item\"><div class=\"sk-item\"><div class=\"sk-label-container\"><div class=\"sk-label sk-toggleable\"><input class=\"sk-toggleable__control sk-hidden--visually\" id=\"sk-estimator-id-5\" type=\"checkbox\" ><label for=\"sk-estimator-id-5\" class=\"sk-toggleable__label sk-toggleable__label-arrow\">remainder</label><div class=\"sk-toggleable__content\"><pre></pre></div></div></div><div class=\"sk-serial\"><div class=\"sk-item\"><div class=\"sk-estimator sk-toggleable\"><input class=\"sk-toggleable__control sk-hidden--visually\" id=\"sk-estimator-id-6\" type=\"checkbox\" ><label for=\"sk-estimator-id-6\" class=\"sk-toggleable__label sk-toggleable__label-arrow\">passthrough</label><div class=\"sk-toggleable__content\"><pre>passthrough</pre></div></div></div></div></div></div></div></div><div class=\"sk-item\"><div class=\"sk-estimator sk-toggleable\"><input class=\"sk-toggleable__control sk-hidden--visually\" id=\"sk-estimator-id-7\" type=\"checkbox\" ><label for=\"sk-estimator-id-7\" class=\"sk-toggleable__label sk-toggleable__label-arrow\">HistGradientBoostingRegressor</label><div class=\"sk-toggleable__content\"><pre>HistGradientBoostingRegressor(random_state=42)</pre></div></div></div></div></div></div></div>"
      ],
      "text/plain": [
       "Pipeline(steps=[('columntransformer',\n",
       "                 ColumnTransformer(remainder='passthrough',\n",
       "                                   transformers=[('drop', 'drop',\n",
       "                                                  <sklearn.compose._column_transformer.make_column_selector object at 0x127292050>)])),\n",
       "                ('histgradientboostingregressor',\n",
       "                 HistGradientBoostingRegressor(random_state=42))])"
      ]
     },
     "execution_count": 8,
     "metadata": {},
     "output_type": "execute_result"
    }
   ],
   "source": [
    "from sklearn.ensemble import HistGradientBoostingRegressor\n",
    "from sklearn.pipeline import make_pipeline\n",
    "from sklearn.compose import make_column_transformer\n",
    "from sklearn.compose import make_column_selector\n",
    "\n",
    "dropper = make_column_transformer(\n",
    "    (\"drop\", make_column_selector(dtype_include=\"category\")), remainder=\"passthrough\"\n",
    ")\n",
    "hist_dropped = make_pipeline(dropper, HistGradientBoostingRegressor(random_state=42))\n",
    "hist_dropped"
   ]
  },
  {
   "cell_type": "code",
   "execution_count": 9,
   "id": "861a7b49",
   "metadata": {},
   "outputs": [
    {
     "data": {
      "text/plain": [
       "{'fit_time': array([1.90482211, 1.80982304, 1.5913527 ]),\n",
       " 'score_time': array([0.00770378, 0.007725  , 0.00758815]),\n",
       " 'test_score': array([-0.05001658, -0.05351378, -0.05726412])}"
      ]
     },
     "execution_count": 9,
     "metadata": {},
     "output_type": "execute_result"
    }
   ],
   "source": [
    "from sklearn.model_selection import cross_validate\n",
    "\n",
    "scoring = \"neg_mean_absolute_percentage_error\"\n",
    "n_cv_folds = 3\n",
    "\n",
    "dropped_result = cross_validate(hist_dropped, X, y, cv=n_cv_folds, scoring=scoring)\n",
    "dropped_result"
   ]
  },
  {
   "cell_type": "code",
   "execution_count": 10,
   "id": "8fdf9bb0",
   "metadata": {},
   "outputs": [
    {
     "data": {
      "text/html": [
       "<style>#sk-container-id-2 {color: black;background-color: white;}#sk-container-id-2 pre{padding: 0;}#sk-container-id-2 div.sk-toggleable {background-color: white;}#sk-container-id-2 label.sk-toggleable__label {cursor: pointer;display: block;width: 100%;margin-bottom: 0;padding: 0.3em;box-sizing: border-box;text-align: center;}#sk-container-id-2 label.sk-toggleable__label-arrow:before {content: \"▸\";float: left;margin-right: 0.25em;color: #696969;}#sk-container-id-2 label.sk-toggleable__label-arrow:hover:before {color: black;}#sk-container-id-2 div.sk-estimator:hover label.sk-toggleable__label-arrow:before {color: black;}#sk-container-id-2 div.sk-toggleable__content {max-height: 0;max-width: 0;overflow: hidden;text-align: left;background-color: #f0f8ff;}#sk-container-id-2 div.sk-toggleable__content pre {margin: 0.2em;color: black;border-radius: 0.25em;background-color: #f0f8ff;}#sk-container-id-2 input.sk-toggleable__control:checked~div.sk-toggleable__content {max-height: 200px;max-width: 100%;overflow: auto;}#sk-container-id-2 input.sk-toggleable__control:checked~label.sk-toggleable__label-arrow:before {content: \"▾\";}#sk-container-id-2 div.sk-estimator input.sk-toggleable__control:checked~label.sk-toggleable__label {background-color: #d4ebff;}#sk-container-id-2 div.sk-label input.sk-toggleable__control:checked~label.sk-toggleable__label {background-color: #d4ebff;}#sk-container-id-2 input.sk-hidden--visually {border: 0;clip: rect(1px 1px 1px 1px);clip: rect(1px, 1px, 1px, 1px);height: 1px;margin: -1px;overflow: hidden;padding: 0;position: absolute;width: 1px;}#sk-container-id-2 div.sk-estimator {font-family: monospace;background-color: #f0f8ff;border: 1px dotted black;border-radius: 0.25em;box-sizing: border-box;margin-bottom: 0.5em;}#sk-container-id-2 div.sk-estimator:hover {background-color: #d4ebff;}#sk-container-id-2 div.sk-parallel-item::after {content: \"\";width: 100%;border-bottom: 1px solid gray;flex-grow: 1;}#sk-container-id-2 div.sk-label:hover label.sk-toggleable__label {background-color: #d4ebff;}#sk-container-id-2 div.sk-serial::before {content: \"\";position: absolute;border-left: 1px solid gray;box-sizing: border-box;top: 0;bottom: 0;left: 50%;z-index: 0;}#sk-container-id-2 div.sk-serial {display: flex;flex-direction: column;align-items: center;background-color: white;padding-right: 0.2em;padding-left: 0.2em;position: relative;}#sk-container-id-2 div.sk-item {position: relative;z-index: 1;}#sk-container-id-2 div.sk-parallel {display: flex;align-items: stretch;justify-content: center;background-color: white;position: relative;}#sk-container-id-2 div.sk-item::before, #sk-container-id-2 div.sk-parallel-item::before {content: \"\";position: absolute;border-left: 1px solid gray;box-sizing: border-box;top: 0;bottom: 0;left: 50%;z-index: -1;}#sk-container-id-2 div.sk-parallel-item {display: flex;flex-direction: column;z-index: 1;position: relative;background-color: white;}#sk-container-id-2 div.sk-parallel-item:first-child::after {align-self: flex-end;width: 50%;}#sk-container-id-2 div.sk-parallel-item:last-child::after {align-self: flex-start;width: 50%;}#sk-container-id-2 div.sk-parallel-item:only-child::after {width: 0;}#sk-container-id-2 div.sk-dashed-wrapped {border: 1px dashed gray;margin: 0 0.4em 0.5em 0.4em;box-sizing: border-box;padding-bottom: 0.4em;background-color: white;}#sk-container-id-2 div.sk-label label {font-family: monospace;font-weight: bold;display: inline-block;line-height: 1.2em;}#sk-container-id-2 div.sk-label-container {text-align: center;}#sk-container-id-2 div.sk-container {/* jupyter's `normalize.less` sets `[hidden] { display: none; }` but bootstrap.min.css set `[hidden] { display: none !important; }` so we also need the `!important` here to be able to override the default hidden behavior on the sphinx rendered scikit-learn.org. See: https://github.com/scikit-learn/scikit-learn/issues/21755 */display: inline-block !important;position: relative;}#sk-container-id-2 div.sk-text-repr-fallback {display: none;}</style><div id=\"sk-container-id-2\" class=\"sk-top-container\"><div class=\"sk-text-repr-fallback\"><pre>Pipeline(steps=[(&#x27;columntransformer&#x27;,\n",
       "                 ColumnTransformer(remainder=&#x27;passthrough&#x27;,\n",
       "                                   transformers=[(&#x27;drop&#x27;, &#x27;drop&#x27;,\n",
       "                                                  &lt;sklearn.compose._column_transformer.make_column_selector object at 0x127292050&gt;)])),\n",
       "                (&#x27;histgradientboostingregressor&#x27;,\n",
       "                 HistGradientBoostingRegressor(random_state=42))])</pre><b>In a Jupyter environment, please rerun this cell to show the HTML representation or trust the notebook. <br />On GitHub, the HTML representation is unable to render, please try loading this page with nbviewer.org.</b></div><div class=\"sk-container\" hidden><div class=\"sk-item sk-dashed-wrapped\"><div class=\"sk-label-container\"><div class=\"sk-label sk-toggleable\"><input class=\"sk-toggleable__control sk-hidden--visually\" id=\"sk-estimator-id-8\" type=\"checkbox\" ><label for=\"sk-estimator-id-8\" class=\"sk-toggleable__label sk-toggleable__label-arrow\">Pipeline</label><div class=\"sk-toggleable__content\"><pre>Pipeline(steps=[(&#x27;columntransformer&#x27;,\n",
       "                 ColumnTransformer(remainder=&#x27;passthrough&#x27;,\n",
       "                                   transformers=[(&#x27;drop&#x27;, &#x27;drop&#x27;,\n",
       "                                                  &lt;sklearn.compose._column_transformer.make_column_selector object at 0x127292050&gt;)])),\n",
       "                (&#x27;histgradientboostingregressor&#x27;,\n",
       "                 HistGradientBoostingRegressor(random_state=42))])</pre></div></div></div><div class=\"sk-serial\"><div class=\"sk-item sk-dashed-wrapped\"><div class=\"sk-label-container\"><div class=\"sk-label sk-toggleable\"><input class=\"sk-toggleable__control sk-hidden--visually\" id=\"sk-estimator-id-9\" type=\"checkbox\" ><label for=\"sk-estimator-id-9\" class=\"sk-toggleable__label sk-toggleable__label-arrow\">columntransformer: ColumnTransformer</label><div class=\"sk-toggleable__content\"><pre>ColumnTransformer(remainder=&#x27;passthrough&#x27;,\n",
       "                  transformers=[(&#x27;drop&#x27;, &#x27;drop&#x27;,\n",
       "                                 &lt;sklearn.compose._column_transformer.make_column_selector object at 0x127292050&gt;)])</pre></div></div></div><div class=\"sk-parallel\"><div class=\"sk-parallel-item\"><div class=\"sk-item\"><div class=\"sk-label-container\"><div class=\"sk-label sk-toggleable\"><input class=\"sk-toggleable__control sk-hidden--visually\" id=\"sk-estimator-id-10\" type=\"checkbox\" ><label for=\"sk-estimator-id-10\" class=\"sk-toggleable__label sk-toggleable__label-arrow\">drop</label><div class=\"sk-toggleable__content\"><pre>&lt;sklearn.compose._column_transformer.make_column_selector object at 0x127292050&gt;</pre></div></div></div><div class=\"sk-serial\"><div class=\"sk-item\"><div class=\"sk-estimator sk-toggleable\"><input class=\"sk-toggleable__control sk-hidden--visually\" id=\"sk-estimator-id-11\" type=\"checkbox\" ><label for=\"sk-estimator-id-11\" class=\"sk-toggleable__label sk-toggleable__label-arrow\">drop</label><div class=\"sk-toggleable__content\"><pre>drop</pre></div></div></div></div></div></div><div class=\"sk-parallel-item\"><div class=\"sk-item\"><div class=\"sk-label-container\"><div class=\"sk-label sk-toggleable\"><input class=\"sk-toggleable__control sk-hidden--visually\" id=\"sk-estimator-id-12\" type=\"checkbox\" ><label for=\"sk-estimator-id-12\" class=\"sk-toggleable__label sk-toggleable__label-arrow\">remainder</label><div class=\"sk-toggleable__content\"><pre>[&#x27;X10&#x27;, &#x27;X11&#x27;, &#x27;X12&#x27;, &#x27;X13&#x27;, &#x27;X14&#x27;, &#x27;X15&#x27;, &#x27;X16&#x27;, &#x27;X17&#x27;, &#x27;X18&#x27;, &#x27;X19&#x27;, &#x27;X20&#x27;, &#x27;X21&#x27;, &#x27;X22&#x27;, &#x27;X23&#x27;, &#x27;X24&#x27;, &#x27;X26&#x27;, &#x27;X27&#x27;, &#x27;X28&#x27;, &#x27;X29&#x27;, &#x27;X30&#x27;, &#x27;X31&#x27;, &#x27;X32&#x27;, &#x27;X33&#x27;, &#x27;X34&#x27;, &#x27;X35&#x27;, &#x27;X36&#x27;, &#x27;X37&#x27;, &#x27;X38&#x27;, &#x27;X39&#x27;, &#x27;X40&#x27;, &#x27;X41&#x27;, &#x27;X42&#x27;, &#x27;X43&#x27;, &#x27;X44&#x27;, &#x27;X45&#x27;, &#x27;X46&#x27;, &#x27;X47&#x27;, &#x27;X48&#x27;, &#x27;X49&#x27;, &#x27;X50&#x27;, &#x27;X51&#x27;, &#x27;X52&#x27;, &#x27;X53&#x27;, &#x27;X54&#x27;, &#x27;X55&#x27;, &#x27;X56&#x27;, &#x27;X57&#x27;, &#x27;X58&#x27;, &#x27;X59&#x27;, &#x27;X60&#x27;, &#x27;X61&#x27;, &#x27;X62&#x27;, &#x27;X63&#x27;, &#x27;X64&#x27;, &#x27;X65&#x27;, &#x27;X66&#x27;, &#x27;X67&#x27;, &#x27;X68&#x27;, &#x27;X69&#x27;, &#x27;X70&#x27;, &#x27;X71&#x27;, &#x27;X73&#x27;, &#x27;X74&#x27;, &#x27;X75&#x27;, &#x27;X76&#x27;, &#x27;X77&#x27;, &#x27;X78&#x27;, &#x27;X79&#x27;, &#x27;X80&#x27;, &#x27;X81&#x27;, &#x27;X82&#x27;, &#x27;X83&#x27;, &#x27;X84&#x27;, &#x27;X85&#x27;, &#x27;X86&#x27;, &#x27;X87&#x27;, &#x27;X88&#x27;, &#x27;X89&#x27;, &#x27;X90&#x27;, &#x27;X91&#x27;, &#x27;X92&#x27;, &#x27;X93&#x27;, &#x27;X94&#x27;, &#x27;X95&#x27;, &#x27;X96&#x27;, &#x27;X97&#x27;, &#x27;X98&#x27;, &#x27;X99&#x27;, &#x27;X100&#x27;, &#x27;X101&#x27;, &#x27;X102&#x27;, &#x27;X103&#x27;, &#x27;X104&#x27;, &#x27;X105&#x27;, &#x27;X106&#x27;, &#x27;X107&#x27;, &#x27;X108&#x27;, &#x27;X109&#x27;, &#x27;X110&#x27;, &#x27;X111&#x27;, &#x27;X112&#x27;, &#x27;X113&#x27;, &#x27;X114&#x27;, &#x27;X115&#x27;, &#x27;X116&#x27;, &#x27;X117&#x27;, &#x27;X118&#x27;, &#x27;X119&#x27;, &#x27;X120&#x27;, &#x27;X122&#x27;, &#x27;X123&#x27;, &#x27;X124&#x27;, &#x27;X125&#x27;, &#x27;X126&#x27;, &#x27;X127&#x27;, &#x27;X128&#x27;, &#x27;X129&#x27;, &#x27;X130&#x27;, &#x27;X131&#x27;, &#x27;X132&#x27;, &#x27;X133&#x27;, &#x27;X134&#x27;, &#x27;X135&#x27;, &#x27;X136&#x27;, &#x27;X137&#x27;, &#x27;X138&#x27;, &#x27;X139&#x27;, &#x27;X140&#x27;, &#x27;X141&#x27;, &#x27;X142&#x27;, &#x27;X143&#x27;, &#x27;X144&#x27;, &#x27;X145&#x27;, &#x27;X146&#x27;, &#x27;X147&#x27;, &#x27;X148&#x27;, &#x27;X150&#x27;, &#x27;X151&#x27;, &#x27;X152&#x27;, &#x27;X153&#x27;, &#x27;X154&#x27;, &#x27;X155&#x27;, &#x27;X156&#x27;, &#x27;X157&#x27;, &#x27;X158&#x27;, &#x27;X159&#x27;, &#x27;X160&#x27;, &#x27;X161&#x27;, &#x27;X162&#x27;, &#x27;X163&#x27;, &#x27;X164&#x27;, &#x27;X165&#x27;, &#x27;X166&#x27;, &#x27;X167&#x27;, &#x27;X168&#x27;, &#x27;X169&#x27;, &#x27;X170&#x27;, &#x27;X171&#x27;, &#x27;X172&#x27;, &#x27;X173&#x27;, &#x27;X174&#x27;, &#x27;X175&#x27;, &#x27;X176&#x27;, &#x27;X177&#x27;, &#x27;X178&#x27;, &#x27;X179&#x27;, &#x27;X180&#x27;, &#x27;X181&#x27;, &#x27;X182&#x27;, &#x27;X183&#x27;, &#x27;X184&#x27;, &#x27;X185&#x27;, &#x27;X186&#x27;, &#x27;X187&#x27;, &#x27;X189&#x27;, &#x27;X190&#x27;, &#x27;X191&#x27;, &#x27;X192&#x27;, &#x27;X194&#x27;, &#x27;X195&#x27;, &#x27;X196&#x27;, &#x27;X197&#x27;, &#x27;X198&#x27;, &#x27;X199&#x27;, &#x27;X200&#x27;, &#x27;X201&#x27;, &#x27;X202&#x27;, &#x27;X203&#x27;, &#x27;X204&#x27;, &#x27;X205&#x27;, &#x27;X206&#x27;, &#x27;X207&#x27;, &#x27;X208&#x27;, &#x27;X209&#x27;, &#x27;X210&#x27;, &#x27;X211&#x27;, &#x27;X212&#x27;, &#x27;X213&#x27;, &#x27;X214&#x27;, &#x27;X215&#x27;, &#x27;X216&#x27;, &#x27;X217&#x27;, &#x27;X218&#x27;, &#x27;X219&#x27;, &#x27;X220&#x27;, &#x27;X221&#x27;, &#x27;X222&#x27;, &#x27;X223&#x27;, &#x27;X224&#x27;, &#x27;X225&#x27;, &#x27;X226&#x27;, &#x27;X227&#x27;, &#x27;X228&#x27;, &#x27;X229&#x27;, &#x27;X230&#x27;, &#x27;X231&#x27;, &#x27;X232&#x27;, &#x27;X233&#x27;, &#x27;X234&#x27;, &#x27;X235&#x27;, &#x27;X236&#x27;, &#x27;X237&#x27;, &#x27;X238&#x27;, &#x27;X239&#x27;, &#x27;X240&#x27;, &#x27;X241&#x27;, &#x27;X242&#x27;, &#x27;X243&#x27;, &#x27;X244&#x27;, &#x27;X245&#x27;, &#x27;X246&#x27;, &#x27;X247&#x27;, &#x27;X248&#x27;, &#x27;X249&#x27;, &#x27;X250&#x27;, &#x27;X251&#x27;, &#x27;X252&#x27;, &#x27;X253&#x27;, &#x27;X254&#x27;, &#x27;X255&#x27;, &#x27;X256&#x27;, &#x27;X257&#x27;, &#x27;X258&#x27;, &#x27;X259&#x27;, &#x27;X260&#x27;, &#x27;X261&#x27;, &#x27;X262&#x27;, &#x27;X263&#x27;, &#x27;X264&#x27;, &#x27;X265&#x27;, &#x27;X266&#x27;, &#x27;X267&#x27;, &#x27;X268&#x27;, &#x27;X269&#x27;, &#x27;X270&#x27;, &#x27;X271&#x27;, &#x27;X272&#x27;, &#x27;X273&#x27;, &#x27;X274&#x27;, &#x27;X275&#x27;, &#x27;X276&#x27;, &#x27;X277&#x27;, &#x27;X278&#x27;, &#x27;X279&#x27;, &#x27;X280&#x27;, &#x27;X281&#x27;, &#x27;X282&#x27;, &#x27;X283&#x27;, &#x27;X284&#x27;, &#x27;X285&#x27;, &#x27;X286&#x27;, &#x27;X287&#x27;, &#x27;X288&#x27;, &#x27;X289&#x27;, &#x27;X290&#x27;, &#x27;X291&#x27;, &#x27;X292&#x27;, &#x27;X293&#x27;, &#x27;X294&#x27;, &#x27;X295&#x27;, &#x27;X296&#x27;, &#x27;X297&#x27;, &#x27;X298&#x27;, &#x27;X299&#x27;, &#x27;X300&#x27;, &#x27;X301&#x27;, &#x27;X302&#x27;, &#x27;X304&#x27;, &#x27;X305&#x27;, &#x27;X306&#x27;, &#x27;X307&#x27;, &#x27;X308&#x27;, &#x27;X309&#x27;, &#x27;X310&#x27;, &#x27;X311&#x27;, &#x27;X312&#x27;, &#x27;X313&#x27;, &#x27;X314&#x27;, &#x27;X315&#x27;, &#x27;X316&#x27;, &#x27;X317&#x27;, &#x27;X318&#x27;, &#x27;X319&#x27;, &#x27;X320&#x27;, &#x27;X321&#x27;, &#x27;X322&#x27;, &#x27;X323&#x27;, &#x27;X324&#x27;, &#x27;X325&#x27;, &#x27;X326&#x27;, &#x27;X327&#x27;, &#x27;X328&#x27;, &#x27;X329&#x27;, &#x27;X330&#x27;, &#x27;X331&#x27;, &#x27;X332&#x27;, &#x27;X333&#x27;, &#x27;X334&#x27;, &#x27;X335&#x27;, &#x27;X336&#x27;, &#x27;X337&#x27;, &#x27;X338&#x27;, &#x27;X339&#x27;, &#x27;X340&#x27;, &#x27;X341&#x27;, &#x27;X342&#x27;, &#x27;X343&#x27;, &#x27;X344&#x27;, &#x27;X345&#x27;, &#x27;X346&#x27;, &#x27;X347&#x27;, &#x27;X348&#x27;, &#x27;X349&#x27;, &#x27;X350&#x27;, &#x27;X351&#x27;, &#x27;X352&#x27;, &#x27;X353&#x27;, &#x27;X354&#x27;, &#x27;X355&#x27;, &#x27;X356&#x27;, &#x27;X357&#x27;, &#x27;X358&#x27;, &#x27;X359&#x27;, &#x27;X360&#x27;, &#x27;X361&#x27;, &#x27;X362&#x27;, &#x27;X363&#x27;, &#x27;X364&#x27;, &#x27;X365&#x27;, &#x27;X366&#x27;, &#x27;X367&#x27;, &#x27;X368&#x27;, &#x27;X369&#x27;, &#x27;X370&#x27;, &#x27;X371&#x27;, &#x27;X372&#x27;, &#x27;X373&#x27;, &#x27;X374&#x27;, &#x27;X375&#x27;, &#x27;X376&#x27;, &#x27;X377&#x27;, &#x27;X378&#x27;, &#x27;X379&#x27;, &#x27;X380&#x27;, &#x27;X382&#x27;, &#x27;X383&#x27;, &#x27;X384&#x27;, &#x27;X385&#x27;]</pre></div></div></div><div class=\"sk-serial\"><div class=\"sk-item\"><div class=\"sk-estimator sk-toggleable\"><input class=\"sk-toggleable__control sk-hidden--visually\" id=\"sk-estimator-id-13\" type=\"checkbox\" ><label for=\"sk-estimator-id-13\" class=\"sk-toggleable__label sk-toggleable__label-arrow\">passthrough</label><div class=\"sk-toggleable__content\"><pre>passthrough</pre></div></div></div></div></div></div></div></div><div class=\"sk-item\"><div class=\"sk-estimator sk-toggleable\"><input class=\"sk-toggleable__control sk-hidden--visually\" id=\"sk-estimator-id-14\" type=\"checkbox\" ><label for=\"sk-estimator-id-14\" class=\"sk-toggleable__label sk-toggleable__label-arrow\">HistGradientBoostingRegressor</label><div class=\"sk-toggleable__content\"><pre>HistGradientBoostingRegressor(random_state=42)</pre></div></div></div></div></div></div></div>"
      ],
      "text/plain": [
       "Pipeline(steps=[('columntransformer',\n",
       "                 ColumnTransformer(remainder='passthrough',\n",
       "                                   transformers=[('drop', 'drop',\n",
       "                                                  <sklearn.compose._column_transformer.make_column_selector object at 0x127292050>)])),\n",
       "                ('histgradientboostingregressor',\n",
       "                 HistGradientBoostingRegressor(random_state=42))])"
      ]
     },
     "execution_count": 10,
     "metadata": {},
     "output_type": "execute_result"
    }
   ],
   "source": [
    "# fit & predict\n",
    "hist_dropped.fit(X_train, y_train)"
   ]
  },
  {
   "cell_type": "markdown",
   "id": "0c22bc99",
   "metadata": {},
   "source": [
    "https://scikit-learn.org/stable/modules/permutation_importance.html#permutation-importance"
   ]
  },
  {
   "cell_type": "code",
   "execution_count": 15,
   "id": "d5d34f14",
   "metadata": {},
   "outputs": [
    {
     "data": {
      "text/plain": [
       "{'importances_mean': array([ 0.00000000e+00,  0.00000000e+00,  0.00000000e+00,  0.00000000e+00,\n",
       "         0.00000000e+00,  0.00000000e+00,  0.00000000e+00,  0.00000000e+00,\n",
       "         5.76906523e-05,  0.00000000e+00,  3.63042874e-03,  8.48859521e-04,\n",
       "         3.31730126e-03,  0.00000000e+00,  0.00000000e+00,  1.10216617e-05,\n",
       "         2.22744900e-04,  1.38239627e-03,  6.71191044e-04,  0.00000000e+00,\n",
       "         8.51003689e-04,  2.84241050e-04,  0.00000000e+00,  0.00000000e+00,\n",
       "         5.88580564e-03,  4.31457143e-04,  1.14293905e-01,  0.00000000e+00,\n",
       "         7.58608776e-03,  0.00000000e+00,  0.00000000e+00,  0.00000000e+00,\n",
       "         0.00000000e+00,  0.00000000e+00,  0.00000000e+00,  4.10973128e-03,\n",
       "         0.00000000e+00,  0.00000000e+00,  1.04252975e-04,  0.00000000e+00,\n",
       "         4.11091523e-04,  8.20173561e-06,  8.87395999e-04,  4.23422275e-03,\n",
       "         9.24722326e-03,  7.28744806e-04,  5.33400501e-05,  3.11114651e-03,\n",
       "         4.83235369e-03,  1.34866118e-03,  0.00000000e+00,  0.00000000e+00,\n",
       "         0.00000000e+00,  5.04433714e-04,  8.60251488e-05,  2.11018327e-02,\n",
       "         0.00000000e+00,  0.00000000e+00,  9.63051133e-04,  0.00000000e+00,\n",
       "         3.86724648e-05,  5.53455403e-03,  0.00000000e+00,  0.00000000e+00,\n",
       "         0.00000000e+00,  2.06564516e-03,  0.00000000e+00,  2.31471909e-03,\n",
       "         4.81110086e-03,  1.91983867e-03,  0.00000000e+00,  1.14941622e-03,\n",
       "         0.00000000e+00,  2.83027449e-04,  0.00000000e+00,  3.02194750e-04,\n",
       "         1.61449287e-05,  1.97068517e-03,  1.62753703e-04,  0.00000000e+00,\n",
       "         0.00000000e+00,  1.96995238e-03,  0.00000000e+00,  0.00000000e+00,\n",
       "         0.00000000e+00,  0.00000000e+00,  7.89252140e-05,  0.00000000e+00,\n",
       "         0.00000000e+00,  0.00000000e+00,  0.00000000e+00,  0.00000000e+00,\n",
       "         2.37165390e-03,  0.00000000e+00,  4.07124482e-04,  0.00000000e+00,\n",
       "         5.24429894e-03,  0.00000000e+00,  0.00000000e+00,  1.29696016e-03,\n",
       "         0.00000000e+00,  0.00000000e+00,  3.87186298e-04,  0.00000000e+00,\n",
       "         0.00000000e+00,  1.84426677e-03,  0.00000000e+00,  0.00000000e+00,\n",
       "         0.00000000e+00,  0.00000000e+00,  7.55594401e-04,  1.70708043e-03,\n",
       "         2.02134996e-03,  1.77990654e-03,  1.18286511e-01,  0.00000000e+00,\n",
       "         1.04946024e-04,  0.00000000e+00,  0.00000000e+00,  0.00000000e+00,\n",
       "         0.00000000e+00,  0.00000000e+00,  3.64225721e-02,  0.00000000e+00,\n",
       "         1.32657206e-04,  0.00000000e+00,  8.98618222e-04,  1.96569924e-03,\n",
       "         6.65191454e-04,  0.00000000e+00,  3.79191496e-05,  0.00000000e+00,\n",
       "         6.55574582e-05,  5.87501092e-05,  8.63642836e-04,  1.71504220e-05,\n",
       "         2.54140603e-04,  6.13852052e-03,  9.79646191e-05,  1.20684394e-03,\n",
       "         0.00000000e+00,  0.00000000e+00,  0.00000000e+00,  5.04868663e-04,\n",
       "         3.42397208e-03,  5.39976110e-03,  1.09450259e-02,  0.00000000e+00,\n",
       "         5.11607595e-03,  1.34489158e-03,  5.60367226e-03,  1.29818914e-04,\n",
       "         9.93647915e-04,  0.00000000e+00,  0.00000000e+00,  4.05564536e-04,\n",
       "         0.00000000e+00,  1.18290681e-02,  1.59750235e-03,  0.00000000e+00,\n",
       "         0.00000000e+00,  0.00000000e+00,  4.22234211e-03,  9.56392159e-04,\n",
       "         0.00000000e+00,  1.64186750e-03,  0.00000000e+00,  7.30828494e-04,\n",
       "         3.36900145e-04,  1.16030990e-04,  7.04376083e-04,  1.07440135e-03,\n",
       "         1.50355472e-03, -2.35861006e-07,  1.48547768e-03,  7.06413093e-04,\n",
       "         2.87223687e-03,  0.00000000e+00,  0.00000000e+00,  0.00000000e+00,\n",
       "         1.13780671e-03,  7.08994596e-04,  5.39555902e-03,  0.00000000e+00,\n",
       "         1.28508389e-03,  0.00000000e+00,  0.00000000e+00,  8.97999033e-05,\n",
       "         4.47049528e-04,  1.64237514e-04,  0.00000000e+00,  0.00000000e+00,\n",
       "         0.00000000e+00,  9.50037888e-04,  4.52074118e-04,  8.43132761e-04,\n",
       "         0.00000000e+00,  0.00000000e+00,  1.10276139e-03,  0.00000000e+00,\n",
       "         3.14179032e-05,  1.39080930e-04,  0.00000000e+00,  7.53411770e-05,\n",
       "         0.00000000e+00,  0.00000000e+00,  0.00000000e+00,  0.00000000e+00,\n",
       "         0.00000000e+00,  2.48293600e-04,  4.83593780e-03,  7.25481232e-05,\n",
       "         3.59235398e-03,  1.20127665e-05,  0.00000000e+00,  4.28554965e-03,\n",
       "         1.54369795e-03,  3.68662998e-03,  0.00000000e+00,  0.00000000e+00,\n",
       "         5.26656412e-04, -2.52722880e-05,  0.00000000e+00,  5.28825305e-04,\n",
       "         0.00000000e+00,  0.00000000e+00,  1.07923332e-03,  0.00000000e+00,\n",
       "         0.00000000e+00,  1.24749692e-05,  0.00000000e+00,  0.00000000e+00,\n",
       "         0.00000000e+00,  1.36237610e-03,  0.00000000e+00,  0.00000000e+00,\n",
       "         0.00000000e+00,  0.00000000e+00,  4.91536702e-04,  0.00000000e+00,\n",
       "         0.00000000e+00,  0.00000000e+00,  1.10650090e-04,  1.05757378e-03,\n",
       "         0.00000000e+00,  0.00000000e+00,  0.00000000e+00,  0.00000000e+00,\n",
       "         5.45514268e-05,  0.00000000e+00,  0.00000000e+00,  0.00000000e+00,\n",
       "         0.00000000e+00,  3.25909603e-03,  0.00000000e+00,  0.00000000e+00,\n",
       "         0.00000000e+00,  2.75307626e-05,  0.00000000e+00,  7.44050295e-04,\n",
       "         0.00000000e+00,  0.00000000e+00,  0.00000000e+00,  0.00000000e+00,\n",
       "         0.00000000e+00,  1.47854439e-03,  1.52360423e-04,  8.39426891e-03,\n",
       "         2.81119481e-04,  0.00000000e+00,  0.00000000e+00,  0.00000000e+00,\n",
       "         0.00000000e+00,  0.00000000e+00,  0.00000000e+00,  2.76223027e-03,\n",
       "         3.65438156e-04,  1.29723000e-03,  4.15829704e-04,  2.05027663e-03,\n",
       "         0.00000000e+00,  0.00000000e+00,  0.00000000e+00,  1.96834685e-04,\n",
       "         7.02410695e-04,  0.00000000e+00,  3.97548975e-04,  0.00000000e+00,\n",
       "         0.00000000e+00,  0.00000000e+00,  0.00000000e+00,  0.00000000e+00,\n",
       "         7.64186883e-04,  3.45654836e-03,  0.00000000e+00,  2.69403999e-05,\n",
       "         1.02388071e-04, -3.49935988e-05,  0.00000000e+00,  0.00000000e+00,\n",
       "         0.00000000e+00,  0.00000000e+00,  5.99111348e-04,  0.00000000e+00,\n",
       "         2.26956237e-03,  6.62992819e-01,  7.39859004e-02,  9.21760640e-04,\n",
       "         0.00000000e+00,  0.00000000e+00,  0.00000000e+00,  0.00000000e+00,\n",
       "         3.20358524e-03,  1.42698875e-03,  1.71137191e-04,  0.00000000e+00,\n",
       "         0.00000000e+00,  0.00000000e+00,  5.58267660e-03,  0.00000000e+00,\n",
       "         2.40372342e-03,  0.00000000e+00,  1.74642324e-04,  0.00000000e+00,\n",
       "         1.94735737e-04,  8.37304452e-04,  0.00000000e+00,  6.30665539e-04,\n",
       "         2.10373287e-03,  5.22138371e-05,  0.00000000e+00,  7.01223027e-04,\n",
       "         5.57648682e-05,  1.04026694e-03,  0.00000000e+00,  3.33665104e-04,\n",
       "         7.13882155e-04,  3.08076830e-05,  0.00000000e+00,  0.00000000e+00,\n",
       "         5.76777213e-04,  4.27365725e-03,  5.82696394e-03,  1.13785624e-03,\n",
       "         0.00000000e+00,  8.27585305e-03,  5.08505569e-03,  3.36999604e-04,\n",
       "         0.00000000e+00,  1.29853952e-03,  1.96461134e-03,  0.00000000e+00,\n",
       "         4.12594859e-04,  1.86954039e-03,  0.00000000e+00,  0.00000000e+00,\n",
       "         0.00000000e+00,  0.00000000e+00,  1.12656818e-04,  1.52577610e-04,\n",
       "         0.00000000e+00,  0.00000000e+00,  0.00000000e+00,  0.00000000e+00,\n",
       "         0.00000000e+00,  2.96106534e-03,  4.40412519e-03,  5.70407558e-04,\n",
       "         1.06139570e-03,  2.40919594e-05,  8.45907726e-06,  1.71988587e-04,\n",
       "         0.00000000e+00,  0.00000000e+00,  0.00000000e+00,  0.00000000e+00]),\n",
       " 'importances_std': array([0.00000000e+00, 0.00000000e+00, 0.00000000e+00, 0.00000000e+00,\n",
       "        0.00000000e+00, 0.00000000e+00, 0.00000000e+00, 0.00000000e+00,\n",
       "        3.29880231e-05, 0.00000000e+00, 1.66404259e-04, 9.87179799e-05,\n",
       "        5.75679035e-04, 0.00000000e+00, 0.00000000e+00, 1.12709318e-05,\n",
       "        5.51402496e-05, 1.04709052e-04, 1.04060500e-04, 0.00000000e+00,\n",
       "        9.85014652e-05, 1.70450422e-05, 0.00000000e+00, 0.00000000e+00,\n",
       "        3.23763914e-04, 1.24265345e-04, 4.59563792e-03, 0.00000000e+00,\n",
       "        3.05879969e-03, 0.00000000e+00, 0.00000000e+00, 0.00000000e+00,\n",
       "        0.00000000e+00, 0.00000000e+00, 0.00000000e+00, 7.92829477e-04,\n",
       "        0.00000000e+00, 0.00000000e+00, 2.90078980e-05, 0.00000000e+00,\n",
       "        3.91874357e-04, 2.40659507e-06, 1.12717370e-04, 5.86173539e-04,\n",
       "        1.49099121e-04, 4.15599233e-05, 1.72382752e-05, 4.37749377e-04,\n",
       "        5.84828555e-04, 1.04938146e-04, 0.00000000e+00, 0.00000000e+00,\n",
       "        0.00000000e+00, 8.42288545e-05, 7.13476191e-06, 1.49888227e-03,\n",
       "        0.00000000e+00, 0.00000000e+00, 1.47788118e-04, 0.00000000e+00,\n",
       "        5.61995847e-06, 4.01061069e-04, 0.00000000e+00, 0.00000000e+00,\n",
       "        0.00000000e+00, 4.94854345e-04, 0.00000000e+00, 1.66873205e-04,\n",
       "        5.47267996e-04, 4.50348307e-04, 0.00000000e+00, 2.57142473e-04,\n",
       "        0.00000000e+00, 4.40701962e-05, 0.00000000e+00, 3.91300257e-05,\n",
       "        3.97496903e-06, 4.06777469e-04, 4.54154054e-05, 0.00000000e+00,\n",
       "        0.00000000e+00, 3.55748667e-04, 0.00000000e+00, 0.00000000e+00,\n",
       "        0.00000000e+00, 0.00000000e+00, 2.13190207e-05, 0.00000000e+00,\n",
       "        0.00000000e+00, 0.00000000e+00, 0.00000000e+00, 0.00000000e+00,\n",
       "        2.83878721e-04, 0.00000000e+00, 1.27623097e-04, 0.00000000e+00,\n",
       "        2.36145385e-03, 0.00000000e+00, 0.00000000e+00, 9.54503987e-05,\n",
       "        0.00000000e+00, 0.00000000e+00, 8.89444737e-05, 0.00000000e+00,\n",
       "        0.00000000e+00, 1.97335713e-04, 0.00000000e+00, 0.00000000e+00,\n",
       "        0.00000000e+00, 0.00000000e+00, 2.39583501e-04, 4.72253926e-04,\n",
       "        3.15468039e-04, 8.46404606e-05, 8.23414525e-03, 0.00000000e+00,\n",
       "        5.85943072e-05, 0.00000000e+00, 0.00000000e+00, 0.00000000e+00,\n",
       "        0.00000000e+00, 0.00000000e+00, 2.32480976e-03, 0.00000000e+00,\n",
       "        4.81561487e-05, 0.00000000e+00, 1.32912003e-04, 1.39886863e-04,\n",
       "        1.53454281e-04, 0.00000000e+00, 7.63818711e-06, 0.00000000e+00,\n",
       "        4.03322883e-05, 9.91514243e-06, 1.69558687e-04, 7.32666609e-06,\n",
       "        4.30242880e-05, 2.31835450e-03, 1.71104748e-05, 6.14215109e-05,\n",
       "        0.00000000e+00, 0.00000000e+00, 0.00000000e+00, 3.86478498e-04,\n",
       "        1.13657298e-04, 5.53479098e-04, 1.22709557e-03, 0.00000000e+00,\n",
       "        1.91170620e-04, 1.85106389e-04, 7.10759589e-04, 4.49414763e-05,\n",
       "        3.93214877e-04, 0.00000000e+00, 0.00000000e+00, 2.60614901e-05,\n",
       "        0.00000000e+00, 2.66871871e-03, 1.42467677e-04, 0.00000000e+00,\n",
       "        0.00000000e+00, 0.00000000e+00, 7.54105421e-04, 1.12641525e-04,\n",
       "        0.00000000e+00, 5.46493917e-04, 0.00000000e+00, 4.06837390e-05,\n",
       "        6.13772389e-05, 2.65437733e-05, 1.23273175e-04, 6.82467357e-05,\n",
       "        1.67588005e-04, 1.54876510e-05, 1.65866483e-04, 9.06328612e-05,\n",
       "        5.24653696e-04, 0.00000000e+00, 0.00000000e+00, 0.00000000e+00,\n",
       "        4.03258558e-04, 6.67892891e-05, 1.49049521e-03, 0.00000000e+00,\n",
       "        1.96397263e-04, 0.00000000e+00, 0.00000000e+00, 1.62025925e-05,\n",
       "        1.44271133e-04, 1.47044041e-05, 0.00000000e+00, 0.00000000e+00,\n",
       "        0.00000000e+00, 1.84879242e-04, 1.07517234e-04, 1.94778657e-04,\n",
       "        0.00000000e+00, 0.00000000e+00, 7.57676907e-05, 0.00000000e+00,\n",
       "        1.52266792e-05, 8.88846792e-06, 0.00000000e+00, 1.41221751e-04,\n",
       "        0.00000000e+00, 0.00000000e+00, 0.00000000e+00, 0.00000000e+00,\n",
       "        0.00000000e+00, 4.29741206e-05, 4.69099030e-04, 2.98051544e-05,\n",
       "        2.45621690e-04, 3.90498446e-07, 0.00000000e+00, 2.57785955e-04,\n",
       "        2.67528321e-04, 5.43623270e-04, 0.00000000e+00, 0.00000000e+00,\n",
       "        1.88090355e-04, 1.55899748e-05, 0.00000000e+00, 3.51554839e-04,\n",
       "        0.00000000e+00, 0.00000000e+00, 1.35151742e-04, 0.00000000e+00,\n",
       "        0.00000000e+00, 3.16550637e-06, 0.00000000e+00, 0.00000000e+00,\n",
       "        0.00000000e+00, 1.10063324e-04, 0.00000000e+00, 0.00000000e+00,\n",
       "        0.00000000e+00, 0.00000000e+00, 7.45665683e-05, 0.00000000e+00,\n",
       "        0.00000000e+00, 0.00000000e+00, 1.81071970e-05, 1.42743629e-04,\n",
       "        0.00000000e+00, 0.00000000e+00, 0.00000000e+00, 0.00000000e+00,\n",
       "        1.24409826e-05, 0.00000000e+00, 0.00000000e+00, 0.00000000e+00,\n",
       "        0.00000000e+00, 2.98509905e-04, 0.00000000e+00, 0.00000000e+00,\n",
       "        0.00000000e+00, 1.02809485e-05, 0.00000000e+00, 9.58540193e-05,\n",
       "        0.00000000e+00, 0.00000000e+00, 0.00000000e+00, 0.00000000e+00,\n",
       "        0.00000000e+00, 1.85426484e-04, 3.04783301e-05, 1.90376970e-03,\n",
       "        2.16220289e-04, 0.00000000e+00, 0.00000000e+00, 0.00000000e+00,\n",
       "        0.00000000e+00, 0.00000000e+00, 0.00000000e+00, 3.15990711e-04,\n",
       "        1.31494250e-04, 1.87485828e-04, 3.07474858e-05, 3.07585779e-04,\n",
       "        0.00000000e+00, 0.00000000e+00, 0.00000000e+00, 7.66372798e-05,\n",
       "        2.08008685e-04, 0.00000000e+00, 6.41396190e-05, 0.00000000e+00,\n",
       "        0.00000000e+00, 0.00000000e+00, 0.00000000e+00, 0.00000000e+00,\n",
       "        1.87273901e-04, 1.18067938e-04, 0.00000000e+00, 2.83804989e-05,\n",
       "        1.52131588e-04, 1.92890076e-05, 0.00000000e+00, 0.00000000e+00,\n",
       "        0.00000000e+00, 0.00000000e+00, 9.44116650e-05, 0.00000000e+00,\n",
       "        5.18229538e-04, 1.74998183e-02, 5.91065713e-04, 1.01458740e-04,\n",
       "        0.00000000e+00, 0.00000000e+00, 0.00000000e+00, 0.00000000e+00,\n",
       "        1.07027788e-04, 1.76452534e-04, 3.34068244e-05, 0.00000000e+00,\n",
       "        0.00000000e+00, 0.00000000e+00, 4.93579241e-04, 0.00000000e+00,\n",
       "        5.05938131e-04, 0.00000000e+00, 6.15311827e-05, 0.00000000e+00,\n",
       "        2.43906611e-05, 2.36152075e-04, 0.00000000e+00, 1.72841974e-04,\n",
       "        3.88055593e-04, 7.61628361e-05, 0.00000000e+00, 7.24108307e-05,\n",
       "        3.79520887e-05, 3.89244061e-04, 0.00000000e+00, 1.00604592e-05,\n",
       "        2.57663134e-05, 3.71929959e-06, 0.00000000e+00, 0.00000000e+00,\n",
       "        6.07864467e-05, 3.99717284e-04, 2.88884738e-04, 1.77452399e-04,\n",
       "        0.00000000e+00, 2.35974780e-04, 6.26505718e-04, 1.09161239e-04,\n",
       "        0.00000000e+00, 2.67221056e-04, 4.96704926e-04, 0.00000000e+00,\n",
       "        8.40963864e-05, 3.96538057e-04, 0.00000000e+00, 0.00000000e+00,\n",
       "        0.00000000e+00, 0.00000000e+00, 3.06572353e-06, 1.75335963e-05,\n",
       "        0.00000000e+00, 0.00000000e+00, 0.00000000e+00, 0.00000000e+00,\n",
       "        0.00000000e+00, 1.93192902e-04, 1.60018835e-04, 1.74415129e-04,\n",
       "        2.51461807e-04, 8.25588689e-06, 3.50326931e-06, 5.67354605e-05,\n",
       "        0.00000000e+00, 0.00000000e+00, 0.00000000e+00, 0.00000000e+00]),\n",
       " 'importances': array([[0., 0., 0.],\n",
       "        [0., 0., 0.],\n",
       "        [0., 0., 0.],\n",
       "        ...,\n",
       "        [0., 0., 0.],\n",
       "        [0., 0., 0.],\n",
       "        [0., 0., 0.]])}"
      ]
     },
     "execution_count": 15,
     "metadata": {},
     "output_type": "execute_result"
    }
   ],
   "source": [
    "from sklearn.inspection import permutation_importance\n",
    "\n",
    "model = hist_dropped\n",
    "result = permutation_importance(model, X_train, y_train,\n",
    "                                n_repeats=3, random_state=0)\n",
    "result"
   ]
  },
  {
   "cell_type": "code",
   "execution_count": 16,
   "id": "75e20c62",
   "metadata": {},
   "outputs": [
    {
     "data": {
      "text/plain": [
       "dict_keys(['importances_mean', 'importances_std', 'importances'])"
      ]
     },
     "execution_count": 16,
     "metadata": {},
     "output_type": "execute_result"
    }
   ],
   "source": [
    "result.keys()"
   ]
  },
  {
   "cell_type": "code",
   "execution_count": 13,
   "id": "259705f7",
   "metadata": {},
   "outputs": [
    {
     "ename": "ValueError",
     "evalue": "Per-column arrays must each be 1-dimensional",
     "output_type": "error",
     "traceback": [
      "\u001b[0;31m---------------------------------------------------------------------------\u001b[0m",
      "\u001b[0;31mValueError\u001b[0m                                Traceback (most recent call last)",
      "Cell \u001b[0;32mIn [13], line 1\u001b[0m\n\u001b[0;32m----> 1\u001b[0m \u001b[43mpd\u001b[49m\u001b[38;5;241;43m.\u001b[39;49m\u001b[43mDataFrame\u001b[49m\u001b[43m(\u001b[49m\u001b[43mr\u001b[49m\u001b[43m)\u001b[49m\n",
      "File \u001b[0;32m~/codes/notebook/lib/python3.10/site-packages/pandas/core/frame.py:664\u001b[0m, in \u001b[0;36mDataFrame.__init__\u001b[0;34m(self, data, index, columns, dtype, copy)\u001b[0m\n\u001b[1;32m    658\u001b[0m     mgr \u001b[38;5;241m=\u001b[39m \u001b[38;5;28mself\u001b[39m\u001b[38;5;241m.\u001b[39m_init_mgr(\n\u001b[1;32m    659\u001b[0m         data, axes\u001b[38;5;241m=\u001b[39m{\u001b[38;5;124m\"\u001b[39m\u001b[38;5;124mindex\u001b[39m\u001b[38;5;124m\"\u001b[39m: index, \u001b[38;5;124m\"\u001b[39m\u001b[38;5;124mcolumns\u001b[39m\u001b[38;5;124m\"\u001b[39m: columns}, dtype\u001b[38;5;241m=\u001b[39mdtype, copy\u001b[38;5;241m=\u001b[39mcopy\n\u001b[1;32m    660\u001b[0m     )\n\u001b[1;32m    662\u001b[0m \u001b[38;5;28;01melif\u001b[39;00m \u001b[38;5;28misinstance\u001b[39m(data, \u001b[38;5;28mdict\u001b[39m):\n\u001b[1;32m    663\u001b[0m     \u001b[38;5;66;03m# GH#38939 de facto copy defaults to False only in non-dict cases\u001b[39;00m\n\u001b[0;32m--> 664\u001b[0m     mgr \u001b[38;5;241m=\u001b[39m \u001b[43mdict_to_mgr\u001b[49m\u001b[43m(\u001b[49m\u001b[43mdata\u001b[49m\u001b[43m,\u001b[49m\u001b[43m \u001b[49m\u001b[43mindex\u001b[49m\u001b[43m,\u001b[49m\u001b[43m \u001b[49m\u001b[43mcolumns\u001b[49m\u001b[43m,\u001b[49m\u001b[43m \u001b[49m\u001b[43mdtype\u001b[49m\u001b[38;5;241;43m=\u001b[39;49m\u001b[43mdtype\u001b[49m\u001b[43m,\u001b[49m\u001b[43m \u001b[49m\u001b[43mcopy\u001b[49m\u001b[38;5;241;43m=\u001b[39;49m\u001b[43mcopy\u001b[49m\u001b[43m,\u001b[49m\u001b[43m \u001b[49m\u001b[43mtyp\u001b[49m\u001b[38;5;241;43m=\u001b[39;49m\u001b[43mmanager\u001b[49m\u001b[43m)\u001b[49m\n\u001b[1;32m    665\u001b[0m \u001b[38;5;28;01melif\u001b[39;00m \u001b[38;5;28misinstance\u001b[39m(data, ma\u001b[38;5;241m.\u001b[39mMaskedArray):\n\u001b[1;32m    666\u001b[0m     \u001b[38;5;28;01mimport\u001b[39;00m \u001b[38;5;21;01mnumpy\u001b[39;00m\u001b[38;5;21;01m.\u001b[39;00m\u001b[38;5;21;01mma\u001b[39;00m\u001b[38;5;21;01m.\u001b[39;00m\u001b[38;5;21;01mmrecords\u001b[39;00m \u001b[38;5;28;01mas\u001b[39;00m \u001b[38;5;21;01mmrecords\u001b[39;00m\n",
      "File \u001b[0;32m~/codes/notebook/lib/python3.10/site-packages/pandas/core/internals/construction.py:493\u001b[0m, in \u001b[0;36mdict_to_mgr\u001b[0;34m(data, index, columns, dtype, typ, copy)\u001b[0m\n\u001b[1;32m    489\u001b[0m     \u001b[38;5;28;01melse\u001b[39;00m:\n\u001b[1;32m    490\u001b[0m         \u001b[38;5;66;03m# dtype check to exclude e.g. range objects, scalars\u001b[39;00m\n\u001b[1;32m    491\u001b[0m         arrays \u001b[38;5;241m=\u001b[39m [x\u001b[38;5;241m.\u001b[39mcopy() \u001b[38;5;28;01mif\u001b[39;00m \u001b[38;5;28mhasattr\u001b[39m(x, \u001b[38;5;124m\"\u001b[39m\u001b[38;5;124mdtype\u001b[39m\u001b[38;5;124m\"\u001b[39m) \u001b[38;5;28;01melse\u001b[39;00m x \u001b[38;5;28;01mfor\u001b[39;00m x \u001b[38;5;129;01min\u001b[39;00m arrays]\n\u001b[0;32m--> 493\u001b[0m \u001b[38;5;28;01mreturn\u001b[39;00m \u001b[43marrays_to_mgr\u001b[49m\u001b[43m(\u001b[49m\u001b[43marrays\u001b[49m\u001b[43m,\u001b[49m\u001b[43m \u001b[49m\u001b[43mcolumns\u001b[49m\u001b[43m,\u001b[49m\u001b[43m \u001b[49m\u001b[43mindex\u001b[49m\u001b[43m,\u001b[49m\u001b[43m \u001b[49m\u001b[43mdtype\u001b[49m\u001b[38;5;241;43m=\u001b[39;49m\u001b[43mdtype\u001b[49m\u001b[43m,\u001b[49m\u001b[43m \u001b[49m\u001b[43mtyp\u001b[49m\u001b[38;5;241;43m=\u001b[39;49m\u001b[43mtyp\u001b[49m\u001b[43m,\u001b[49m\u001b[43m \u001b[49m\u001b[43mconsolidate\u001b[49m\u001b[38;5;241;43m=\u001b[39;49m\u001b[43mcopy\u001b[49m\u001b[43m)\u001b[49m\n",
      "File \u001b[0;32m~/codes/notebook/lib/python3.10/site-packages/pandas/core/internals/construction.py:118\u001b[0m, in \u001b[0;36marrays_to_mgr\u001b[0;34m(arrays, columns, index, dtype, verify_integrity, typ, consolidate)\u001b[0m\n\u001b[1;32m    115\u001b[0m \u001b[38;5;28;01mif\u001b[39;00m verify_integrity:\n\u001b[1;32m    116\u001b[0m     \u001b[38;5;66;03m# figure out the index, if necessary\u001b[39;00m\n\u001b[1;32m    117\u001b[0m     \u001b[38;5;28;01mif\u001b[39;00m index \u001b[38;5;129;01mis\u001b[39;00m \u001b[38;5;28;01mNone\u001b[39;00m:\n\u001b[0;32m--> 118\u001b[0m         index \u001b[38;5;241m=\u001b[39m \u001b[43m_extract_index\u001b[49m\u001b[43m(\u001b[49m\u001b[43marrays\u001b[49m\u001b[43m)\u001b[49m\n\u001b[1;32m    119\u001b[0m     \u001b[38;5;28;01melse\u001b[39;00m:\n\u001b[1;32m    120\u001b[0m         index \u001b[38;5;241m=\u001b[39m ensure_index(index)\n",
      "File \u001b[0;32m~/codes/notebook/lib/python3.10/site-packages/pandas/core/internals/construction.py:653\u001b[0m, in \u001b[0;36m_extract_index\u001b[0;34m(data)\u001b[0m\n\u001b[1;32m    651\u001b[0m         raw_lengths\u001b[38;5;241m.\u001b[39mappend(\u001b[38;5;28mlen\u001b[39m(val))\n\u001b[1;32m    652\u001b[0m     \u001b[38;5;28;01melif\u001b[39;00m \u001b[38;5;28misinstance\u001b[39m(val, np\u001b[38;5;241m.\u001b[39mndarray) \u001b[38;5;129;01mand\u001b[39;00m val\u001b[38;5;241m.\u001b[39mndim \u001b[38;5;241m>\u001b[39m \u001b[38;5;241m1\u001b[39m:\n\u001b[0;32m--> 653\u001b[0m         \u001b[38;5;28;01mraise\u001b[39;00m \u001b[38;5;167;01mValueError\u001b[39;00m(\u001b[38;5;124m\"\u001b[39m\u001b[38;5;124mPer-column arrays must each be 1-dimensional\u001b[39m\u001b[38;5;124m\"\u001b[39m)\n\u001b[1;32m    655\u001b[0m \u001b[38;5;28;01mif\u001b[39;00m \u001b[38;5;129;01mnot\u001b[39;00m indexes \u001b[38;5;129;01mand\u001b[39;00m \u001b[38;5;129;01mnot\u001b[39;00m raw_lengths:\n\u001b[1;32m    656\u001b[0m     \u001b[38;5;28;01mraise\u001b[39;00m \u001b[38;5;167;01mValueError\u001b[39;00m(\u001b[38;5;124m\"\u001b[39m\u001b[38;5;124mIf using all scalar values, you must pass an index\u001b[39m\u001b[38;5;124m\"\u001b[39m)\n",
      "\u001b[0;31mValueError\u001b[0m: Per-column arrays must each be 1-dimensional"
     ]
    }
   ],
   "source": [
    "pd.DataFrame(r[\"\"])"
   ]
  },
  {
   "cell_type": "code",
   "execution_count": null,
   "id": "21fc1311",
   "metadata": {},
   "outputs": [],
   "source": [
    "for i in r.importances_mean.argsort()[::-1]:\n",
    "    if r.importances_mean[i] - 2 * r.importances_std[i] > 0:\n",
    "        print(f\"{diabetes.feature_names[i]:<8}\"\n",
    "              f\"{r.importances_mean[i]:.3f}\"\n",
    "              f\" +/- {r.importances_std[i]:.3f}\")"
   ]
  },
  {
   "cell_type": "code",
   "execution_count": null,
   "id": "a27d249a",
   "metadata": {},
   "outputs": [],
   "source": [
    "hgbr_score = hist_dropped.score(X_valid, y_valid)\n",
    "hgbr_score"
   ]
  },
  {
   "cell_type": "code",
   "execution_count": null,
   "id": "250c4493",
   "metadata": {},
   "outputs": [],
   "source": [
    "y_pred_hgbr = hist_dropped.predict(test)\n",
    "y_pred_hgbr[:5]"
   ]
  },
  {
   "cell_type": "code",
   "execution_count": null,
   "id": "5e2934ef",
   "metadata": {},
   "outputs": [],
   "source": [
    "submission[\"y\"] = y_pred_hgbr"
   ]
  },
  {
   "cell_type": "markdown",
   "id": "93c9622d",
   "metadata": {},
   "source": [
    "https://www.kaggle.com/competitions/mercedes-benz-greener-manufacturing/submissions"
   ]
  },
  {
   "cell_type": "code",
   "execution_count": null,
   "id": "79822552",
   "metadata": {
    "scrolled": true
   },
   "outputs": [],
   "source": [
    "file_name = f\"submit_hgbr_category_{hgbr_score:.5f}.csv\"\n",
    "file_name"
   ]
  },
  {
   "cell_type": "code",
   "execution_count": null,
   "id": "dbd1510a",
   "metadata": {},
   "outputs": [],
   "source": [
    "submission.to_csv(file_name)\n",
    "pd.read_csv(file_name).head(2)"
   ]
  },
  {
   "cell_type": "code",
   "execution_count": null,
   "id": "a4b857c1",
   "metadata": {},
   "outputs": [],
   "source": []
  },
  {
   "cell_type": "code",
   "execution_count": null,
   "id": "bd0aca17",
   "metadata": {},
   "outputs": [],
   "source": []
  }
 ],
 "metadata": {
  "kernelspec": {
   "display_name": "Python 3 (ipykernel)",
   "language": "python",
   "name": "python3"
  },
  "language_info": {
   "codemirror_mode": {
    "name": "ipython",
    "version": 3
   },
   "file_extension": ".py",
   "mimetype": "text/x-python",
   "name": "python",
   "nbconvert_exporter": "python",
   "pygments_lexer": "ipython3",
   "version": "3.10.7"
  },
  "toc": {
   "base_numbering": 1,
   "nav_menu": {},
   "number_sections": true,
   "sideBar": true,
   "skip_h1_title": false,
   "title_cell": "Table of Contents",
   "title_sidebar": "Contents",
   "toc_cell": false,
   "toc_position": {},
   "toc_section_display": true,
   "toc_window_display": false
  },
  "varInspector": {
   "cols": {
    "lenName": 16,
    "lenType": 16,
    "lenVar": 40
   },
   "kernels_config": {
    "python": {
     "delete_cmd_postfix": "",
     "delete_cmd_prefix": "del ",
     "library": "var_list.py",
     "varRefreshCmd": "print(var_dic_list())"
    },
    "r": {
     "delete_cmd_postfix": ") ",
     "delete_cmd_prefix": "rm(",
     "library": "var_list.r",
     "varRefreshCmd": "cat(var_dic_list()) "
    }
   },
   "types_to_exclude": [
    "module",
    "function",
    "builtin_function_or_method",
    "instance",
    "_Feature"
   ],
   "window_display": false
  }
 },
 "nbformat": 4,
 "nbformat_minor": 5
}
