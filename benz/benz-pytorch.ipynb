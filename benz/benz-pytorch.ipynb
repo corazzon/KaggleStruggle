{
 "cells": [
  {
   "cell_type": "code",
   "execution_count": 1,
   "id": "7bb20305",
   "metadata": {},
   "outputs": [],
   "source": [
    "import pandas as pd\n",
    "import numpy as np"
   ]
  },
  {
   "cell_type": "code",
   "execution_count": 2,
   "id": "fc171bfa",
   "metadata": {},
   "outputs": [],
   "source": [
    "base_path = \"data\"\n",
    "train = pd.read_csv(f'{base_path}/train.csv.zip', index_col=\"ID\")\n",
    "test = pd.read_csv(f'{base_path}/test.csv.zip', index_col=\"ID\")\n",
    "submission = pd.read_csv(f'{base_path}/sample_submission.csv.zip', index_col=\"ID\")"
   ]
  },
  {
   "cell_type": "code",
   "execution_count": 3,
   "id": "0adfd334",
   "metadata": {},
   "outputs": [],
   "source": [
    "categorical_feature = train.select_dtypes(include=\"object\").columns\n",
    "train[categorical_feature] = train[categorical_feature].astype(\"category\")\n",
    "test[categorical_feature] = test[categorical_feature].astype(\"category\")"
   ]
  },
  {
   "cell_type": "code",
   "execution_count": 4,
   "id": "37fe770e",
   "metadata": {},
   "outputs": [
    {
     "data": {
      "text/plain": [
       "((4209, 376), (4209,))"
      ]
     },
     "execution_count": 4,
     "metadata": {},
     "output_type": "execute_result"
    }
   ],
   "source": [
    "X, y = train.drop(columns=\"y\"), train[\"y\"]\n",
    "X.shape, y.shape"
   ]
  },
  {
   "cell_type": "code",
   "execution_count": 5,
   "id": "a3ef9c89",
   "metadata": {},
   "outputs": [
    {
     "data": {
      "text/plain": [
       "((3998, 376), (211, 376), (3998,), (211,))"
      ]
     },
     "execution_count": 5,
     "metadata": {},
     "output_type": "execute_result"
    }
   ],
   "source": [
    "# train_test_split을 이용해 X, y 값을 X_train, X_valid, y_train, y_valid 으로 나눠줍니다.\n",
    "# Hold-out-valiation을 위해 train, valid 세트로 나누기\n",
    "# test_size=0.1 => 이름은 test지만 train으로 나눠주었기 때문에 valid 사이즈를 지정한 것입니다.\n",
    "from sklearn.model_selection import train_test_split\n",
    "\n",
    "X_train, X_valid, y_train, y_valid = train_test_split(\n",
    "    X, y, test_size=0.05, random_state=42)\n",
    "X_train.shape, X_valid.shape, y_train.shape, y_valid.shape"
   ]
  },
  {
   "cell_type": "code",
   "execution_count": 6,
   "id": "c6849234",
   "metadata": {},
   "outputs": [],
   "source": [
    "X_test = test"
   ]
  },
  {
   "cell_type": "code",
   "execution_count": 7,
   "id": "80ea87f5",
   "metadata": {},
   "outputs": [],
   "source": [
    "from sklearn.preprocessing import OrdinalEncoder\n",
    "\n",
    "oe = OrdinalEncoder(handle_unknown='use_encoded_value', unknown_value=-1)\n",
    "\n",
    "X_train[categorical_feature] = oe.fit_transform(X_train[categorical_feature])\n",
    "X_valid[categorical_feature] = oe.transform(X_valid[categorical_feature])\n",
    "X_test[categorical_feature] = oe.transform(X_test[categorical_feature])"
   ]
  },
  {
   "cell_type": "code",
   "execution_count": 8,
   "id": "d87212a6",
   "metadata": {},
   "outputs": [
    {
     "data": {
      "text/plain": [
       "(torch.Size([3998, 376]),\n",
       " torch.Size([3998, 1]),\n",
       " torch.Size([211, 376]),\n",
       " torch.Size([211, 1]))"
      ]
     },
     "execution_count": 8,
     "metadata": {},
     "output_type": "execute_result"
    }
   ],
   "source": [
    "import torch\n",
    "import torch.nn as nn\n",
    "import torch.optim as optim\n",
    "\n",
    "\n",
    "# PyTorch 모델을 위한 데이터 변환\n",
    "X_train = torch.FloatTensor(X_train.values)\n",
    "y_train = torch.FloatTensor(y_train.values.reshape(-1, 1))\n",
    "X_valid = torch.FloatTensor(X_valid.values)\n",
    "y_valid = torch.FloatTensor(y_valid.values.reshape(-1, 1))\n",
    "X_test = torch.FloatTensor(X_test.values)\n",
    "\n",
    "X_train.shape, y_train.shape, X_valid.shape, y_valid.shape"
   ]
  },
  {
   "cell_type": "markdown",
   "id": "ed8d0670",
   "metadata": {},
   "source": [
    "<img src=\"https://cs231n.github.io/assets/nn1/neural_net.jpeg\" width=\"30%\"> <img src=\"https://cs231n.github.io/assets/nn1/neural_net2.jpeg\" width=\"40%\">\n",
    "\n",
    "* 이미지 출처 : https://cs231n.github.io/neural-networks-1/\n",
    "\n",
    "## 딥러닝 레이어 만들기\n",
    "\n",
    "* [예제로 배우는 파이토치(PyTorch) — 파이토치 한국어 튜토리얼 (PyTorch tutorials in Korean)](https://tutorials.pytorch.kr/beginner/pytorch_with_examples.html)\n",
    "* [Linear — PyTorch documentation](https://pytorch.org/docs/stable/generated/torch.nn.Linear.html)\n",
    "\n",
    "\n",
    "* super(MultivariateLinearRegression, self).__init__()\n",
    "    * 파이썬에서 다중 상속(multiple inheritance)을 사용할 때, 부모 클래스의 초기화 메서드를 호출합니다. 여기서는 파이토치의 nn.Module 클래스를 상속받는 MultivariateLinearRegression 클래스를 정의하고 있습니다. nn.Module 클래스는 파이토치 모델을 정의할 때 사용하는 기본 클래스이며, 초기화 메서드(init)를 포함하고 있습니다. 따라서 MultivariateLinearRegression 클래스에서는 nn.Module 클래스의 초기화 메서드를 호출해야 합니다. 그런데, 파이썬에서 다중 상속을 사용할 경우, 여러 개의 부모 클래스 중에서 어떤 클래스의 초기화 메서드를 호출해야 하는지가 모호해질 수 있습니다. 이를 해결하기 위해 파이썬에서는 super() 함수를 제공합니다. super() 함수는 현재 클래스(MultivariateLinearRegression)의 다음 부모 클래스(nn.Module)를 찾아서, 해당 클래스의 메서드(init)를 호출합니다. 이때, super() 함수에 첫 번째 인자로 현재 클래스(self)와 두 번째 인자로 self를 전달합니다. 이를 통해 현재 클래스(MultivariateLinearRegression)가 nn.Module 클래스를 상속받은 것임을 알리고, nn.Module 클래스의 초기화 메서드를 호출할 수 있게 됩니다. MultivariateLinearRegression 클래스의 다음 부모 클래스(nn.Module)의 초기화 메서드를 호출합니다.\n",
    "    \n",
    "    \n",
    "* self.linear = nn.Linear(input_size, output_size)\n",
    "    * self.linear은 인스턴스 변수(instance variable)입니다. 인스턴스 변수란, 클래스에서 생성된 객체(instance)의 속성(attribute)으로, 객체가 생성될 때마다 각각의 객체마다 고유한 값을 가지게 됩니다. self.linear은 MultivariateLinearRegression 클래스의 생성자(constructor)인 __init__ 메서드에서 초기화되었으며, 이후 클래스 내부의 다른 메서드에서도 사용될 수 있습니다. 따라서, self.linear는 MultivariateLinearRegression 클래스의 인스턴스(instance)의 속성(attribute)으로, 입력 특성과 출력 특성 사이의 선형 변환을 수행하는 신경망 계층(linear layer)을 나타냅니다."
   ]
  },
  {
   "cell_type": "code",
   "execution_count": 9,
   "id": "f740c0e7",
   "metadata": {},
   "outputs": [],
   "source": [
    "# Multivariate Linear Regression 모델 구현\n",
    "class MultivariateLinearRegression(nn.Module):\n",
    "    def __init__(self, input_size, output_size):\n",
    "        super(MultivariateLinearRegression, self).__init__()\n",
    "        self.linear_relu_stack = nn.Sequential(\n",
    "            nn.Linear(input_size, 512),\n",
    "            nn.ReLU(),\n",
    "            nn.Linear(512, 512),\n",
    "            nn.ReLU(),\n",
    "            nn.Linear(512, output_size),\n",
    "        )\n",
    "        \n",
    "    def forward(self, x):\n",
    "        x = self.linear_relu_stack(x)\n",
    "        return x\n",
    "    \n",
    "\n",
    "class R2ScoreLoss(nn.Module):\n",
    "    def __init__(self):\n",
    "        super(R2ScoreLoss, self).__init__()\n",
    "\n",
    "    def forward(self, y_pred, y_true):\n",
    "        residual = y_true - y_pred\n",
    "        total = y_true - torch.mean(y_true)\n",
    "        r2_score = 1 - torch.sum(residual**2) / torch.sum(total**2)\n",
    "        return r2_score\n",
    "    \n",
    "    \n",
    "    \n",
    "# 모델 인스턴스 생성\n",
    "model = MultivariateLinearRegression(input_size=X_train.shape[1], output_size=1)\n",
    "\n",
    "# 손실 함수 및 최적화 알고리즘 설정\n",
    "criterion = nn.MSELoss()\n",
    "optimizer = optim.Adam(model.parameters(), lr=0.001)"
   ]
  },
  {
   "cell_type": "markdown",
   "id": "0cc55204",
   "metadata": {},
   "source": [
    "## train"
   ]
  },
  {
   "cell_type": "code",
   "execution_count": 10,
   "id": "cb65a908",
   "metadata": {},
   "outputs": [
    {
     "name": "stdout",
     "output_type": "stream",
     "text": [
      "Epoch [200/2000], Loss: 71.8393]\n",
      "Epoch [400/2000], Loss: 62.6048]\n",
      "Epoch [600/2000], Loss: 58.0403]\n",
      "Epoch [800/2000], Loss: 54.0885]\n",
      "Epoch [1000/2000], Loss: 50.1410]\n",
      "Epoch [1200/2000], Loss: 46.7150]\n",
      "Epoch [1400/2000], Loss: 43.4353]\n",
      "Epoch [1600/2000], Loss: 40.4434]\n",
      "Epoch [1800/2000], Loss: 37.9213]\n",
      "Epoch [2000/2000], Loss: 35.7564]\n",
      "Test Loss: 82.3404\n"
     ]
    }
   ],
   "source": [
    "# 모델 학습하기\n",
    "num_epochs = 2000\n",
    "\n",
    "criterion_loss = []\n",
    "for epoch in range(num_epochs):\n",
    "    # 순전파 계산\n",
    "    y_pred = model(X_train)\n",
    "    \n",
    "    # 손실 계산\n",
    "    loss = criterion(y_pred, y_train)\n",
    "\n",
    "    # 역전파 계산 및 가중치 갱신\n",
    "    optimizer.zero_grad()\n",
    "    loss.backward()\n",
    "    optimizer.step()\n",
    "\n",
    "    criterion_loss.append(loss.item())\n",
    "    # 로그 출력\n",
    "    if (epoch+1) % 200 == 0:\n",
    "        print(f'Epoch [{epoch+1}/{num_epochs}], Loss: {loss.item():.4f}]')\n",
    "\n",
    "# 테스트 데이터에 대한 예측 결과 출력\n",
    "with torch.no_grad():\n",
    "    y_pred_valid = model(X_valid)\n",
    "    test_loss = criterion(y_pred_valid, y_valid).item()\n",
    "    print(f'Test Loss: {test_loss:.4f}')"
   ]
  },
  {
   "cell_type": "code",
   "execution_count": 11,
   "id": "a6aff720",
   "metadata": {},
   "outputs": [
    {
     "data": {
      "text/plain": [
       "(torch.Size([211, 1]), torch.Size([211, 1]))"
      ]
     },
     "execution_count": 11,
     "metadata": {},
     "output_type": "execute_result"
    }
   ],
   "source": [
    "y_valid.shape, y_pred_valid.shape"
   ]
  },
  {
   "cell_type": "code",
   "execution_count": 15,
   "id": "64c71499",
   "metadata": {},
   "outputs": [
    {
     "data": {
      "text/plain": [
       "<Axes: >"
      ]
     },
     "execution_count": 15,
     "metadata": {},
     "output_type": "execute_result"
    },
    {
     "data": {
      "image/png": "[encoded data removed]",
      "text/plain": [
       "<Figure size 640x480 with 1 Axes>"
      ]
     },
     "metadata": {},
     "output_type": "display_data"
    }
   ],
   "source": [
    "pd.Series(criterion_loss).plot()"
   ]
  },
  {
   "cell_type": "code",
   "execution_count": 14,
   "id": "2444410a",
   "metadata": {},
   "outputs": [
    {
     "data": {
      "text/plain": [
       "0.4187903768918926"
      ]
     },
     "execution_count": 14,
     "metadata": {},
     "output_type": "execute_result"
    }
   ],
   "source": [
    "from sklearn.metrics import r2_score\n",
    "\n",
    "valid_score = r2_score(y_valid, y_pred_valid)\n",
    "valid_score"
   ]
  },
  {
   "cell_type": "markdown",
   "id": "7489f4e7",
   "metadata": {},
   "source": [
    "## test"
   ]
  },
  {
   "cell_type": "code",
   "execution_count": 16,
   "id": "ef945a19-c5b1-4f31-9607-e5c1ab3baccf",
   "metadata": {
    "tags": []
   },
   "outputs": [
    {
     "data": {
      "text/plain": [
       "array([ 83.895744, 101.40721 ,  92.5117  ,  73.57116 , 114.62701 ],\n",
       "      dtype=float32)"
      ]
     },
     "execution_count": 16,
     "metadata": {},
     "output_type": "execute_result"
    }
   ],
   "source": [
    "with torch.no_grad():\n",
    "    outputs = model(X_test)\n",
    "    y_predict = outputs.squeeze().numpy()\n",
    "    \n",
    "y_predict[:5]"
   ]
  },
  {
   "cell_type": "markdown",
   "id": "67a9fe9e-40ab-41bf-93e0-f46422bb441b",
   "metadata": {
    "tags": []
   },
   "source": [
    "## submit\n",
    "https://www.kaggle.com/competitions/mercedes-benz-greener-manufacturing/submissions"
   ]
  },
  {
   "cell_type": "code",
   "execution_count": 17,
   "id": "6271c5f4",
   "metadata": {},
   "outputs": [],
   "source": [
    "submission[\"y\"] = y_predict"
   ]
  },
  {
   "cell_type": "code",
   "execution_count": 18,
   "id": "f9153b1f-5e8d-4755-bf80-65055314e15e",
   "metadata": {
    "tags": []
   },
   "outputs": [
    {
     "data": {
      "text/plain": [
       "'submit_pytorch_0.41879.csv'"
      ]
     },
     "execution_count": 18,
     "metadata": {},
     "output_type": "execute_result"
    }
   ],
   "source": [
    "file_name = f\"submit_pytorch_{valid_score:.5f}.csv\"\n",
    "file_name"
   ]
  },
  {
   "cell_type": "code",
   "execution_count": 19,
   "id": "a0a30e61-23d0-4802-9950-e5285dc0663d",
   "metadata": {
    "tags": []
   },
   "outputs": [
    {
     "data": {
      "text/html": [
       "<div>\n",
       "<style scoped>\n",
       "    .dataframe tbody tr th:only-of-type {\n",
       "        vertical-align: middle;\n",
       "    }\n",
       "\n",
       "    .dataframe tbody tr th {\n",
       "        vertical-align: top;\n",
       "    }\n",
       "\n",
       "    .dataframe thead th {\n",
       "        text-align: right;\n",
       "    }\n",
       "</style>\n",
       "<table border=\"1\" class=\"dataframe\">\n",
       "  <thead>\n",
       "    <tr style=\"text-align: right;\">\n",
       "      <th></th>\n",
       "      <th>y</th>\n",
       "    </tr>\n",
       "    <tr>\n",
       "      <th>ID</th>\n",
       "      <th></th>\n",
       "    </tr>\n",
       "  </thead>\n",
       "  <tbody>\n",
       "    <tr>\n",
       "      <th>1</th>\n",
       "      <td>83.895744</td>\n",
       "    </tr>\n",
       "    <tr>\n",
       "      <th>2</th>\n",
       "      <td>101.407210</td>\n",
       "    </tr>\n",
       "  </tbody>\n",
       "</table>\n",
       "</div>"
      ],
      "text/plain": [
       "             y\n",
       "ID            \n",
       "1    83.895744\n",
       "2   101.407210"
      ]
     },
     "execution_count": 19,
     "metadata": {},
     "output_type": "execute_result"
    }
   ],
   "source": [
    "submission.to_csv(file_name)\n",
    "pd.read_csv(file_name, index_col=\"ID\").head(2)"
   ]
  },
  {
   "cell_type": "code",
   "execution_count": null,
   "id": "5b717ecc-3576-4780-a2fa-79d96249e18c",
   "metadata": {},
   "outputs": [],
   "source": []
  }
 ],
 "metadata": {
  "kernelspec": {
   "display_name": "Python 3 (ipykernel)",
   "language": "python",
   "name": "python3"
  },
  "language_info": {
   "codemirror_mode": {
    "name": "ipython",
    "version": 3
   },
   "file_extension": ".py",
   "mimetype": "text/x-python",
   "name": "python",
   "nbconvert_exporter": "python",
   "pygments_lexer": "ipython3",
   "version": "3.10.7"
  },
  "toc": {
   "base_numbering": 1,
   "nav_menu": {},
   "number_sections": true,
   "sideBar": true,
   "skip_h1_title": false,
   "title_cell": "Table of Contents",
   "title_sidebar": "Contents",
   "toc_cell": false,
   "toc_position": {},
   "toc_section_display": true,
   "toc_window_display": false
  },
  "varInspector": {
   "cols": {
    "lenName": 16,
    "lenType": 16,
    "lenVar": 40
   },
   "kernels_config": {
    "python": {
     "delete_cmd_postfix": "",
     "delete_cmd_prefix": "del ",
     "library": "var_list.py",
     "varRefreshCmd": "print(var_dic_list())"
    },
    "r": {
     "delete_cmd_postfix": ") ",
     "delete_cmd_prefix": "rm(",
     "library": "var_list.r",
     "varRefreshCmd": "cat(var_dic_list()) "
    }
   },
   "types_to_exclude": [
    "module",
    "function",
    "builtin_function_or_method",
    "instance",
    "_Feature"
   ],
   "window_display": false
  }
 },
 "nbformat": 4,
 "nbformat_minor": 5
}
