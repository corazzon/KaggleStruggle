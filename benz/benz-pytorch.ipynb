{
 "cells": [
  {
   "cell_type": "code",
   "execution_count": 1,
   "id": "7bb20305",
   "metadata": {},
   "outputs": [],
   "source": [
    "import pandas as pd\n",
    "import numpy as np"
   ]
  },
  {
   "cell_type": "code",
   "execution_count": 2,
   "id": "fc171bfa",
   "metadata": {},
   "outputs": [],
   "source": [
    "base_path = \"data\"\n",
    "train = pd.read_csv(f'{base_path}/train.csv.zip', index_col=\"ID\")\n",
    "test = pd.read_csv(f'{base_path}/test.csv.zip', index_col=\"ID\")\n",
    "submission = pd.read_csv(f'{base_path}/sample_submission.csv.zip', index_col=\"ID\")"
   ]
  },
  {
   "cell_type": "code",
   "execution_count": 3,
   "id": "0adfd334",
   "metadata": {},
   "outputs": [],
   "source": [
    "categorical_feature = train.select_dtypes(include=\"object\").columns\n",
    "train[categorical_feature] = train[categorical_feature].astype(\"category\")\n",
    "test[categorical_feature] = test[categorical_feature].astype(\"category\")"
   ]
  },
  {
   "cell_type": "code",
   "execution_count": 4,
   "id": "37fe770e",
   "metadata": {},
   "outputs": [
    {
     "data": {
      "text/plain": [
       "((4209, 376), (4209,))"
      ]
     },
     "execution_count": 4,
     "metadata": {},
     "output_type": "execute_result"
    }
   ],
   "source": [
    "X, y = train.drop(columns=\"y\"), train[\"y\"]\n",
    "X.shape, y.shape"
   ]
  },
  {
   "cell_type": "code",
   "execution_count": 5,
   "id": "a3ef9c89",
   "metadata": {},
   "outputs": [
    {
     "data": {
      "text/plain": [
       "((3998, 376), (211, 376), (3998,), (211,))"
      ]
     },
     "execution_count": 5,
     "metadata": {},
     "output_type": "execute_result"
    }
   ],
   "source": [
    "# train_test_split을 이용해 X, y 값을 X_train, X_valid, y_train, y_valid 으로 나눠줍니다.\n",
    "# Hold-out-valiation을 위해 train, valid 세트로 나누기\n",
    "# test_size=0.1 => 이름은 test지만 train으로 나눠주었기 때문에 valid 사이즈를 지정한 것입니다.\n",
    "from sklearn.model_selection import train_test_split\n",
    "\n",
    "X_train, X_valid, y_train, y_valid = train_test_split(\n",
    "    X, y, test_size=0.05, random_state=42)\n",
    "X_train.shape, X_valid.shape, y_train.shape, y_valid.shape"
   ]
  },
  {
   "cell_type": "code",
   "execution_count": 6,
   "id": "c6849234",
   "metadata": {},
   "outputs": [],
   "source": [
    "X_test = test"
   ]
  },
  {
   "cell_type": "code",
   "execution_count": 7,
   "id": "80ea87f5",
   "metadata": {},
   "outputs": [],
   "source": [
    "from sklearn.preprocessing import OrdinalEncoder\n",
    "\n",
    "oe = OrdinalEncoder(handle_unknown='use_encoded_value', unknown_value=-1)\n",
    "\n",
    "X_train[categorical_feature] = oe.fit_transform(X_train[categorical_feature])\n",
    "X_valid[categorical_feature] = oe.transform(X_valid[categorical_feature])\n",
    "X_test[categorical_feature] = oe.transform(X_test[categorical_feature])"
   ]
  },
  {
   "cell_type": "code",
   "execution_count": 8,
   "id": "d87212a6",
   "metadata": {},
   "outputs": [
    {
     "data": {
      "text/plain": [
       "(torch.Size([3998, 376]),\n",
       " torch.Size([3998, 1]),\n",
       " torch.Size([211, 376]),\n",
       " torch.Size([211, 1]))"
      ]
     },
     "execution_count": 8,
     "metadata": {},
     "output_type": "execute_result"
    }
   ],
   "source": [
    "import torch\n",
    "import torch.nn as nn\n",
    "import torch.optim as optim\n",
    "\n",
    "\n",
    "# PyTorch 모델을 위한 데이터 변환\n",
    "X_train = torch.FloatTensor(X_train.values)\n",
    "y_train = torch.FloatTensor(y_train.values.reshape(-1, 1))\n",
    "X_valid = torch.FloatTensor(X_valid.values)\n",
    "y_valid = torch.FloatTensor(y_valid.values.reshape(-1, 1))\n",
    "X_test = torch.FloatTensor(X_test.values)\n",
    "\n",
    "X_train.shape, y_train.shape, X_valid.shape, y_valid.shape"
   ]
  },
  {
   "cell_type": "markdown",
   "id": "ed8d0670",
   "metadata": {},
   "source": [
    "* [예제로 배우는 파이토치(PyTorch) — 파이토치 한국어 튜토리얼 (PyTorch tutorials in Korean)](https://tutorials.pytorch.kr/beginner/pytorch_with_examples.html)\n",
    "* [Linear — PyTorch documentation](https://pytorch.org/docs/stable/generated/torch.nn.Linear.html)"
   ]
  },
  {
   "cell_type": "code",
   "execution_count": 9,
   "id": "cb65a908",
   "metadata": {},
   "outputs": [
    {
     "name": "stdout",
     "output_type": "stream",
     "text": [
      "Epoch [200/2000], Loss: 112.0380]\n",
      "Epoch [400/2000], Loss: 71.8323]\n",
      "Epoch [600/2000], Loss: 66.4955]\n",
      "Epoch [800/2000], Loss: 63.3859]\n",
      "Epoch [1000/2000], Loss: 61.3936]\n",
      "Epoch [1200/2000], Loss: 59.9712]\n",
      "Epoch [1400/2000], Loss: 58.7246]\n",
      "Epoch [1600/2000], Loss: 57.4232]\n",
      "Epoch [1800/2000], Loss: 55.8380]\n",
      "Epoch [2000/2000], Loss: 54.4302]\n",
      "Test Loss: 65.2284\n"
     ]
    }
   ],
   "source": [
    "# Multivariate Linear Regression 모델 구현\n",
    "class MultivariateLinearRegression(nn.Module):\n",
    "    def __init__(self, input_size, output_size):\n",
    "        super(MultivariateLinearRegression, self).__init__()\n",
    "        self.fc1 = nn.Linear(input_size, 128)\n",
    "        self.fc2 = nn.Linear(128, 64)\n",
    "        self.fc3 = nn.Linear(64, output_size)\n",
    "        self.relu = nn.ReLU()\n",
    "        \n",
    "    def forward(self, x):\n",
    "        x = self.fc1(x)\n",
    "        x = self.relu(x)\n",
    "        x = self.fc2(x)\n",
    "        x = self.relu(x)\n",
    "        x = self.fc3(x)\n",
    "        return x\n",
    "    \n",
    "\n",
    "class R2ScoreLoss(nn.Module):\n",
    "    def __init__(self):\n",
    "        super(R2ScoreLoss, self).__init__()\n",
    "\n",
    "    def forward(self, y_pred, y_true):\n",
    "        residual = y_true - y_pred\n",
    "        total = y_true - torch.mean(y_true)\n",
    "        r2_score = 1 - torch.sum(residual**2) / torch.sum(total**2)\n",
    "        return r2_score\n",
    "    \n",
    "    \n",
    "    \n",
    "# 모델 인스턴스 생성\n",
    "model = MultivariateLinearRegression(input_size=X_train.shape[1], output_size=1)\n",
    "\n",
    "# 손실 함수 및 최적화 알고리즘 설정\n",
    "# criterion = R2ScoreLoss()\n",
    "criterion = nn.MSELoss()\n",
    "optimizer = optim.Adam(model.parameters(), lr=0.001)\n",
    "\n",
    "# 모델 학습하기\n",
    "num_epochs = 2000\n",
    "for epoch in range(num_epochs):\n",
    "    # 순전파 계산\n",
    "    y_pred = model(X_train)\n",
    "    \n",
    "    # 손실 계산\n",
    "    loss = criterion(y_pred, y_train)\n",
    "\n",
    "    # 역전파 계산 및 가중치 갱신\n",
    "    optimizer.zero_grad()\n",
    "    loss.backward()\n",
    "    optimizer.step()\n",
    "\n",
    "    # 로그 출력\n",
    "    if (epoch+1) % 200 == 0:\n",
    "        print(f'Epoch [{epoch+1}/{num_epochs}], Loss: {loss.item():.4f}]')\n",
    "\n",
    "# 테스트 데이터에 대한 예측 결과 출력\n",
    "with torch.no_grad():\n",
    "    y_pred_valid = model(X_valid)\n",
    "    print(f'Test Loss: {criterion(y_pred_valid, y_valid).item():.4f}')"
   ]
  },
  {
   "cell_type": "code",
   "execution_count": 10,
   "id": "a6aff720",
   "metadata": {},
   "outputs": [
    {
     "data": {
      "text/plain": [
       "(torch.Size([211, 1]), torch.Size([211, 1]))"
      ]
     },
     "execution_count": 10,
     "metadata": {},
     "output_type": "execute_result"
    }
   ],
   "source": [
    "y_valid.shape, y_pred_valid.shape"
   ]
  },
  {
   "cell_type": "code",
   "execution_count": 11,
   "id": "2444410a",
   "metadata": {},
   "outputs": [
    {
     "data": {
      "text/plain": [
       "0.5395774971989298"
      ]
     },
     "execution_count": 11,
     "metadata": {},
     "output_type": "execute_result"
    }
   ],
   "source": [
    "from sklearn.metrics import r2_score\n",
    "\n",
    "valid_score = r2_score(y_valid, y_pred_valid)\n",
    "valid_score"
   ]
  },
  {
   "cell_type": "code",
   "execution_count": 12,
   "id": "ef945a19-c5b1-4f31-9607-e5c1ab3baccf",
   "metadata": {
    "tags": []
   },
   "outputs": [
    {
     "data": {
      "text/plain": [
       "array([ 95.46068 , 113.63221 ,  94.816986,  73.68028 , 112.739365],\n",
       "      dtype=float32)"
      ]
     },
     "execution_count": 12,
     "metadata": {},
     "output_type": "execute_result"
    }
   ],
   "source": [
    "with torch.no_grad():\n",
    "    outputs = model(X_test)\n",
    "    y_predict = outputs.squeeze().numpy()\n",
    "    \n",
    "y_predict[:5]"
   ]
  },
  {
   "cell_type": "markdown",
   "id": "67a9fe9e-40ab-41bf-93e0-f46422bb441b",
   "metadata": {
    "tags": []
   },
   "source": [
    "https://www.kaggle.com/competitions/mercedes-benz-greener-manufacturing/submissions"
   ]
  },
  {
   "cell_type": "code",
   "execution_count": 13,
   "id": "6271c5f4",
   "metadata": {},
   "outputs": [],
   "source": [
    "submission[\"y\"] = y_predict"
   ]
  },
  {
   "cell_type": "code",
   "execution_count": 14,
   "id": "f9153b1f-5e8d-4755-bf80-65055314e15e",
   "metadata": {
    "tags": []
   },
   "outputs": [
    {
     "data": {
      "text/plain": [
       "'submit_pytorch_0.53958.csv'"
      ]
     },
     "execution_count": 14,
     "metadata": {},
     "output_type": "execute_result"
    }
   ],
   "source": [
    "file_name = f\"submit_pytorch_{valid_score:.5f}.csv\"\n",
    "file_name"
   ]
  },
  {
   "cell_type": "code",
   "execution_count": 15,
   "id": "a0a30e61-23d0-4802-9950-e5285dc0663d",
   "metadata": {
    "tags": []
   },
   "outputs": [
    {
     "data": {
      "text/html": [
       "<div>\n",
       "<style scoped>\n",
       "    .dataframe tbody tr th:only-of-type {\n",
       "        vertical-align: middle;\n",
       "    }\n",
       "\n",
       "    .dataframe tbody tr th {\n",
       "        vertical-align: top;\n",
       "    }\n",
       "\n",
       "    .dataframe thead th {\n",
       "        text-align: right;\n",
       "    }\n",
       "</style>\n",
       "<table border=\"1\" class=\"dataframe\">\n",
       "  <thead>\n",
       "    <tr style=\"text-align: right;\">\n",
       "      <th></th>\n",
       "      <th>y</th>\n",
       "    </tr>\n",
       "    <tr>\n",
       "      <th>ID</th>\n",
       "      <th></th>\n",
       "    </tr>\n",
       "  </thead>\n",
       "  <tbody>\n",
       "    <tr>\n",
       "      <th>1</th>\n",
       "      <td>95.46068</td>\n",
       "    </tr>\n",
       "    <tr>\n",
       "      <th>2</th>\n",
       "      <td>113.63221</td>\n",
       "    </tr>\n",
       "  </tbody>\n",
       "</table>\n",
       "</div>"
      ],
      "text/plain": [
       "            y\n",
       "ID           \n",
       "1    95.46068\n",
       "2   113.63221"
      ]
     },
     "execution_count": 15,
     "metadata": {},
     "output_type": "execute_result"
    }
   ],
   "source": [
    "submission.to_csv(file_name)\n",
    "pd.read_csv(file_name, index_col=\"ID\").head(2)"
   ]
  },
  {
   "cell_type": "code",
   "execution_count": null,
   "id": "5b717ecc-3576-4780-a2fa-79d96249e18c",
   "metadata": {},
   "outputs": [],
   "source": []
  }
 ],
 "metadata": {
  "kernelspec": {
   "display_name": "Python 3 (ipykernel)",
   "language": "python",
   "name": "python3"
  },
  "language_info": {
   "codemirror_mode": {
    "name": "ipython",
    "version": 3
   },
   "file_extension": ".py",
   "mimetype": "text/x-python",
   "name": "python",
   "nbconvert_exporter": "python",
   "pygments_lexer": "ipython3",
   "version": "3.10.7"
  },
  "toc": {
   "base_numbering": 1,
   "nav_menu": {},
   "number_sections": true,
   "sideBar": true,
   "skip_h1_title": false,
   "title_cell": "Table of Contents",
   "title_sidebar": "Contents",
   "toc_cell": false,
   "toc_position": {},
   "toc_section_display": true,
   "toc_window_display": false
  },
  "varInspector": {
   "cols": {
    "lenName": 16,
    "lenType": 16,
    "lenVar": 40
   },
   "kernels_config": {
    "python": {
     "delete_cmd_postfix": "",
     "delete_cmd_prefix": "del ",
     "library": "var_list.py",
     "varRefreshCmd": "print(var_dic_list())"
    },
    "r": {
     "delete_cmd_postfix": ") ",
     "delete_cmd_prefix": "rm(",
     "library": "var_list.r",
     "varRefreshCmd": "cat(var_dic_list()) "
    }
   },
   "types_to_exclude": [
    "module",
    "function",
    "builtin_function_or_method",
    "instance",
    "_Feature"
   ],
   "window_display": false
  }
 },
 "nbformat": 4,
 "nbformat_minor": 5
}
