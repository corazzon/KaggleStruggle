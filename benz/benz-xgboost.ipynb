{
 "cells": [
  {
   "cell_type": "code",
   "execution_count": 1,
   "id": "ded29969",
   "metadata": {},
   "outputs": [],
   "source": [
    "import numpy as np\n",
    "import pandas as pd\n",
    "import matplotlib.pyplot as plt\n",
    "import seaborn as sns\n",
    "import os"
   ]
  },
  {
   "cell_type": "code",
   "execution_count": 2,
   "id": "bed5f780",
   "metadata": {},
   "outputs": [],
   "source": [
    "base_path = \"data\"\n",
    "train = pd.read_csv(f'{base_path}/train.csv.zip', index_col=\"ID\")\n",
    "test = pd.read_csv(f'{base_path}/test.csv.zip', index_col=\"ID\")\n",
    "submission = pd.read_csv(f'{base_path}/sample_submission.csv.zip', index_col=\"ID\")"
   ]
  },
  {
   "cell_type": "code",
   "execution_count": 3,
   "id": "9577d2bf",
   "metadata": {},
   "outputs": [],
   "source": [
    "cat_col = train.select_dtypes(include=\"object\").columns\n",
    "train[cat_col] = train[cat_col].astype(\"category\")\n",
    "test[cat_col] = test[cat_col].astype(\"category\")"
   ]
  },
  {
   "cell_type": "code",
   "execution_count": 4,
   "id": "aa363bdb",
   "metadata": {},
   "outputs": [
    {
     "name": "stdout",
     "output_type": "stream",
     "text": [
      "<class 'pandas.core.frame.DataFrame'>\n",
      "Int64Index: 4209 entries, 0 to 8417\n",
      "Columns: 377 entries, y to X385\n",
      "dtypes: category(8), float64(1), int64(368)\n",
      "memory usage: 11.9 MB\n"
     ]
    }
   ],
   "source": [
    "train.info()"
   ]
  },
  {
   "cell_type": "code",
   "execution_count": 5,
   "id": "886450a2",
   "metadata": {},
   "outputs": [
    {
     "name": "stdout",
     "output_type": "stream",
     "text": [
      "<class 'pandas.core.frame.DataFrame'>\n",
      "Int64Index: 4209 entries, 1 to 8416\n",
      "Columns: 376 entries, X0 to X385\n",
      "dtypes: category(8), int64(368)\n",
      "memory usage: 11.9 MB\n"
     ]
    }
   ],
   "source": [
    "test.info()"
   ]
  },
  {
   "cell_type": "code",
   "execution_count": 6,
   "id": "a9e79cb8",
   "metadata": {},
   "outputs": [
    {
     "data": {
      "text/plain": [
       "count    4209.000000\n",
       "mean      100.669318\n",
       "std        12.679381\n",
       "min        72.110000\n",
       "25%        90.820000\n",
       "50%        99.150000\n",
       "75%       109.010000\n",
       "max       265.320000\n",
       "Name: y, dtype: float64"
      ]
     },
     "execution_count": 6,
     "metadata": {},
     "output_type": "execute_result"
    }
   ],
   "source": [
    "train[\"y\"].describe()"
   ]
  },
  {
   "cell_type": "markdown",
   "id": "331cedbe",
   "metadata": {},
   "source": [
    "## XGBoost\n",
    "* xgboost는 GBT에서 병렬 학습을 지원하여 학습 속도가 빨라진 모델입니다.\n",
    "* 기본 GBT에 비해 더 효율적이고, 다양한 종류의 데이터에 대응할 수 있으며 이식성이 높습니다.\n",
    "\n",
    "\n",
    "### XGBoost Parameter\n",
    "\n",
    "https://xgboost.readthedocs.io/en/stable/python/python_api.html#module-xgboost.sklearn"
   ]
  },
  {
   "cell_type": "code",
   "execution_count": 7,
   "id": "20027d99",
   "metadata": {},
   "outputs": [
    {
     "data": {
      "text/plain": [
       "((4209, 376), (4209,))"
      ]
     },
     "execution_count": 7,
     "metadata": {},
     "output_type": "execute_result"
    }
   ],
   "source": [
    "X, y = train.drop(columns=\"y\"), train[\"y\"]\n",
    "X.shape, y.shape"
   ]
  },
  {
   "cell_type": "code",
   "execution_count": 8,
   "id": "dbee26a1",
   "metadata": {},
   "outputs": [
    {
     "data": {
      "text/plain": [
       "((3998, 376), (211, 376), (3998,), (211,))"
      ]
     },
     "execution_count": 8,
     "metadata": {},
     "output_type": "execute_result"
    }
   ],
   "source": [
    "# train_test_split을 이용해 X, y 값을 X_train, X_valid, y_train, y_valid 으로 나눠줍니다.\n",
    "# Hold-out-valiation을 위해 train, valid 세트로 나누기\n",
    "# test_size=0.1 => 이름은 test지만 train으로 나눠주었기 때문에 valid 사이즈를 지정한 것입니다.\n",
    "from sklearn.model_selection import train_test_split\n",
    "\n",
    "# X_train, X_valid, y_train, y_valid\n",
    "X_train, X_valid, y_train, y_valid = train_test_split(\n",
    "    X, y, test_size=0.05, random_state=42)\n",
    "X_train.shape, X_valid.shape, y_train.shape, y_valid.shape"
   ]
  },
  {
   "cell_type": "code",
   "execution_count": 9,
   "id": "8bae4274",
   "metadata": {},
   "outputs": [
    {
     "data": {
      "text/plain": [
       "'1.7.4'"
      ]
     },
     "execution_count": 9,
     "metadata": {},
     "output_type": "execute_result"
    }
   ],
   "source": [
    "# xgboost는 gradient boosting tree(GBT)의 병렬 학습을 구현한 라이브러리입니다.\n",
    "import xgboost as xgb\n",
    "\n",
    "xgb.__version__"
   ]
  },
  {
   "cell_type": "markdown",
   "id": "28025e11",
   "metadata": {},
   "source": [
    "* https://xgboost.readthedocs.io/en/stable/python/python_api.html#module-xgboost.sklearn\n",
    "\n",
    "* n_estimators: 생성할 트리의 개수를 지정합니다. 이 값이 클수록 모델의 복잡도가 증가하며, 오버피팅(overfitting) 가능성이 높아집니다.\n",
    "    * learning_rate가 낮을 땐, n_estimators를 높여야 과적합이 방지됨\n",
    "    * 너무 작으면 underfitting이 되고 이는 낮은 정확성의 prediction이 되는반면 \n",
    "    * 너무 크면 overfitting이 되고 training 에는 정확한 prediction을 보이지만 test 에서는 정확성이 낮은 prediction을 가짐\n",
    "* learning_rate: 각 트리의 예측값에 대한 가중치를 지정하는 값입니다. 이 값이 작을수록 모델의 학습 속도가 느려지지만, 더욱 정확한 예측을 수행할 수 있습니다.\n",
    "* max_depth: 생성할 트리의 최대 깊이를 지정합니다. 이 값이 크면 모델이 복잡해지며, 오버피팅 가능성이 높아집니다.\n",
    "* subsample: 각 트리에서 사용할 학습 데이터의 비율을 지정합니다. 이 값이 작을수록 모델의 일반화 능력이 향상됩니다.\n",
    "* colsample_bytree: 각 트리에서 사용할 피처의 비율을 지정합니다. 이 값이 작을수록 모델의 일반화 능력이 향상됩니다.\n",
    "* gamma: 각 노드에서 추가적으로 분할하기 위한 최소 손실 감소값을 지정합니다. 이 값이 클수록 모델이 보수적으로 학습하며, 오버피팅 가능성이 줄어듭니다.\n",
    "* reg_alpha: L1 정규화(regularization) 계수를 지정합니다. 이 값이 클수록 모델이 보수적으로 학습하며, 오버피팅 가능성이 줄어듭니다.\n",
    "* reg_lambda: L2 정규화(regularization) 계수를 지정합니다. 이 값이 클수록 모델이 보수적으로 학습하며, 오버피팅 가능성이 줄어듭니다.\n",
    "* objective: 손실함수를 지정합니다. 이 값은 주어진 문제 유형에 따라 다르게 지정됩니다.\n",
    "    * 회귀 문제의 경우 'reg:squarederror'\n",
    "    * 이진 분류 문제의 경우 'binary:logistic'\n",
    "    * 다중 분류 문제의 경우 'multi:softmax'\n",
    "* booster: 사용할 부스팅 알고리즘을 지정합니다. \n",
    "    * 'gbtree'는 트리 기반 부스팅 알고리즘\n",
    "    * 'gblinear'는 선형 부스팅 알고리즘\n",
    "    * 'dart'는 Dropout을 이용한 알고리즘\n",
    "* scale_pos_weight: 이진 분류 문제에서 양성 클래스의 비율이 음성 클래스보다 작을 때 사용합니다. \n",
    "    * 음성 클래스의 수 / 양성 클래스의 수 로 계산\n",
    "* early_stopping_rounds: 조기 종료(early stopping)를 위한 설정입니다. 이 값은 지정된 수 만큼 검증 세트의 손실이 감소하지 않으면 학습을 종료합니다.\n",
    "* tree_method: 트리 학습 알고리즘을 지정합니다. \n",
    "    * 'auto'는 자동 선택\n",
    "    * 'exact'는 완전하게 성장하는 트리\n",
    "    * 'approx'는 근사치 기반 알고리즘 \n",
    "    * 'hist'는 히스토그램 기반 알고리즘 \n",
    "    * 'gpu_hist'는 GPU 기반 히스토그램 기반 알고리즘\n",
    "* gpu_id: GPU 사용을 위한 설정입니다. 이 값을 -1로 지정하면 자동 선택됩니다.\n",
    "* verbosity: 출력 메시지의 상세도를 지정합니다. 0은 출력을 하지 않습니다. 값이 클수록 더 자세한 출력을 보여줍니다.\n",
    "\n",
    "* eval_metric:\n",
    "    * rmse: root mean square error\n",
    "    * mae: mean absolute error\n",
    "    * logloss: negative log-likelihood\n",
    "    * error: Binary classification error rate (0.5 threshold)\n",
    "    * merror: Multiclass classification error rate\n",
    "    * mlogloss: Multiclass logloss\n",
    "    * auc: Area under the curve\n",
    "    * map (mean average precision)\n"
   ]
  },
  {
   "cell_type": "code",
   "execution_count": 10,
   "id": "e712cb9e",
   "metadata": {},
   "outputs": [
    {
     "data": {
      "text/plain": [
       "['X0', 'X1', 'X2', 'X3', 'X4', 'X5', 'X6', 'X8']"
      ]
     },
     "execution_count": 10,
     "metadata": {},
     "output_type": "execute_result"
    }
   ],
   "source": [
    "categorical_feature = X_train.select_dtypes(include=\"category\").columns.tolist()\n",
    "categorical_feature"
   ]
  },
  {
   "cell_type": "code",
   "execution_count": 11,
   "id": "ac7e96d3",
   "metadata": {},
   "outputs": [],
   "source": [
    "from sklearn.preprocessing import OrdinalEncoder\n",
    "\n",
    "oe = OrdinalEncoder(handle_unknown='use_encoded_value', unknown_value=-1)\n",
    "\n",
    "X_train[categorical_feature] = oe.fit_transform(X_train[categorical_feature])\n",
    "X_valid[categorical_feature] = oe.transform(X_valid[categorical_feature])\n",
    "test[categorical_feature] = oe.transform(test[categorical_feature])"
   ]
  },
  {
   "cell_type": "code",
   "execution_count": 12,
   "id": "4eb02589",
   "metadata": {},
   "outputs": [],
   "source": [
    "# for cat in categorical_feature:\n",
    "#     X_train[cat] = X_train[cat].cat.codes\n",
    "#     X_valid[cat] = X_valid[cat].cat.codes\n",
    "#     test[cat] = test[cat].cat.codes"
   ]
  },
  {
   "cell_type": "code",
   "execution_count": 13,
   "id": "f470841d",
   "metadata": {},
   "outputs": [
    {
     "data": {
      "text/html": [
       "<style>#sk-container-id-1 {color: black;background-color: white;}#sk-container-id-1 pre{padding: 0;}#sk-container-id-1 div.sk-toggleable {background-color: white;}#sk-container-id-1 label.sk-toggleable__label {cursor: pointer;display: block;width: 100%;margin-bottom: 0;padding: 0.3em;box-sizing: border-box;text-align: center;}#sk-container-id-1 label.sk-toggleable__label-arrow:before {content: \"▸\";float: left;margin-right: 0.25em;color: #696969;}#sk-container-id-1 label.sk-toggleable__label-arrow:hover:before {color: black;}#sk-container-id-1 div.sk-estimator:hover label.sk-toggleable__label-arrow:before {color: black;}#sk-container-id-1 div.sk-toggleable__content {max-height: 0;max-width: 0;overflow: hidden;text-align: left;background-color: #f0f8ff;}#sk-container-id-1 div.sk-toggleable__content pre {margin: 0.2em;color: black;border-radius: 0.25em;background-color: #f0f8ff;}#sk-container-id-1 input.sk-toggleable__control:checked~div.sk-toggleable__content {max-height: 200px;max-width: 100%;overflow: auto;}#sk-container-id-1 input.sk-toggleable__control:checked~label.sk-toggleable__label-arrow:before {content: \"▾\";}#sk-container-id-1 div.sk-estimator input.sk-toggleable__control:checked~label.sk-toggleable__label {background-color: #d4ebff;}#sk-container-id-1 div.sk-label input.sk-toggleable__control:checked~label.sk-toggleable__label {background-color: #d4ebff;}#sk-container-id-1 input.sk-hidden--visually {border: 0;clip: rect(1px 1px 1px 1px);clip: rect(1px, 1px, 1px, 1px);height: 1px;margin: -1px;overflow: hidden;padding: 0;position: absolute;width: 1px;}#sk-container-id-1 div.sk-estimator {font-family: monospace;background-color: #f0f8ff;border: 1px dotted black;border-radius: 0.25em;box-sizing: border-box;margin-bottom: 0.5em;}#sk-container-id-1 div.sk-estimator:hover {background-color: #d4ebff;}#sk-container-id-1 div.sk-parallel-item::after {content: \"\";width: 100%;border-bottom: 1px solid gray;flex-grow: 1;}#sk-container-id-1 div.sk-label:hover label.sk-toggleable__label {background-color: #d4ebff;}#sk-container-id-1 div.sk-serial::before {content: \"\";position: absolute;border-left: 1px solid gray;box-sizing: border-box;top: 0;bottom: 0;left: 50%;z-index: 0;}#sk-container-id-1 div.sk-serial {display: flex;flex-direction: column;align-items: center;background-color: white;padding-right: 0.2em;padding-left: 0.2em;position: relative;}#sk-container-id-1 div.sk-item {position: relative;z-index: 1;}#sk-container-id-1 div.sk-parallel {display: flex;align-items: stretch;justify-content: center;background-color: white;position: relative;}#sk-container-id-1 div.sk-item::before, #sk-container-id-1 div.sk-parallel-item::before {content: \"\";position: absolute;border-left: 1px solid gray;box-sizing: border-box;top: 0;bottom: 0;left: 50%;z-index: -1;}#sk-container-id-1 div.sk-parallel-item {display: flex;flex-direction: column;z-index: 1;position: relative;background-color: white;}#sk-container-id-1 div.sk-parallel-item:first-child::after {align-self: flex-end;width: 50%;}#sk-container-id-1 div.sk-parallel-item:last-child::after {align-self: flex-start;width: 50%;}#sk-container-id-1 div.sk-parallel-item:only-child::after {width: 0;}#sk-container-id-1 div.sk-dashed-wrapped {border: 1px dashed gray;margin: 0 0.4em 0.5em 0.4em;box-sizing: border-box;padding-bottom: 0.4em;background-color: white;}#sk-container-id-1 div.sk-label label {font-family: monospace;font-weight: bold;display: inline-block;line-height: 1.2em;}#sk-container-id-1 div.sk-label-container {text-align: center;}#sk-container-id-1 div.sk-container {/* jupyter's `normalize.less` sets `[hidden] { display: none; }` but bootstrap.min.css set `[hidden] { display: none !important; }` so we also need the `!important` here to be able to override the default hidden behavior on the sphinx rendered scikit-learn.org. See: https://github.com/scikit-learn/scikit-learn/issues/21755 */display: inline-block !important;position: relative;}#sk-container-id-1 div.sk-text-repr-fallback {display: none;}</style><div id=\"sk-container-id-1\" class=\"sk-top-container\"><div class=\"sk-text-repr-fallback\"><pre>XGBRegressor(base_score=None, booster=None, callbacks=None,\n",
       "             colsample_bylevel=None, colsample_bynode=None,\n",
       "             colsample_bytree=None, early_stopping_rounds=None,\n",
       "             enable_categorical=True, eval_metric=None, feature_types=None,\n",
       "             gamma=None, gpu_id=None, grow_policy=None, importance_type=None,\n",
       "             interaction_constraints=None, learning_rate=0.05, max_bin=None,\n",
       "             max_cat_threshold=None, max_cat_to_onehot=None,\n",
       "             max_delta_step=None, max_depth=3, max_leaves=None,\n",
       "             min_child_weight=None, missing=nan, monotone_constraints=None,\n",
       "             n_estimators=1000, n_jobs=-1, num_parallel_tree=None,\n",
       "             predictor=None, random_state=42, ...)</pre><b>In a Jupyter environment, please rerun this cell to show the HTML representation or trust the notebook. <br />On GitHub, the HTML representation is unable to render, please try loading this page with nbviewer.org.</b></div><div class=\"sk-container\" hidden><div class=\"sk-item\"><div class=\"sk-estimator sk-toggleable\"><input class=\"sk-toggleable__control sk-hidden--visually\" id=\"sk-estimator-id-1\" type=\"checkbox\" checked><label for=\"sk-estimator-id-1\" class=\"sk-toggleable__label sk-toggleable__label-arrow\">XGBRegressor</label><div class=\"sk-toggleable__content\"><pre>XGBRegressor(base_score=None, booster=None, callbacks=None,\n",
       "             colsample_bylevel=None, colsample_bynode=None,\n",
       "             colsample_bytree=None, early_stopping_rounds=None,\n",
       "             enable_categorical=True, eval_metric=None, feature_types=None,\n",
       "             gamma=None, gpu_id=None, grow_policy=None, importance_type=None,\n",
       "             interaction_constraints=None, learning_rate=0.05, max_bin=None,\n",
       "             max_cat_threshold=None, max_cat_to_onehot=None,\n",
       "             max_delta_step=None, max_depth=3, max_leaves=None,\n",
       "             min_child_weight=None, missing=nan, monotone_constraints=None,\n",
       "             n_estimators=1000, n_jobs=-1, num_parallel_tree=None,\n",
       "             predictor=None, random_state=42, ...)</pre></div></div></div></div></div>"
      ],
      "text/plain": [
       "XGBRegressor(base_score=None, booster=None, callbacks=None,\n",
       "             colsample_bylevel=None, colsample_bynode=None,\n",
       "             colsample_bytree=None, early_stopping_rounds=None,\n",
       "             enable_categorical=True, eval_metric=None, feature_types=None,\n",
       "             gamma=None, gpu_id=None, grow_policy=None, importance_type=None,\n",
       "             interaction_constraints=None, learning_rate=0.05, max_bin=None,\n",
       "             max_cat_threshold=None, max_cat_to_onehot=None,\n",
       "             max_delta_step=None, max_depth=3, max_leaves=None,\n",
       "             min_child_weight=None, missing=nan, monotone_constraints=None,\n",
       "             n_estimators=1000, n_jobs=-1, num_parallel_tree=None,\n",
       "             predictor=None, random_state=42, ...)"
      ]
     },
     "execution_count": 13,
     "metadata": {},
     "output_type": "execute_result"
    }
   ],
   "source": [
    "model_xgb = xgb.XGBRegressor(objective='reg:squarederror', \n",
    "                             n_estimators=1000, \n",
    "                             learning_rate=0.05,\n",
    "                             max_depth=3,\n",
    "                             random_state=42, \n",
    "                             n_jobs=-1, \n",
    "                             tree_method=\"hist\", \n",
    "                             enable_categorical=True)\n",
    "model_xgb"
   ]
  },
  {
   "cell_type": "code",
   "execution_count": 14,
   "id": "21472f1b",
   "metadata": {
    "scrolled": false
   },
   "outputs": [
    {
     "name": "stdout",
     "output_type": "stream",
     "text": [
      "[0]\tvalidation_0-rmse:95.77344\n",
      "[1]\tvalidation_0-rmse:91.01880\n",
      "[2]\tvalidation_0-rmse:86.50440\n",
      "[3]\tvalidation_0-rmse:82.21555\n",
      "[4]\tvalidation_0-rmse:78.14370\n",
      "[5]\tvalidation_0-rmse:74.27559\n",
      "[6]\tvalidation_0-rmse:70.60351\n",
      "[7]\tvalidation_0-rmse:67.11550\n",
      "[8]\tvalidation_0-rmse:63.80355\n",
      "[9]\tvalidation_0-rmse:60.65899\n",
      "[10]\tvalidation_0-rmse:57.67344\n",
      "[11]\tvalidation_0-rmse:54.83917\n",
      "[12]\tvalidation_0-rmse:52.14885\n",
      "[13]\tvalidation_0-rmse:49.59530\n",
      "[14]\tvalidation_0-rmse:47.17172\n",
      "[15]\tvalidation_0-rmse:44.87184\n",
      "[16]\tvalidation_0-rmse:42.68969\n",
      "[17]\tvalidation_0-rmse:40.61937\n",
      "[18]\tvalidation_0-rmse:38.65558\n",
      "[19]\tvalidation_0-rmse:36.79302\n",
      "[20]\tvalidation_0-rmse:35.02690\n",
      "[21]\tvalidation_0-rmse:33.35570\n",
      "[22]\tvalidation_0-rmse:31.77168\n",
      "[23]\tvalidation_0-rmse:30.27053\n",
      "[24]\tvalidation_0-rmse:28.84358\n",
      "[25]\tvalidation_0-rmse:27.49671\n",
      "[26]\tvalidation_0-rmse:26.21691\n",
      "[27]\tvalidation_0-rmse:25.00996\n",
      "[28]\tvalidation_0-rmse:23.86944\n",
      "[29]\tvalidation_0-rmse:22.79121\n",
      "[30]\tvalidation_0-rmse:21.77119\n",
      "[31]\tvalidation_0-rmse:20.80748\n",
      "[32]\tvalidation_0-rmse:19.89880\n",
      "[33]\tvalidation_0-rmse:19.03728\n",
      "[34]\tvalidation_0-rmse:18.22116\n",
      "[35]\tvalidation_0-rmse:17.45714\n",
      "[36]\tvalidation_0-rmse:16.73344\n",
      "[37]\tvalidation_0-rmse:16.05694\n",
      "[38]\tvalidation_0-rmse:15.41477\n",
      "[39]\tvalidation_0-rmse:14.81759\n",
      "[40]\tvalidation_0-rmse:14.25194\n",
      "[41]\tvalidation_0-rmse:13.71790\n",
      "[42]\tvalidation_0-rmse:13.22004\n",
      "[43]\tvalidation_0-rmse:12.75741\n",
      "[44]\tvalidation_0-rmse:12.31847\n",
      "[45]\tvalidation_0-rmse:11.91520\n",
      "[46]\tvalidation_0-rmse:11.53194\n",
      "[47]\tvalidation_0-rmse:11.17798\n",
      "[48]\tvalidation_0-rmse:10.84821\n",
      "[49]\tvalidation_0-rmse:10.54202\n",
      "[50]\tvalidation_0-rmse:10.25741\n",
      "[51]\tvalidation_0-rmse:9.99493\n",
      "[52]\tvalidation_0-rmse:9.74700\n",
      "[53]\tvalidation_0-rmse:9.51975\n",
      "[54]\tvalidation_0-rmse:9.30957\n",
      "[55]\tvalidation_0-rmse:9.11723\n",
      "[56]\tvalidation_0-rmse:8.93619\n",
      "[57]\tvalidation_0-rmse:8.77245\n",
      "[58]\tvalidation_0-rmse:8.62469\n",
      "[59]\tvalidation_0-rmse:8.48895\n",
      "[60]\tvalidation_0-rmse:8.36395\n",
      "[61]\tvalidation_0-rmse:8.24615\n",
      "[62]\tvalidation_0-rmse:8.14409\n",
      "[63]\tvalidation_0-rmse:8.04887\n",
      "[64]\tvalidation_0-rmse:7.95868\n",
      "[65]\tvalidation_0-rmse:7.87933\n",
      "[66]\tvalidation_0-rmse:7.80677\n",
      "[67]\tvalidation_0-rmse:7.74175\n",
      "[68]\tvalidation_0-rmse:7.68355\n",
      "[69]\tvalidation_0-rmse:7.62742\n",
      "[70]\tvalidation_0-rmse:7.57674\n",
      "[71]\tvalidation_0-rmse:7.52816\n",
      "[72]\tvalidation_0-rmse:7.48779\n",
      "[73]\tvalidation_0-rmse:7.45210\n",
      "[74]\tvalidation_0-rmse:7.41825\n",
      "[75]\tvalidation_0-rmse:7.38838\n",
      "[76]\tvalidation_0-rmse:7.35976\n",
      "[77]\tvalidation_0-rmse:7.33576\n",
      "[78]\tvalidation_0-rmse:7.31345\n",
      "[79]\tvalidation_0-rmse:7.29236\n",
      "[80]\tvalidation_0-rmse:7.27492\n",
      "[81]\tvalidation_0-rmse:7.25528\n",
      "[82]\tvalidation_0-rmse:7.24076\n",
      "[83]\tvalidation_0-rmse:7.22506\n",
      "[84]\tvalidation_0-rmse:7.21290\n",
      "[85]\tvalidation_0-rmse:7.20392\n",
      "[86]\tvalidation_0-rmse:7.19444\n",
      "[87]\tvalidation_0-rmse:7.18401\n",
      "[88]\tvalidation_0-rmse:7.17677\n",
      "[89]\tvalidation_0-rmse:7.16848\n",
      "[90]\tvalidation_0-rmse:7.16188\n",
      "[91]\tvalidation_0-rmse:7.15351\n",
      "[92]\tvalidation_0-rmse:7.14781\n",
      "[93]\tvalidation_0-rmse:7.14620\n",
      "[94]\tvalidation_0-rmse:7.14318\n",
      "[95]\tvalidation_0-rmse:7.13948\n",
      "[96]\tvalidation_0-rmse:7.13771\n",
      "[97]\tvalidation_0-rmse:7.13607\n",
      "[98]\tvalidation_0-rmse:7.13329\n",
      "[99]\tvalidation_0-rmse:7.13048\n",
      "[100]\tvalidation_0-rmse:7.12811\n",
      "[101]\tvalidation_0-rmse:7.12831\n",
      "[102]\tvalidation_0-rmse:7.12811\n",
      "[103]\tvalidation_0-rmse:7.12663\n",
      "[104]\tvalidation_0-rmse:7.12576\n",
      "[105]\tvalidation_0-rmse:7.12234\n",
      "[106]\tvalidation_0-rmse:7.12181\n",
      "[107]\tvalidation_0-rmse:7.12077\n",
      "[108]\tvalidation_0-rmse:7.12102\n",
      "[109]\tvalidation_0-rmse:7.12274\n",
      "[110]\tvalidation_0-rmse:7.12000\n",
      "[111]\tvalidation_0-rmse:7.11844\n",
      "[112]\tvalidation_0-rmse:7.12089\n",
      "[113]\tvalidation_0-rmse:7.12097\n",
      "[114]\tvalidation_0-rmse:7.12096\n",
      "[115]\tvalidation_0-rmse:7.11441\n",
      "[116]\tvalidation_0-rmse:7.11308\n",
      "[117]\tvalidation_0-rmse:7.11311\n",
      "[118]\tvalidation_0-rmse:7.11274\n",
      "[119]\tvalidation_0-rmse:7.11141\n",
      "[120]\tvalidation_0-rmse:7.11229\n",
      "[121]\tvalidation_0-rmse:7.11259\n",
      "[122]\tvalidation_0-rmse:7.11189\n",
      "[123]\tvalidation_0-rmse:7.11374\n",
      "[124]\tvalidation_0-rmse:7.11290\n",
      "[125]\tvalidation_0-rmse:7.11987\n",
      "[126]\tvalidation_0-rmse:7.12085\n",
      "[127]\tvalidation_0-rmse:7.12179\n",
      "[128]\tvalidation_0-rmse:7.12231\n",
      "[129]\tvalidation_0-rmse:7.12053\n",
      "[130]\tvalidation_0-rmse:7.11929\n",
      "[131]\tvalidation_0-rmse:7.11977\n",
      "[132]\tvalidation_0-rmse:7.12098\n",
      "[133]\tvalidation_0-rmse:7.12143\n",
      "[134]\tvalidation_0-rmse:7.12575\n",
      "[135]\tvalidation_0-rmse:7.12343\n",
      "[136]\tvalidation_0-rmse:7.12365\n",
      "[137]\tvalidation_0-rmse:7.12516\n",
      "[138]\tvalidation_0-rmse:7.12527\n"
     ]
    },
    {
     "data": {
      "text/html": [
       "<style>#sk-container-id-2 {color: black;background-color: white;}#sk-container-id-2 pre{padding: 0;}#sk-container-id-2 div.sk-toggleable {background-color: white;}#sk-container-id-2 label.sk-toggleable__label {cursor: pointer;display: block;width: 100%;margin-bottom: 0;padding: 0.3em;box-sizing: border-box;text-align: center;}#sk-container-id-2 label.sk-toggleable__label-arrow:before {content: \"▸\";float: left;margin-right: 0.25em;color: #696969;}#sk-container-id-2 label.sk-toggleable__label-arrow:hover:before {color: black;}#sk-container-id-2 div.sk-estimator:hover label.sk-toggleable__label-arrow:before {color: black;}#sk-container-id-2 div.sk-toggleable__content {max-height: 0;max-width: 0;overflow: hidden;text-align: left;background-color: #f0f8ff;}#sk-container-id-2 div.sk-toggleable__content pre {margin: 0.2em;color: black;border-radius: 0.25em;background-color: #f0f8ff;}#sk-container-id-2 input.sk-toggleable__control:checked~div.sk-toggleable__content {max-height: 200px;max-width: 100%;overflow: auto;}#sk-container-id-2 input.sk-toggleable__control:checked~label.sk-toggleable__label-arrow:before {content: \"▾\";}#sk-container-id-2 div.sk-estimator input.sk-toggleable__control:checked~label.sk-toggleable__label {background-color: #d4ebff;}#sk-container-id-2 div.sk-label input.sk-toggleable__control:checked~label.sk-toggleable__label {background-color: #d4ebff;}#sk-container-id-2 input.sk-hidden--visually {border: 0;clip: rect(1px 1px 1px 1px);clip: rect(1px, 1px, 1px, 1px);height: 1px;margin: -1px;overflow: hidden;padding: 0;position: absolute;width: 1px;}#sk-container-id-2 div.sk-estimator {font-family: monospace;background-color: #f0f8ff;border: 1px dotted black;border-radius: 0.25em;box-sizing: border-box;margin-bottom: 0.5em;}#sk-container-id-2 div.sk-estimator:hover {background-color: #d4ebff;}#sk-container-id-2 div.sk-parallel-item::after {content: \"\";width: 100%;border-bottom: 1px solid gray;flex-grow: 1;}#sk-container-id-2 div.sk-label:hover label.sk-toggleable__label {background-color: #d4ebff;}#sk-container-id-2 div.sk-serial::before {content: \"\";position: absolute;border-left: 1px solid gray;box-sizing: border-box;top: 0;bottom: 0;left: 50%;z-index: 0;}#sk-container-id-2 div.sk-serial {display: flex;flex-direction: column;align-items: center;background-color: white;padding-right: 0.2em;padding-left: 0.2em;position: relative;}#sk-container-id-2 div.sk-item {position: relative;z-index: 1;}#sk-container-id-2 div.sk-parallel {display: flex;align-items: stretch;justify-content: center;background-color: white;position: relative;}#sk-container-id-2 div.sk-item::before, #sk-container-id-2 div.sk-parallel-item::before {content: \"\";position: absolute;border-left: 1px solid gray;box-sizing: border-box;top: 0;bottom: 0;left: 50%;z-index: -1;}#sk-container-id-2 div.sk-parallel-item {display: flex;flex-direction: column;z-index: 1;position: relative;background-color: white;}#sk-container-id-2 div.sk-parallel-item:first-child::after {align-self: flex-end;width: 50%;}#sk-container-id-2 div.sk-parallel-item:last-child::after {align-self: flex-start;width: 50%;}#sk-container-id-2 div.sk-parallel-item:only-child::after {width: 0;}#sk-container-id-2 div.sk-dashed-wrapped {border: 1px dashed gray;margin: 0 0.4em 0.5em 0.4em;box-sizing: border-box;padding-bottom: 0.4em;background-color: white;}#sk-container-id-2 div.sk-label label {font-family: monospace;font-weight: bold;display: inline-block;line-height: 1.2em;}#sk-container-id-2 div.sk-label-container {text-align: center;}#sk-container-id-2 div.sk-container {/* jupyter's `normalize.less` sets `[hidden] { display: none; }` but bootstrap.min.css set `[hidden] { display: none !important; }` so we also need the `!important` here to be able to override the default hidden behavior on the sphinx rendered scikit-learn.org. See: https://github.com/scikit-learn/scikit-learn/issues/21755 */display: inline-block !important;position: relative;}#sk-container-id-2 div.sk-text-repr-fallback {display: none;}</style><div id=\"sk-container-id-2\" class=\"sk-top-container\"><div class=\"sk-text-repr-fallback\"><pre>XGBRegressor(base_score=None, booster=None,\n",
       "             callbacks=[&lt;xgboost.callback.EarlyStopping object at 0x12a9ad8d0&gt;],\n",
       "             colsample_bylevel=None, colsample_bynode=None,\n",
       "             colsample_bytree=None, early_stopping_rounds=None,\n",
       "             enable_categorical=True, eval_metric=None, feature_types=None,\n",
       "             gamma=None, gpu_id=None, grow_policy=None, importance_type=None,\n",
       "             interaction_constraints=None, learning_rate=0.05, max_bin=None,\n",
       "             max_cat_threshold=None, max_cat_to_onehot=None,\n",
       "             max_delta_step=None, max_depth=3, max_leaves=None,\n",
       "             min_child_weight=None, missing=nan, monotone_constraints=None,\n",
       "             n_estimators=1000, n_jobs=-1, num_parallel_tree=None,\n",
       "             predictor=None, random_state=42, ...)</pre><b>In a Jupyter environment, please rerun this cell to show the HTML representation or trust the notebook. <br />On GitHub, the HTML representation is unable to render, please try loading this page with nbviewer.org.</b></div><div class=\"sk-container\" hidden><div class=\"sk-item\"><div class=\"sk-estimator sk-toggleable\"><input class=\"sk-toggleable__control sk-hidden--visually\" id=\"sk-estimator-id-2\" type=\"checkbox\" checked><label for=\"sk-estimator-id-2\" class=\"sk-toggleable__label sk-toggleable__label-arrow\">XGBRegressor</label><div class=\"sk-toggleable__content\"><pre>XGBRegressor(base_score=None, booster=None,\n",
       "             callbacks=[&lt;xgboost.callback.EarlyStopping object at 0x12a9ad8d0&gt;],\n",
       "             colsample_bylevel=None, colsample_bynode=None,\n",
       "             colsample_bytree=None, early_stopping_rounds=None,\n",
       "             enable_categorical=True, eval_metric=None, feature_types=None,\n",
       "             gamma=None, gpu_id=None, grow_policy=None, importance_type=None,\n",
       "             interaction_constraints=None, learning_rate=0.05, max_bin=None,\n",
       "             max_cat_threshold=None, max_cat_to_onehot=None,\n",
       "             max_delta_step=None, max_depth=3, max_leaves=None,\n",
       "             min_child_weight=None, missing=nan, monotone_constraints=None,\n",
       "             n_estimators=1000, n_jobs=-1, num_parallel_tree=None,\n",
       "             predictor=None, random_state=42, ...)</pre></div></div></div></div></div>"
      ],
      "text/plain": [
       "XGBRegressor(base_score=None, booster=None,\n",
       "             callbacks=[<xgboost.callback.EarlyStopping object at 0x12a9ad8d0>],\n",
       "             colsample_bylevel=None, colsample_bynode=None,\n",
       "             colsample_bytree=None, early_stopping_rounds=None,\n",
       "             enable_categorical=True, eval_metric=None, feature_types=None,\n",
       "             gamma=None, gpu_id=None, grow_policy=None, importance_type=None,\n",
       "             interaction_constraints=None, learning_rate=0.05, max_bin=None,\n",
       "             max_cat_threshold=None, max_cat_to_onehot=None,\n",
       "             max_delta_step=None, max_depth=3, max_leaves=None,\n",
       "             min_child_weight=None, missing=nan, monotone_constraints=None,\n",
       "             n_estimators=1000, n_jobs=-1, num_parallel_tree=None,\n",
       "             predictor=None, random_state=42, ...)"
      ]
     },
     "execution_count": 14,
     "metadata": {},
     "output_type": "execute_result"
    }
   ],
   "source": [
    "es = xgb.callback.EarlyStopping(\n",
    "    rounds=5,\n",
    "    save_best=True,\n",
    "    maximize=False,\n",
    "    data_name=\"validation_0\",\n",
    "    metric_name=[\"r2\"],\n",
    ")\n",
    "\n",
    "model_xgb.set_params(callbacks=[xgb.callback.EarlyStopping(rounds=20, save_best=True)])\n",
    "\n",
    "model_xgb.fit(X_train, y_train, \n",
    "              eval_set=[(X_valid, y_valid)])"
   ]
  },
  {
   "cell_type": "code",
   "execution_count": 15,
   "id": "0b443472",
   "metadata": {},
   "outputs": [
    {
     "data": {
      "image/png": "[encoded data removed]",
      "text/plain": [
       "<Figure size 640x480 with 1 Axes>"
      ]
     },
     "metadata": {},
     "output_type": "display_data"
    }
   ],
   "source": [
    "xgb.plot_importance(model_xgb, max_num_features=30);"
   ]
  },
  {
   "cell_type": "code",
   "execution_count": 16,
   "id": "69b7fdcb",
   "metadata": {},
   "outputs": [
    {
     "data": {
      "text/plain": [
       "0.6430303584048134"
      ]
     },
     "execution_count": 16,
     "metadata": {},
     "output_type": "execute_result"
    }
   ],
   "source": [
    "xgb_score = model_xgb.score(X_valid, y_valid)\n",
    "xgb_score"
   ]
  },
  {
   "cell_type": "code",
   "execution_count": 17,
   "id": "8f0100e4",
   "metadata": {},
   "outputs": [
    {
     "data": {
      "text/plain": [
       "array([ 81.955635,  97.586914,  82.36059 ,  76.963936, 110.12015 ],\n",
       "      dtype=float32)"
      ]
     },
     "execution_count": 17,
     "metadata": {},
     "output_type": "execute_result"
    }
   ],
   "source": [
    "y_pred_xgb = model_xgb.predict(test)\n",
    "y_pred_xgb[:5]"
   ]
  },
  {
   "cell_type": "code",
   "execution_count": 18,
   "id": "d02b8da0",
   "metadata": {},
   "outputs": [],
   "source": [
    "submission[\"y\"] = y_pred_xgb"
   ]
  },
  {
   "cell_type": "markdown",
   "id": "f29707a4",
   "metadata": {},
   "source": [
    "https://www.kaggle.com/competitions/mercedes-benz-greener-manufacturing/submissions"
   ]
  },
  {
   "cell_type": "code",
   "execution_count": 19,
   "id": "47cc9bb3",
   "metadata": {},
   "outputs": [
    {
     "data": {
      "text/plain": [
       "'data/sub_xgb_0.64303.csv'"
      ]
     },
     "execution_count": 19,
     "metadata": {},
     "output_type": "execute_result"
    }
   ],
   "source": [
    "file_name = f'{base_path}/sub_xgb_{xgb_score:.5f}.csv'\n",
    "file_name"
   ]
  },
  {
   "cell_type": "code",
   "execution_count": 20,
   "id": "1b6eaefb",
   "metadata": {},
   "outputs": [
    {
     "data": {
      "text/html": [
       "<div>\n",
       "<style scoped>\n",
       "    .dataframe tbody tr th:only-of-type {\n",
       "        vertical-align: middle;\n",
       "    }\n",
       "\n",
       "    .dataframe tbody tr th {\n",
       "        vertical-align: top;\n",
       "    }\n",
       "\n",
       "    .dataframe thead th {\n",
       "        text-align: right;\n",
       "    }\n",
       "</style>\n",
       "<table border=\"1\" class=\"dataframe\">\n",
       "  <thead>\n",
       "    <tr style=\"text-align: right;\">\n",
       "      <th></th>\n",
       "      <th>y</th>\n",
       "    </tr>\n",
       "    <tr>\n",
       "      <th>ID</th>\n",
       "      <th></th>\n",
       "    </tr>\n",
       "  </thead>\n",
       "  <tbody>\n",
       "    <tr>\n",
       "      <th>1</th>\n",
       "      <td>81.955635</td>\n",
       "    </tr>\n",
       "    <tr>\n",
       "      <th>2</th>\n",
       "      <td>97.586914</td>\n",
       "    </tr>\n",
       "  </tbody>\n",
       "</table>\n",
       "</div>"
      ],
      "text/plain": [
       "            y\n",
       "ID           \n",
       "1   81.955635\n",
       "2   97.586914"
      ]
     },
     "execution_count": 20,
     "metadata": {},
     "output_type": "execute_result"
    }
   ],
   "source": [
    "submission.to_csv(file_name)\n",
    "pd.read_csv(file_name, index_col=\"ID\").head(2)"
   ]
  },
  {
   "cell_type": "code",
   "execution_count": null,
   "id": "da352439",
   "metadata": {},
   "outputs": [],
   "source": []
  },
  {
   "cell_type": "code",
   "execution_count": null,
   "id": "9f9f836a",
   "metadata": {},
   "outputs": [],
   "source": []
  }
 ],
 "metadata": {
  "kernelspec": {
   "display_name": "Python 3 (ipykernel)",
   "language": "python",
   "name": "python3"
  },
  "language_info": {
   "codemirror_mode": {
    "name": "ipython",
    "version": 3
   },
   "file_extension": ".py",
   "mimetype": "text/x-python",
   "name": "python",
   "nbconvert_exporter": "python",
   "pygments_lexer": "ipython3",
   "version": "3.10.7"
  },
  "toc": {
   "base_numbering": 1,
   "nav_menu": {},
   "number_sections": true,
   "sideBar": true,
   "skip_h1_title": false,
   "title_cell": "Table of Contents",
   "title_sidebar": "Contents",
   "toc_cell": false,
   "toc_position": {},
   "toc_section_display": true,
   "toc_window_display": false
  },
  "varInspector": {
   "cols": {
    "lenName": 16,
    "lenType": 16,
    "lenVar": 40
   },
   "kernels_config": {
    "python": {
     "delete_cmd_postfix": "",
     "delete_cmd_prefix": "del ",
     "library": "var_list.py",
     "varRefreshCmd": "print(var_dic_list())"
    },
    "r": {
     "delete_cmd_postfix": ") ",
     "delete_cmd_prefix": "rm(",
     "library": "var_list.r",
     "varRefreshCmd": "cat(var_dic_list()) "
    }
   },
   "types_to_exclude": [
    "module",
    "function",
    "builtin_function_or_method",
    "instance",
    "_Feature"
   ],
   "window_display": false
  }
 },
 "nbformat": 4,
 "nbformat_minor": 5
}
