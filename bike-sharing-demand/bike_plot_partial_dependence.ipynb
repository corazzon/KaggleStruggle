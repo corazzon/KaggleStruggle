{
 "cells": [
  {
   "cell_type": "code",
   "execution_count": null,
   "id": "746946ae",
   "metadata": {},
   "outputs": [],
   "source": [
    "from sklearn.datasets import fetch_openml\n",
    "\n",
    "bikes = fetch_openml(\"Bike_Sharing_Demand\", version=2, as_frame=True, parser=\"pandas\")\n",
    "# Make an explicit copy to avoid \"SettingWithCopyWarning\" from pandas\n",
    "X, y = bikes.data.copy(), bikes.target\n",
    "\n",
    "# We use only a subset of the data to speed up the example.\n",
    "X = X.iloc[::5, :]\n",
    "y = y[::5]"
   ]
  },
  {
   "cell_type": "code",
   "execution_count": null,
   "id": "764da633",
   "metadata": {},
   "outputs": [],
   "source": [
    "X.head(2)"
   ]
  },
  {
   "cell_type": "code",
   "execution_count": null,
   "id": "cec8c8f8",
   "metadata": {},
   "outputs": [],
   "source": [
    "X[\"weather\"].value_counts()"
   ]
  },
  {
   "cell_type": "code",
   "execution_count": null,
   "id": "4d561350",
   "metadata": {},
   "outputs": [],
   "source": [
    "X[\"weather\"].replace(to_replace=\"heavy_rain\", value=\"rain\", inplace=True)\n",
    "X[\"weather\"].value_counts()"
   ]
  },
  {
   "cell_type": "code",
   "execution_count": null,
   "id": "fa9203e2",
   "metadata": {},
   "outputs": [],
   "source": [
    "X[\"year\"].value_counts()"
   ]
  },
  {
   "cell_type": "code",
   "execution_count": null,
   "id": "acb13008",
   "metadata": {},
   "outputs": [],
   "source": [
    "mask_training = X[\"year\"] == 0.0\n",
    "X = X.drop(columns=[\"year\"])\n",
    "X_train, y_train = X[mask_training], y[mask_training]\n",
    "X_test, y_test = X[~mask_training], y[~mask_training]"
   ]
  },
  {
   "cell_type": "code",
   "execution_count": null,
   "id": "04eddd87",
   "metadata": {},
   "outputs": [],
   "source": []
  }
 ],
 "metadata": {
  "kernelspec": {
   "display_name": "Python 3 (ipykernel)",
   "language": "python",
   "name": "python3"
  },
  "language_info": {
   "codemirror_mode": {
    "name": "ipython",
    "version": 3
   },
   "file_extension": ".py",
   "mimetype": "text/x-python",
   "name": "python",
   "nbconvert_exporter": "python",
   "pygments_lexer": "ipython3",
   "version": "3.11.4"
  },
  "toc": {
   "base_numbering": 1,
   "nav_menu": {},
   "number_sections": true,
   "sideBar": true,
   "skip_h1_title": false,
   "title_cell": "Table of Contents",
   "title_sidebar": "Contents",
   "toc_cell": false,
   "toc_position": {},
   "toc_section_display": true,
   "toc_window_display": false
  },
  "varInspector": {
   "cols": {
    "lenName": 16,
    "lenType": 16,
    "lenVar": 40
   },
   "kernels_config": {
    "python": {
     "delete_cmd_postfix": "",
     "delete_cmd_prefix": "del ",
     "library": "var_list.py",
     "varRefreshCmd": "print(var_dic_list())"
    },
    "r": {
     "delete_cmd_postfix": ") ",
     "delete_cmd_prefix": "rm(",
     "library": "var_list.r",
     "varRefreshCmd": "cat(var_dic_list()) "
    }
   },
   "types_to_exclude": [
    "module",
    "function",
    "builtin_function_or_method",
    "instance",
    "_Feature"
   ],
   "window_display": false
  }
 },
 "nbformat": 4,
 "nbformat_minor": 5
}
