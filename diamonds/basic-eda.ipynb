{
 "cells": [
  {
   "cell_type": "markdown",
   "id": "593f69f9",
   "metadata": {},
   "source": [
    "```\n",
    "① FL(Flawless): 무결점으로 내부나 외부에 흠이 하나 없다.\n",
    "② IF(Internally Flawless): 내부엔 흠이 없으나 외부에는 흠이 조금 있다.\n",
    "③ VVS(Very Very Slightly): 내부에 흠이 있으나 10배 확대시 전문가도 발견하기 어려운 정도.\n",
    "④ VS(Very Slightly): 내부에 흠이 있으나 10배 확대시 일반인이 발견하기 어려운 정도.\n",
    "⑤ SI(Slightly Included): 내부에 흠이 10배 확대시 일반인도 쉽게 찾을 수 있는 정도.\n",
    "⑥ I(Included): 내부의 흠이 10배 확대시에 눈으로 보이는 정도. 판매상이 권하지 않는 등급.\n",
    "\n",
    "출처: https://lsk.pe.kr/3476 [風林火山]\n",
    "```"
   ]
  },
  {
   "cell_type": "code",
   "execution_count": null,
   "id": "42d50c01",
   "metadata": {},
   "outputs": [],
   "source": [
    "import pandas as pd\n",
    "import seaborn as sns\n",
    "import plotly.express as px\n",
    "import matplotlib.pyplot as plt\n",
    "\n",
    "%matplotlib inline"
   ]
  },
  {
   "cell_type": "code",
   "execution_count": null,
   "id": "b1b440b1",
   "metadata": {},
   "outputs": [],
   "source": [
    "df = sns.load_dataset(\"diamonds\")\n",
    "df"
   ]
  },
  {
   "cell_type": "markdown",
   "id": "0ab1a53d",
   "metadata": {},
   "source": [
    "## 기초 기술통계"
   ]
  },
  {
   "cell_type": "code",
   "execution_count": null,
   "id": "2f498426",
   "metadata": {},
   "outputs": [],
   "source": [
    "df.info()"
   ]
  },
  {
   "cell_type": "code",
   "execution_count": null,
   "id": "c009b883",
   "metadata": {},
   "outputs": [],
   "source": [
    "df.describe()"
   ]
  },
  {
   "cell_type": "code",
   "execution_count": null,
   "id": "4005f8b0",
   "metadata": {},
   "outputs": [],
   "source": [
    "df.describe(exclude=\"number\")"
   ]
  },
  {
   "cell_type": "markdown",
   "id": "1a5d5935",
   "metadata": {},
   "source": [
    "## 수치형"
   ]
  },
  {
   "cell_type": "code",
   "execution_count": null,
   "id": "626ff2eb",
   "metadata": {},
   "outputs": [],
   "source": [
    "df.hist(figsize=(12, 10), bins=100)\n",
    "plt.show()"
   ]
  },
  {
   "cell_type": "code",
   "execution_count": null,
   "id": "5d1caef1",
   "metadata": {},
   "outputs": [],
   "source": [
    "df_num = df.select_dtypes(include=\"number\")\n",
    "df_num.columns.name = \"cols\""
   ]
  },
  {
   "cell_type": "code",
   "execution_count": null,
   "id": "71df13f9",
   "metadata": {},
   "outputs": [],
   "source": [
    "px.histogram(df_num, facet_col=\"cols\", facet_col_wrap=2, nbins=50)"
   ]
  },
  {
   "cell_type": "code",
   "execution_count": null,
   "id": "d2d3fd8a",
   "metadata": {},
   "outputs": [],
   "source": [
    "px.histogram(df_num[[\"x\", \"y\", \"z\"]], facet_col=\"cols\", facet_col_wrap=2, nbins=50)"
   ]
  },
  {
   "cell_type": "code",
   "execution_count": null,
   "id": "30d71043",
   "metadata": {
    "scrolled": false
   },
   "outputs": [],
   "source": [
    "px.histogram(df, x=\"price\", title=\"price\")"
   ]
  },
  {
   "cell_type": "code",
   "execution_count": null,
   "id": "f862db40",
   "metadata": {
    "scrolled": false
   },
   "outputs": [],
   "source": [
    "px.scatter(df, x=\"carat\", y=\"depth\")"
   ]
  },
  {
   "cell_type": "code",
   "execution_count": null,
   "id": "f09b2184",
   "metadata": {},
   "outputs": [],
   "source": [
    "px.scatter(df, x=\"carat\", y=\"depth\", color=\"cut\")"
   ]
  },
  {
   "cell_type": "code",
   "execution_count": null,
   "id": "fd3cd7fa",
   "metadata": {},
   "outputs": [],
   "source": [
    "px.scatter(df, x=\"carat\", y=\"price\", color=\"cut\")"
   ]
  },
  {
   "cell_type": "code",
   "execution_count": null,
   "id": "cc47a5bf",
   "metadata": {},
   "outputs": [],
   "source": [
    "px.scatter(df, x=\"carat\", y=\"price\", color=\"color\", marginal_x=\"box\", marginal_y=\"violin\")"
   ]
  },
  {
   "cell_type": "code",
   "execution_count": null,
   "id": "4b7c4e81",
   "metadata": {},
   "outputs": [],
   "source": [
    "px.scatter_matrix(df, color=\"cut\", height=1000)"
   ]
  },
  {
   "cell_type": "markdown",
   "id": "3fd11487",
   "metadata": {},
   "source": [
    "## 범주형"
   ]
  },
  {
   "cell_type": "code",
   "execution_count": null,
   "id": "6714d168",
   "metadata": {},
   "outputs": [],
   "source": [
    "px.histogram(df, x=\"cut\", y=\"price\", histfunc=\"sum\")"
   ]
  },
  {
   "cell_type": "code",
   "execution_count": null,
   "id": "920aa56d",
   "metadata": {},
   "outputs": [],
   "source": [
    "px.histogram(df, x=\"cut\", y=\"price\", histfunc=\"avg\")"
   ]
  },
  {
   "cell_type": "code",
   "execution_count": null,
   "id": "c362c725",
   "metadata": {},
   "outputs": [],
   "source": [
    "cut_count = df[\"cut\"].value_counts()\n",
    "cut_count"
   ]
  },
  {
   "cell_type": "code",
   "execution_count": null,
   "id": "9f56150e",
   "metadata": {},
   "outputs": [],
   "source": [
    "cut_count.plot.bar(table=True, figsize=(12, 4))"
   ]
  },
  {
   "cell_type": "code",
   "execution_count": null,
   "id": "b80a6c3c",
   "metadata": {},
   "outputs": [],
   "source": [
    "px.bar(cut_count, text=cut_count, title=\"cut count\")"
   ]
  },
  {
   "cell_type": "code",
   "execution_count": null,
   "id": "5af3e01e",
   "metadata": {},
   "outputs": [],
   "source": [
    "px.histogram(df, x=\"cut\", histfunc=\"count\")"
   ]
  },
  {
   "cell_type": "code",
   "execution_count": null,
   "id": "d7f8274f",
   "metadata": {},
   "outputs": [],
   "source": [
    "color_count = df[\"color\"].value_counts()\n",
    "px.bar(color_count, text=color_count)"
   ]
  },
  {
   "cell_type": "code",
   "execution_count": null,
   "id": "0fac1a81",
   "metadata": {},
   "outputs": [],
   "source": [
    "px.histogram(df, x=\"color\", histfunc=\"count\")"
   ]
  },
  {
   "cell_type": "code",
   "execution_count": null,
   "id": "5e3b4c53",
   "metadata": {},
   "outputs": [],
   "source": [
    "px.histogram(df, x=\"color\", histfunc=\"count\", color=\"cut\")"
   ]
  },
  {
   "cell_type": "code",
   "execution_count": null,
   "id": "dfa11e17",
   "metadata": {},
   "outputs": [],
   "source": [
    "px.histogram(df, x=\"color\", histfunc=\"count\", color=\"cut\", facet_col=\"cut\")"
   ]
  },
  {
   "cell_type": "code",
   "execution_count": null,
   "id": "dede68c0",
   "metadata": {},
   "outputs": [],
   "source": [
    "px.histogram(df, x=\"clarity\", histfunc=\"count\", color=\"cut\", facet_col=\"cut\")"
   ]
  },
  {
   "cell_type": "code",
   "execution_count": null,
   "id": "33739e8e",
   "metadata": {},
   "outputs": [],
   "source": [
    "px.box(df, x=\"cut\", y=\"price\")"
   ]
  },
  {
   "cell_type": "code",
   "execution_count": null,
   "id": "543b0521",
   "metadata": {},
   "outputs": [],
   "source": [
    "px.box(df, x=\"clarity\", y=\"price\", color=\"cut\", facet_col=\"cut\")"
   ]
  },
  {
   "cell_type": "code",
   "execution_count": null,
   "id": "aaae2347",
   "metadata": {},
   "outputs": [],
   "source": [
    "px.violin(df, x=\"cut\", y=\"price\", title=\"cut price\")"
   ]
  },
  {
   "cell_type": "code",
   "execution_count": null,
   "id": "ab3aadfc",
   "metadata": {},
   "outputs": [],
   "source": []
  },
  {
   "cell_type": "code",
   "execution_count": null,
   "id": "81fe1d7f",
   "metadata": {},
   "outputs": [],
   "source": []
  },
  {
   "cell_type": "code",
   "execution_count": null,
   "id": "1201af42",
   "metadata": {},
   "outputs": [],
   "source": []
  }
 ],
 "metadata": {
  "kernelspec": {
   "display_name": "Python 3 (ipykernel)",
   "language": "python",
   "name": "python3"
  },
  "language_info": {
   "codemirror_mode": {
    "name": "ipython",
    "version": 3
   },
   "file_extension": ".py",
   "mimetype": "text/x-python",
   "name": "python",
   "nbconvert_exporter": "python",
   "pygments_lexer": "ipython3",
   "version": "3.10.7"
  },
  "toc": {
   "base_numbering": 1,
   "nav_menu": {},
   "number_sections": true,
   "sideBar": true,
   "skip_h1_title": false,
   "title_cell": "Table of Contents",
   "title_sidebar": "Contents",
   "toc_cell": false,
   "toc_position": {},
   "toc_section_display": true,
   "toc_window_display": false
  },
  "varInspector": {
   "cols": {
    "lenName": 16,
    "lenType": 16,
    "lenVar": 40
   },
   "kernels_config": {
    "python": {
     "delete_cmd_postfix": "",
     "delete_cmd_prefix": "del ",
     "library": "var_list.py",
     "varRefreshCmd": "print(var_dic_list())"
    },
    "r": {
     "delete_cmd_postfix": ") ",
     "delete_cmd_prefix": "rm(",
     "library": "var_list.r",
     "varRefreshCmd": "cat(var_dic_list()) "
    }
   },
   "types_to_exclude": [
    "module",
    "function",
    "builtin_function_or_method",
    "instance",
    "_Feature"
   ],
   "window_display": false
  }
 },
 "nbformat": 4,
 "nbformat_minor": 5
}
