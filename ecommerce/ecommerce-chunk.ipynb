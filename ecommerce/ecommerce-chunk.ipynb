{
 "cells": [
  {
   "cell_type": "markdown",
   "id": "8d45fa7a",
   "metadata": {},
   "source": [
    "* https://www.kaggle.com/datasets/mkechinov/ecommerce-behavior-data-from-multi-category-store"
   ]
  },
  {
   "cell_type": "code",
   "execution_count": null,
   "id": "0ac511f3",
   "metadata": {},
   "outputs": [],
   "source": [
    "import pandas as pd\n",
    "import time\n",
    "from tqdm import tqdm"
   ]
  },
  {
   "cell_type": "code",
   "execution_count": null,
   "id": "9821c330",
   "metadata": {},
   "outputs": [],
   "source": [
    "# %time df = pd.read_csv(\"data/2019-Oct.csv\")"
   ]
  },
  {
   "cell_type": "code",
   "execution_count": null,
   "id": "2848eccf",
   "metadata": {},
   "outputs": [],
   "source": [
    "from glob import glob\n",
    "\n",
    "glob(\"data/*.csv\")"
   ]
  },
  {
   "cell_type": "code",
   "execution_count": null,
   "id": "e0d1319b",
   "metadata": {},
   "outputs": [],
   "source": [
    "chunk_size = 1e7\n",
    "chunk_iter = pd.read_csv(\"data/2019-Nov.csv\", chunksize=chunk_size)"
   ]
  },
  {
   "cell_type": "code",
   "execution_count": null,
   "id": "6b8582e9",
   "metadata": {},
   "outputs": [],
   "source": [
    "# chunk_iter.read()"
   ]
  },
  {
   "cell_type": "code",
   "execution_count": null,
   "id": "e9328629",
   "metadata": {},
   "outputs": [],
   "source": [
    "def downcast(df_chunk):\n",
    "    for col in df_chunk.columns:\n",
    "        dtypes_name = df_chunk[col].dtypes.name\n",
    "        if dtypes_name.startswith(\"float\"):\n",
    "            df_chunk[col] = pd.to_numeric(df_chunk[col], downcast=\"float\")\n",
    "        elif dtypes_name.startswith(\"int\"):\n",
    "            # 최솟값을 구해서 음수가 있을 때는 integer\n",
    "            # 음수가 없을 때는 unsigned\n",
    "            if df_chunk[col].min() < 0 :\n",
    "                df_chunk[col] = pd.to_numeric(df_chunk[col], downcast=\"integer\")\n",
    "            else:\n",
    "                df_chunk[col] = pd.to_numeric(df_chunk[col], downcast=\"unsigned\")\n",
    "        # 문자일 때는 category 로 변경해 줍니다.\n",
    "        # 카디널리티가 높거나 텍스트 데이터에는 적합하지 않을 수 있습니다.\n",
    "        elif dtypes_name.startswith(\"object\"):\n",
    "                df_chunk[col] = df_chunk[col].astype(\"category\")\n",
    "    return df_chunk"
   ]
  },
  {
   "cell_type": "code",
   "execution_count": null,
   "id": "3ae20f7a",
   "metadata": {
    "scrolled": false
   },
   "outputs": [],
   "source": [
    "start = time.time()\n",
    "row_count = 0\n",
    "chunk_list = [] \n",
    "for chunk in tqdm(chunk_iter):\n",
    "    #print(chunk.shape)\n",
    "    row_count = row_count + chunk.shape[0]\n",
    "    df_chunk = downcast(chunk)\n",
    "    # chunk_list.append(df_chunk)\n",
    "    df_chunk.to_parquet(f\"data/2019-Nov-{df_chunk.index[0]}-{df_chunk.index[-1]}.gzip\", index=False)\n",
    "print(row_count)\n",
    "end = time.time()\n",
    "print(f\"{end-start:.0f}초\")"
   ]
  },
  {
   "cell_type": "code",
   "execution_count": null,
   "id": "a4edd5db",
   "metadata": {},
   "outputs": [],
   "source": [
    "gzip_list = glob(\"data/2019-Nov*.gzip\")\n",
    "gzip_list"
   ]
  },
  {
   "cell_type": "code",
   "execution_count": null,
   "id": "00632f37",
   "metadata": {},
   "outputs": [],
   "source": [
    "%time df_parquet_list = [pd.read_parquet(gzip_file_name) for gzip_file_name in gzip_list]\n",
    "len(df_parquet_list)"
   ]
  },
  {
   "cell_type": "code",
   "execution_count": null,
   "id": "2daca3b5",
   "metadata": {},
   "outputs": [],
   "source": [
    "%time df = pd.concat(df_parquet_list, ignore_index=True)\n",
    "df.shape"
   ]
  },
  {
   "cell_type": "code",
   "execution_count": null,
   "id": "dd6b94d5",
   "metadata": {},
   "outputs": [],
   "source": [
    "df.info()"
   ]
  },
  {
   "cell_type": "markdown",
   "id": "5c701e9e",
   "metadata": {},
   "source": [
    "## dask"
   ]
  },
  {
   "cell_type": "code",
   "execution_count": null,
   "id": "9628fbfa",
   "metadata": {},
   "outputs": [],
   "source": [
    "import dask.dataframe as dd\n",
    "\n",
    "# CSV 파일 불러오기\n",
    "dd_chunk = dd.read_csv('data/2019-Oct.csv', assume_missing=True, blocksize=chunk_size)"
   ]
  },
  {
   "cell_type": "code",
   "execution_count": null,
   "id": "3b37797a",
   "metadata": {},
   "outputs": [],
   "source": [
    "dd_chunk.shape"
   ]
  },
  {
   "cell_type": "code",
   "execution_count": null,
   "id": "1ed528bf",
   "metadata": {},
   "outputs": [],
   "source": [
    "dd_csv = dd_chunk.compute()"
   ]
  },
  {
   "cell_type": "code",
   "execution_count": null,
   "id": "928cb054",
   "metadata": {},
   "outputs": [],
   "source": []
  }
 ],
 "metadata": {
  "kernelspec": {
   "display_name": "Python 3 (ipykernel)",
   "language": "python",
   "name": "python3"
  },
  "language_info": {
   "codemirror_mode": {
    "name": "ipython",
    "version": 3
   },
   "file_extension": ".py",
   "mimetype": "text/x-python",
   "name": "python",
   "nbconvert_exporter": "python",
   "pygments_lexer": "ipython3",
   "version": "3.11.4"
  },
  "toc": {
   "base_numbering": 1,
   "nav_menu": {},
   "number_sections": true,
   "sideBar": true,
   "skip_h1_title": false,
   "title_cell": "Table of Contents",
   "title_sidebar": "Contents",
   "toc_cell": false,
   "toc_position": {},
   "toc_section_display": true,
   "toc_window_display": false
  },
  "varInspector": {
   "cols": {
    "lenName": 16,
    "lenType": 16,
    "lenVar": 40
   },
   "kernels_config": {
    "python": {
     "delete_cmd_postfix": "",
     "delete_cmd_prefix": "del ",
     "library": "var_list.py",
     "varRefreshCmd": "print(var_dic_list())"
    },
    "r": {
     "delete_cmd_postfix": ") ",
     "delete_cmd_prefix": "rm(",
     "library": "var_list.r",
     "varRefreshCmd": "cat(var_dic_list()) "
    }
   },
   "types_to_exclude": [
    "module",
    "function",
    "builtin_function_or_method",
    "instance",
    "_Feature"
   ],
   "window_display": false
  }
 },
 "nbformat": 4,
 "nbformat_minor": 5
}
