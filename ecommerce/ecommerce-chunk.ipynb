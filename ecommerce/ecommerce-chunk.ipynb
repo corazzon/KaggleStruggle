{
 "cells": [
  {
   "cell_type": "markdown",
   "id": "8d45fa7a",
   "metadata": {},
   "source": [
    "* https://www.kaggle.com/datasets/mkechinov/ecommerce-behavior-data-from-multi-category-store"
   ]
  },
  {
   "cell_type": "code",
   "execution_count": null,
   "id": "0ac511f3",
   "metadata": {},
   "outputs": [],
   "source": [
    "import pandas as pd\n",
    "import time"
   ]
  },
  {
   "cell_type": "code",
   "execution_count": null,
   "id": "9821c330",
   "metadata": {},
   "outputs": [],
   "source": [
    "%time df = pd.read_csv(\"data/2019-Oct.csv\")"
   ]
  },
  {
   "cell_type": "code",
   "execution_count": null,
   "id": "4f096e4d",
   "metadata": {},
   "outputs": [],
   "source": [
    "df.shape"
   ]
  },
  {
   "cell_type": "code",
   "execution_count": null,
   "id": "e0d1319b",
   "metadata": {},
   "outputs": [],
   "source": [
    "chunk_size = 1e6\n",
    "chunk_iter = pd.read_csv(\"data/2019-Oct.csv\", chunksize=chunk_size)"
   ]
  },
  {
   "cell_type": "code",
   "execution_count": null,
   "id": "3ae20f7a",
   "metadata": {},
   "outputs": [],
   "source": [
    "start = time.time()\n",
    "row_count = 0\n",
    "chunk_list = [] \n",
    "for chunk in chunk_iter:\n",
    "    print(chunk.shape)\n",
    "    row_count = row_count + chunk.shape[0]\n",
    "    chunk_list.append(chunk)\n",
    "print(row_count)\n",
    "end = time.time()\n",
    "print(end-start)"
   ]
  },
  {
   "cell_type": "code",
   "execution_count": null,
   "id": "a4b06f5f",
   "metadata": {},
   "outputs": [],
   "source": [
    "print(f\"{end-start:.0f}초\")"
   ]
  },
  {
   "cell_type": "code",
   "execution_count": null,
   "id": "2daca3b5",
   "metadata": {},
   "outputs": [],
   "source": [
    "df = pd.concat(chunk_list)\n",
    "df.shape"
   ]
  },
  {
   "cell_type": "code",
   "execution_count": null,
   "id": "dd6b94d5",
   "metadata": {},
   "outputs": [],
   "source": [
    "df.info()"
   ]
  },
  {
   "cell_type": "markdown",
   "id": "5c701e9e",
   "metadata": {},
   "source": [
    "## dask"
   ]
  },
  {
   "cell_type": "code",
   "execution_count": null,
   "id": "9628fbfa",
   "metadata": {},
   "outputs": [],
   "source": [
    "import dask.dataframe as dd\n",
    "\n",
    "# CSV 파일 불러오기\n",
    "dd_chunk = dd.read_csv('data/2019-Oct.csv', assume_missing=True, blocksize=chunk_size)"
   ]
  },
  {
   "cell_type": "code",
   "execution_count": null,
   "id": "3b37797a",
   "metadata": {},
   "outputs": [],
   "source": [
    "dd_chunk.shape"
   ]
  },
  {
   "cell_type": "code",
   "execution_count": null,
   "id": "1ed528bf",
   "metadata": {},
   "outputs": [],
   "source": [
    "dd_csv = dd_chunk.compute()"
   ]
  },
  {
   "cell_type": "code",
   "execution_count": null,
   "id": "928cb054",
   "metadata": {},
   "outputs": [],
   "source": []
  }
 ],
 "metadata": {
  "kernelspec": {
   "display_name": "Python 3 (ipykernel)",
   "language": "python",
   "name": "python3"
  },
  "language_info": {
   "codemirror_mode": {
    "name": "ipython",
    "version": 3
   },
   "file_extension": ".py",
   "mimetype": "text/x-python",
   "name": "python",
   "nbconvert_exporter": "python",
   "pygments_lexer": "ipython3",
   "version": "3.11.4"
  },
  "toc": {
   "base_numbering": 1,
   "nav_menu": {},
   "number_sections": true,
   "sideBar": true,
   "skip_h1_title": false,
   "title_cell": "Table of Contents",
   "title_sidebar": "Contents",
   "toc_cell": false,
   "toc_position": {},
   "toc_section_display": true,
   "toc_window_display": false
  },
  "varInspector": {
   "cols": {
    "lenName": 16,
    "lenType": 16,
    "lenVar": 40
   },
   "kernels_config": {
    "python": {
     "delete_cmd_postfix": "",
     "delete_cmd_prefix": "del ",
     "library": "var_list.py",
     "varRefreshCmd": "print(var_dic_list())"
    },
    "r": {
     "delete_cmd_postfix": ") ",
     "delete_cmd_prefix": "rm(",
     "library": "var_list.r",
     "varRefreshCmd": "cat(var_dic_list()) "
    }
   },
   "types_to_exclude": [
    "module",
    "function",
    "builtin_function_or_method",
    "instance",
    "_Feature"
   ],
   "window_display": false
  }
 },
 "nbformat": 4,
 "nbformat_minor": 5
}
