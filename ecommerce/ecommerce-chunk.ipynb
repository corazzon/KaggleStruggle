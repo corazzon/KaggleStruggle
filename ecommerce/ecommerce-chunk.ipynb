{
 "cells": [
  {
   "cell_type": "markdown",
   "id": "8d45fa7a",
   "metadata": {},
   "source": [
    "* https://www.kaggle.com/datasets/mkechinov/ecommerce-behavior-data-from-multi-category-store"
   ]
  },
  {
   "cell_type": "code",
   "execution_count": null,
   "id": "0ac511f3",
   "metadata": {},
   "outputs": [],
   "source": [
    "import pandas as pd\n",
    "import time\n",
    "import re\n",
    "from tqdm import tqdm"
   ]
  },
  {
   "cell_type": "code",
   "execution_count": null,
   "id": "9821c330",
   "metadata": {},
   "outputs": [],
   "source": [
    "# %time df = pd.read_csv(\"data/2019-Oct.csv\")"
   ]
  },
  {
   "cell_type": "code",
   "execution_count": null,
   "id": "20baaa55",
   "metadata": {},
   "outputs": [],
   "source": [
    "from glob import glob\n",
    "\n",
    "glob(\"data/*.csv\")"
   ]
  },
  {
   "cell_type": "code",
   "execution_count": null,
   "id": "e0d1319b",
   "metadata": {},
   "outputs": [],
   "source": [
    "# chunk_size = 1e7\n",
    "# chunk_iter = pd.read_csv(\"data/2019-Nov.csv\", chunksize=chunk_size)"
   ]
  },
  {
   "cell_type": "code",
   "execution_count": null,
   "id": "34bfe121",
   "metadata": {},
   "outputs": [],
   "source": [
    "# chunk_iter.read()"
   ]
  },
  {
   "cell_type": "markdown",
   "id": "6b15f37f",
   "metadata": {},
   "source": [
    "## downcast_csv_to_parquet"
   ]
  },
  {
   "cell_type": "code",
   "execution_count": null,
   "id": "4a593f3a",
   "metadata": {},
   "outputs": [],
   "source": [
    "def downcast(df_chunk):\n",
    "    for col in df_chunk.columns:\n",
    "        dtypes_name = df_chunk[col].dtypes.name\n",
    "        if dtypes_name.startswith(\"float\"):\n",
    "            df_chunk[col] = pd.to_numeric(df_chunk[col], downcast=\"float\")\n",
    "        elif dtypes_name.startswith(\"int\"):\n",
    "            # 최솟값을 구해서 음수가 있을 때는 integer\n",
    "            # 음수가 없을 때는 unsigned\n",
    "            if df_chunk[col].min() < 0 :\n",
    "                df_chunk[col] = pd.to_numeric(df_chunk[col], downcast=\"integer\")\n",
    "            else:\n",
    "                df_chunk[col] = pd.to_numeric(df_chunk[col], downcast=\"unsigned\")\n",
    "        # 문자일 때는 category 로 변경해 줍니다.\n",
    "        # 카디널리티가 높거나 텍스트 데이터에는 적합하지 않을 수 있습니다.\n",
    "        elif dtypes_name.startswith(\"object\"):\n",
    "                df_chunk[col] = df_chunk[col].astype(\"category\")\n",
    "    return df_chunk"
   ]
  },
  {
   "cell_type": "code",
   "execution_count": null,
   "id": "8baaf0f1",
   "metadata": {},
   "outputs": [],
   "source": [
    "def downcast_csv_to_parquet(zip_file_name):\n",
    "    start = time.time()\n",
    "    result = re.findall(r'data/(.*?)\\.csv', zip_file_name, re.IGNORECASE)\n",
    "    \n",
    "    save_file_name = result[0]\n",
    "    print(save_file_name)\n",
    "    \n",
    "    chunk_size = 1e6\n",
    "    chunk_iter = pd.read_csv(zip_file_name, chunksize=chunk_size)\n",
    "    row_count = 0\n",
    "    chunk_list = [] \n",
    "    \n",
    "    for chunk in chunk_iter:\n",
    "        row_count = row_count + chunk.shape[0]\n",
    "        df_chunk = downcast(chunk)\n",
    "        # downcast() 후에 list에 모아두었다가 concat()을 할 수도 있지만 \n",
    "        # 메모리가 부족하다면 저장후 불러오는 전략을 사용\n",
    "        # chunk_list.append(df_chunk)\n",
    "        df_chunk.to_parquet(\n",
    "            f\"data_parquet/{save_file_name}-{df_chunk.index[0]}-{df_chunk.index[-1]}.parquet\", index=False)\n",
    "    print(row_count)\n",
    "    end = time.time()\n",
    "    return f\"{row_count}행, {end-start:.0f}초\" "
   ]
  },
  {
   "cell_type": "code",
   "execution_count": null,
   "id": "87c90019",
   "metadata": {},
   "outputs": [],
   "source": [
    "from glob import glob\n",
    "\n",
    "zip_file_names = glob(\"data/*\")\n",
    "zip_file_names = sorted(zip_file_names)[::-1]\n",
    "zip_file_names"
   ]
  },
  {
   "cell_type": "code",
   "execution_count": null,
   "id": "6c8cca8d",
   "metadata": {},
   "outputs": [],
   "source": [
    "for zip_file_name in zip_file_names:\n",
    "    result = downcast_csv_to_parquet(zip_file_name)\n",
    "    print(result)"
   ]
  },
  {
   "cell_type": "code",
   "execution_count": null,
   "id": "5e43f1cd",
   "metadata": {},
   "outputs": [],
   "source": [
    "import pyarrow.parquet as pq\n",
    "\n",
    "# Parquet 파일 경로\n",
    "parquet_file = glob(\"data_parquet/*\")[0]\n",
    "\n",
    "# Parquet 파일의 메타데이터 읽기\n",
    "metadata = pq.read_metadata(parquet_file)\n",
    "\n",
    "# 스키마 정보 출력\n",
    "print(\"Schema:\")\n",
    "print(metadata.schema)\n",
    "\n",
    "# 기타 메타데이터 확인\n",
    "print(\"Other Metadata:\")\n",
    "print(metadata.metadata[b'pandas'])"
   ]
  },
  {
   "cell_type": "markdown",
   "id": "510b2861",
   "metadata": {},
   "source": [
    "### parquet 파일 로드하고 하나의 파일로 저장하기"
   ]
  },
  {
   "cell_type": "code",
   "execution_count": null,
   "id": "82806a85",
   "metadata": {},
   "outputs": [],
   "source": [
    "parquet_list = glob(\"data_parquet/*.parquet\")\n",
    "parquet_list[:3]"
   ]
  },
  {
   "cell_type": "code",
   "execution_count": null,
   "id": "5f114aed",
   "metadata": {},
   "outputs": [],
   "source": [
    "%time df_parquet_list = [pd.read_parquet(gzip_file_name) for gzip_file_name in parquet_list]\n",
    "len(df_parquet_list)"
   ]
  },
  {
   "cell_type": "code",
   "execution_count": null,
   "id": "2daca3b5",
   "metadata": {},
   "outputs": [],
   "source": [
    "%time df = pd.concat(df_parquet_list, ignore_index=True)\n",
    "df.shape"
   ]
  },
  {
   "cell_type": "code",
   "execution_count": null,
   "id": "dd6b94d5",
   "metadata": {},
   "outputs": [],
   "source": [
    "df.info()"
   ]
  },
  {
   "cell_type": "code",
   "execution_count": null,
   "id": "bd300a17",
   "metadata": {},
   "outputs": [],
   "source": [
    "file_name = \"2019-Oct-Nov-parquet.parquet\"\n",
    "file_name"
   ]
  },
  {
   "cell_type": "code",
   "execution_count": null,
   "id": "32d5e9dc",
   "metadata": {},
   "outputs": [],
   "source": [
    "df.to_parquet(file_name, index=False)"
   ]
  },
  {
   "cell_type": "code",
   "execution_count": null,
   "id": "148be48a",
   "metadata": {},
   "outputs": [],
   "source": [
    "df_pq = pd.read_parquet(file_name)"
   ]
  },
  {
   "cell_type": "code",
   "execution_count": null,
   "id": "fcdaba29",
   "metadata": {},
   "outputs": [],
   "source": [
    "df_pq.info()"
   ]
  },
  {
   "cell_type": "code",
   "execution_count": null,
   "id": "39cf43ca",
   "metadata": {},
   "outputs": [],
   "source": [
    "%whos"
   ]
  },
  {
   "cell_type": "code",
   "execution_count": null,
   "id": "056c5d3f",
   "metadata": {},
   "outputs": [],
   "source": [
    "chunk_size = 1e7"
   ]
  },
  {
   "cell_type": "code",
   "execution_count": null,
   "id": "63dcfa6a",
   "metadata": {},
   "outputs": [],
   "source": [
    "start = time()\n",
    "\n",
    "def get_column_type_and_length(df):\n",
    "    column_type_and_length = {}\n",
    "    for column in df.columns:\n",
    "        if pd.api.types.is_integer_dtype(df[column]):\n",
    "            column_type_and_length[column] = \"INT\"\n",
    "        elif pd.api.types.is_float_dtype(df[column]):\n",
    "            column_type_and_length[column] = \"FLOAT\"\n",
    "        elif pd.api.types.is_bool_dtype(df[column]):\n",
    "            column_type_and_length[column] = \"BOOLEAN\"\n",
    "        elif pd.api.types.is_datetime64_any_dtype(df[column]):\n",
    "            column_type_and_length[column] = \"DATETIME\"\n",
    "        else:\n",
    "            max_length = df[column].str.len().max()\n",
    "            if max_length <= 255:\n",
    "                column_type_and_length[column] = f\"VARCHAR({max_length})\"\n",
    "            else:\n",
    "                column_type_and_length[column] = \"TEXT\"\n",
    "    return column_type_and_length\n",
    "\n",
    "def create_table_from_parquet(file_path, table_name):\n",
    "    # SQLite 데이터베이스 연결\n",
    "    conn = sqlite3.connect('dd_parquet.db')\n",
    "    cursor = conn.cursor()\n",
    "\n",
    "    # CSV 파일을 스트리밍하여 테이블 생성과 데이터 저장\n",
    "    df = pd.read_parquet(file_path)\n",
    "    # 테이블 이름 지정\n",
    "    table_name = \"my_table\"\n",
    "\n",
    "    # 판다스 데이터프레임에서 스키마 정보 추출\n",
    "    schema_info = get_column_type_and_length(df)\n",
    "\n",
    "\n",
    "    # 테이블이 존재하지 않는 경우, 첫 번째 chunk를 이용해 테이블 생성\n",
    "    if df.index.start == 0:\n",
    "        # CREATE TABLE 쿼리 생성\n",
    "        create_table_query = f\"CREATE TABLE {table_name} ({', '.join([f'{column} {type}' for column, type in schema_info.items()])});\"\n",
    "        cursor.execute(create_table_query)\n",
    "        conn.commit()\n",
    "\n",
    "    # chunk 데이터를 테이블에 추가\n",
    "    df.to_sql(name=table_name, con=conn, if_exists='append', index=False)\n",
    "\n",
    "    # 데이터베이스 연결 종료\n",
    "    conn.close()\n",
    "\n",
    "# 대용량 CSV 파일의 경로와 테이블 이름을 지정하여 함수 호출\n",
    "file_path = '2019-Nov-parquet.gzip'\n",
    "table_name = 'my_table_parquet'\n",
    "create_table_from_parquet(file_path, table_name)\n",
    "\n",
    "\n",
    "end = time()\n",
    "print(f\"{end-start:.0f}초\")"
   ]
  },
  {
   "cell_type": "code",
   "execution_count": null,
   "id": "acb6c8e0",
   "metadata": {},
   "outputs": [],
   "source": [
    "# sqlite3 데이터베이스 연결\n",
    "conn = sqlite3.connect('dd_parquet.db')\n",
    "\n",
    "# 커서 생성\n",
    "cursor = conn.cursor()\n",
    "\n",
    "# 테이블 이름\n",
    "table_name = 'my_table'\n",
    "\n",
    "# PRAGMA를 사용하여 테이블의 스키마 정보 조회\n",
    "cursor.execute(f\"PRAGMA table_info({table_name})\")\n",
    "schema_info = cursor.fetchall()\n",
    "\n",
    "# 스키마 정보 출력\n",
    "print(\"Column Name | Data Type\")\n",
    "print(\"------------------------\")\n",
    "for column_info in schema_info:\n",
    "    column_name, data_type = column_info[1], column_info[2]\n",
    "    print(f\"{column_name} | {data_type}\")\n",
    "\n",
    "# 연결 종료\n",
    "conn.close()"
   ]
  },
  {
   "cell_type": "code",
   "execution_count": null,
   "id": "cc24bd5a",
   "metadata": {},
   "outputs": [],
   "source": [
    "import sqlite3\n",
    "\n",
    "def view_data_from_table(table_name):\n",
    "    # SQLite 데이터베이스 연결\n",
    "    conn = sqlite3.connect('my_database.db')\n",
    "    cursor = conn.cursor()\n",
    "\n",
    "    # 테이블의 데이터 조회\n",
    "    query = f\"SELECT * FROM {table_name} LIMIT 10;\"\n",
    "    cursor.execute(query)\n",
    "\n",
    "    # 조회된 데이터 출력\n",
    "    rows = cursor.fetchall()\n",
    "    for row in rows:\n",
    "        print(row)\n",
    "\n",
    "    # 데이터베이스 연결 종료\n",
    "    conn.close()\n",
    "\n",
    "# 저장한 테이블 이름을 지정하여 함수 호출\n",
    "table_name = 'my_table'\n",
    "view_data_from_table(table_name)\n"
   ]
  },
  {
   "cell_type": "markdown",
   "id": "5c701e9e",
   "metadata": {},
   "source": [
    "## dask"
   ]
  },
  {
   "cell_type": "code",
   "execution_count": null,
   "id": "9628fbfa",
   "metadata": {},
   "outputs": [],
   "source": [
    "import dask.dataframe as dd\n",
    "\n",
    "chunk_size = 1e6\n",
    "# CSV 파일 불러오기\n",
    "dd_chunk = dd.read_csv('data/2019-Oct.csv', assume_missing=True, blocksize=chunk_size)"
   ]
  },
  {
   "cell_type": "code",
   "execution_count": null,
   "id": "3b37797a",
   "metadata": {},
   "outputs": [],
   "source": [
    "dd_chunk.shape"
   ]
  },
  {
   "cell_type": "code",
   "execution_count": null,
   "id": "1ed528bf",
   "metadata": {},
   "outputs": [],
   "source": [
    "dd_csv = dd_chunk.compute()"
   ]
  },
  {
   "cell_type": "code",
   "execution_count": null,
   "id": "928cb054",
   "metadata": {},
   "outputs": [],
   "source": []
  }
 ],
 "metadata": {
  "kernelspec": {
   "display_name": "Python 3 (ipykernel)",
   "language": "python",
   "name": "python3"
  },
  "language_info": {
   "codemirror_mode": {
    "name": "ipython",
    "version": 3
   },
   "file_extension": ".py",
   "mimetype": "text/x-python",
   "name": "python",
   "nbconvert_exporter": "python",
   "pygments_lexer": "ipython3",
   "version": "3.11.4"
  },
  "toc": {
   "base_numbering": 1,
   "nav_menu": {},
   "number_sections": true,
   "sideBar": true,
   "skip_h1_title": false,
   "title_cell": "Table of Contents",
   "title_sidebar": "Contents",
   "toc_cell": false,
   "toc_position": {},
   "toc_section_display": true,
   "toc_window_display": false
  },
  "varInspector": {
   "cols": {
    "lenName": 16,
    "lenType": 16,
    "lenVar": 40
   },
   "kernels_config": {
    "python": {
     "delete_cmd_postfix": "",
     "delete_cmd_prefix": "del ",
     "library": "var_list.py",
     "varRefreshCmd": "print(var_dic_list())"
    },
    "r": {
     "delete_cmd_postfix": ") ",
     "delete_cmd_prefix": "rm(",
     "library": "var_list.r",
     "varRefreshCmd": "cat(var_dic_list()) "
    }
   },
   "types_to_exclude": [
    "module",
    "function",
    "builtin_function_or_method",
    "instance",
    "_Feature"
   ],
   "window_display": false
  }
 },
 "nbformat": 4,
 "nbformat_minor": 5
}
