{
 "cells": [
  {
   "cell_type": "markdown",
   "id": "8d45fa7a",
   "metadata": {},
   "source": [
    "* https://www.kaggle.com/datasets/mkechinov/ecommerce-behavior-data-from-multi-category-store"
   ]
  },
  {
   "cell_type": "code",
   "execution_count": null,
   "id": "0ac511f3",
   "metadata": {},
   "outputs": [],
   "source": [
    "import pandas as pd\n",
    "import time\n",
    "import re\n",
    "from tqdm import tqdm\n",
    "from glob import glob"
   ]
  },
  {
   "cell_type": "code",
   "execution_count": null,
   "id": "de866a0d",
   "metadata": {},
   "outputs": [],
   "source": [
    "%time df = pd.read_parquet(\"2019-Oct-Nov-parquet.parquet\")"
   ]
  },
  {
   "cell_type": "code",
   "execution_count": null,
   "id": "df4f0546",
   "metadata": {},
   "outputs": [],
   "source": [
    "df.head()"
   ]
  },
  {
   "cell_type": "code",
   "execution_count": null,
   "id": "f3781988",
   "metadata": {},
   "outputs": [],
   "source": [
    "df.info()"
   ]
  },
  {
   "cell_type": "code",
   "execution_count": null,
   "id": "f2c5c755",
   "metadata": {},
   "outputs": [],
   "source": [
    "df = df[[\"event_time\", \"user_id\"]].copy()"
   ]
  },
  {
   "cell_type": "code",
   "execution_count": null,
   "id": "b589428f",
   "metadata": {},
   "outputs": [],
   "source": [
    "df.info()"
   ]
  },
  {
   "cell_type": "code",
   "execution_count": null,
   "id": "2dccd1bc",
   "metadata": {},
   "outputs": [],
   "source": [
    "df.event_time.dtypes"
   ]
  },
  {
   "cell_type": "code",
   "execution_count": null,
   "id": "84da0741",
   "metadata": {},
   "outputs": [],
   "source": [
    "%time df[\"event_time\"] = pd.to_datetime(df[\"event_time\"])"
   ]
  },
  {
   "cell_type": "code",
   "execution_count": null,
   "id": "928cb054",
   "metadata": {},
   "outputs": [],
   "source": [
    "%time df[\"first_event_time\"] = df.groupby(\"user_id\")[\"event_time\"].transform(\"min\")\n",
    "df.info()"
   ]
  },
  {
   "cell_type": "code",
   "execution_count": null,
   "id": "d6cfb3a1",
   "metadata": {},
   "outputs": [],
   "source": [
    "df[\"first_event_time\"] = pd.to_datetime(df[\"first_event_time\"])"
   ]
  },
  {
   "cell_type": "code",
   "execution_count": null,
   "id": "bb9da46d",
   "metadata": {},
   "outputs": [],
   "source": [
    "%time df[\"cohort_days\"] = (df[\"event_time\"] - df[\"first_event_time\"]).dt.days"
   ]
  },
  {
   "cell_type": "code",
   "execution_count": null,
   "id": "1d0893e1",
   "metadata": {},
   "outputs": [],
   "source": [
    "df.info()"
   ]
  },
  {
   "cell_type": "code",
   "execution_count": null,
   "id": "646da045",
   "metadata": {},
   "outputs": [],
   "source": [
    "df[\"cohort_days\"] = pd.to_numeric(df[\"cohort_days\"], downcast=\"unsigned\")\n",
    "df.info()"
   ]
  },
  {
   "cell_type": "code",
   "execution_count": null,
   "id": "1cfcdd1a",
   "metadata": {},
   "outputs": [],
   "source": [
    "df[\"cohort_days\"].value_counts().sort_index().plot()"
   ]
  },
  {
   "cell_type": "code",
   "execution_count": null,
   "id": "0ea5116c",
   "metadata": {},
   "outputs": [],
   "source": [
    "df.info()"
   ]
  },
  {
   "cell_type": "code",
   "execution_count": null,
   "id": "4cfc5d19",
   "metadata": {},
   "outputs": [],
   "source": [
    "%time df[\"first_day\"] = df[\"first_event_time\"].dt.strftime(\"%m-%d\")\n",
    "df"
   ]
  },
  {
   "cell_type": "code",
   "execution_count": null,
   "id": "aa40ccd2",
   "metadata": {},
   "outputs": [],
   "source": [
    "%time df[\"first_day\"] = df[\"first_event_time\"].astype(str).str[5:10]"
   ]
  },
  {
   "cell_type": "code",
   "execution_count": null,
   "id": "a8b78d18",
   "metadata": {},
   "outputs": [],
   "source": [
    "%time cohort_count = df.groupby([\"first_day\", \"cohort_days\"])[\"user_id\"].nunique().unstack()"
   ]
  },
  {
   "cell_type": "code",
   "execution_count": null,
   "id": "abe416b0",
   "metadata": {},
   "outputs": [],
   "source": [
    "%time cohort_count = df.groupby([\"first_day\", \"cohort_days\"])[\"user_id\"].nunique().unstack()"
   ]
  },
  {
   "cell_type": "code",
   "execution_count": null,
   "id": "6b579592",
   "metadata": {},
   "outputs": [],
   "source": [
    "cohort_count"
   ]
  },
  {
   "cell_type": "code",
   "execution_count": null,
   "id": "b48c937a",
   "metadata": {},
   "outputs": [],
   "source": [
    "cohort_count.style.background_gradient(axis=None).format(\"{:,.0f}\")"
   ]
  },
  {
   "cell_type": "code",
   "execution_count": null,
   "id": "2afab5dc",
   "metadata": {},
   "outputs": [],
   "source": [
    "cohort_ratio = cohort_count.div(cohort_count[0], axis=0)\n",
    "cohort_ratio"
   ]
  },
  {
   "cell_type": "code",
   "execution_count": null,
   "id": "a821374f",
   "metadata": {},
   "outputs": [],
   "source": [
    "import seaborn as sns\n",
    "\n",
    "sns.heatmap(cohort_ratio, cmap=\"Blues\")"
   ]
  },
  {
   "cell_type": "code",
   "execution_count": null,
   "id": "e7c1b600",
   "metadata": {},
   "outputs": [],
   "source": []
  }
 ],
 "metadata": {
  "kernelspec": {
   "display_name": "Python 3 (ipykernel)",
   "language": "python",
   "name": "python3"
  },
  "language_info": {
   "codemirror_mode": {
    "name": "ipython",
    "version": 3
   },
   "file_extension": ".py",
   "mimetype": "text/x-python",
   "name": "python",
   "nbconvert_exporter": "python",
   "pygments_lexer": "ipython3",
   "version": "3.11.4"
  },
  "toc": {
   "base_numbering": 1,
   "nav_menu": {},
   "number_sections": true,
   "sideBar": true,
   "skip_h1_title": false,
   "title_cell": "Table of Contents",
   "title_sidebar": "Contents",
   "toc_cell": false,
   "toc_position": {},
   "toc_section_display": true,
   "toc_window_display": false
  },
  "varInspector": {
   "cols": {
    "lenName": 16,
    "lenType": 16,
    "lenVar": 40
   },
   "kernels_config": {
    "python": {
     "delete_cmd_postfix": "",
     "delete_cmd_prefix": "del ",
     "library": "var_list.py",
     "varRefreshCmd": "print(var_dic_list())"
    },
    "r": {
     "delete_cmd_postfix": ") ",
     "delete_cmd_prefix": "rm(",
     "library": "var_list.r",
     "varRefreshCmd": "cat(var_dic_list()) "
    }
   },
   "types_to_exclude": [
    "module",
    "function",
    "builtin_function_or_method",
    "instance",
    "_Feature"
   ],
   "window_display": false
  }
 },
 "nbformat": 4,
 "nbformat_minor": 5
}
