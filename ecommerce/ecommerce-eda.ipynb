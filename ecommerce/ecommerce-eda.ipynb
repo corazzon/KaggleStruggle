{
 "cells": [
  {
   "cell_type": "markdown",
   "id": "8d45fa7a",
   "metadata": {},
   "source": [
    "* https://www.kaggle.com/datasets/mkechinov/ecommerce-behavior-data-from-multi-category-store"
   ]
  },
  {
   "cell_type": "code",
   "execution_count": null,
   "id": "0ac511f3",
   "metadata": {},
   "outputs": [],
   "source": [
    "import pandas as pd\n",
    "import time\n",
    "import re\n",
    "from tqdm import tqdm\n",
    "from glob import glob\n",
    "import matplotlib.pyplot as plt\n",
    "import seaborn as sns"
   ]
  },
  {
   "cell_type": "code",
   "execution_count": null,
   "id": "de866a0d",
   "metadata": {},
   "outputs": [],
   "source": [
    "%time df = pd.read_parquet(\"2019-Oct-Nov-parquet.parquet\")"
   ]
  },
  {
   "cell_type": "code",
   "execution_count": null,
   "id": "e6d5ea2b",
   "metadata": {},
   "outputs": [],
   "source": [
    "df.head()"
   ]
  },
  {
   "cell_type": "code",
   "execution_count": null,
   "id": "da531481",
   "metadata": {},
   "outputs": [],
   "source": [
    "df.info()"
   ]
  },
  {
   "cell_type": "code",
   "execution_count": null,
   "id": "bc18f391",
   "metadata": {},
   "outputs": [],
   "source": [
    "df = df[[\"event_time\", \"user_id\"]].copy()"
   ]
  },
  {
   "cell_type": "code",
   "execution_count": null,
   "id": "8d59298f",
   "metadata": {},
   "outputs": [],
   "source": [
    "df.info()"
   ]
  },
  {
   "cell_type": "code",
   "execution_count": null,
   "id": "d2bcfd1c",
   "metadata": {},
   "outputs": [],
   "source": [
    "%time df[\"event_time\"] = pd.to_datetime(df[\"event_time\"])"
   ]
  },
  {
   "cell_type": "code",
   "execution_count": null,
   "id": "928cb054",
   "metadata": {},
   "outputs": [],
   "source": [
    "%time df[\"first_event_time\"] = df.groupby(\"user_id\")[\"event_time\"].transform(\"min\")\n",
    "df.info()"
   ]
  },
  {
   "cell_type": "code",
   "execution_count": null,
   "id": "c8ea8497",
   "metadata": {},
   "outputs": [],
   "source": [
    "df[\"first_event_time\"] = pd.to_datetime(df[\"first_event_time\"])"
   ]
  },
  {
   "cell_type": "code",
   "execution_count": null,
   "id": "c2b9b45b",
   "metadata": {},
   "outputs": [],
   "source": [
    "%time df[\"cohort_days\"] = (df[\"event_time\"] - df[\"first_event_time\"]).dt.days"
   ]
  },
  {
   "cell_type": "code",
   "execution_count": null,
   "id": "aa76431a",
   "metadata": {},
   "outputs": [],
   "source": [
    "df.info()"
   ]
  },
  {
   "cell_type": "code",
   "execution_count": null,
   "id": "65d02277",
   "metadata": {},
   "outputs": [],
   "source": [
    "df[\"cohort_days\"] = pd.to_numeric(df[\"cohort_days\"], downcast=\"unsigned\")\n",
    "df.info()"
   ]
  },
  {
   "cell_type": "code",
   "execution_count": null,
   "id": "442fcfce",
   "metadata": {},
   "outputs": [],
   "source": [
    "df[\"cohort_days\"].value_counts().sort_index().plot()"
   ]
  },
  {
   "cell_type": "code",
   "execution_count": null,
   "id": "fcedba55",
   "metadata": {},
   "outputs": [],
   "source": [
    "df.info()"
   ]
  },
  {
   "cell_type": "code",
   "execution_count": null,
   "id": "15c36d66",
   "metadata": {},
   "outputs": [],
   "source": [
    "%time df[\"first_day\"] = df[\"first_event_time\"].dt.strftime(\"%m-%d\")\n",
    "df"
   ]
  },
  {
   "cell_type": "code",
   "execution_count": null,
   "id": "1b836874",
   "metadata": {},
   "outputs": [],
   "source": [
    "%time df[\"first_day\"] = df[\"first_event_time\"].astype(str).str[5:10]"
   ]
  },
  {
   "cell_type": "code",
   "execution_count": null,
   "id": "25ec2a01",
   "metadata": {},
   "outputs": [],
   "source": [
    "%time cohort_count = df.groupby([\"first_day\", \"cohort_days\"])[\"user_id\"].nunique().unstack()"
   ]
  },
  {
   "cell_type": "code",
   "execution_count": null,
   "id": "14c5a061",
   "metadata": {},
   "outputs": [],
   "source": [
    "%time cohort_count = df.groupby([\"first_day\", \"cohort_days\"])[\"user_id\"].nunique().unstack()"
   ]
  },
  {
   "cell_type": "code",
   "execution_count": null,
   "id": "1b0be6e9",
   "metadata": {},
   "outputs": [],
   "source": [
    "cohort_count"
   ]
  },
  {
   "cell_type": "code",
   "execution_count": null,
   "id": "1b15eb08",
   "metadata": {},
   "outputs": [],
   "source": [
    "cohort_count.style.background_gradient(axis=None).format(\"{:,.0f}\")"
   ]
  },
  {
   "cell_type": "code",
   "execution_count": null,
   "id": "707e2f64",
   "metadata": {},
   "outputs": [],
   "source": [
    "cohort_ratio = cohort_count.div(cohort_count[0], axis=0)\n",
    "cohort_ratio"
   ]
  },
  {
   "cell_type": "code",
   "execution_count": null,
   "id": "a0417a84",
   "metadata": {},
   "outputs": [],
   "source": [
    "sns.heatmap(cohort_ratio, cmap=\"Blues\")"
   ]
  },
  {
   "cell_type": "code",
   "execution_count": null,
   "id": "3cc99cfc",
   "metadata": {},
   "outputs": [],
   "source": [
    "df.head(2)"
   ]
  },
  {
   "cell_type": "code",
   "execution_count": null,
   "id": "d15b5635",
   "metadata": {},
   "outputs": [],
   "source": [
    "%time df['week'] = df['event_time'].dt.isocalendar().week\n",
    "%time df['first_week'] = df['first_event_time'].dt.isocalendar().week"
   ]
  },
  {
   "cell_type": "code",
   "execution_count": null,
   "id": "fe88d44f",
   "metadata": {},
   "outputs": [],
   "source": [
    "%time df['cohort_week'] = df['week'] - df['first_week'] + 1"
   ]
  },
  {
   "cell_type": "code",
   "execution_count": null,
   "id": "d968e144",
   "metadata": {},
   "outputs": [],
   "source": [
    "%time df_week = df[[\"first_week\", \"cohort_week\", \"user_id\"]].copy()\n",
    "df_week.shape"
   ]
  },
  {
   "cell_type": "code",
   "execution_count": null,
   "id": "ef9a04d7",
   "metadata": {},
   "outputs": [],
   "source": [
    "%time cohort_week_count = df_week.groupby([\"first_week\", \"cohort_week\"])[\"user_id\"].nunique().unstack()"
   ]
  },
  {
   "cell_type": "code",
   "execution_count": null,
   "id": "f89ffffd",
   "metadata": {},
   "outputs": [],
   "source": [
    "plt.figure(figsize=(10, 6))\n",
    "sns.heatmap(cohort_week_count, cmap=\"Blues\", annot=True, fmt=\",.0f\")"
   ]
  },
  {
   "cell_type": "code",
   "execution_count": null,
   "id": "0cdc7677",
   "metadata": {},
   "outputs": [],
   "source": []
  }
 ],
 "metadata": {
  "kernelspec": {
   "display_name": "Python 3 (ipykernel)",
   "language": "python",
   "name": "python3"
  },
  "language_info": {
   "codemirror_mode": {
    "name": "ipython",
    "version": 3
   },
   "file_extension": ".py",
   "mimetype": "text/x-python",
   "name": "python",
   "nbconvert_exporter": "python",
   "pygments_lexer": "ipython3",
   "version": "3.11.4"
  },
  "toc": {
   "base_numbering": 1,
   "nav_menu": {},
   "number_sections": true,
   "sideBar": true,
   "skip_h1_title": false,
   "title_cell": "Table of Contents",
   "title_sidebar": "Contents",
   "toc_cell": false,
   "toc_position": {},
   "toc_section_display": true,
   "toc_window_display": false
  },
  "varInspector": {
   "cols": {
    "lenName": 16,
    "lenType": 16,
    "lenVar": 40
   },
   "kernels_config": {
    "python": {
     "delete_cmd_postfix": "",
     "delete_cmd_prefix": "del ",
     "library": "var_list.py",
     "varRefreshCmd": "print(var_dic_list())"
    },
    "r": {
     "delete_cmd_postfix": ") ",
     "delete_cmd_prefix": "rm(",
     "library": "var_list.r",
     "varRefreshCmd": "cat(var_dic_list()) "
    }
   },
   "types_to_exclude": [
    "module",
    "function",
    "builtin_function_or_method",
    "instance",
    "_Feature"
   ],
   "window_display": false
  }
 },
 "nbformat": 4,
 "nbformat_minor": 5
}
