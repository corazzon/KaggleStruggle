{
 "cells": [
  {
   "cell_type": "markdown",
   "id": "619508e6",
   "metadata": {},
   "source": [
    "* https://www.sciencedirect.com/science/article/pii/S2352340918315191\n",
    "* https://www.kaggle.com/datasets/jessemostipak/hotel-booking-demand\n",
    "\n",
    "<img src=\"https://ars.els-cdn.com/content/image/1-s2.0-S2352340918315191-gr1.jpg\">"
   ]
  },
  {
   "cell_type": "code",
   "execution_count": 1,
   "id": "494f3642",
   "metadata": {},
   "outputs": [],
   "source": [
    "import pandas as pd\n",
    "import matplotlib.pyplot as plt\n",
    "import seaborn as sns\n",
    "import numpy as np"
   ]
  },
  {
   "cell_type": "code",
   "execution_count": 2,
   "id": "cd4140f3",
   "metadata": {},
   "outputs": [
    {
     "data": {
      "text/plain": [
       "(119390, 32)"
      ]
     },
     "execution_count": 2,
     "metadata": {},
     "output_type": "execute_result"
    }
   ],
   "source": [
    "df_csv = pd.read_csv(\"data/hotel_bookings.csv\")\n",
    "df_csv.shape"
   ]
  },
  {
   "cell_type": "code",
   "execution_count": 3,
   "id": "dc6f6e22",
   "metadata": {},
   "outputs": [
    {
     "name": "stdout",
     "output_type": "stream",
     "text": [
      "<class 'pandas.core.frame.DataFrame'>\n",
      "RangeIndex: 119390 entries, 0 to 119389\n",
      "Data columns (total 32 columns):\n",
      " #   Column                          Non-Null Count   Dtype  \n",
      "---  ------                          --------------   -----  \n",
      " 0   hotel                           119390 non-null  object \n",
      " 1   is_canceled                     119390 non-null  int64  \n",
      " 2   lead_time                       119390 non-null  int64  \n",
      " 3   arrival_date_year               119390 non-null  int64  \n",
      " 4   arrival_date_month              119390 non-null  object \n",
      " 5   arrival_date_week_number        119390 non-null  int64  \n",
      " 6   arrival_date_day_of_month       119390 non-null  int64  \n",
      " 7   stays_in_weekend_nights         119390 non-null  int64  \n",
      " 8   stays_in_week_nights            119390 non-null  int64  \n",
      " 9   adults                          119390 non-null  int64  \n",
      " 10  children                        119386 non-null  float64\n",
      " 11  babies                          119390 non-null  int64  \n",
      " 12  meal                            119390 non-null  object \n",
      " 13  country                         118902 non-null  object \n",
      " 14  market_segment                  119390 non-null  object \n",
      " 15  distribution_channel            119390 non-null  object \n",
      " 16  is_repeated_guest               119390 non-null  int64  \n",
      " 17  previous_cancellations          119390 non-null  int64  \n",
      " 18  previous_bookings_not_canceled  119390 non-null  int64  \n",
      " 19  reserved_room_type              119390 non-null  object \n",
      " 20  assigned_room_type              119390 non-null  object \n",
      " 21  booking_changes                 119390 non-null  int64  \n",
      " 22  deposit_type                    119390 non-null  object \n",
      " 23  agent                           103050 non-null  float64\n",
      " 24  company                         6797 non-null    float64\n",
      " 25  days_in_waiting_list            119390 non-null  int64  \n",
      " 26  customer_type                   119390 non-null  object \n",
      " 27  adr                             119390 non-null  float64\n",
      " 28  required_car_parking_spaces     119390 non-null  int64  \n",
      " 29  total_of_special_requests       119390 non-null  int64  \n",
      " 30  reservation_status              119390 non-null  object \n",
      " 31  reservation_status_date         119390 non-null  object \n",
      "dtypes: float64(4), int64(16), object(12)\n",
      "memory usage: 29.1+ MB\n"
     ]
    }
   ],
   "source": [
    "df_csv.info()"
   ]
  },
  {
   "cell_type": "code",
   "execution_count": 4,
   "id": "5b872739",
   "metadata": {},
   "outputs": [],
   "source": [
    "chunk_size = 1e4\n",
    "chunk_iter = pd.read_csv(\"data/hotel_bookings.csv\", chunksize=chunk_size)"
   ]
  },
  {
   "cell_type": "code",
   "execution_count": 5,
   "id": "209cba0b",
   "metadata": {},
   "outputs": [],
   "source": [
    "def downcast(df_chunk):\n",
    "    for col in df_chunk.columns:\n",
    "        dtypes_name = df_chunk[col].dtypes.name\n",
    "        if dtypes_name.startswith(\"float\"):\n",
    "            df_chunk[col] = pd.to_numeric(df_chunk[col], downcast=\"float\")\n",
    "        elif dtypes_name.startswith(\"int\"):\n",
    "            # 최솟값을 구해서 음수가 있을 때는 integer\n",
    "            # 음수가 없을 때는 unsigned\n",
    "            if df_chunk[col].min() < 0 :\n",
    "                df_chunk[col] = pd.to_numeric(df_chunk[col], downcast=\"integer\")\n",
    "            else:\n",
    "                df_chunk[col] = pd.to_numeric(df_chunk[col], downcast=\"unsigned\")\n",
    "        # 문자일 때는 category 로 변경해 줍니다.\n",
    "        # 카디널리티가 높거나 텍스트 데이터에는 적합하지 않을 수 있습니다.\n",
    "        elif dtypes_name.startswith(\"object\"):\n",
    "                df_chunk[col] = df_chunk[col].astype(\"category\")\n",
    "    return df_chunk"
   ]
  },
  {
   "cell_type": "code",
   "execution_count": 6,
   "id": "85dbe60f",
   "metadata": {},
   "outputs": [
    {
     "name": "stdout",
     "output_type": "stream",
     "text": [
      "(10000, 32)\n",
      "(10000, 32)\n",
      "(10000, 32)\n",
      "(10000, 32)\n",
      "(10000, 32)\n",
      "(10000, 32)\n",
      "(10000, 32)\n",
      "(10000, 32)\n",
      "(10000, 32)\n",
      "(10000, 32)\n",
      "(10000, 32)\n",
      "(9390, 32)\n"
     ]
    },
    {
     "data": {
      "text/plain": [
       "119390"
      ]
     },
     "execution_count": 6,
     "metadata": {},
     "output_type": "execute_result"
    }
   ],
   "source": [
    "row_count = 0\n",
    "chunk_list = [] \n",
    "for chunk in chunk_iter:\n",
    "    print(chunk.shape)\n",
    "    row_count = row_count + chunk.shape[0]\n",
    "    chunk_list.append(downcast(chunk))\n",
    "row_count "
   ]
  },
  {
   "cell_type": "code",
   "execution_count": 7,
   "id": "903ee257",
   "metadata": {},
   "outputs": [
    {
     "data": {
      "text/plain": [
       "(119390, 32)"
      ]
     },
     "execution_count": 7,
     "metadata": {},
     "output_type": "execute_result"
    }
   ],
   "source": [
    "df = pd.concat(chunk_list, ignore_index=True)\n",
    "df.shape"
   ]
  },
  {
   "cell_type": "code",
   "execution_count": 8,
   "id": "c66176d1",
   "metadata": {},
   "outputs": [
    {
     "name": "stdout",
     "output_type": "stream",
     "text": [
      "<class 'pandas.core.frame.DataFrame'>\n",
      "RangeIndex: 119390 entries, 0 to 119389\n",
      "Data columns (total 32 columns):\n",
      " #   Column                          Non-Null Count   Dtype  \n",
      "---  ------                          --------------   -----  \n",
      " 0   hotel                           119390 non-null  object \n",
      " 1   is_canceled                     119390 non-null  int64  \n",
      " 2   lead_time                       119390 non-null  int64  \n",
      " 3   arrival_date_year               119390 non-null  int64  \n",
      " 4   arrival_date_month              119390 non-null  object \n",
      " 5   arrival_date_week_number        119390 non-null  int64  \n",
      " 6   arrival_date_day_of_month       119390 non-null  int64  \n",
      " 7   stays_in_weekend_nights         119390 non-null  int64  \n",
      " 8   stays_in_week_nights            119390 non-null  int64  \n",
      " 9   adults                          119390 non-null  int64  \n",
      " 10  children                        119386 non-null  float64\n",
      " 11  babies                          119390 non-null  int64  \n",
      " 12  meal                            119390 non-null  object \n",
      " 13  country                         118902 non-null  object \n",
      " 14  market_segment                  119390 non-null  object \n",
      " 15  distribution_channel            119390 non-null  object \n",
      " 16  is_repeated_guest               119390 non-null  int64  \n",
      " 17  previous_cancellations          119390 non-null  int64  \n",
      " 18  previous_bookings_not_canceled  119390 non-null  int64  \n",
      " 19  reserved_room_type              119390 non-null  object \n",
      " 20  assigned_room_type              119390 non-null  object \n",
      " 21  booking_changes                 119390 non-null  int64  \n",
      " 22  deposit_type                    119390 non-null  object \n",
      " 23  agent                           103050 non-null  float64\n",
      " 24  company                         6797 non-null    float64\n",
      " 25  days_in_waiting_list            119390 non-null  int64  \n",
      " 26  customer_type                   119390 non-null  object \n",
      " 27  adr                             119390 non-null  float64\n",
      " 28  required_car_parking_spaces     119390 non-null  int64  \n",
      " 29  total_of_special_requests       119390 non-null  int64  \n",
      " 30  reservation_status              119390 non-null  object \n",
      " 31  reservation_status_date         119390 non-null  object \n",
      "dtypes: float64(4), int64(16), object(12)\n",
      "memory usage: 29.1+ MB\n"
     ]
    }
   ],
   "source": [
    "df_csv.info()"
   ]
  },
  {
   "cell_type": "code",
   "execution_count": 9,
   "id": "1419fd2c",
   "metadata": {},
   "outputs": [
    {
     "name": "stdout",
     "output_type": "stream",
     "text": [
      "<class 'pandas.core.frame.DataFrame'>\n",
      "RangeIndex: 119390 entries, 0 to 119389\n",
      "Data columns (total 32 columns):\n",
      " #   Column                          Non-Null Count   Dtype   \n",
      "---  ------                          --------------   -----   \n",
      " 0   hotel                           119390 non-null  object  \n",
      " 1   is_canceled                     119390 non-null  uint8   \n",
      " 2   lead_time                       119390 non-null  uint16  \n",
      " 3   arrival_date_year               119390 non-null  uint16  \n",
      " 4   arrival_date_month              119390 non-null  object  \n",
      " 5   arrival_date_week_number        119390 non-null  uint8   \n",
      " 6   arrival_date_day_of_month       119390 non-null  uint8   \n",
      " 7   stays_in_weekend_nights         119390 non-null  uint8   \n",
      " 8   stays_in_week_nights            119390 non-null  uint8   \n",
      " 9   adults                          119390 non-null  uint8   \n",
      " 10  children                        119386 non-null  float32 \n",
      " 11  babies                          119390 non-null  uint8   \n",
      " 12  meal                            119390 non-null  object  \n",
      " 13  country                         118902 non-null  object  \n",
      " 14  market_segment                  119390 non-null  object  \n",
      " 15  distribution_channel            119390 non-null  object  \n",
      " 16  is_repeated_guest               119390 non-null  uint8   \n",
      " 17  previous_cancellations          119390 non-null  uint8   \n",
      " 18  previous_bookings_not_canceled  119390 non-null  uint8   \n",
      " 19  reserved_room_type              119390 non-null  object  \n",
      " 20  assigned_room_type              119390 non-null  object  \n",
      " 21  booking_changes                 119390 non-null  uint8   \n",
      " 22  deposit_type                    119390 non-null  object  \n",
      " 23  agent                           103050 non-null  float32 \n",
      " 24  company                         6797 non-null    float32 \n",
      " 25  days_in_waiting_list            119390 non-null  uint16  \n",
      " 26  customer_type                   119390 non-null  category\n",
      " 27  adr                             119390 non-null  float32 \n",
      " 28  required_car_parking_spaces     119390 non-null  uint8   \n",
      " 29  total_of_special_requests       119390 non-null  uint8   \n",
      " 30  reservation_status              119390 non-null  category\n",
      " 31  reservation_status_date         119390 non-null  object  \n",
      "dtypes: category(2), float32(4), object(10), uint16(3), uint8(13)\n",
      "memory usage: 13.3+ MB\n"
     ]
    }
   ],
   "source": [
    "df.info()"
   ]
  },
  {
   "cell_type": "code",
   "execution_count": null,
   "id": "f41d3157",
   "metadata": {},
   "outputs": [],
   "source": []
  }
 ],
 "metadata": {
  "kernelspec": {
   "display_name": "Python 3 (ipykernel)",
   "language": "python",
   "name": "python3"
  },
  "language_info": {
   "codemirror_mode": {
    "name": "ipython",
    "version": 3
   },
   "file_extension": ".py",
   "mimetype": "text/x-python",
   "name": "python",
   "nbconvert_exporter": "python",
   "pygments_lexer": "ipython3",
   "version": "3.11.4"
  },
  "toc": {
   "base_numbering": 1,
   "nav_menu": {},
   "number_sections": true,
   "sideBar": true,
   "skip_h1_title": false,
   "title_cell": "Table of Contents",
   "title_sidebar": "Contents",
   "toc_cell": false,
   "toc_position": {},
   "toc_section_display": true,
   "toc_window_display": false
  },
  "varInspector": {
   "cols": {
    "lenName": 16,
    "lenType": 16,
    "lenVar": 40
   },
   "kernels_config": {
    "python": {
     "delete_cmd_postfix": "",
     "delete_cmd_prefix": "del ",
     "library": "var_list.py",
     "varRefreshCmd": "print(var_dic_list())"
    },
    "r": {
     "delete_cmd_postfix": ") ",
     "delete_cmd_prefix": "rm(",
     "library": "var_list.r",
     "varRefreshCmd": "cat(var_dic_list()) "
    }
   },
   "types_to_exclude": [
    "module",
    "function",
    "builtin_function_or_method",
    "instance",
    "_Feature"
   ],
   "window_display": false
  }
 },
 "nbformat": 4,
 "nbformat_minor": 5
}
