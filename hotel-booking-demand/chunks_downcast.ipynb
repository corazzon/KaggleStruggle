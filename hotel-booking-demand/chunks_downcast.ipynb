{
 "cells": [
  {
   "cell_type": "markdown",
   "id": "50198569",
   "metadata": {},
   "source": [
    "* https://www.sciencedirect.com/science/article/pii/S2352340918315191\n",
    "* https://www.kaggle.com/datasets/jessemostipak/hotel-booking-demand\n",
    "\n",
    "<img src=\"https://ars.els-cdn.com/content/image/1-s2.0-S2352340918315191-gr1.jpg\">"
   ]
  },
  {
   "cell_type": "code",
   "execution_count": null,
   "id": "02c417f9",
   "metadata": {},
   "outputs": [],
   "source": [
    "import pandas as pd\n",
    "import matplotlib.pyplot as plt\n",
    "import seaborn as sns\n",
    "import numpy as np"
   ]
  },
  {
   "cell_type": "code",
   "execution_count": null,
   "id": "8db11d02",
   "metadata": {},
   "outputs": [],
   "source": [
    "df_csv = pd.read_csv(\"data/hotel_bookings.csv\")\n",
    "df_csv.shape"
   ]
  },
  {
   "cell_type": "code",
   "execution_count": null,
   "id": "720c8e28",
   "metadata": {},
   "outputs": [],
   "source": [
    "df_csv.info()"
   ]
  },
  {
   "cell_type": "code",
   "execution_count": null,
   "id": "7d6d1ac2",
   "metadata": {},
   "outputs": [],
   "source": [
    "def downcast(df_chunk):\n",
    "    for col in df_chunk.columns:\n",
    "        dtypes_name = df_chunk[col].dtypes.name\n",
    "        if dtypes_name.startswith(\"float\"):\n",
    "            df_chunk[col] = pd.to_numeric(df_chunk[col], downcast=\"float\")\n",
    "        elif dtypes_name.startswith(\"int\"):\n",
    "            # 최솟값을 구해서 음수가 있을 때는 integer\n",
    "            # 음수가 없을 때는 unsigned\n",
    "            if df_chunk[col].min() < 0 :\n",
    "                df_chunk[col] = pd.to_numeric(df_chunk[col], downcast=\"integer\")\n",
    "            else:\n",
    "                df_chunk[col] = pd.to_numeric(df_chunk[col], downcast=\"unsigned\")\n",
    "        # 문자일 때는 category 로 변경해 줍니다.\n",
    "        # 카디널리티가 높거나 텍스트 데이터에는 적합하지 않을 수 있습니다.\n",
    "        elif dtypes_name.startswith(\"object\"):\n",
    "                df_chunk[col] = df_chunk[col].astype(\"category\")\n",
    "    return df_chunk"
   ]
  },
  {
   "cell_type": "code",
   "execution_count": null,
   "id": "250c3f5f",
   "metadata": {},
   "outputs": [],
   "source": [
    "chunk_size = 1e4\n",
    "chunk_iter = pd.read_csv(\"data/hotel_bookings.csv\", chunksize=chunk_size)"
   ]
  },
  {
   "cell_type": "code",
   "execution_count": null,
   "id": "02ae7ce4",
   "metadata": {},
   "outputs": [],
   "source": [
    "row_count = 0\n",
    "chunk_list = [] \n",
    "for chunk in chunk_iter:\n",
    "    print(chunk.shape)\n",
    "    row_count = row_count + chunk.shape[0]\n",
    "    chunk_list.append(downcast(chunk))\n",
    "row_count "
   ]
  },
  {
   "cell_type": "code",
   "execution_count": null,
   "id": "1859ee83",
   "metadata": {},
   "outputs": [],
   "source": [
    "df = pd.concat(chunk_list, ignore_index=True)\n",
    "df.shape"
   ]
  },
  {
   "cell_type": "code",
   "execution_count": null,
   "id": "487bb61b",
   "metadata": {},
   "outputs": [],
   "source": [
    "df.info()"
   ]
  },
  {
   "cell_type": "code",
   "execution_count": null,
   "id": "69a9795a",
   "metadata": {},
   "outputs": [],
   "source": []
  }
 ],
 "metadata": {
  "kernelspec": {
   "display_name": "Python 3 (ipykernel)",
   "language": "python",
   "name": "python3"
  },
  "language_info": {
   "codemirror_mode": {
    "name": "ipython",
    "version": 3
   },
   "file_extension": ".py",
   "mimetype": "text/x-python",
   "name": "python",
   "nbconvert_exporter": "python",
   "pygments_lexer": "ipython3",
   "version": "3.11.4"
  },
  "toc": {
   "base_numbering": 1,
   "nav_menu": {},
   "number_sections": true,
   "sideBar": true,
   "skip_h1_title": false,
   "title_cell": "Table of Contents",
   "title_sidebar": "Contents",
   "toc_cell": false,
   "toc_position": {},
   "toc_section_display": true,
   "toc_window_display": false
  },
  "varInspector": {
   "cols": {
    "lenName": 16,
    "lenType": 16,
    "lenVar": 40
   },
   "kernels_config": {
    "python": {
     "delete_cmd_postfix": "",
     "delete_cmd_prefix": "del ",
     "library": "var_list.py",
     "varRefreshCmd": "print(var_dic_list())"
    },
    "r": {
     "delete_cmd_postfix": ") ",
     "delete_cmd_prefix": "rm(",
     "library": "var_list.r",
     "varRefreshCmd": "cat(var_dic_list()) "
    }
   },
   "types_to_exclude": [
    "module",
    "function",
    "builtin_function_or_method",
    "instance",
    "_Feature"
   ],
   "window_display": false
  }
 },
 "nbformat": 4,
 "nbformat_minor": 5
}
