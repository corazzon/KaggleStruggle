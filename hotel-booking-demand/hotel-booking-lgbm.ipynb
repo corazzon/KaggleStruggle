{
 "cells": [
  {
   "cell_type": "markdown",
   "id": "97f96b41",
   "metadata": {},
   "source": [
    "* https://www.sciencedirect.com/science/article/pii/S2352340918315191\n",
    "* https://www.kaggle.com/marcuswingen/eda-of-bookings-and-ml-to-predict-cancelations\n",
    "\n",
    "\n",
    "<img src=\"https://ars.els-cdn.com/content/image/1-s2.0-S2352340918315191-gr1.jpg\">"
   ]
  },
  {
   "cell_type": "code",
   "execution_count": null,
   "id": "1d501bdd",
   "metadata": {},
   "outputs": [],
   "source": [
    "import pandas as pd\n",
    "import matplotlib.pyplot as plt\n",
    "import seaborn as sns\n",
    "import numpy as np"
   ]
  },
  {
   "cell_type": "code",
   "execution_count": null,
   "id": "ab0c9f6f",
   "metadata": {},
   "outputs": [],
   "source": [
    "file_path = \"data/hotel_bookings.csv\"\n",
    "df = pd.read_csv(file_path)\n",
    "df.shape"
   ]
  },
  {
   "cell_type": "code",
   "execution_count": null,
   "id": "a84a18ae",
   "metadata": {},
   "outputs": [],
   "source": [
    "df.head()"
   ]
  },
  {
   "cell_type": "code",
   "execution_count": null,
   "id": "9f2f7244",
   "metadata": {},
   "outputs": [],
   "source": [
    "df.describe()"
   ]
  },
  {
   "cell_type": "code",
   "execution_count": null,
   "id": "86b1e045",
   "metadata": {},
   "outputs": [],
   "source": [
    "label_name = \"is_canceled\""
   ]
  },
  {
   "cell_type": "code",
   "execution_count": null,
   "id": "0ff971d1",
   "metadata": {},
   "outputs": [],
   "source": [
    "label_count = df[label_name].value_counts()\n",
    "label_count"
   ]
  },
  {
   "cell_type": "code",
   "execution_count": null,
   "id": "ba555f68",
   "metadata": {},
   "outputs": [],
   "source": [
    "df_0 = df[df[label_name] != 1].sample(label_count[1])\n",
    "df_1 = df[df[label_name] == 1]\n",
    "\n",
    "df_under = pd.concat([df_0, df_1])\n",
    "df_under[label_name].value_counts()"
   ]
  },
  {
   "cell_type": "code",
   "execution_count": null,
   "id": "99128116",
   "metadata": {
    "scrolled": true
   },
   "outputs": [],
   "source": [
    "X, y = df.drop(columns=[label_name, \"reservation_status\", \"reservation_status_date\"]), df[label_name] == 1\n",
    "X.shape, y.shape"
   ]
  },
  {
   "cell_type": "code",
   "execution_count": null,
   "id": "14e9c284",
   "metadata": {},
   "outputs": [],
   "source": [
    "from sklearn.model_selection import train_test_split\n",
    "\n",
    "X_train, X_valid_raw, y_train, y_valid_raw = train_test_split(\n",
    "    X, y, stratify=y, test_size=0.1, random_state=42)\n",
    "X_valid, X_test, y_valid, y_test = train_test_split(\n",
    "    X_valid_raw, y_valid_raw, stratify=y_valid_raw, test_size=0.1, random_state=42)"
   ]
  },
  {
   "cell_type": "code",
   "execution_count": null,
   "id": "21674fa0",
   "metadata": {},
   "outputs": [],
   "source": [
    "X.select_dtypes(exclude=\"number\").nunique()"
   ]
  },
  {
   "cell_type": "code",
   "execution_count": null,
   "id": "5259975e",
   "metadata": {},
   "outputs": [],
   "source": [
    "categorical_feature = X.select_dtypes(exclude=\"number\").columns\n",
    "categorical_feature"
   ]
  },
  {
   "cell_type": "code",
   "execution_count": null,
   "id": "2e196c90",
   "metadata": {},
   "outputs": [],
   "source": [
    "# y_pred = model.predict(X_test)"
   ]
  },
  {
   "cell_type": "code",
   "execution_count": null,
   "id": "bc78c331",
   "metadata": {},
   "outputs": [],
   "source": [
    "# (y_test == y_pred).mean()"
   ]
  },
  {
   "cell_type": "code",
   "execution_count": null,
   "id": "ed837cc0",
   "metadata": {},
   "outputs": [],
   "source": [
    "# pd.crosstab(y_test, y_pred)"
   ]
  },
  {
   "cell_type": "code",
   "execution_count": null,
   "id": "728049c5",
   "metadata": {},
   "outputs": [],
   "source": []
  }
 ],
 "metadata": {
  "kernelspec": {
   "display_name": "Python 3 (ipykernel)",
   "language": "python",
   "name": "python3"
  },
  "language_info": {
   "codemirror_mode": {
    "name": "ipython",
    "version": 3
   },
   "file_extension": ".py",
   "mimetype": "text/x-python",
   "name": "python",
   "nbconvert_exporter": "python",
   "pygments_lexer": "ipython3",
   "version": "3.11.4"
  },
  "toc": {
   "base_numbering": 1,
   "nav_menu": {},
   "number_sections": true,
   "sideBar": true,
   "skip_h1_title": false,
   "title_cell": "Table of Contents",
   "title_sidebar": "Contents",
   "toc_cell": false,
   "toc_position": {},
   "toc_section_display": true,
   "toc_window_display": false
  },
  "varInspector": {
   "cols": {
    "lenName": 16,
    "lenType": 16,
    "lenVar": 40
   },
   "kernels_config": {
    "python": {
     "delete_cmd_postfix": "",
     "delete_cmd_prefix": "del ",
     "library": "var_list.py",
     "varRefreshCmd": "print(var_dic_list())"
    },
    "r": {
     "delete_cmd_postfix": ") ",
     "delete_cmd_prefix": "rm(",
     "library": "var_list.r",
     "varRefreshCmd": "cat(var_dic_list()) "
    }
   },
   "types_to_exclude": [
    "module",
    "function",
    "builtin_function_or_method",
    "instance",
    "_Feature"
   ],
   "window_display": false
  }
 },
 "nbformat": 4,
 "nbformat_minor": 5
}
