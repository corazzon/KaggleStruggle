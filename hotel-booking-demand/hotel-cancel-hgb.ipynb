{
 "cells": [
  {
   "cell_type": "code",
   "execution_count": null,
   "id": "32f0b8f9",
   "metadata": {},
   "outputs": [],
   "source": [
    "import numpy as np\n",
    "import pandas as pd\n",
    "import matplotlib.pyplot as plt\n",
    "import seaborn as sns\n",
    "import os"
   ]
  },
  {
   "cell_type": "code",
   "execution_count": null,
   "id": "dea3017e",
   "metadata": {},
   "outputs": [],
   "source": [
    "df = pd.read_csv(\"data/hotel_bookings.csv\")\n",
    "df.shape"
   ]
  },
  {
   "cell_type": "code",
   "execution_count": null,
   "id": "7015d0ea",
   "metadata": {},
   "outputs": [],
   "source": [
    "df.head(2)"
   ]
  },
  {
   "cell_type": "code",
   "execution_count": null,
   "id": "06882e2e",
   "metadata": {},
   "outputs": [],
   "source": [
    "df.info()"
   ]
  },
  {
   "cell_type": "code",
   "execution_count": null,
   "id": "619b2002",
   "metadata": {},
   "outputs": [],
   "source": [
    "df.isnull().sum().describe()"
   ]
  },
  {
   "cell_type": "code",
   "execution_count": null,
   "id": "1d68d5d1",
   "metadata": {},
   "outputs": [],
   "source": [
    "df.select_dtypes(include=\"O\").head(1)"
   ]
  },
  {
   "cell_type": "code",
   "execution_count": null,
   "id": "1b40e743",
   "metadata": {},
   "outputs": [],
   "source": [
    "lable_name = \"is_canceled\"\n",
    "lable_name"
   ]
  },
  {
   "cell_type": "code",
   "execution_count": null,
   "id": "0cbdb451",
   "metadata": {},
   "outputs": [],
   "source": [
    "df[lable_name].value_counts()"
   ]
  },
  {
   "cell_type": "code",
   "execution_count": null,
   "id": "0ea404f2",
   "metadata": {},
   "outputs": [],
   "source": [
    "label_one_count = (df[lable_name] == 1).sum()\n",
    "label_one_count"
   ]
  },
  {
   "cell_type": "code",
   "execution_count": null,
   "id": "2b67359c",
   "metadata": {},
   "outputs": [],
   "source": [
    "df_label_not_one = df[df[lable_name] != 1].sample(label_one_count)"
   ]
  },
  {
   "cell_type": "code",
   "execution_count": null,
   "id": "d5e6a870",
   "metadata": {},
   "outputs": [],
   "source": [
    "df_under = pd.concat([df_label_not_one,  df[df[lable_name] == 1]])\n",
    "df_under.shape"
   ]
  },
  {
   "cell_type": "code",
   "execution_count": null,
   "id": "12999e30",
   "metadata": {},
   "outputs": [],
   "source": [
    "df_under[lable_name].value_counts()"
   ]
  },
  {
   "cell_type": "code",
   "execution_count": null,
   "id": "f5095f0c",
   "metadata": {
    "scrolled": true
   },
   "outputs": [],
   "source": [
    "X, y = df_under.drop(columns=[lable_name, \"reservation_status\", \"reservation_status_date\"]), df_under[lable_name]\n",
    "X.shape, y.shape"
   ]
  },
  {
   "cell_type": "code",
   "execution_count": null,
   "id": "bd4328c9",
   "metadata": {},
   "outputs": [],
   "source": [
    "from sklearn.model_selection import train_test_split\n",
    "\n",
    "X_train, X_test, y_train, y_test = train_test_split(\n",
    "    X, y, stratify=y, test_size=0.1, random_state=42)"
   ]
  },
  {
   "cell_type": "code",
   "execution_count": null,
   "id": "37d288f8",
   "metadata": {},
   "outputs": [],
   "source": [
    "cat_col = X.select_dtypes(exclude=\"number\").columns\n",
    "print(cat_col)\n",
    "X_train[cat_col] = X_train[cat_col].astype(\"category\")\n",
    "X_test[cat_col] = X_test[cat_col].astype(\"category\")"
   ]
  },
  {
   "cell_type": "markdown",
   "id": "6a2858b0",
   "metadata": {},
   "source": [
    "* https://scikit-learn.org/stable/modules/generated/sklearn.ensemble.HistGradientBoostingClassifier.html\n",
    "* https://scikit-learn.org/stable/modules/ensemble.html#histogram-based-gradient-boosting\n",
    "* https://scikit-learn.org/stable/auto_examples/ensemble/plot_gradient_boosting_categorical.html"
   ]
  },
  {
   "cell_type": "code",
   "execution_count": null,
   "id": "1c16939a",
   "metadata": {},
   "outputs": [],
   "source": [
    "from sklearn.preprocessing import StandardScaler, OneHotEncoder\n",
    "from sklearn.compose import make_column_transformer\n",
    "from sklearn.compose import make_column_selector\n",
    "\n",
    "ct = make_column_transformer(\n",
    "      (StandardScaler(),\n",
    "       make_column_selector(dtype_include=np.number)),\n",
    "      (OneHotEncoder(handle_unknown=\"ignore\"),\n",
    "       make_column_selector(dtype_include=\"category\")))"
   ]
  },
  {
   "cell_type": "code",
   "execution_count": null,
   "id": "a21c50ef",
   "metadata": {},
   "outputs": [],
   "source": [
    "from sklearn.ensemble import HistGradientBoostingClassifier\n",
    "from sklearn.pipeline import make_pipeline\n",
    "\n",
    "hist_pipe = make_pipeline(ct, HistGradientBoostingClassifier(random_state=42))\n",
    "hist_pipe"
   ]
  },
  {
   "cell_type": "code",
   "execution_count": null,
   "id": "861a7b49",
   "metadata": {},
   "outputs": [],
   "source": [
    "# from sklearn.model_selection import cross_validate\n",
    "\n",
    "# cv_result = cross_validate(hist_pipe, X_test, y_test, cv=3)\n",
    "# cv_result"
   ]
  },
  {
   "cell_type": "code",
   "execution_count": null,
   "id": "8fdf9bb0",
   "metadata": {},
   "outputs": [],
   "source": [
    "# fit & predict\n",
    "hist_pipe.fit(X_train, y_train)"
   ]
  },
  {
   "cell_type": "code",
   "execution_count": null,
   "id": "889d6571",
   "metadata": {},
   "outputs": [],
   "source": [
    "# ct.get_feature_names_out()"
   ]
  },
  {
   "cell_type": "markdown",
   "id": "0c22bc99",
   "metadata": {},
   "source": [
    "https://scikit-learn.org/stable/modules/permutation_importance.html#permutation-importance"
   ]
  },
  {
   "cell_type": "code",
   "execution_count": null,
   "id": "d5d34f14",
   "metadata": {},
   "outputs": [],
   "source": [
    "from sklearn.inspection import permutation_importance\n",
    "\n",
    "model = hist_pipe\n",
    "result = permutation_importance(model, X_train, y_train,\n",
    "                                n_repeats=3, random_state=0)"
   ]
  },
  {
   "cell_type": "code",
   "execution_count": null,
   "id": "65423422",
   "metadata": {},
   "outputs": [],
   "source": [
    "feature_names = ct.get_feature_names_out()"
   ]
  },
  {
   "cell_type": "code",
   "execution_count": null,
   "id": "21fc1311",
   "metadata": {},
   "outputs": [],
   "source": [
    "for i in result.importances_mean.argsort()[::-1]:\n",
    "    if result.importances_mean[i] - 2 * result.importances_std[i] > 0:\n",
    "        print(f\"{feature_names[i]:<8}\"\n",
    "              f\"{result.importances_mean[i]:.3f}\"\n",
    "              f\" +/- {result.importances_std[i]:.3f}\")"
   ]
  },
  {
   "cell_type": "code",
   "execution_count": null,
   "id": "a27d249a",
   "metadata": {},
   "outputs": [],
   "source": [
    "# accuracy\n",
    "hgb_score = hist_pipe.score(X_test, y_test)\n",
    "hgb_score"
   ]
  },
  {
   "cell_type": "code",
   "execution_count": null,
   "id": "250c4493",
   "metadata": {},
   "outputs": [],
   "source": [
    "y_pred_hgb = hist_pipe.predict(X_test)\n",
    "y_pred_hgb[:5]"
   ]
  },
  {
   "cell_type": "code",
   "execution_count": null,
   "id": "2ef47c1e",
   "metadata": {},
   "outputs": [],
   "source": [
    "pd.Series(y_pred_hgb).value_counts()"
   ]
  },
  {
   "cell_type": "code",
   "execution_count": null,
   "id": "a4b857c1",
   "metadata": {},
   "outputs": [],
   "source": [
    "pd.crosstab(y_test, y_pred_hgb)"
   ]
  },
  {
   "cell_type": "code",
   "execution_count": null,
   "id": "bd0aca17",
   "metadata": {},
   "outputs": [],
   "source": []
  }
 ],
 "metadata": {
  "kernelspec": {
   "display_name": "Python 3 (ipykernel)",
   "language": "python",
   "name": "python3"
  },
  "language_info": {
   "codemirror_mode": {
    "name": "ipython",
    "version": 3
   },
   "file_extension": ".py",
   "mimetype": "text/x-python",
   "name": "python",
   "nbconvert_exporter": "python",
   "pygments_lexer": "ipython3",
   "version": "3.11.4"
  },
  "toc": {
   "base_numbering": 1,
   "nav_menu": {},
   "number_sections": true,
   "sideBar": true,
   "skip_h1_title": false,
   "title_cell": "Table of Contents",
   "title_sidebar": "Contents",
   "toc_cell": false,
   "toc_position": {},
   "toc_section_display": true,
   "toc_window_display": false
  },
  "varInspector": {
   "cols": {
    "lenName": 16,
    "lenType": 16,
    "lenVar": 40
   },
   "kernels_config": {
    "python": {
     "delete_cmd_postfix": "",
     "delete_cmd_prefix": "del ",
     "library": "var_list.py",
     "varRefreshCmd": "print(var_dic_list())"
    },
    "r": {
     "delete_cmd_postfix": ") ",
     "delete_cmd_prefix": "rm(",
     "library": "var_list.r",
     "varRefreshCmd": "cat(var_dic_list()) "
    }
   },
   "types_to_exclude": [
    "module",
    "function",
    "builtin_function_or_method",
    "instance",
    "_Feature"
   ],
   "window_display": false
  }
 },
 "nbformat": 4,
 "nbformat_minor": 5
}
