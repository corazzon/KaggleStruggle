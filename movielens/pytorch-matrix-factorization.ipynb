{
 "cells": [
  {
   "cell_type": "code",
   "execution_count": 1,
   "id": "2bb99848",
   "metadata": {},
   "outputs": [],
   "source": [
    "import pandas as pd\n",
    "import numpy as np\n",
    "import torch\n",
    "import torch.utils.data as data_utils\n",
    "\n",
    "# 데이터셋 로드\n",
    "ratings_df = pd.read_csv('data/ratings.csv')\n",
    "\n",
    "# 유저, 아이템 인덱스 매핑\n",
    "user_ids = ratings_df['userId'].unique().tolist()\n",
    "user2idx = {o:i for i,o in enumerate(user_ids)}\n",
    "ratings_df['user'] = ratings_df['userId'].apply(lambda x: user2idx[x])\n",
    "\n",
    "movie_ids = ratings_df['movieId'].unique().tolist()\n",
    "movie2idx = {o:i for i,o in enumerate(movie_ids)}\n",
    "ratings_df['movie'] = ratings_df['movieId'].apply(lambda x: movie2idx[x])\n",
    "\n",
    "# 트레이닝셋, 테스트셋 분리\n",
    "shuffled_ratings = ratings_df.sample(frac=1., random_state=42)\n",
    "val_size = int(len(shuffled_ratings) * 0.2)\n",
    "train_ratings = shuffled_ratings[val_size:]\n",
    "test_ratings = shuffled_ratings[:val_size]\n",
    "\n",
    "# 파이토치 데이터셋으로 변환\n",
    "train_data = data_utils.TensorDataset(torch.LongTensor(train_ratings['user']),\n",
    "                                       torch.LongTensor(train_ratings['movie']),\n",
    "                                       torch.FloatTensor(train_ratings['rating']))\n",
    "\n",
    "test_data = data_utils.TensorDataset(torch.LongTensor(test_ratings['user'].values),\n",
    "                                      torch.LongTensor(test_ratings['movie'].values),\n",
    "                                      torch.FloatTensor(test_ratings['rating'].values))\n"
   ]
  },
  {
   "cell_type": "code",
   "execution_count": 2,
   "id": "42f0f177",
   "metadata": {},
   "outputs": [],
   "source": [
    "import torch.nn as nn\n",
    "\n",
    "class MF(nn.Module):\n",
    "    def __init__(self, n_users, n_items, emb_size=100):\n",
    "        super(MF, self).__init__()\n",
    "        self.user_emb = nn.Embedding(n_users, emb_size)\n",
    "        self.item_emb = nn.Embedding(n_items, emb_size)\n",
    "        self.rating_pred = nn.Sequential(\n",
    "            nn.Linear(emb_size*2, 64),\n",
    "            nn.ReLU(),\n",
    "            nn.Linear(64, 1),\n",
    "            nn.Sigmoid()\n",
    "        )\n",
    "\n",
    "    def forward(self, user, item):\n",
    "        user_emb = self.user_emb(user)\n",
    "        item_emb = self.item_emb(item)\n",
    "        pred = self.rating_pred(torch.cat([user_emb, item_emb], dim=1))\n",
    "        return pred.view(-1)"
   ]
  },
  {
   "cell_type": "code",
   "execution_count": 3,
   "id": "4273eb24",
   "metadata": {},
   "outputs": [
    {
     "name": "stdout",
     "output_type": "stream",
     "text": [
      "Epoch 1 - train loss: 8.0390 - test loss: 7.4012\n",
      "Epoch 2 - train loss: 7.3750 - test loss: 7.3515\n",
      "Epoch 3 - train loss: 7.3546 - test loss: 7.3435\n",
      "Epoch 4 - train loss: 7.3502 - test loss: 7.3408\n",
      "Epoch 5 - train loss: 7.3485 - test loss: 7.3396\n",
      "Epoch 6 - train loss: 7.3477 - test loss: 7.3390\n",
      "Epoch 7 - train loss: 7.3473 - test loss: 7.3386\n",
      "Epoch 8 - train loss: 7.3470 - test loss: 7.3384\n",
      "Epoch 9 - train loss: 7.3469 - test loss: 7.3382\n",
      "Epoch 10 - train loss: 7.3467 - test loss: 7.3381\n"
     ]
    }
   ],
   "source": [
    "import torch.optim as optim\n",
    "from torch.utils.data import DataLoader\n",
    "\n",
    "# 모델 및 옵티마이저 생성\n",
    "model = MF(len(user2idx), len(movie2idx), emb_size=100)\n",
    "optimizer = optim.Adam(model.parameters(), lr=0.001)\n",
    "criterion = nn.MSELoss()\n",
    "\n",
    "# 데이터 로더 생성\n",
    "train_loader = DataLoader(train_data, batch_size=512, shuffle=True)\n",
    "test_loader = DataLoader(test_data, batch_size=512, shuffle=False)\n",
    "\n",
    "# 모델 학습\n",
    "n_epochs = 10\n",
    "for epoch in range(n_epochs):\n",
    "    model.train()\n",
    "    train_loss = 0.\n",
    "    for user, item, rating in train_loader:\n",
    "        optimizer.zero_grad()\n",
    "        pred = model(user, item)\n",
    "        loss = criterion(pred, rating)\n",
    "        loss.backward()\n",
    "        optimizer.step()\n",
    "        train_loss += loss.item() * user.shape[0]\n",
    "    train_loss /= len(train_ratings)\n",
    "    \n",
    "    model.eval()\n",
    "    with torch.no_grad():\n",
    "        test_loss = 0.\n",
    "        for user, item, rating in test_loader:\n",
    "            pred = model(user, item)\n",
    "            loss = criterion(pred, rating)\n",
    "            test_loss += loss.item() * user.shape[0]\n",
    "        test_loss /= len(test_ratings)\n",
    "\n",
    "    print('Epoch {} - train loss: {:.4f} - test loss: {:.4f}'.format(epoch+1, train_loss, test_loss))"
   ]
  },
  {
   "cell_type": "code",
   "execution_count": 4,
   "id": "be279dc3",
   "metadata": {},
   "outputs": [
    {
     "name": "stdout",
     "output_type": "stream",
     "text": [
      "Test RMSE: 2.7089\n"
     ]
    }
   ],
   "source": [
    "from sklearn.metrics import mean_squared_error\n",
    "\n",
    "# 예측 평점 계산\n",
    "model.eval()\n",
    "with torch.no_grad():\n",
    "    preds = []\n",
    "    for user, item, rating in test_loader:\n",
    "        pred = model(user, item)\n",
    "        preds.extend(pred.detach().numpy())\n",
    "\n",
    "# 검증 데이터셋의 실제 평점과 예측 평점 비교\n",
    "test_ratings = test_ratings.copy()\n",
    "test_ratings['pred'] = preds\n",
    "test_ratings['rating'] = test_ratings['rating'].clip(0., 5.)\n",
    "test_ratings['pred'] = test_ratings['pred'].clip(0., 5.)\n",
    "rmse = mean_squared_error(test_ratings['rating'], test_ratings['pred'], squared=False)\n",
    "print('Test RMSE: {:.4f}'.format(rmse))"
   ]
  },
  {
   "cell_type": "code",
   "execution_count": null,
   "id": "b8588fa1",
   "metadata": {},
   "outputs": [],
   "source": []
  }
 ],
 "metadata": {
  "kernelspec": {
   "display_name": "Python 3 (ipykernel)",
   "language": "python",
   "name": "python3"
  },
  "language_info": {
   "codemirror_mode": {
    "name": "ipython",
    "version": 3
   },
   "file_extension": ".py",
   "mimetype": "text/x-python",
   "name": "python",
   "nbconvert_exporter": "python",
   "pygments_lexer": "ipython3",
   "version": "3.10.7"
  },
  "toc": {
   "base_numbering": 1,
   "nav_menu": {},
   "number_sections": true,
   "sideBar": true,
   "skip_h1_title": false,
   "title_cell": "Table of Contents",
   "title_sidebar": "Contents",
   "toc_cell": false,
   "toc_position": {},
   "toc_section_display": true,
   "toc_window_display": false
  },
  "varInspector": {
   "cols": {
    "lenName": 16,
    "lenType": 16,
    "lenVar": 40
   },
   "kernels_config": {
    "python": {
     "delete_cmd_postfix": "",
     "delete_cmd_prefix": "del ",
     "library": "var_list.py",
     "varRefreshCmd": "print(var_dic_list())"
    },
    "r": {
     "delete_cmd_postfix": ") ",
     "delete_cmd_prefix": "rm(",
     "library": "var_list.r",
     "varRefreshCmd": "cat(var_dic_list()) "
    }
   },
   "types_to_exclude": [
    "module",
    "function",
    "builtin_function_or_method",
    "instance",
    "_Feature"
   ],
   "window_display": false
  }
 },
 "nbformat": 4,
 "nbformat_minor": 5
}
