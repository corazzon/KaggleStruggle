{
 "cells": [
  {
   "cell_type": "code",
   "execution_count": null,
   "id": "9be92f42",
   "metadata": {},
   "outputs": [],
   "source": [
    "import pandas as pd\n",
    "import numpy as np\n",
    "from sklearn.model_selection import train_test_split\n",
    "\n",
    "# 데이터 로드\n",
    "df = pd.read_csv('data/ratings.csv')\n",
    "df.head(2)"
   ]
  },
  {
   "cell_type": "code",
   "execution_count": null,
   "id": "0529187b",
   "metadata": {},
   "outputs": [],
   "source": [
    "# 사용자와 영화를 각각 인덱싱합니다.\n",
    "user_ids = df[\"userId\"].unique().tolist()\n",
    "user2user_encoded = {x: i for i, x in enumerate(user_ids)}\n",
    "userencoded2user = {i: x for i, x in enumerate(user_ids)}\n",
    "\n",
    "movie_ids = df[\"movieId\"].unique().tolist()\n",
    "movie2movie_encoded = {x: i for i, x in enumerate(movie_ids)}\n",
    "movie_encoded2movie = {i: x for i, x in enumerate(movie_ids)}\n",
    "\n",
    "# 인덱스를 적용합니다.\n",
    "df[\"user\"] = df[\"userId\"].map(user2user_encoded)\n",
    "df[\"movie\"] = df[\"movieId\"].map(movie2movie_encoded)\n",
    "\n",
    "# 데이터를 훈련 세트와 테스트 세트로 분리합니다.\n",
    "train, test = train_test_split(df, test_size=0.2)"
   ]
  },
  {
   "cell_type": "code",
   "execution_count": null,
   "id": "412d84c7",
   "metadata": {},
   "outputs": [],
   "source": [
    "# 모델 작성\n",
    "import tensorflow as tf\n",
    "from tensorflow.keras.layers import Input, Embedding, Flatten, Dot, Dense, Concatenate\n",
    "from tensorflow.keras.models import Model\n",
    "\n",
    "# 임베딩의 차원\n",
    "embedding_dim = 50\n",
    "\n",
    "# 사용자와 영화 각각에 대한 입력 레이어를 정의합니다.\n",
    "user_id_input = Input(shape=(1,), name='user')\n",
    "movie_id_input = Input(shape=(1,), name='movie')\n",
    "\n",
    "# 각 입력에 대해 임베딩 레이어를 만듭니다.\n",
    "user_embedding = Embedding(output_dim=embedding_dim, \n",
    "                           input_dim=len(user_ids)+1, \n",
    "                           input_length=1, \n",
    "                           name='user_embedding')(user_id_input)\n",
    "movie_embedding = Embedding(output_dim=embedding_dim, \n",
    "                            input_dim=len(movie_ids)+1, \n",
    "                            input_length=1, \n",
    "                            name='movie_embedding')(movie_id_input)\n",
    "\n",
    "# 임베딩 벡터를 펼칩니다.\n",
    "user_vector = Flatten()(user_embedding)\n",
    "movie_vector = Flatten()(movie_embedding)\n",
    "\n",
    "# 두 벡터를 합쳐서 하나의 벡터를 만듭니다.\n",
    "concat = Concatenate()([user_vector, movie_vector])\n",
    "\n",
    "# 완전연결 계층을 추가합니다.\n",
    "dense1 = Dense(128, activation='relu')(concat)\n",
    "dense2 = Dense(32, activation='relu')(dense1)\n",
    "output = Dense(1)(dense2)\n",
    "\n",
    "# 모델을 만듭니다.\n",
    "model = Model(inputs=[user_id_input, movie_id_input], outputs=output)\n",
    "model.compile(loss='mse', optimizer='adam')\n",
    "\n",
    "# 모델 훈련\n",
    "history = model.fit([train.user.values, train.movie.values], \n",
    "                    train.rating.values,\n",
    "                    batch_size=64, \n",
    "                    epochs=5, \n",
    "                    validation_split=0.2)"
   ]
  },
  {
   "cell_type": "code",
   "execution_count": null,
   "id": "465107d3",
   "metadata": {},
   "outputs": [],
   "source": [
    "pd.DataFrame(history.history).plot()"
   ]
  },
  {
   "cell_type": "code",
   "execution_count": null,
   "id": "4fcb2da8",
   "metadata": {},
   "outputs": [],
   "source": []
  }
 ],
 "metadata": {
  "kernelspec": {
   "display_name": "Python 3 (ipykernel)",
   "language": "python",
   "name": "python3"
  },
  "language_info": {
   "codemirror_mode": {
    "name": "ipython",
    "version": 3
   },
   "file_extension": ".py",
   "mimetype": "text/x-python",
   "name": "python",
   "nbconvert_exporter": "python",
   "pygments_lexer": "ipython3",
   "version": "3.11.4"
  },
  "toc": {
   "base_numbering": 1,
   "nav_menu": {},
   "number_sections": true,
   "sideBar": true,
   "skip_h1_title": false,
   "title_cell": "Table of Contents",
   "title_sidebar": "Contents",
   "toc_cell": false,
   "toc_position": {},
   "toc_section_display": true,
   "toc_window_display": false
  },
  "varInspector": {
   "cols": {
    "lenName": 16,
    "lenType": 16,
    "lenVar": 40
   },
   "kernels_config": {
    "python": {
     "delete_cmd_postfix": "",
     "delete_cmd_prefix": "del ",
     "library": "var_list.py",
     "varRefreshCmd": "print(var_dic_list())"
    },
    "r": {
     "delete_cmd_postfix": ") ",
     "delete_cmd_prefix": "rm(",
     "library": "var_list.r",
     "varRefreshCmd": "cat(var_dic_list()) "
    }
   },
   "types_to_exclude": [
    "module",
    "function",
    "builtin_function_or_method",
    "instance",
    "_Feature"
   ],
   "window_display": false
  }
 },
 "nbformat": 4,
 "nbformat_minor": 5
}
