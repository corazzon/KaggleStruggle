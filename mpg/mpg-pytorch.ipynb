{
 "cells": [
  {
   "cell_type": "code",
   "execution_count": 1,
   "id": "9edc6603-5858-4264-8620-7b3083d9d7a3",
   "metadata": {
    "tags": []
   },
   "outputs": [
    {
     "data": {
      "text/plain": [
       "(313, 9)"
      ]
     },
     "execution_count": 1,
     "metadata": {},
     "output_type": "execute_result"
    }
   ],
   "source": [
    "import pandas as pd\n",
    "import torch\n",
    "import torch.nn as nn\n",
    "import seaborn as sns\n",
    "from sklearn.model_selection import train_test_split\n",
    "from sklearn.metrics import r2_score\n",
    "\n",
    "# 데이터 불러오기\n",
    "df = sns.load_dataset('mpg')\n",
    "\n",
    "# 결측치 제거\n",
    "df.dropna(inplace=True)\n",
    "\n",
    "# 입력 데이터와 타깃 데이터 분리하기\n",
    "inputs = df.drop(['mpg', 'name'], axis=1)\n",
    "inputs = pd.get_dummies(inputs)\n",
    "outputs = df['mpg']\n",
    "\n",
    "# 데이터를 훈련용과 검증용으로 나누기\n",
    "X_train, X_test, y_train, y_test = train_test_split(inputs, outputs, test_size=0.2, random_state=42)\n",
    "\n",
    "X_train.shape"
   ]
  },
  {
   "cell_type": "code",
   "execution_count": 2,
   "id": "18c5dcb2-e7ec-40e5-bdcd-c45a5b76f7d1",
   "metadata": {
    "tags": []
   },
   "outputs": [
    {
     "data": {
      "text/plain": [
       "array([[  6., 225., 110., ...,   0.,   0.,   1.],\n",
       "       [  4., 140.,  92., ...,   0.,   0.,   1.],\n",
       "       [  6., 171.,  97., ...,   0.,   0.,   1.],\n",
       "       ...,\n",
       "       [  4., 151.,  85., ...,   0.,   0.,   1.],\n",
       "       [  4.,  98.,  65., ...,   0.,   0.,   1.],\n",
       "       [  8., 400., 150., ...,   0.,   0.,   1.]])"
      ]
     },
     "execution_count": 2,
     "metadata": {},
     "output_type": "execute_result"
    }
   ],
   "source": [
    "X_train.values"
   ]
  },
  {
   "cell_type": "code",
   "execution_count": 3,
   "id": "6790d807-9721-4190-8271-6645376ce6da",
   "metadata": {
    "tags": []
   },
   "outputs": [],
   "source": [
    "# 텐서로 변환하기\n",
    "X_train_tensor = torch.tensor(X_train.values).float()\n",
    "y_train_tensor = torch.tensor(y_train.values).float()\n",
    "X_test_tensor = torch.tensor(X_test.values).float()\n",
    "y_test_tensor = torch.tensor(y_test.values).float()\n",
    "\n",
    "# 모델 정의하기\n",
    "class MultivariateLinearRegression(nn.Module):\n",
    "    def __init__(self, input_size, output_size):\n",
    "        super(MultivariateLinearRegression, self).__init__()\n",
    "        self.linear = nn.Linear(input_size, output_size)\n",
    "\n",
    "    def forward(self, x):\n",
    "        out = self.linear(x)\n",
    "        return out\n",
    "\n",
    "# 모델 생성하기\n",
    "model = MultivariateLinearRegression(X_train_tensor.shape[1], 1)\n",
    "\n",
    "# 손실 함수와 최적화 알고리즘 정의하기\n",
    "criterion = nn.MSELoss()\n",
    "optimizer = torch.optim.Adam(model.parameters(), lr=0.001)"
   ]
  },
  {
   "cell_type": "code",
   "execution_count": 4,
   "id": "38eee8ef-1efa-46ac-bd1f-ab435798d1c5",
   "metadata": {
    "tags": []
   },
   "outputs": [
    {
     "name": "stdout",
     "output_type": "stream",
     "text": [
      "Epoch [1000/5000], Loss: 41.2031\n",
      "Epoch [2000/5000], Loss: 15.2679\n",
      "Epoch [3000/5000], Loss: 12.1595\n",
      "Epoch [4000/5000], Loss: 11.7283\n",
      "Epoch [5000/5000], Loss: 11.5145\n",
      "R^2 Score: 0.7771\n"
     ]
    }
   ],
   "source": [
    "# 모델 훈련하기\n",
    "num_epochs = 5000\n",
    "for epoch in range(num_epochs):\n",
    "    # Forward 연산\n",
    "    y_pred = model(X_train_tensor)\n",
    "    \n",
    "    # 손실 계산\n",
    "    loss = criterion(y_pred.view(-1), y_train_tensor)\n",
    "    \n",
    "    # Backward 연산 및 가중치 갱신\n",
    "    optimizer.zero_grad()\n",
    "    loss.backward()\n",
    "    optimizer.step()\n",
    "    \n",
    "    # 로그 정보 출력\n",
    "    if (epoch+1) % 1000 == 0:\n",
    "        print(f'Epoch [{epoch+1}/{num_epochs}], Loss: {loss.item():.4f}')\n",
    "\n",
    "# 모델 평가하기\n",
    "with torch.no_grad():\n",
    "    y_pred_test = model(X_test_tensor)\n",
    "    r2 = r2_score(y_test, y_pred_test.view(-1))\n",
    "    print(f'R^2 Score: {r2:.4f}')"
   ]
  },
  {
   "cell_type": "code",
   "execution_count": null,
   "id": "d2243151-a52a-4177-8af1-922c436cbf76",
   "metadata": {},
   "outputs": [],
   "source": []
  }
 ],
 "metadata": {
  "kernelspec": {
   "display_name": "Python 3 (ipykernel)",
   "language": "python",
   "name": "python3"
  },
  "language_info": {
   "codemirror_mode": {
    "name": "ipython",
    "version": 3
   },
   "file_extension": ".py",
   "mimetype": "text/x-python",
   "name": "python",
   "nbconvert_exporter": "python",
   "pygments_lexer": "ipython3",
   "version": "3.10.7"
  }
 },
 "nbformat": 4,
 "nbformat_minor": 5
}
