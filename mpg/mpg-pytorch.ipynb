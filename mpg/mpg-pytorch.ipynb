{
 "cells": [
  {
   "cell_type": "code",
   "execution_count": 5,
   "id": "6bbc4c72-c14d-4a54-98a2-28e77c646a5f",
   "metadata": {
    "tags": []
   },
   "outputs": [],
   "source": [
    "import pandas as pd\n",
    "import torch\n",
    "import torch.nn as nn\n",
    "import seaborn as sns\n",
    "from sklearn.model_selection import train_test_split\n",
    "from sklearn.metrics import r2_score\n",
    "\n",
    "# 데이터 불러오기\n",
    "df = sns.load_dataset('mpg')\n",
    "\n",
    "# 결측치 제거\n",
    "df.dropna(inplace=True)"
   ]
  },
  {
   "cell_type": "code",
   "execution_count": 8,
   "id": "cb9ad2f1-8c07-4f5f-af5b-9e8bcef0286b",
   "metadata": {
    "tags": []
   },
   "outputs": [],
   "source": [
    "# 입력 데이터와 타깃 데이터 분리하기\n",
    "inputs = df.drop(['mpg', 'name'], axis=1)\n",
    "inputs = pd.get_dummies(inputs)\n",
    "outputs = df['mpg']\n",
    "\n",
    "# 데이터를 훈련용과 검증용으로 나누기\n",
    "X_train, X_test, y_train, y_test = train_test_split(inputs, outputs, test_size=0.2, random_state=42)\n",
    "\n",
    "# 텐서로 변환하기\n",
    "X_train_tensor = torch.tensor(X_train.values).float()\n",
    "y_train_tensor = torch.tensor(y_train.values).float()\n",
    "X_test_tensor = torch.tensor(X_test.values).float()\n",
    "y_test_tensor = torch.tensor(y_test.values).float()"
   ]
  },
  {
   "cell_type": "code",
   "execution_count": 7,
   "id": "18c5dcb2-e7ec-40e5-bdcd-c45a5b76f7d1",
   "metadata": {
    "tags": []
   },
   "outputs": [
    {
     "data": {
      "text/plain": [
       "torch.Size([313, 9])"
      ]
     },
     "execution_count": 7,
     "metadata": {},
     "output_type": "execute_result"
    }
   ],
   "source": [
    "X_train_tensor.shape"
   ]
  },
  {
   "cell_type": "markdown",
   "id": "8a08bcfb-ecb2-4510-b9de-bafd7e59ed8d",
   "metadata": {},
   "source": [
    "* super(MultivariateLinearRegression, self).__init__()\n",
    "    * 파이썬에서 다중 상속(multiple inheritance)을 사용할 때, 부모 클래스의 초기화 메서드를 호출합니다. 여기서는 파이토치의 nn.Module 클래스를 상속받는 MultivariateLinearRegression 클래스를 정의하고 있습니다. nn.Module 클래스는 파이토치 모델을 정의할 때 사용하는 기본 클래스이며, 초기화 메서드(init)를 포함하고 있습니다. 따라서 MultivariateLinearRegression 클래스에서는 nn.Module 클래스의 초기화 메서드를 호출해야 합니다. 그런데, 파이썬에서 다중 상속을 사용할 경우, 여러 개의 부모 클래스 중에서 어떤 클래스의 초기화 메서드를 호출해야 하는지가 모호해질 수 있습니다. 이를 해결하기 위해 파이썬에서는 super() 함수를 제공합니다. super() 함수는 현재 클래스(MultivariateLinearRegression)의 다음 부모 클래스(nn.Module)를 찾아서, 해당 클래스의 메서드(init)를 호출합니다. 이때, super() 함수에 첫 번째 인자로 현재 클래스(self)와 두 번째 인자로 self를 전달합니다. 이를 통해 현재 클래스(MultivariateLinearRegression)가 nn.Module 클래스를 상속받은 것임을 알리고, nn.Module 클래스의 초기화 메서드를 호출할 수 있게 됩니다. MultivariateLinearRegression 클래스의 다음 부모 클래스(nn.Module)의 초기화 메서드를 호출합니다.\n",
    "    \n",
    "    \n",
    "* self.linear = nn.Linear(input_size, output_size)\n",
    "    * self.linear은 인스턴스 변수(instance variable)입니다. 인스턴스 변수란, 클래스에서 생성된 객체(instance)의 속성(attribute)으로, 객체가 생성될 때마다 각각의 객체마다 고유한 값을 가지게 됩니다. self.linear은 MultivariateLinearRegression 클래스의 생성자(constructor)인 __init__ 메서드에서 초기화되었으며, 이후 클래스 내부의 다른 메서드에서도 사용될 수 있습니다. 따라서, self.linear는 MultivariateLinearRegression 클래스의 인스턴스(instance)의 속성(attribute)으로, 입력 특성과 출력 특성 사이의 선형 변환을 수행하는 신경망 계층(linear layer)을 나타냅니다."
   ]
  },
  {
   "cell_type": "code",
   "execution_count": 3,
   "id": "6790d807-9721-4190-8271-6645376ce6da",
   "metadata": {
    "tags": []
   },
   "outputs": [],
   "source": [
    "# 모델 정의하기\n",
    "class MultivariateLinearRegression(nn.Module):\n",
    "    def __init__(self, input_size, output_size):\n",
    "        super(MultivariateLinearRegression, self).__init__()\n",
    "        self.linear = nn.Linear(input_size, output_size)\n",
    "\n",
    "    def forward(self, x):\n",
    "        out = self.linear(x)\n",
    "        return out\n",
    "\n",
    "# 모델 생성하기\n",
    "model = MultivariateLinearRegression(X_train_tensor.shape[1], 1)\n",
    "\n",
    "# 손실 함수와 최적화 알고리즘 정의하기\n",
    "criterion = nn.MSELoss()\n",
    "optimizer = torch.optim.Adam(model.parameters(), lr=0.001)"
   ]
  },
  {
   "cell_type": "markdown",
   "id": "d4f3b8b3-19b4-484b-b8c0-ecca0afea348",
   "metadata": {},
   "source": [
    "optimizer에 등록된 모든 매개변수의 gradient를 0으로 초기화하는 메서드입니다. 이를 호출하지 않으면, backward() 함수 호출 시 이전에 계산된 gradient 값과 현재 gradient 값이 누적되어 학습이 제대로 이루어지지 않을 수 있습니다.\n",
    "\n",
    "따라서 모델의 학습을 시작하기 전에, optimizer.zero_grad()를 호출하여 gradient 값을 초기화해야 합니다. 예를 들어, 다음과 같은 코드에서는 각 학습 루프(iteration)마다 optimizer.zero_grad()를 호출하여 gradient를 초기화합니다."
   ]
  },
  {
   "cell_type": "code",
   "execution_count": 10,
   "id": "f5560d97-08ea-4f9e-a536-3f4c6f0e3e06",
   "metadata": {
    "tags": []
   },
   "outputs": [
    {
     "name": "stdout",
     "output_type": "stream",
     "text": [
      "Epoch [1000/5000], Loss: 11.5428\n",
      "Epoch [2000/5000], Loss: 11.1792\n",
      "Epoch [3000/5000], Loss: 11.1575\n",
      "Epoch [4000/5000], Loss: 11.1391\n",
      "Epoch [5000/5000], Loss: 11.1224\n"
     ]
    }
   ],
   "source": [
    "# 모델 훈련하기\n",
    "num_epochs = 5000\n",
    "for epoch in range(num_epochs):\n",
    "    # Forward 연산\n",
    "    y_pred = model(X_train_tensor)\n",
    "    \n",
    "    # 손실 계산\n",
    "    loss = criterion(y_pred.view(-1), y_train_tensor)\n",
    "    \n",
    "    # Backward 연산 및 가중치 갱신\n",
    "    optimizer.zero_grad()\n",
    "    loss.backward()\n",
    "    optimizer.step()\n",
    "    \n",
    "    # 로그 정보 출력\n",
    "    if (epoch+1) % 1000 == 0:\n",
    "        print(f'Epoch [{epoch+1}/{num_epochs}], Loss: {loss.item():.4f}')"
   ]
  },
  {
   "cell_type": "code",
   "execution_count": 13,
   "id": "acbcbc71-3f39-4676-9f2b-79236c8a0db3",
   "metadata": {
    "tags": []
   },
   "outputs": [
    {
     "name": "stdout",
     "output_type": "stream",
     "text": [
      "R^2 Score: 0.7887\n"
     ]
    }
   ],
   "source": [
    "# 모델 평가하기\n",
    "with torch.no_grad():\n",
    "    y_pred_test = model(X_test_tensor)\n",
    "    r2 = r2_score(y_test, y_pred_test.view(-1))\n",
    "    print(f'R^2 Score: {r2:.4f}')"
   ]
  },
  {
   "cell_type": "code",
   "execution_count": null,
   "id": "d2243151-a52a-4177-8af1-922c436cbf76",
   "metadata": {},
   "outputs": [],
   "source": []
  }
 ],
 "metadata": {
  "kernelspec": {
   "display_name": "Python 3 (ipykernel)",
   "language": "python",
   "name": "python3"
  },
  "language_info": {
   "codemirror_mode": {
    "name": "ipython",
    "version": 3
   },
   "file_extension": ".py",
   "mimetype": "text/x-python",
   "name": "python",
   "nbconvert_exporter": "python",
   "pygments_lexer": "ipython3",
   "version": "3.10.7"
  }
 },
 "nbformat": 4,
 "nbformat_minor": 5
}
