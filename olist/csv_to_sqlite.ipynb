{
 "cells": [
  {
   "cell_type": "code",
   "execution_count": 1,
   "id": "7529f82f",
   "metadata": {},
   "outputs": [],
   "source": [
    "import pandas as pd\n",
    "import sqlite3\n",
    "\n",
    "# CSV 파일 경로\n",
    "csv_files = {\n",
    "    \"customers\": \"olist_customers_dataset.csv\",\n",
    "    \"orders\": \"olist_orders_dataset.csv\",\n",
    "    \"geolocation\": \"olist_geolocation_dataset.csv\",\n",
    "    \"products\": \"olist_products_dataset.csv\",\n",
    "    \"order_items\": \"olist_order_items_dataset.csv\",\n",
    "    \"sellers\": \"olist_sellers_dataset.csv\",\n",
    "    \"payments\": \"olist_order_payments_dataset.csv\",\n",
    "    \"reviews\": \"olist_order_reviews_dataset.csv\",\n",
    "    \"product_categories\": \"product_category_name_translation.csv\"\n",
    "}"
   ]
  },
  {
   "cell_type": "code",
   "execution_count": 2,
   "id": "9674936e",
   "metadata": {},
   "outputs": [],
   "source": [
    "# SQLite 데이터베이스 연결 생성\n",
    "conn = sqlite3.connect('ecommerce.db')\n",
    "\n",
    "# 각 CSV 파일을 읽고 데이터베이스에 테이블로 저장\n",
    "for table_name, file_path in csv_files.items():\n",
    "    # CSV 파일을 DataFrame으로 로드\n",
    "    df = pd.read_csv(f\"data/{file_path}\")\n",
    "    \n",
    "    # DataFrame을 SQLite 데이터베이스의 테이블로 저장\n",
    "    # if_exists='replace'는 테이블이 이미 존재하는 경우 대체함\n",
    "    # index=False는 DataFrame 인덱스를 테이블에 저장하지 않음\n",
    "    df.to_sql(table_name, conn, if_exists='replace', index=False)"
   ]
  },
  {
   "cell_type": "code",
   "execution_count": 3,
   "id": "4147be63",
   "metadata": {
    "scrolled": true
   },
   "outputs": [
    {
     "data": {
      "text/plain": [
       "[('customers',),\n",
       " ('orders',),\n",
       " ('geolocation',),\n",
       " ('products',),\n",
       " ('order_items',),\n",
       " ('sellers',),\n",
       " ('payments',),\n",
       " ('reviews',),\n",
       " ('product_categories',)]"
      ]
     },
     "execution_count": 3,
     "metadata": {},
     "output_type": "execute_result"
    }
   ],
   "source": [
    "# 모든 테이블 이름 조회\n",
    "cursor = conn.execute(\"SELECT name FROM sqlite_master WHERE type='table'\")\n",
    "tables = cursor.fetchall()\n",
    "tables"
   ]
  },
  {
   "cell_type": "code",
   "execution_count": 4,
   "id": "50bb234e",
   "metadata": {},
   "outputs": [
    {
     "name": "stdout",
     "output_type": "stream",
     "text": [
      "\n",
      "Schema of 'customers' table:\n",
      "(0, 'customer_id', 'TEXT', 0, None, 0)\n",
      "(1, 'customer_unique_id', 'TEXT', 0, None, 0)\n",
      "(2, 'customer_zip_code_prefix', 'INTEGER', 0, None, 0)\n",
      "(3, 'customer_city', 'TEXT', 0, None, 0)\n",
      "(4, 'customer_state', 'TEXT', 0, None, 0)\n",
      "\n",
      "Schema of 'orders' table:\n",
      "(0, 'order_id', 'TEXT', 0, None, 0)\n",
      "(1, 'customer_id', 'TEXT', 0, None, 0)\n",
      "(2, 'order_status', 'TEXT', 0, None, 0)\n",
      "(3, 'order_purchase_timestamp', 'TEXT', 0, None, 0)\n",
      "(4, 'order_approved_at', 'TEXT', 0, None, 0)\n",
      "(5, 'order_delivered_carrier_date', 'TEXT', 0, None, 0)\n",
      "(6, 'order_delivered_customer_date', 'TEXT', 0, None, 0)\n",
      "(7, 'order_estimated_delivery_date', 'TEXT', 0, None, 0)\n",
      "\n",
      "Schema of 'geolocation' table:\n",
      "(0, 'geolocation_zip_code_prefix', 'INTEGER', 0, None, 0)\n",
      "(1, 'geolocation_lat', 'REAL', 0, None, 0)\n",
      "(2, 'geolocation_lng', 'REAL', 0, None, 0)\n",
      "(3, 'geolocation_city', 'TEXT', 0, None, 0)\n",
      "(4, 'geolocation_state', 'TEXT', 0, None, 0)\n",
      "\n",
      "Schema of 'products' table:\n",
      "(0, 'product_id', 'TEXT', 0, None, 0)\n",
      "(1, 'product_category_name', 'TEXT', 0, None, 0)\n",
      "(2, 'product_name_lenght', 'REAL', 0, None, 0)\n",
      "(3, 'product_description_lenght', 'REAL', 0, None, 0)\n",
      "(4, 'product_photos_qty', 'REAL', 0, None, 0)\n",
      "(5, 'product_weight_g', 'REAL', 0, None, 0)\n",
      "(6, 'product_length_cm', 'REAL', 0, None, 0)\n",
      "(7, 'product_height_cm', 'REAL', 0, None, 0)\n",
      "(8, 'product_width_cm', 'REAL', 0, None, 0)\n",
      "\n",
      "Schema of 'order_items' table:\n",
      "(0, 'order_id', 'TEXT', 0, None, 0)\n",
      "(1, 'order_item_id', 'INTEGER', 0, None, 0)\n",
      "(2, 'product_id', 'TEXT', 0, None, 0)\n",
      "(3, 'seller_id', 'TEXT', 0, None, 0)\n",
      "(4, 'shipping_limit_date', 'TEXT', 0, None, 0)\n",
      "(5, 'price', 'REAL', 0, None, 0)\n",
      "(6, 'freight_value', 'REAL', 0, None, 0)\n",
      "\n",
      "Schema of 'sellers' table:\n",
      "(0, 'seller_id', 'TEXT', 0, None, 0)\n",
      "(1, 'seller_zip_code_prefix', 'INTEGER', 0, None, 0)\n",
      "(2, 'seller_city', 'TEXT', 0, None, 0)\n",
      "(3, 'seller_state', 'TEXT', 0, None, 0)\n",
      "\n",
      "Schema of 'payments' table:\n",
      "(0, 'order_id', 'TEXT', 0, None, 0)\n",
      "(1, 'payment_sequential', 'INTEGER', 0, None, 0)\n",
      "(2, 'payment_type', 'TEXT', 0, None, 0)\n",
      "(3, 'payment_installments', 'INTEGER', 0, None, 0)\n",
      "(4, 'payment_value', 'REAL', 0, None, 0)\n",
      "\n",
      "Schema of 'reviews' table:\n",
      "(0, 'review_id', 'TEXT', 0, None, 0)\n",
      "(1, 'order_id', 'TEXT', 0, None, 0)\n",
      "(2, 'review_score', 'INTEGER', 0, None, 0)\n",
      "(3, 'review_comment_title', 'TEXT', 0, None, 0)\n",
      "(4, 'review_comment_message', 'TEXT', 0, None, 0)\n",
      "(5, 'review_creation_date', 'TEXT', 0, None, 0)\n",
      "(6, 'review_answer_timestamp', 'TEXT', 0, None, 0)\n",
      "\n",
      "Schema of 'product_categories' table:\n",
      "(0, 'product_category_name', 'TEXT', 0, None, 0)\n",
      "(1, 'product_category_name_english', 'TEXT', 0, None, 0)\n"
     ]
    }
   ],
   "source": [
    "# 각 테이블의 스키마 조회 및 출력\n",
    "for table in tables:\n",
    "    table_name = table[0]\n",
    "    print(f\"\\nSchema of '{table_name}' table:\")\n",
    "    cursor = conn.execute(f\"PRAGMA table_info('{table_name}')\")\n",
    "    columns = cursor.fetchall()\n",
    "    for column in columns:\n",
    "        print(column)"
   ]
  },
  {
   "cell_type": "code",
   "execution_count": 5,
   "id": "e82f2671",
   "metadata": {},
   "outputs": [],
   "source": [
    "# 데이터베이스 연결 종료\n",
    "conn.close()"
   ]
  },
  {
   "cell_type": "code",
   "execution_count": null,
   "id": "8892bb45",
   "metadata": {},
   "outputs": [],
   "source": []
  }
 ],
 "metadata": {
  "kernelspec": {
   "display_name": "Python 3 (ipykernel)",
   "language": "python",
   "name": "python3"
  },
  "language_info": {
   "codemirror_mode": {
    "name": "ipython",
    "version": 3
   },
   "file_extension": ".py",
   "mimetype": "text/x-python",
   "name": "python",
   "nbconvert_exporter": "python",
   "pygments_lexer": "ipython3",
   "version": "3.11.4"
  },
  "toc": {
   "base_numbering": 1,
   "nav_menu": {},
   "number_sections": true,
   "sideBar": true,
   "skip_h1_title": false,
   "title_cell": "Table of Contents",
   "title_sidebar": "Contents",
   "toc_cell": false,
   "toc_position": {},
   "toc_section_display": true,
   "toc_window_display": false
  },
  "varInspector": {
   "cols": {
    "lenName": 16,
    "lenType": 16,
    "lenVar": 40
   },
   "kernels_config": {
    "python": {
     "delete_cmd_postfix": "",
     "delete_cmd_prefix": "del ",
     "library": "var_list.py",
     "varRefreshCmd": "print(var_dic_list())"
    },
    "r": {
     "delete_cmd_postfix": ") ",
     "delete_cmd_prefix": "rm(",
     "library": "var_list.r",
     "varRefreshCmd": "cat(var_dic_list()) "
    }
   },
   "types_to_exclude": [
    "module",
    "function",
    "builtin_function_or_method",
    "instance",
    "_Feature"
   ],
   "window_display": false
  }
 },
 "nbformat": 4,
 "nbformat_minor": 5
}
