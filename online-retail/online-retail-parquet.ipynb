{
 "cells": [
  {
   "cell_type": "code",
   "execution_count": 2,
   "id": "a5147711",
   "metadata": {},
   "outputs": [],
   "source": [
    "import pandas as pd\n",
    "import numpy as np\n",
    "import matplotlib.pyplot as plt\n",
    "import seaborn as sns"
   ]
  },
  {
   "cell_type": "code",
   "execution_count": 3,
   "id": "f43b2a30",
   "metadata": {},
   "outputs": [],
   "source": [
    "# !pip install koreanize-matplotlib\n",
    "import koreanize_matplotlib\n",
    "\n",
    "%config InlineBackend.figure_format = 'retina'"
   ]
  },
  {
   "cell_type": "markdown",
   "id": "afdcf9ba",
   "metadata": {},
   "source": [
    "## 데이터 로드\n",
    "\n",
    "<img src=\"https://upload.wikimedia.org/wikipedia/commons/thumb/4/47/Apache_Parquet_logo.svg/330px-Apache_Parquet_logo.svg.png\">\n",
    "\n",
    "\n",
    "### Apache Parquet\n",
    "\n",
    "* 효율적인 데이터 저장 및 검색을 위해 설계된 오픈 소스, 열 지향 데이터 파일 형식\n",
    "* 복잡한 데이터를 대량으로 처리하기 위해 향상된 성능과 함께 효율적인 데이터 압축 및 인코딩 체계를 제공\n",
    "* Parquet은 Java, C++, Python 등을 포함한 여러 언어를 지원\n",
    "\n",
    "* Twitter 와 Cloudera 의 협업으로 만들어졌습니다.\n",
    "* Hadoop 창시자인 더그커팅의 trevni 열 저장 형식을 개선하기 위해 설계 되었습니다.\n",
    "* 열의 값은 물리적으로 인접한 메모리 위치에 저장됩니다.\n",
    "* 열 단위 압축은 효율적이고 저장 공간을 절약합니다.\n",
    "* 열 값이 동일한 데이터 타입이기 때문에 압축에 유리합니다.\n",
    "* 특정 열 값을 가져오는 쿼리는 전체 행 데이터를 읽을 필요가 없으므로 성능이 향상됩니다.\n",
    "* 각 열에 다른 인코딩 기술을 적용할 수 있습니다.\n",
    "\n",
    "\n",
    "* 열 스토리지, 필요한 데이터만 읽기\n",
    "* 효율적인 바이너리 패킹\n",
    "* 압축 알고리즘 및 인코딩 선택\n",
    "* 데이터를 파일로 분할하여 병렬 처리 가능\n",
    "* 논리 유형의 범위\n",
    "* 메타데이터에 저장된 통계를 통해 불필요한 청크를 건너뛸 수 있습니다.\n",
    "* 디렉토리 구조를 사용한 데이터 분할\n",
    "\n",
    "\n",
    "* [Apache Parquet - Wikipedia](https://en.wikipedia.org/wiki/Apache_Parquet)\n",
    "\n",
    "* [Development update: High speed Apache Parquet in Python with Apache Arrow - Wes McKinney](https://wesmckinney.com/blog/python-parquet-update/)\n",
    "\n",
    "\n",
    "<img src=\"https://wesmckinney.com/images/parquet_benchmarks.png\">"
   ]
  },
  {
   "cell_type": "code",
   "execution_count": 4,
   "id": "b71da654",
   "metadata": {},
   "outputs": [
    {
     "data": {
      "text/plain": [
       "(541909, 8)"
      ]
     },
     "execution_count": 4,
     "metadata": {},
     "output_type": "execute_result"
    }
   ],
   "source": [
    "df_csv = pd.read_csv(\"data/online_retail.csv\")\n",
    "df_csv.shape"
   ]
  },
  {
   "cell_type": "code",
   "execution_count": 5,
   "id": "d60f0f5a",
   "metadata": {},
   "outputs": [
    {
     "name": "stdout",
     "output_type": "stream",
     "text": [
      "<class 'pandas.core.frame.DataFrame'>\n",
      "RangeIndex: 541909 entries, 0 to 541908\n",
      "Data columns (total 8 columns):\n",
      " #   Column       Non-Null Count   Dtype  \n",
      "---  ------       --------------   -----  \n",
      " 0   InvoiceNo    541909 non-null  object \n",
      " 1   StockCode    541909 non-null  object \n",
      " 2   Description  540455 non-null  object \n",
      " 3   Quantity     541909 non-null  int64  \n",
      " 4   InvoiceDate  541909 non-null  object \n",
      " 5   UnitPrice    541909 non-null  float64\n",
      " 6   CustomerID   406829 non-null  float64\n",
      " 7   Country      541909 non-null  object \n",
      "dtypes: float64(2), int64(1), object(5)\n",
      "memory usage: 33.1+ MB\n"
     ]
    }
   ],
   "source": [
    "df_csv.info()"
   ]
  },
  {
   "cell_type": "code",
   "execution_count": 6,
   "id": "d30af5e3",
   "metadata": {},
   "outputs": [],
   "source": [
    "def downcast(df_chunk):\n",
    "    display(df_chunk.head())\n",
    "    for col in df_chunk.columns:\n",
    "        dtypes_name = df_chunk[col].dtypes.name\n",
    "        if dtypes_name.startswith(\"float\"):\n",
    "            df_chunk[col] = pd.to_numeric(df_chunk[col], downcast=\"float\")\n",
    "        elif dtypes_name.startswith(\"int\"):\n",
    "            # 최솟값을 구해서 음수가 있을 때는 integer\n",
    "            # 음수가 없을 때는 unsigned\n",
    "            if df_chunk[col].min() < 0 :\n",
    "                df_chunk[col] = pd.to_numeric(df_chunk[col], downcast=\"integer\")\n",
    "            else:\n",
    "                df_chunk[col] = pd.to_numeric(df_chunk[col], downcast=\"unsigned\")\n",
    "        # 문자일 때는 category 로 변경해 줍니다.\n",
    "        # 카디널리티가 높거나 텍스트 데이터에는 적합하지 않을 수 있습니다.\n",
    "        elif dtypes_name.startswith(\"object\"):\n",
    "                df_chunk[col] = df_chunk[col].astype(\"category\")\n",
    "    return df_chunk"
   ]
  },
  {
   "cell_type": "code",
   "execution_count": null,
   "id": "060b92ca",
   "metadata": {},
   "outputs": [],
   "source": [
    "df_downcast = downcast(df_csv)\n",
    "df_downcast.info()"
   ]
  },
  {
   "cell_type": "code",
   "execution_count": null,
   "id": "524c70ab",
   "metadata": {},
   "outputs": [],
   "source": [
    "df_downcast.to_parquet(\"data/online_retail.gzip\", index=False)"
   ]
  },
  {
   "cell_type": "code",
   "execution_count": 6,
   "id": "d4cc2b05",
   "metadata": {},
   "outputs": [
    {
     "data": {
      "text/plain": [
       "(541909, 8)"
      ]
     },
     "execution_count": 6,
     "metadata": {},
     "output_type": "execute_result"
    }
   ],
   "source": [
    "df_gzip = pd.read_parquet(\"data/online_retail.gzip\")\n",
    "df_gzip.shape"
   ]
  },
  {
   "cell_type": "code",
   "execution_count": 8,
   "id": "20949fe2",
   "metadata": {},
   "outputs": [
    {
     "name": "stdout",
     "output_type": "stream",
     "text": [
      "<class 'pandas.core.frame.DataFrame'>\n",
      "RangeIndex: 541909 entries, 0 to 541908\n",
      "Data columns (total 8 columns):\n",
      " #   Column       Non-Null Count   Dtype   \n",
      "---  ------       --------------   -----   \n",
      " 0   InvoiceNo    541909 non-null  category\n",
      " 1   StockCode    541909 non-null  category\n",
      " 2   Description  540455 non-null  category\n",
      " 3   Quantity     541909 non-null  int32   \n",
      " 4   InvoiceDate  541909 non-null  category\n",
      " 5   UnitPrice    541909 non-null  float64 \n",
      " 6   CustomerID   406829 non-null  float32 \n",
      " 7   Country      541909 non-null  category\n",
      "dtypes: category(5), float32(1), float64(1), int32(1)\n",
      "memory usage: 15.1 MB\n"
     ]
    }
   ],
   "source": [
    "df_gzip.info()"
   ]
  },
  {
   "cell_type": "code",
   "execution_count": null,
   "id": "d96d5069",
   "metadata": {},
   "outputs": [],
   "source": []
  }
 ],
 "metadata": {
  "kernelspec": {
   "display_name": "Python 3 (ipykernel)",
   "language": "python",
   "name": "python3"
  },
  "language_info": {
   "codemirror_mode": {
    "name": "ipython",
    "version": 3
   },
   "file_extension": ".py",
   "mimetype": "text/x-python",
   "name": "python",
   "nbconvert_exporter": "python",
   "pygments_lexer": "ipython3",
   "version": "3.11.4"
  },
  "toc": {
   "base_numbering": 1,
   "nav_menu": {},
   "number_sections": true,
   "sideBar": true,
   "skip_h1_title": false,
   "title_cell": "Table of Contents",
   "title_sidebar": "Contents",
   "toc_cell": false,
   "toc_position": {},
   "toc_section_display": true,
   "toc_window_display": false
  },
  "varInspector": {
   "cols": {
    "lenName": 16,
    "lenType": 16,
    "lenVar": 40
   },
   "kernels_config": {
    "python": {
     "delete_cmd_postfix": "",
     "delete_cmd_prefix": "del ",
     "library": "var_list.py",
     "varRefreshCmd": "print(var_dic_list())"
    },
    "r": {
     "delete_cmd_postfix": ") ",
     "delete_cmd_prefix": "rm(",
     "library": "var_list.r",
     "varRefreshCmd": "cat(var_dic_list()) "
    }
   },
   "types_to_exclude": [
    "module",
    "function",
    "builtin_function_or_method",
    "instance",
    "_Feature"
   ],
   "window_display": false
  }
 },
 "nbformat": 4,
 "nbformat_minor": 5
}
