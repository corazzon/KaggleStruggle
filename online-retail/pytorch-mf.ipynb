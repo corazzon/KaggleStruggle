{
 "cells": [
  {
   "cell_type": "code",
   "execution_count": 22,
   "id": "e429b856",
   "metadata": {},
   "outputs": [],
   "source": [
    "import torch\n",
    "import torch.nn as nn\n",
    "import torch.optim as optim\n",
    "from torch.utils.data import DataLoader, Dataset\n",
    "import pandas as pd\n",
    "import numpy as np\n",
    "from sklearn.model_selection import train_test_split"
   ]
  },
  {
   "cell_type": "code",
   "execution_count": 23,
   "id": "fa577ece",
   "metadata": {},
   "outputs": [
    {
     "data": {
      "text/plain": [
       "(406829, 8)"
      ]
     },
     "execution_count": 23,
     "metadata": {},
     "output_type": "execute_result"
    }
   ],
   "source": [
    "# online_retail.csv 파일 불러오기\n",
    "df = pd.read_csv(f\"data/online_retail.csv\")\n",
    "df = df[df[\"CustomerID\"].notnull()]\n",
    "df.shape"
   ]
  },
  {
   "cell_type": "code",
   "execution_count": 26,
   "id": "37de6d58",
   "metadata": {},
   "outputs": [
    {
     "data": {
      "text/plain": [
       "StockCode      0\n",
       "CustomerID     0\n",
       "Quantity       0\n",
       "CustomerNo     0\n",
       "StockCodeNo    0\n",
       "dtype: int64"
      ]
     },
     "execution_count": 26,
     "metadata": {},
     "output_type": "execute_result"
    }
   ],
   "source": [
    "# 상품 코드와 고객 ID로 이루어진 새로운 데이터프레임 생성\n",
    "new_df = df[['StockCode', 'CustomerID', 'Quantity']]\n",
    "\n",
    "# NaN 값을 가지는 행 제거\n",
    "new_df = new_df.dropna()\n",
    "\n",
    "# 고객 ID와 상품 코드를 정수형으로 변환\n",
    "new_df['CustomerNo'] = new_df['CustomerID'].astype(\"category\").cat.codes.astype(int)\n",
    "new_df['StockCodeNo'] = new_df['StockCode'].astype(\"category\").cat.codes.astype(int)\n",
    "new_df.isnull().sum()"
   ]
  },
  {
   "cell_type": "code",
   "execution_count": 27,
   "id": "9737dedd",
   "metadata": {},
   "outputs": [
    {
     "data": {
      "text/html": [
       "<div>\n",
       "<style scoped>\n",
       "    .dataframe tbody tr th:only-of-type {\n",
       "        vertical-align: middle;\n",
       "    }\n",
       "\n",
       "    .dataframe tbody tr th {\n",
       "        vertical-align: top;\n",
       "    }\n",
       "\n",
       "    .dataframe thead th {\n",
       "        text-align: right;\n",
       "    }\n",
       "</style>\n",
       "<table border=\"1\" class=\"dataframe\">\n",
       "  <thead>\n",
       "    <tr style=\"text-align: right;\">\n",
       "      <th></th>\n",
       "      <th>user_id</th>\n",
       "      <th>item_id</th>\n",
       "      <th>rating</th>\n",
       "    </tr>\n",
       "  </thead>\n",
       "  <tbody>\n",
       "    <tr>\n",
       "      <th>0</th>\n",
       "      <td>0</td>\n",
       "      <td>2001</td>\n",
       "      <td>0</td>\n",
       "    </tr>\n",
       "    <tr>\n",
       "      <th>1</th>\n",
       "      <td>1</td>\n",
       "      <td>25</td>\n",
       "      <td>24</td>\n",
       "    </tr>\n",
       "    <tr>\n",
       "      <th>2</th>\n",
       "      <td>1</td>\n",
       "      <td>87</td>\n",
       "      <td>36</td>\n",
       "    </tr>\n",
       "    <tr>\n",
       "      <th>3</th>\n",
       "      <td>1</td>\n",
       "      <td>130</td>\n",
       "      <td>6</td>\n",
       "    </tr>\n",
       "    <tr>\n",
       "      <th>4</th>\n",
       "      <td>1</td>\n",
       "      <td>167</td>\n",
       "      <td>40</td>\n",
       "    </tr>\n",
       "  </tbody>\n",
       "</table>\n",
       "</div>"
      ],
      "text/plain": [
       "   user_id  item_id  rating\n",
       "0        0     2001       0\n",
       "1        1       25      24\n",
       "2        1       87      36\n",
       "3        1      130       6\n",
       "4        1      167      40"
      ]
     },
     "execution_count": 27,
     "metadata": {},
     "output_type": "execute_result"
    }
   ],
   "source": [
    "df_ratings = new_df.groupby([\"CustomerNo\", \"StockCodeNo\"])[\"Quantity\"].sum().reset_index()\n",
    "df_ratings.columns = [\"user_id\", \"item_id\", \"rating\"]\n",
    "df_ratings.head()"
   ]
  },
  {
   "cell_type": "code",
   "execution_count": 28,
   "id": "f9fa8687",
   "metadata": {},
   "outputs": [],
   "source": [
    "train_ratings, test_ratings = train_test_split(df_ratings, test_size=0.1, random_state=42)\n",
    "train_ratings, val_ratings = train_test_split(train_ratings, test_size=0.1, random_state=42)"
   ]
  },
  {
   "cell_type": "code",
   "execution_count": 29,
   "id": "a6407b27",
   "metadata": {},
   "outputs": [],
   "source": [
    "class RecDataset(Dataset):\n",
    "    def __init__(self, ratings):\n",
    "        self.user_ids = torch.LongTensor(df_ratings['user_id'].values)\n",
    "        self.item_ids = torch.LongTensor(df_ratings['item_id'].values)\n",
    "        self.ratings = torch.FloatTensor(df_ratings['rating'].values)\n",
    "        \n",
    "    def __len__(self):\n",
    "        return len(self.user_ids)\n",
    "    \n",
    "    def __getitem__(self, idx):\n",
    "        return self.user_ids[idx], self.item_ids[idx], self.ratings[idx]\n",
    "        \n",
    "train_dataset = RecDataset(train_ratings)\n",
    "val_dataset = RecDataset(val_ratings)\n",
    "test_dataset = RecDataset(test_ratings)"
   ]
  },
  {
   "cell_type": "code",
   "execution_count": 30,
   "id": "a3fce9fe",
   "metadata": {},
   "outputs": [],
   "source": [
    "batch_size = 256\n",
    "train_loader = DataLoader(train_dataset, batch_size=batch_size, shuffle=True)\n",
    "val_loader = DataLoader(val_dataset, batch_size=batch_size)\n",
    "test_loader = DataLoader(test_dataset, batch_size=batch_size)"
   ]
  },
  {
   "cell_type": "code",
   "execution_count": 31,
   "id": "fd594bd2",
   "metadata": {},
   "outputs": [],
   "source": [
    "class RecommenderNet(nn.Module):\n",
    "    def __init__(self, num_users, num_items, emb_size=64):\n",
    "        super().__init__()\n",
    "        # print(\"num_users\", num_users, \"num_items\", num_items)\n",
    "        self.user_emb = nn.Embedding(num_users, emb_size)\n",
    "        self.item_emb = nn.Embedding(num_items, emb_size)\n",
    "        self.fc1 = nn.Linear(emb_size*2, 128)\n",
    "        self.fc2 = nn.Linear(128, 64)\n",
    "        self.fc3 = nn.Linear(64, 1)\n",
    "        self.dropout = nn.Dropout(0.5)\n",
    "        self.relu = nn.ReLU()\n",
    "        \n",
    "    def forward(self, user_ids, item_ids):\n",
    "        user_emb = self.user_emb(user_ids)\n",
    "        item_emb = self.item_emb(item_ids)\n",
    "        x = torch.cat([user_emb, item_emb], dim=-1)\n",
    "        x = self.fc1(x)\n",
    "        x = self.relu(x)\n",
    "        x = self.dropout(x)\n",
    "        x = self.fc2(x)\n",
    "        x = self.relu(x)\n",
    "        x = self.dropout(x)\n",
    "        x = self.fc3(x)\n",
    "        x = self.relu(x)\n",
    "        return x.squeeze()"
   ]
  },
  {
   "cell_type": "code",
   "execution_count": 32,
   "id": "c2d3c8b8",
   "metadata": {},
   "outputs": [],
   "source": [
    "device = torch.device('cuda' if torch.cuda.is_available() else 'cpu')\n",
    "model = RecommenderNet(num_users=df_ratings['user_id'].nunique(), num_items=df_ratings['item_id'].nunique())\n",
    "model.to(device)\n",
    "\n",
    "criterion = nn.MSELoss()\n",
    "optimizer = optim.Adam(model.parameters(), lr=0.01)"
   ]
  },
  {
   "cell_type": "code",
   "execution_count": 33,
   "id": "3e1aa79b",
   "metadata": {},
   "outputs": [],
   "source": [
    "def train(model, dataloader, criterion, optimizer, device):\n",
    "    model.train()\n",
    "    total_loss = 0.\n",
    "    for user_ids, item_ids, ratings in dataloader:\n",
    "        user_ids, item_ids, ratings = user_ids.view(-1).to(device), item_ids.view(-1).to(device), ratings.to(device)\n",
    "        optimizer.zero_grad()\n",
    "        outputs = model(user_ids, item_ids)\n",
    "        loss = criterion(outputs, ratings)\n",
    "        loss.backward()\n",
    "        optimizer.step()\n",
    "        total_loss += loss.item()\n",
    "    return total_loss / len(dataloader)\n",
    "\n",
    "def evaluate(model, dataloader, criterion, device):\n",
    "    model.eval()\n",
    "    total_loss = 0.\n",
    "    with torch.no_grad():\n",
    "        for user_ids, item_ids, ratings in dataloader:\n",
    "            user_ids, item_ids, ratings = user_ids.view(-1).to(device), item_ids.view(-1).to(device), ratings.to(device)\n",
    "            outputs = model(user_ids, item_ids)\n",
    "            loss = criterion(outputs, ratings)\n",
    "            total_loss += loss.item()\n",
    "    return total_loss / len(dataloader)\n"
   ]
  },
  {
   "cell_type": "code",
   "execution_count": 34,
   "id": "6a46d925",
   "metadata": {},
   "outputs": [
    {
     "name": "stdout",
     "output_type": "stream",
     "text": [
      "epoch 1, train_loss: 8232.3744, val_loss: 7076.8229\n",
      "epoch 2, train_loss: 7062.9830, val_loss: 5618.3064\n",
      "epoch 3, train_loss: 6887.2501, val_loss: 5437.2059\n",
      "epoch 4, train_loss: 6047.6210, val_loss: 4765.5956\n",
      "epoch 5, train_loss: 5749.1470, val_loss: 4447.1925\n",
      "epoch 6, train_loss: 5387.7942, val_loss: 3929.3161\n",
      "epoch 7, train_loss: 4993.9927, val_loss: 4114.3146\n",
      "epoch 8, train_loss: 4548.3926, val_loss: 3881.2343\n",
      "epoch 9, train_loss: 4273.7493, val_loss: 3390.0099\n",
      "epoch 10, train_loss: 4908.2015, val_loss: 3492.9389\n",
      "test_loss: 3492.9389\n"
     ]
    }
   ],
   "source": [
    "n_epochs = 10\n",
    "for epoch in range(n_epochs):\n",
    "    train_loss = train(model, train_loader, criterion, optimizer, device)\n",
    "    val_loss = evaluate(model, val_loader, criterion, device)\n",
    "    print(f'epoch {epoch+1}, train_loss: {train_loss:.4f}, val_loss: {val_loss:.4f}')\n",
    "\n",
    "test_loss = evaluate(model, test_loader, criterion, device)\n",
    "print(f'test_loss: {test_loss:.4f}')"
   ]
  },
  {
   "cell_type": "code",
   "execution_count": null,
   "id": "0db60f2d",
   "metadata": {},
   "outputs": [],
   "source": []
  }
 ],
 "metadata": {
  "kernelspec": {
   "display_name": "Python 3 (ipykernel)",
   "language": "python",
   "name": "python3"
  },
  "language_info": {
   "codemirror_mode": {
    "name": "ipython",
    "version": 3
   },
   "file_extension": ".py",
   "mimetype": "text/x-python",
   "name": "python",
   "nbconvert_exporter": "python",
   "pygments_lexer": "ipython3",
   "version": "3.10.7"
  },
  "toc": {
   "base_numbering": 1,
   "nav_menu": {},
   "number_sections": true,
   "sideBar": true,
   "skip_h1_title": false,
   "title_cell": "Table of Contents",
   "title_sidebar": "Contents",
   "toc_cell": false,
   "toc_position": {},
   "toc_section_display": true,
   "toc_window_display": false
  },
  "varInspector": {
   "cols": {
    "lenName": 16,
    "lenType": 16,
    "lenVar": 40
   },
   "kernels_config": {
    "python": {
     "delete_cmd_postfix": "",
     "delete_cmd_prefix": "del ",
     "library": "var_list.py",
     "varRefreshCmd": "print(var_dic_list())"
    },
    "r": {
     "delete_cmd_postfix": ") ",
     "delete_cmd_prefix": "rm(",
     "library": "var_list.r",
     "varRefreshCmd": "cat(var_dic_list()) "
    }
   },
   "types_to_exclude": [
    "module",
    "function",
    "builtin_function_or_method",
    "instance",
    "_Feature"
   ],
   "window_display": false
  }
 },
 "nbformat": 4,
 "nbformat_minor": 5
}
