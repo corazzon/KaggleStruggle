{
 "cells": [
  {
   "cell_type": "code",
   "execution_count": null,
   "id": "cc49dab3",
   "metadata": {},
   "outputs": [],
   "source": [
    "import pandas as pd\n",
    "import numpy as np\n",
    "import torch"
   ]
  },
  {
   "cell_type": "code",
   "execution_count": null,
   "id": "f180ed62",
   "metadata": {},
   "outputs": [],
   "source": [
    "# InvoiceNo: 주문 번호\n",
    "# StockCode: 상품 코드\n",
    "# Description: 상품 설명\n",
    "# Quantity: 상품 수량\n",
    "# InvoiceDate: 주문 날짜\n",
    "# UnitPrice: 상품 단가\n",
    "# CustomerID: 고객 ID\n",
    "# Country: 국가"
   ]
  },
  {
   "cell_type": "code",
   "execution_count": null,
   "id": "41dac8a7",
   "metadata": {},
   "outputs": [],
   "source": [
    "# online_retail.csv 파일 불러오기\n",
    "df = pd.read_csv(f\"data/online_retail.csv\")\n",
    "df = df.dropna()\n",
    "df.shape"
   ]
  },
  {
   "cell_type": "code",
   "execution_count": null,
   "id": "6fbf0635",
   "metadata": {},
   "outputs": [],
   "source": [
    "df['StockCodeNo'] = df['StockCode'].astype(\"category\").cat.codes\n",
    "# 상품 코드와 고객 ID로 이루어진 새로운 데이터프레임 생성\n",
    "new_df = df[['StockCodeNo', 'CustomerID', 'Quantity']]\n",
    "\n",
    "# NaN 값을 가지는 행 제거\n",
    "new_df = new_df.dropna()\n",
    "\n",
    "# 고객 ID와 상품 코드를 정수형으로 변환\n",
    "new_df['CustomerID'] = new_df['CustomerID'].astype(int)\n",
    "new_df['StockCodeNo'] = new_df['StockCodeNo'].astype(int)"
   ]
  },
  {
   "cell_type": "code",
   "execution_count": null,
   "id": "75582d55",
   "metadata": {},
   "outputs": [],
   "source": [
    "from sklearn.model_selection import train_test_split\n",
    "\n",
    "train_df, val_df = train_test_split(df[['StockCodeNo', 'CustomerID', 'Quantity']], test_size=0.2)"
   ]
  },
  {
   "cell_type": "code",
   "execution_count": null,
   "id": "9bb3a118",
   "metadata": {},
   "outputs": [],
   "source": [
    "train_df.head()"
   ]
  },
  {
   "cell_type": "code",
   "execution_count": null,
   "id": "649f290c",
   "metadata": {},
   "outputs": [],
   "source": [
    "import torch\n",
    "from torch import nn\n",
    "\n",
    "class MF(nn.Module):\n",
    "    def __init__(self, n_users, n_items, n_factors=20):\n",
    "        super(MF, self).__init__()\n",
    "        self.user_factors = nn.Embedding(n_users, n_factors)\n",
    "        self.item_factors = nn.Embedding(n_items, n_factors)\n",
    "\n",
    "    def forward(self, user, item):\n",
    "        user_embedding = self.user_factors(user)\n",
    "        item_embedding = self.item_factors(item)\n",
    "        return (user_embedding * item_embedding).sum(1)\n"
   ]
  },
  {
   "cell_type": "code",
   "execution_count": null,
   "id": "78793534",
   "metadata": {},
   "outputs": [],
   "source": [
    "# 사용자 ID와 제품 코드를 고유한 값으로 매핑\n",
    "user_to_idx = {user: i for i, user in enumerate(train_df['CustomerID'].unique())}\n",
    "item_to_idx = {item: i for i, item in enumerate(train_df['StockCodeNo'].unique())}\n",
    "\n",
    "# 훈련 및 검증 데이터셋에 매핑된 인덱스 추가\n",
    "train_df['user'] = train_df['CustomerID'].apply(lambda x: user_to_idx[x])\n",
    "train_df['item'] = train_df['StockCodeNo'].apply(lambda x: item_to_idx[x])\n",
    "val_df['user'] = val_df['CustomerID'].apply(lambda x: user_to_idx[x] if x in user_to_idx else -1)\n",
    "val_df['item'] = val_df['StockCodeNo'].apply(lambda x: item_to_idx[x] if x in item_to_idx else -1)\n",
    "\n",
    "# PyTorch DataLoader 생성\n",
    "train_data = torch.utils.data.TensorDataset(\n",
    "    torch.LongTensor(train_df['user']), \n",
    "    torch.LongTensor(train_df['item']), \n",
    "    torch.FloatTensor(train_df['Quantity']))\n",
    "train_loader = torch.utils.data.DataLoader(train_data, batch_size=256, shuffle=True)\n",
    "val_data = torch.utils.data.TensorDataset(\n",
    "    torch.LongTensor(val_df[val_df['user'] != -1]['user']), \n",
    "    torch.LongTensor(val_df[val_df['item'] != -1]['item']), \n",
    "    torch.FloatTensor(val_df[val_df['item'] != -1]['Quantity']))\n",
    "val_loader = torch.utils.data.DataLoader(val_data, batch_size=256, shuffle=False)\n"
   ]
  },
  {
   "cell_type": "code",
   "execution_count": null,
   "id": "66edeb15",
   "metadata": {},
   "outputs": [],
   "source": [
    "model = MF(len(user_to_idx), len(item_to_idx), n_factors=20)\n",
    "criterion = nn.MSELoss()\n",
    "optimizer = torch.optim.Adam(model.parameters(), lr=0.01, weight_decay=1e-5)\n",
    "\n",
    "for epoch in range(10):\n",
    "    for user, item, rating in train_loader:\n",
    "        optimizer.zero_grad()\n",
    "        output = model(user, item)\n",
    "        loss = criterion(output, rating)\n",
    "        loss.backward()\n",
    "        optimizer.step()\n",
    "\n",
    "    with torch.no_grad():\n",
    "        val_loss = 0.0\n",
    "        for user, item, rating in val_loader:\n",
    "            output = model(user, item)\n",
    "            val_loss += criterion(output, rating).item() * len(user)\n",
    "        val_loss /= len(val_df)\n",
    "        print('epoch: {}, validation RMSE loss: {:.4f}'.format(epoch+1, val_loss**0.5))\n"
   ]
  },
  {
   "cell_type": "code",
   "execution_count": null,
   "id": "8d63320c",
   "metadata": {},
   "outputs": [],
   "source": [
    "# 각 제품의 인덱스를 제품 코드로 매핑\n",
    "idx_to_item = {i: item for item, i in item_to_idx.items()}\n",
    "\n",
    "# 특정 사용자에게 추천할 상위 10개의 제품 출력\n",
    "user_idx = 0\n",
    "user_items = set(train_df[train_df['user'] == user_idx]['item'])\n",
    "scores = model(torch.LongTensor([user_idx]*len(item_to_idx)), torch.LongTensor(list(item_to_idx.values()))).detach().numpy()\n",
    "item_indices = list(range(len(item_to_idx)))\n",
    "item_scores = list(zip(item_indices, scores))\n",
    "item_scores = sorted(item_scores, key=lambda x: x[1], reverse=True)\n",
    "recommended_items = []\n",
    "for item_idx, score in item_scores:\n",
    "    item_code = idx_to_item[item_idx]\n",
    "    if item_code not in user_items:\n",
    "        recommended_items.append(item_code)\n",
    "    if len(recommended_items) >= 10:\n",
    "        break\n",
    "print('Recommended items for user {}:'.format(user_idx))\n",
    "print(recommended_items)\n"
   ]
  }
 ],
 "metadata": {
  "kernelspec": {
   "display_name": "Python 3 (ipykernel)",
   "language": "python",
   "name": "python3"
  },
  "language_info": {
   "codemirror_mode": {
    "name": "ipython",
    "version": 3
   },
   "file_extension": ".py",
   "mimetype": "text/x-python",
   "name": "python",
   "nbconvert_exporter": "python",
   "pygments_lexer": "ipython3",
   "version": "3.10.7"
  },
  "toc": {
   "base_numbering": 1,
   "nav_menu": {},
   "number_sections": true,
   "sideBar": true,
   "skip_h1_title": false,
   "title_cell": "Table of Contents",
   "title_sidebar": "Contents",
   "toc_cell": false,
   "toc_position": {},
   "toc_section_display": true,
   "toc_window_display": false
  },
  "varInspector": {
   "cols": {
    "lenName": 16,
    "lenType": 16,
    "lenVar": 40
   },
   "kernels_config": {
    "python": {
     "delete_cmd_postfix": "",
     "delete_cmd_prefix": "del ",
     "library": "var_list.py",
     "varRefreshCmd": "print(var_dic_list())"
    },
    "r": {
     "delete_cmd_postfix": ") ",
     "delete_cmd_prefix": "rm(",
     "library": "var_list.r",
     "varRefreshCmd": "cat(var_dic_list()) "
    }
   },
   "types_to_exclude": [
    "module",
    "function",
    "builtin_function_or_method",
    "instance",
    "_Feature"
   ],
   "window_display": false
  }
 },
 "nbformat": 4,
 "nbformat_minor": 5
}
