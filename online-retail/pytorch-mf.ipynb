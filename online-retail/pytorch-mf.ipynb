{
 "cells": [
  {
   "cell_type": "code",
   "execution_count": 1,
   "id": "cc49dab3",
   "metadata": {},
   "outputs": [],
   "source": [
    "import pandas as pd\n",
    "import numpy as np\n",
    "import torch"
   ]
  },
  {
   "cell_type": "code",
   "execution_count": 2,
   "id": "f180ed62",
   "metadata": {},
   "outputs": [],
   "source": [
    "# InvoiceNo: 주문 번호\n",
    "# StockCode: 상품 코드\n",
    "# Description: 상품 설명\n",
    "# Quantity: 상품 수량\n",
    "# InvoiceDate: 주문 날짜\n",
    "# UnitPrice: 상품 단가\n",
    "# CustomerID: 고객 ID\n",
    "# Country: 국가"
   ]
  },
  {
   "cell_type": "code",
   "execution_count": 3,
   "id": "41dac8a7",
   "metadata": {},
   "outputs": [
    {
     "data": {
      "text/plain": [
       "(406829, 8)"
      ]
     },
     "execution_count": 3,
     "metadata": {},
     "output_type": "execute_result"
    }
   ],
   "source": [
    "# online_retail.csv 파일 불러오기\n",
    "df = pd.read_csv(f\"data/online_retail.csv\")\n",
    "df = df.dropna()\n",
    "df.shape"
   ]
  },
  {
   "cell_type": "code",
   "execution_count": 4,
   "id": "6fbf0635",
   "metadata": {},
   "outputs": [],
   "source": [
    "df['StockCodeNo'] = df['StockCode'].astype(\"category\").cat.codes\n",
    "# 상품 코드와 고객 ID로 이루어진 새로운 데이터프레임 생성\n",
    "df_new = df[['StockCodeNo', 'CustomerID', 'Quantity']]\n",
    "\n",
    "# NaN 값을 가지는 행 제거\n",
    "df_new = df_new.dropna()\n",
    "\n",
    "# 고객 ID와 상품 코드를 정수형으로 변환\n",
    "df_new['user'] = df_new['CustomerID'].astype(\"category\").cat.codes\n",
    "df_new['item'] = df_new['StockCodeNo'].astype(\"category\").cat.codes"
   ]
  },
  {
   "cell_type": "markdown",
   "id": "34af4d14",
   "metadata": {},
   "source": [
    "MF 클래스는 nn.Module을 상속받아서 정의되며, n_users와 n_items는 각각 사용자와 아이템의 수이며, n_factors는 잠재 요인(latent factor)의 수입니다. 모델의 학습을 통해 잠재 요인이 학습됩니다.\n",
    "\n",
    "nn.Embedding은 입력 텐서에 대해 임베딩을 수행하는 클래스입니다. 여기서는 각 사용자와 아이템을 임베딩합니다. user_factors와 item_factors는 각각 사용자와 아이템의 잠재 요인을 나타내는 행렬입니다. 임베딩된 사용자와 아이템 벡터는 forward 함수에서 곱해져서 예측 평점을 계산합니다.\n",
    "\n",
    "forward 함수에서는 각 사용자와 아이템의 임베딩 벡터를 가져와서 내적(dot product)을 계산합니다. 내적의 결과는 각 사용자와 아이템의 잠재 요인 값들을 조합한 예측 평점을 나타냅니다. 따라서 모델의 출력은 사용자-아이템 쌍에 대한 예측 평점의 벡터가 됩니다."
   ]
  },
  {
   "cell_type": "code",
   "execution_count": 5,
   "id": "649f290c",
   "metadata": {},
   "outputs": [],
   "source": [
    "import torch\n",
    "from torch import nn"
   ]
  },
  {
   "cell_type": "code",
   "execution_count": 6,
   "id": "d3435967",
   "metadata": {},
   "outputs": [
    {
     "data": {
      "text/html": [
       "<div>\n",
       "<style scoped>\n",
       "    .dataframe tbody tr th:only-of-type {\n",
       "        vertical-align: middle;\n",
       "    }\n",
       "\n",
       "    .dataframe tbody tr th {\n",
       "        vertical-align: top;\n",
       "    }\n",
       "\n",
       "    .dataframe thead th {\n",
       "        text-align: right;\n",
       "    }\n",
       "</style>\n",
       "<table border=\"1\" class=\"dataframe\">\n",
       "  <thead>\n",
       "    <tr style=\"text-align: right;\">\n",
       "      <th></th>\n",
       "      <th>user</th>\n",
       "      <th>item</th>\n",
       "      <th>Quantity</th>\n",
       "    </tr>\n",
       "  </thead>\n",
       "  <tbody>\n",
       "    <tr>\n",
       "      <th>0</th>\n",
       "      <td>0</td>\n",
       "      <td>2001</td>\n",
       "      <td>0.0</td>\n",
       "    </tr>\n",
       "    <tr>\n",
       "      <th>1</th>\n",
       "      <td>1</td>\n",
       "      <td>25</td>\n",
       "      <td>24.0</td>\n",
       "    </tr>\n",
       "    <tr>\n",
       "      <th>2</th>\n",
       "      <td>1</td>\n",
       "      <td>87</td>\n",
       "      <td>36.0</td>\n",
       "    </tr>\n",
       "    <tr>\n",
       "      <th>3</th>\n",
       "      <td>1</td>\n",
       "      <td>130</td>\n",
       "      <td>6.0</td>\n",
       "    </tr>\n",
       "    <tr>\n",
       "      <th>4</th>\n",
       "      <td>1</td>\n",
       "      <td>167</td>\n",
       "      <td>10.0</td>\n",
       "    </tr>\n",
       "  </tbody>\n",
       "</table>\n",
       "</div>"
      ],
      "text/plain": [
       "   user  item  Quantity\n",
       "0     0  2001       0.0\n",
       "1     1    25      24.0\n",
       "2     1    87      36.0\n",
       "3     1   130       6.0\n",
       "4     1   167      10.0"
      ]
     },
     "execution_count": 6,
     "metadata": {},
     "output_type": "execute_result"
    }
   ],
   "source": [
    "df_ratings = df_new.groupby([\"user\", \"item\"])[\"Quantity\"].mean().reset_index()\n",
    "df_ratings.head()"
   ]
  },
  {
   "cell_type": "code",
   "execution_count": 7,
   "id": "75582d55",
   "metadata": {},
   "outputs": [],
   "source": [
    "from sklearn.model_selection import train_test_split\n",
    "\n",
    "train_df, val_df = train_test_split(df_ratings[['user', 'item', 'Quantity']], test_size=0.2)"
   ]
  },
  {
   "cell_type": "code",
   "execution_count": 8,
   "id": "9bb3a118",
   "metadata": {
    "scrolled": true
   },
   "outputs": [
    {
     "data": {
      "text/html": [
       "<div>\n",
       "<style scoped>\n",
       "    .dataframe tbody tr th:only-of-type {\n",
       "        vertical-align: middle;\n",
       "    }\n",
       "\n",
       "    .dataframe tbody tr th {\n",
       "        vertical-align: top;\n",
       "    }\n",
       "\n",
       "    .dataframe thead th {\n",
       "        text-align: right;\n",
       "    }\n",
       "</style>\n",
       "<table border=\"1\" class=\"dataframe\">\n",
       "  <thead>\n",
       "    <tr style=\"text-align: right;\">\n",
       "      <th></th>\n",
       "      <th>user</th>\n",
       "      <th>item</th>\n",
       "      <th>Quantity</th>\n",
       "    </tr>\n",
       "  </thead>\n",
       "  <tbody>\n",
       "    <tr>\n",
       "      <th>92201</th>\n",
       "      <td>1534</td>\n",
       "      <td>2777</td>\n",
       "      <td>2.0</td>\n",
       "    </tr>\n",
       "    <tr>\n",
       "      <th>45879</th>\n",
       "      <td>752</td>\n",
       "      <td>2109</td>\n",
       "      <td>12.0</td>\n",
       "    </tr>\n",
       "    <tr>\n",
       "      <th>266680</th>\n",
       "      <td>4348</td>\n",
       "      <td>1105</td>\n",
       "      <td>1.0</td>\n",
       "    </tr>\n",
       "    <tr>\n",
       "      <th>231193</th>\n",
       "      <td>3758</td>\n",
       "      <td>863</td>\n",
       "      <td>288.0</td>\n",
       "    </tr>\n",
       "    <tr>\n",
       "      <th>218203</th>\n",
       "      <td>3562</td>\n",
       "      <td>412</td>\n",
       "      <td>12.0</td>\n",
       "    </tr>\n",
       "  </tbody>\n",
       "</table>\n",
       "</div>"
      ],
      "text/plain": [
       "        user  item  Quantity\n",
       "92201   1534  2777       2.0\n",
       "45879    752  2109      12.0\n",
       "266680  4348  1105       1.0\n",
       "231193  3758   863     288.0\n",
       "218203  3562   412      12.0"
      ]
     },
     "execution_count": 8,
     "metadata": {},
     "output_type": "execute_result"
    }
   ],
   "source": [
    "train_df.head()"
   ]
  },
  {
   "cell_type": "code",
   "execution_count": 9,
   "id": "7c84193c",
   "metadata": {},
   "outputs": [
    {
     "data": {
      "text/plain": [
       "user        0\n",
       "item        0\n",
       "Quantity    0\n",
       "dtype: int64"
      ]
     },
     "execution_count": 9,
     "metadata": {},
     "output_type": "execute_result"
    }
   ],
   "source": [
    "df_ratings.isnull().sum()"
   ]
  },
  {
   "cell_type": "code",
   "execution_count": 10,
   "id": "0c5a45e1",
   "metadata": {},
   "outputs": [
    {
     "ename": "NameError",
     "evalue": "name 'train_data' is not defined",
     "output_type": "error",
     "traceback": [
      "\u001b[0;31m---------------------------------------------------------------------------\u001b[0m",
      "\u001b[0;31mNameError\u001b[0m                                 Traceback (most recent call last)",
      "Cell \u001b[0;32mIn [10], line 14\u001b[0m\n\u001b[1;32m     11\u001b[0m n_items \u001b[38;5;241m=\u001b[39m df_ratings[\u001b[38;5;124m'\u001b[39m\u001b[38;5;124mitem\u001b[39m\u001b[38;5;124m'\u001b[39m]\u001b[38;5;241m.\u001b[39mnunique()\n\u001b[1;32m     13\u001b[0m \u001b[38;5;66;03m# DataLoader\u001b[39;00m\n\u001b[0;32m---> 14\u001b[0m train_loader \u001b[38;5;241m=\u001b[39m torch\u001b[38;5;241m.\u001b[39mutils\u001b[38;5;241m.\u001b[39mdata\u001b[38;5;241m.\u001b[39mDataLoader(\u001b[43mtrain_data\u001b[49m, batch_size\u001b[38;5;241m=\u001b[39m\u001b[38;5;241m256\u001b[39m, shuffle\u001b[38;5;241m=\u001b[39m\u001b[38;5;28;01mTrue\u001b[39;00m)\n\u001b[1;32m     15\u001b[0m val_loader \u001b[38;5;241m=\u001b[39m torch\u001b[38;5;241m.\u001b[39mutils\u001b[38;5;241m.\u001b[39mdata\u001b[38;5;241m.\u001b[39mDataLoader(val_data, batch_size\u001b[38;5;241m=\u001b[39m\u001b[38;5;241m256\u001b[39m, shuffle\u001b[38;5;241m=\u001b[39m\u001b[38;5;28;01mFalse\u001b[39;00m)\n\u001b[1;32m     17\u001b[0m train_data\n",
      "\u001b[0;31mNameError\u001b[0m: name 'train_data' is not defined"
     ]
    }
   ],
   "source": [
    "from sklearn.model_selection import train_test_split\n",
    "\n",
    "df_ratings[[\"user\", \"item\"]] = torch.LongTensor(df_ratings[[\"user\", \"item\"]].values)\n",
    "df_ratings[[\"Quantity\"]] = torch.LongTensor(df_ratings[[\"Quantity\"]].values)\n",
    "\n",
    "# 데이터셋을 train set과 test set으로 나눔\n",
    "train_df, val_df = train_test_split(df_ratings, test_size=0.2)\n",
    "\n",
    "# 사용자 수와 상품 수 계산\n",
    "n_users = df_ratings['user'].nunique()\n",
    "n_items = df_ratings['item'].nunique()\n",
    "\n",
    "# DataLoader\n",
    "train_loader = torch.utils.data.DataLoader(train_data, batch_size=256, shuffle=True)\n",
    "val_loader = torch.utils.data.DataLoader(val_data, batch_size=256, shuffle=False)\n",
    "\n",
    "train_data"
   ]
  },
  {
   "cell_type": "code",
   "execution_count": null,
   "id": "b2369424",
   "metadata": {},
   "outputs": [],
   "source": [
    "print(n_users, n_items)"
   ]
  },
  {
   "cell_type": "code",
   "execution_count": null,
   "id": "eccd7dd6",
   "metadata": {},
   "outputs": [],
   "source": [
    "class MF(nn.Module):\n",
    "    def __init__(self, n_users, n_items, n_factors=20):\n",
    "        super(MF, self).__init__()\n",
    "        self.user_factors = nn.Embedding(n_users, n_factors)\n",
    "        self.item_factors = nn.Embedding(n_items, n_factors)\n",
    "\n",
    "    def forward(self, user, item):\n",
    "        user_embedding = self.user_factors(user)\n",
    "        item_embedding = self.item_factors(item)\n",
    "        return (user_embedding * item_embedding).sum(1)\n",
    "\n",
    "model = MF(n_users, n_items, n_factors=20)\n",
    "criterion = nn.MSELoss()\n",
    "optimizer = torch.optim.Adam(model.parameters(), lr=0.01, weight_decay=1e-5)"
   ]
  },
  {
   "cell_type": "code",
   "execution_count": null,
   "id": "66ab8b76",
   "metadata": {},
   "outputs": [],
   "source": [
    "for epoch in range(3):\n",
    "    for train_batch in train_loader.dataset[:3]:\n",
    "        user, item, rating = train_batch\n",
    "        optimizer.zero_grad()\n",
    "        output = model(user.view(-1), item.view(-1))\n",
    "        print(\"output\", output, \"rating\", rating.unsqueeze(0))\n",
    "        loss = criterion(output, rating)\n",
    "        print(output, loss)\n",
    "        loss.backward()\n",
    "        optimizer.step()\n",
    "\n",
    "    with torch.no_grad():\n",
    "        val_loss = 0.0\n",
    "        for val_batch in val_loader.dataset:\n",
    "            user, item, rating = val_batch\n",
    "            output = model(user, item)\n",
    "            val_loss += criterion(output, rating).item() * len(user)\n",
    "        val_loss /= len(val_df)\n",
    "        print('epoch: {}, validation RMSE loss: {:.4f}'.format(epoch+1, val_loss**0.5))"
   ]
  },
  {
   "cell_type": "code",
   "execution_count": null,
   "id": "8d63320c",
   "metadata": {},
   "outputs": [],
   "source": [
    "# 각 제품의 인덱스를 제품 코드로 매핑\n",
    "idx_to_item = {i: item for item, i in item_to_idx.items()}\n",
    "\n",
    "# 특정 사용자에게 추천할 상위 10개의 제품 출력\n",
    "user_idx = 0\n",
    "user_items = set(train_df[train_df['user'] == user_idx]['item'])\n",
    "scores = model(torch.LongTensor([user_idx]*len(item_to_idx)), torch.LongTensor(list(item_to_idx.values()))).detach().numpy()\n",
    "item_indices = list(range(len(item_to_idx)))\n",
    "item_scores = list(zip(item_indices, scores))\n",
    "item_scores = sorted(item_scores, key=lambda x: x[1], reverse=True)\n",
    "recommended_items = []\n",
    "for item_idx, score in item_scores:\n",
    "    item_code = idx_to_item[item_idx]\n",
    "    if item_code not in user_items:\n",
    "        recommended_items.append(item_code)\n",
    "    if len(recommended_items) >= 10:\n",
    "        break\n",
    "print('Recommended items for user {}:'.format(user_idx))\n",
    "print(recommended_items)\n"
   ]
  },
  {
   "cell_type": "code",
   "execution_count": null,
   "id": "f76231df",
   "metadata": {},
   "outputs": [],
   "source": []
  },
  {
   "cell_type": "code",
   "execution_count": null,
   "id": "dc1fdefe",
   "metadata": {},
   "outputs": [],
   "source": []
  },
  {
   "cell_type": "code",
   "execution_count": null,
   "id": "cc81fba0",
   "metadata": {},
   "outputs": [],
   "source": []
  }
 ],
 "metadata": {
  "kernelspec": {
   "display_name": "Python 3 (ipykernel)",
   "language": "python",
   "name": "python3"
  },
  "language_info": {
   "codemirror_mode": {
    "name": "ipython",
    "version": 3
   },
   "file_extension": ".py",
   "mimetype": "text/x-python",
   "name": "python",
   "nbconvert_exporter": "python",
   "pygments_lexer": "ipython3",
   "version": "3.10.7"
  },
  "toc": {
   "base_numbering": 1,
   "nav_menu": {},
   "number_sections": true,
   "sideBar": true,
   "skip_h1_title": false,
   "title_cell": "Table of Contents",
   "title_sidebar": "Contents",
   "toc_cell": false,
   "toc_position": {},
   "toc_section_display": true,
   "toc_window_display": false
  },
  "varInspector": {
   "cols": {
    "lenName": 16,
    "lenType": 16,
    "lenVar": 40
   },
   "kernels_config": {
    "python": {
     "delete_cmd_postfix": "",
     "delete_cmd_prefix": "del ",
     "library": "var_list.py",
     "varRefreshCmd": "print(var_dic_list())"
    },
    "r": {
     "delete_cmd_postfix": ") ",
     "delete_cmd_prefix": "rm(",
     "library": "var_list.r",
     "varRefreshCmd": "cat(var_dic_list()) "
    }
   },
   "types_to_exclude": [
    "module",
    "function",
    "builtin_function_or_method",
    "instance",
    "_Feature"
   ],
   "window_display": false
  }
 },
 "nbformat": 4,
 "nbformat_minor": 5
}
