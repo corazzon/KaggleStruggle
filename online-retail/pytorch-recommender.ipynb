{
 "cells": [
  {
   "cell_type": "code",
   "execution_count": null,
   "id": "cc49dab3",
   "metadata": {},
   "outputs": [],
   "source": [
    "import pandas as pd\n",
    "import numpy as np\n",
    "import torch"
   ]
  },
  {
   "cell_type": "code",
   "execution_count": null,
   "id": "f180ed62",
   "metadata": {},
   "outputs": [],
   "source": [
    "# InvoiceNo: 주문 번호\n",
    "# StockCode: 상품 코드\n",
    "# Description: 상품 설명\n",
    "# Quantity: 상품 수량\n",
    "# InvoiceDate: 주문 날짜\n",
    "# UnitPrice: 상품 단가\n",
    "# CustomerID: 고객 ID\n",
    "# Country: 국가"
   ]
  },
  {
   "cell_type": "code",
   "execution_count": null,
   "id": "41dac8a7",
   "metadata": {},
   "outputs": [],
   "source": [
    "# online_retail.csv 파일 불러오기\n",
    "df = pd.read_csv(f\"data/online_retail.csv\")\n",
    "df = df[df[\"CustomerID\"].notnull()]\n",
    "df.shape"
   ]
  },
  {
   "cell_type": "code",
   "execution_count": null,
   "id": "6fbf0635",
   "metadata": {},
   "outputs": [],
   "source": [
    "df['StockCodeNo'] = df['StockCode'].astype(\"category\").cat.codes\n",
    "# 상품 코드와 고객 ID로 이루어진 새로운 데이터프레임 생성\n",
    "new_df = df[['StockCodeNo', 'CustomerID']]\n",
    "\n",
    "# NaN 값을 가지는 행 제거\n",
    "new_df = new_df.dropna()\n",
    "\n",
    "# 고객 ID와 상품 코드를 정수형으로 변환\n",
    "new_df['CustomerID'] = new_df['CustomerID'].astype(int)\n",
    "new_df['StockCodeNo'] = new_df['StockCodeNo'].astype(int)"
   ]
  },
  {
   "cell_type": "code",
   "execution_count": null,
   "id": "af9424f8",
   "metadata": {},
   "outputs": [],
   "source": [
    "new_df = df.groupby([\"CustomerID\", \"StockCodeNo\"])[\"Quantity\"].sum().reset_index()\n",
    "new_df.head()"
   ]
  },
  {
   "cell_type": "code",
   "execution_count": null,
   "id": "b6f9932d",
   "metadata": {},
   "outputs": [],
   "source": [
    "from sklearn.model_selection import train_test_split\n",
    "\n",
    "# 데이터셋을 train set과 test set으로 나눔\n",
    "train_df, test_df = train_test_split(new_df, test_size=0.2)\n",
    "train_df"
   ]
  },
  {
   "cell_type": "code",
   "execution_count": null,
   "id": "1584e785",
   "metadata": {},
   "outputs": [],
   "source": [
    "# 사용자 수와 상품 수 계산\n",
    "n_users = new_df['CustomerID'].nunique()\n",
    "n_items = new_df['StockCodeNo'].nunique()\n",
    "\n",
    "# 파이토치에서 사용하기 위해 데이터셋을 텐서로 변환\n",
    "train_data = torch.FloatTensor(train_df.values)\n",
    "test_data = torch.FloatTensor(test_df.values)\n",
    "\n",
    "train_data.shape, test_data.shape, test_data[0]"
   ]
  },
  {
   "cell_type": "code",
   "execution_count": null,
   "id": "77475348",
   "metadata": {
    "scrolled": false
   },
   "outputs": [],
   "source": [
    "train_data = torch.tensor(train_data, dtype=torch.long)\n",
    "test_data = torch.tensor(test_data, dtype=torch.long)\n",
    "\n",
    "# 모델 생성\n",
    "class RecommenderNet(torch.nn.Module):\n",
    "    def __init__(self, n_users, n_items, n_factors=50):\n",
    "        super().__init__()\n",
    "        self.user_embedding = torch.nn.Embedding(n_users, n_factors)\n",
    "        self.item_embedding = torch.nn.Embedding(n_items, n_factors)\n",
    "        self.fc1 = torch.nn.Linear(n_factors*2, 128)\n",
    "        self.fc2 = torch.nn.Linear(128, 64)\n",
    "        self.fc3 = torch.nn.Linear(64, 1)\n",
    "        self.dropout = torch.nn.Dropout(p=0.5)\n",
    "\n",
    "    def forward(self, x):\n",
    "        user_ids = x[:, 1].unsqueeze(1)\n",
    "        item_ids = x[:, 0].unsqueeze(1)\n",
    "\n",
    "        user_embedding = self.user_embedding(user_ids)\n",
    "        item_embedding = self.item_embedding(item_ids)\n",
    "\n",
    "        x = torch.cat([user_embedding, item_embedding], dim=-1)\n",
    "        x = self.dropout(x)\n",
    "        x = self.fc1(x)\n",
    "        x = torch.nn.ReLU()(x)\n",
    "        x = self.dropout(x)\n",
    "        x = self.fc2(x)\n",
    "        x = torch.nn.ReLU()(x)\n",
    "        x = self.dropout(x)\n",
    "        x = self.fc3(x)\n",
    "\n",
    "        return x\n",
    "\n",
    "n_users = train_data[:, 1].max() + 1\n",
    "n_items = train_data[:, 0].max() + 1\n",
    "\n",
    "model = RecommenderNet(n_users, n_items, n_factors=50)\n",
    "# 예측값 계산\n",
    "print(train_data[0].unsqueeze(0))\n",
    "prediction = model(train_data[0].unsqueeze(0))\n",
    "print(prediction.squeeze())"
   ]
  },
  {
   "cell_type": "code",
   "execution_count": null,
   "id": "225c63e0",
   "metadata": {},
   "outputs": [],
   "source": [
    "# 모델 초기화\n",
    "# model = RecommenderNet(n_users, n_items)\n",
    "\n",
    "# 옵티마이저와 손실 함수 정의\n",
    "optimizer = torch.optim.Adam(model.parameters(), lr=0.001)\n",
    "criterion = torch.nn.MSELoss()"
   ]
  },
  {
   "cell_type": "code",
   "execution_count": null,
   "id": "464d6f46",
   "metadata": {},
   "outputs": [],
   "source": [
    "train_data.shape"
   ]
  },
  {
   "cell_type": "code",
   "execution_count": null,
   "id": "3011efb0",
   "metadata": {},
   "outputs": [],
   "source": [
    "epochs = 10\n",
    "\n",
    "for epoch in range(epochs):\n",
    "    train_loss = 0.0\n",
    "    optimizer.zero_grad()\n",
    "    outputs = model(train_data)\n",
    "    loss = criterion(outputs.squeeze(), train_data[:, 2].float())\n",
    "    loss.backward()\n",
    "    optimizer.step()\n",
    "    train_loss += loss.item()\n",
    "\n",
    "    # train set에서의 RMSE 값을 출력\n",
    "    train_rmse = np.sqrt(train_loss / len(train_data))\n",
    "    print(\"Epoch:\", epoch+1, \"Train RMSE:\", train_rmse)"
   ]
  },
  {
   "cell_type": "code",
   "execution_count": null,
   "id": "5568b114",
   "metadata": {},
   "outputs": [],
   "source": [
    "# test set에서의 RMSE 값을 계산\n",
    "test_loss = 0.0\n",
    "print(test_data.shape)\n",
    "outputs = model(test_data)\n",
    "print(outputs.shape)\n",
    "\n",
    "loss = criterion(outputs.squeeze(), test_data[:, 2].float())\n",
    "test_loss += loss.item()\n",
    "\n",
    "test_rmse = np.sqrt(test_loss / len(test_data))\n",
    "print(\"Test RMSE:\", test_rmse)"
   ]
  },
  {
   "cell_type": "code",
   "execution_count": null,
   "id": "43273ea7",
   "metadata": {},
   "outputs": [],
   "source": [
    "# 추천할 상품의 수 정의\n",
    "top_k = 10\n",
    "\n",
    "# 사용자와 아이템 특성 행렬 가져오기\n",
    "user_embeddings = model.user_embedding.weight.detach().numpy()\n",
    "item_embeddings = model.item_embedding.weight.detach().numpy()\n",
    "\n",
    "# 추천 함수 정의\n",
    "def recommend(user_id):\n",
    "    # 사용자가 구매한 상품 제외한 상품 중에서 예측 평점이 높은 상품 추출\n",
    "    user_items = df[df['CustomerID'] == user_id]['StockCode'].unique()\n",
    "    user_embedding = user_embeddings[user_id-1]\n",
    "    scores = np.dot(item_embeddings, user_embedding)\n",
    "    scores = np.array([(i+1, score) for i, score in enumerate(scores)])\n",
    "    scores = scores[~np.isin(scores[:, 0], user_items)]\n",
    "    scores = scores[scores[:, 1].argsort()[::-1]]\n",
    "    top_k_items = scores[:top_k, 0].astype(int)\n",
    "    return top_k_items\n",
    "\n",
    "# 예시 사용자에 대해 추천 상품 목록 출력\n",
    "user_id = 1\n",
    "recommended_items = recommend(user_id)\n",
    "print(f\"User {user_id}의 추천 상품 목록: {recommended_items}\")"
   ]
  },
  {
   "cell_type": "code",
   "execution_count": null,
   "id": "9d1d1839",
   "metadata": {},
   "outputs": [],
   "source": []
  }
 ],
 "metadata": {
  "kernelspec": {
   "display_name": "Python 3 (ipykernel)",
   "language": "python",
   "name": "python3"
  },
  "language_info": {
   "codemirror_mode": {
    "name": "ipython",
    "version": 3
   },
   "file_extension": ".py",
   "mimetype": "text/x-python",
   "name": "python",
   "nbconvert_exporter": "python",
   "pygments_lexer": "ipython3",
   "version": "3.10.7"
  },
  "toc": {
   "base_numbering": 1,
   "nav_menu": {},
   "number_sections": true,
   "sideBar": true,
   "skip_h1_title": false,
   "title_cell": "Table of Contents",
   "title_sidebar": "Contents",
   "toc_cell": false,
   "toc_position": {},
   "toc_section_display": true,
   "toc_window_display": false
  },
  "varInspector": {
   "cols": {
    "lenName": 16,
    "lenType": 16,
    "lenVar": 40
   },
   "kernels_config": {
    "python": {
     "delete_cmd_postfix": "",
     "delete_cmd_prefix": "del ",
     "library": "var_list.py",
     "varRefreshCmd": "print(var_dic_list())"
    },
    "r": {
     "delete_cmd_postfix": ") ",
     "delete_cmd_prefix": "rm(",
     "library": "var_list.r",
     "varRefreshCmd": "cat(var_dic_list()) "
    }
   },
   "types_to_exclude": [
    "module",
    "function",
    "builtin_function_or_method",
    "instance",
    "_Feature"
   ],
   "window_display": false
  }
 },
 "nbformat": 4,
 "nbformat_minor": 5
}
